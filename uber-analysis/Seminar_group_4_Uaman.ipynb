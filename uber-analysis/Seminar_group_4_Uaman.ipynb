{
 "cells": [
  {
   "cell_type": "markdown",
   "metadata": {},
   "source": [
    "# Работа группы №4\n",
    "Байбикова Анастасия, Злобина Надежда, Зубова Наталья,Королев Сергей, Уаман Татьяна, Фомина Юлия, Люляев Иван\n",
    "\n",
    "### Вариант 2\n",
    "\n",
    "Вы работаете аналитиком в Убере, по данному набору\n",
    "проанализируйте вашу конкуренцию с компанией Лифт, посмотрите\n",
    "кто делает больше поездок и когда, как работает ваше\n",
    "ценообразование и ценообразование компании Лифт, какие у вас\n",
    "поездки, а какие у них и так далее. Результатом должен стать ряд\n",
    "гипотез по улучшению.  \n"
   ]
  },
  {
   "cell_type": "code",
   "execution_count": 643,
   "metadata": {},
   "outputs": [],
   "source": [
    "import pandas as pd\n",
    "import numpy as np\n",
    "import seaborn as sns\n",
    "import matplotlib.pyplot as plt\n",
    "from time import*\n"
   ]
  },
  {
   "cell_type": "code",
   "execution_count": 579,
   "metadata": {},
   "outputs": [],
   "source": [
    "pd.options.display.max_columns = None\n",
    "pd.options.display.max_rows = None"
   ]
  },
  {
   "cell_type": "markdown",
   "metadata": {},
   "source": [
    "## Загрузка данных\n",
    "файл лежит в этой же папке"
   ]
  },
  {
   "cell_type": "code",
   "execution_count": 580,
   "metadata": {},
   "outputs": [],
   "source": [
    "df = pd.read_csv('data/cab_rides.csv')"
   ]
  },
  {
   "cell_type": "code",
   "execution_count": 581,
   "metadata": {},
   "outputs": [
    {
     "data": {
      "text/html": [
       "<div>\n",
       "<style scoped>\n",
       "    .dataframe tbody tr th:only-of-type {\n",
       "        vertical-align: middle;\n",
       "    }\n",
       "\n",
       "    .dataframe tbody tr th {\n",
       "        vertical-align: top;\n",
       "    }\n",
       "\n",
       "    .dataframe thead th {\n",
       "        text-align: right;\n",
       "    }\n",
       "</style>\n",
       "<table border=\"1\" class=\"dataframe\">\n",
       "  <thead>\n",
       "    <tr style=\"text-align: right;\">\n",
       "      <th></th>\n",
       "      <th>distance</th>\n",
       "      <th>cab_type</th>\n",
       "      <th>time_stamp</th>\n",
       "      <th>destination</th>\n",
       "      <th>source</th>\n",
       "      <th>price</th>\n",
       "      <th>surge_multiplier</th>\n",
       "      <th>id</th>\n",
       "      <th>product_id</th>\n",
       "      <th>name</th>\n",
       "    </tr>\n",
       "  </thead>\n",
       "  <tbody>\n",
       "    <tr>\n",
       "      <th>0</th>\n",
       "      <td>0.44</td>\n",
       "      <td>Lyft</td>\n",
       "      <td>1544952607890</td>\n",
       "      <td>North Station</td>\n",
       "      <td>Haymarket Square</td>\n",
       "      <td>5.0</td>\n",
       "      <td>1.0</td>\n",
       "      <td>424553bb-7174-41ea-aeb4-fe06d4f4b9d7</td>\n",
       "      <td>lyft_line</td>\n",
       "      <td>Shared</td>\n",
       "    </tr>\n",
       "    <tr>\n",
       "      <th>1</th>\n",
       "      <td>0.44</td>\n",
       "      <td>Lyft</td>\n",
       "      <td>1543284023677</td>\n",
       "      <td>North Station</td>\n",
       "      <td>Haymarket Square</td>\n",
       "      <td>11.0</td>\n",
       "      <td>1.0</td>\n",
       "      <td>4bd23055-6827-41c6-b23b-3c491f24e74d</td>\n",
       "      <td>lyft_premier</td>\n",
       "      <td>Lux</td>\n",
       "    </tr>\n",
       "    <tr>\n",
       "      <th>2</th>\n",
       "      <td>0.44</td>\n",
       "      <td>Lyft</td>\n",
       "      <td>1543366822198</td>\n",
       "      <td>North Station</td>\n",
       "      <td>Haymarket Square</td>\n",
       "      <td>7.0</td>\n",
       "      <td>1.0</td>\n",
       "      <td>981a3613-77af-4620-a42a-0c0866077d1e</td>\n",
       "      <td>lyft</td>\n",
       "      <td>Lyft</td>\n",
       "    </tr>\n",
       "    <tr>\n",
       "      <th>3</th>\n",
       "      <td>0.44</td>\n",
       "      <td>Lyft</td>\n",
       "      <td>1543553582749</td>\n",
       "      <td>North Station</td>\n",
       "      <td>Haymarket Square</td>\n",
       "      <td>26.0</td>\n",
       "      <td>1.0</td>\n",
       "      <td>c2d88af2-d278-4bfd-a8d0-29ca77cc5512</td>\n",
       "      <td>lyft_luxsuv</td>\n",
       "      <td>Lux Black XL</td>\n",
       "    </tr>\n",
       "    <tr>\n",
       "      <th>4</th>\n",
       "      <td>0.44</td>\n",
       "      <td>Lyft</td>\n",
       "      <td>1543463360223</td>\n",
       "      <td>North Station</td>\n",
       "      <td>Haymarket Square</td>\n",
       "      <td>9.0</td>\n",
       "      <td>1.0</td>\n",
       "      <td>e0126e1f-8ca9-4f2e-82b3-50505a09db9a</td>\n",
       "      <td>lyft_plus</td>\n",
       "      <td>Lyft XL</td>\n",
       "    </tr>\n",
       "  </tbody>\n",
       "</table>\n",
       "</div>"
      ],
      "text/plain": [
       "   distance cab_type     time_stamp    destination            source  price  \\\n",
       "0      0.44     Lyft  1544952607890  North Station  Haymarket Square    5.0   \n",
       "1      0.44     Lyft  1543284023677  North Station  Haymarket Square   11.0   \n",
       "2      0.44     Lyft  1543366822198  North Station  Haymarket Square    7.0   \n",
       "3      0.44     Lyft  1543553582749  North Station  Haymarket Square   26.0   \n",
       "4      0.44     Lyft  1543463360223  North Station  Haymarket Square    9.0   \n",
       "\n",
       "   surge_multiplier                                    id    product_id  \\\n",
       "0               1.0  424553bb-7174-41ea-aeb4-fe06d4f4b9d7     lyft_line   \n",
       "1               1.0  4bd23055-6827-41c6-b23b-3c491f24e74d  lyft_premier   \n",
       "2               1.0  981a3613-77af-4620-a42a-0c0866077d1e          lyft   \n",
       "3               1.0  c2d88af2-d278-4bfd-a8d0-29ca77cc5512   lyft_luxsuv   \n",
       "4               1.0  e0126e1f-8ca9-4f2e-82b3-50505a09db9a     lyft_plus   \n",
       "\n",
       "           name  \n",
       "0        Shared  \n",
       "1           Lux  \n",
       "2          Lyft  \n",
       "3  Lux Black XL  \n",
       "4       Lyft XL  "
      ]
     },
     "execution_count": 581,
     "metadata": {},
     "output_type": "execute_result"
    }
   ],
   "source": [
    "df.head()"
   ]
  },
  {
   "cell_type": "markdown",
   "metadata": {},
   "source": [
    "#### Расшифровка колонок\n",
    "**distance** - distance between source and destination  \n",
    "**cab_type** - Uber or Lyft  \n",
    "**time_stamp** - epoch time when data was queried in millisec   \n",
    "**destination** - destination of the ride  \n",
    "**source** - the starting point of the ride  \n",
    "**price** - price estimate for the ride in USD  \n",
    "**surge_multiplier** - the multiplier by which price was increased, default 1  \n",
    "**id** - unique identifier  \n",
    "**product_i** - uber/lyft identifier for cab-type  \n",
    "**name** - visible type of the cab eg: Uber Pool, UberXL  "
   ]
  },
  {
   "cell_type": "markdown",
   "metadata": {},
   "source": [
    "## Добавим признаки\n",
    "### Категориальные признаки\n",
    "#### Компания"
   ]
  },
  {
   "cell_type": "code",
   "execution_count": 582,
   "metadata": {},
   "outputs": [
    {
     "data": {
      "text/plain": [
       "array(['Lyft', 'Uber'], dtype=object)"
      ]
     },
     "execution_count": 582,
     "metadata": {},
     "output_type": "execute_result"
    }
   ],
   "source": [
    "df.cab_type.unique()"
   ]
  },
  {
   "cell_type": "markdown",
   "metadata": {},
   "source": [
    "Нулевых значений нет, присвоим идентификаторы:  \n",
    "  \n",
    "**Uber** - 1  \n",
    "**Lyft** - 0"
   ]
  },
  {
   "cell_type": "code",
   "execution_count": 583,
   "metadata": {},
   "outputs": [],
   "source": [
    "df['cab_type_id'] =[1 if i == 'Uber' else 0 for i in df.cab_type]"
   ]
  },
  {
   "cell_type": "markdown",
   "metadata": {},
   "source": [
    "#### Места посадок и высадок"
   ]
  },
  {
   "cell_type": "code",
   "execution_count": 584,
   "metadata": {},
   "outputs": [
    {
     "name": "stdout",
     "output_type": "stream",
     "text": [
      "Всего мест 12:\n",
      "\n",
      "North Station,Northeastern University,Beacon Hill,Back Bay,Theatre District,North End,Haymarket Square,South Station,Fenway,Boston University,Financial District,West End."
     ]
    }
   ],
   "source": [
    "place_list = list(set(list(df.source.unique()) +list(df.destination.unique())))\n",
    "print('Всего мест {}:\\n'.format(len(place_list)))\n",
    "print(*place_list,  sep=',', end='.')"
   ]
  },
  {
   "cell_type": "markdown",
   "metadata": {},
   "source": [
    "Всего 12 мест, дадим каждому из них идентификатор от 0 до 11."
   ]
  },
  {
   "cell_type": "code",
   "execution_count": 585,
   "metadata": {},
   "outputs": [],
   "source": [
    "place_df = pd.DataFrame(place_list, columns=['place'])\n",
    "place_df['place_id']=place_df.index"
   ]
  },
  {
   "cell_type": "markdown",
   "metadata": {},
   "source": [
    "##### Присвоим этим местам координаты"
   ]
  },
  {
   "cell_type": "code",
   "execution_count": 586,
   "metadata": {
    "scrolled": true
   },
   "outputs": [
    {
     "data": {
      "text/html": [
       "<div>\n",
       "<style scoped>\n",
       "    .dataframe tbody tr th:only-of-type {\n",
       "        vertical-align: middle;\n",
       "    }\n",
       "\n",
       "    .dataframe tbody tr th {\n",
       "        vertical-align: top;\n",
       "    }\n",
       "\n",
       "    .dataframe thead th {\n",
       "        text-align: right;\n",
       "    }\n",
       "</style>\n",
       "<table border=\"1\" class=\"dataframe\">\n",
       "  <thead>\n",
       "    <tr style=\"text-align: right;\">\n",
       "      <th></th>\n",
       "      <th>place</th>\n",
       "      <th>place_id</th>\n",
       "      <th>latitude</th>\n",
       "      <th>longtitude</th>\n",
       "    </tr>\n",
       "  </thead>\n",
       "  <tbody>\n",
       "    <tr>\n",
       "      <th>0</th>\n",
       "      <td>North Station</td>\n",
       "      <td>0</td>\n",
       "      <td>42.366280</td>\n",
       "      <td>-71.060912</td>\n",
       "    </tr>\n",
       "    <tr>\n",
       "      <th>1</th>\n",
       "      <td>Northeastern University</td>\n",
       "      <td>1</td>\n",
       "      <td>42.340291</td>\n",
       "      <td>-71.088718</td>\n",
       "    </tr>\n",
       "    <tr>\n",
       "      <th>2</th>\n",
       "      <td>Beacon Hill</td>\n",
       "      <td>2</td>\n",
       "      <td>42.358869</td>\n",
       "      <td>-71.067680</td>\n",
       "    </tr>\n",
       "    <tr>\n",
       "      <th>3</th>\n",
       "      <td>Back Bay</td>\n",
       "      <td>3</td>\n",
       "      <td>42.349577</td>\n",
       "      <td>-71.079523</td>\n",
       "    </tr>\n",
       "    <tr>\n",
       "      <th>4</th>\n",
       "      <td>Theatre District</td>\n",
       "      <td>4</td>\n",
       "      <td>42.351883</td>\n",
       "      <td>-71.064252</td>\n",
       "    </tr>\n",
       "    <tr>\n",
       "      <th>5</th>\n",
       "      <td>North End</td>\n",
       "      <td>5</td>\n",
       "      <td>42.365664</td>\n",
       "      <td>-71.054778</td>\n",
       "    </tr>\n",
       "    <tr>\n",
       "      <th>6</th>\n",
       "      <td>Haymarket Square</td>\n",
       "      <td>6</td>\n",
       "      <td>42.363789</td>\n",
       "      <td>-71.058442</td>\n",
       "    </tr>\n",
       "    <tr>\n",
       "      <th>7</th>\n",
       "      <td>South Station</td>\n",
       "      <td>7</td>\n",
       "      <td>42.352332</td>\n",
       "      <td>-71.055553</td>\n",
       "    </tr>\n",
       "    <tr>\n",
       "      <th>8</th>\n",
       "      <td>Fenway</td>\n",
       "      <td>8</td>\n",
       "      <td>42.346468</td>\n",
       "      <td>-71.098775</td>\n",
       "    </tr>\n",
       "    <tr>\n",
       "      <th>9</th>\n",
       "      <td>Boston University</td>\n",
       "      <td>9</td>\n",
       "      <td>42.350185</td>\n",
       "      <td>-71.105924</td>\n",
       "    </tr>\n",
       "    <tr>\n",
       "      <th>10</th>\n",
       "      <td>Financial District</td>\n",
       "      <td>10</td>\n",
       "      <td>42.356122</td>\n",
       "      <td>-71.054911</td>\n",
       "    </tr>\n",
       "    <tr>\n",
       "      <th>11</th>\n",
       "      <td>West End</td>\n",
       "      <td>11</td>\n",
       "      <td>42.363877</td>\n",
       "      <td>-71.067056</td>\n",
       "    </tr>\n",
       "  </tbody>\n",
       "</table>\n",
       "</div>"
      ],
      "text/plain": [
       "                      place  place_id   latitude  longtitude\n",
       "0             North Station         0  42.366280  -71.060912\n",
       "1   Northeastern University         1  42.340291  -71.088718\n",
       "2               Beacon Hill         2  42.358869  -71.067680\n",
       "3                  Back Bay         3  42.349577  -71.079523\n",
       "4          Theatre District         4  42.351883  -71.064252\n",
       "5                 North End         5  42.365664  -71.054778\n",
       "6          Haymarket Square         6  42.363789  -71.058442\n",
       "7             South Station         7  42.352332  -71.055553\n",
       "8                    Fenway         8  42.346468  -71.098775\n",
       "9         Boston University         9  42.350185  -71.105924\n",
       "10       Financial District        10  42.356122  -71.054911\n",
       "11                 West End        11  42.363877  -71.067056"
      ]
     },
     "execution_count": 586,
     "metadata": {},
     "output_type": "execute_result"
    }
   ],
   "source": [
    "place_df.loc[0, 'latitude'] = 42.366280\n",
    "place_df.loc[0, 'longtitude'] = -71.060912\n",
    "\n",
    "place_df.loc[1, 'latitude'] = 42.340291\n",
    "place_df.loc[1, 'longtitude'] = -71.088718\n",
    "\n",
    "place_df.loc[2, 'latitude'] = 42.358869\n",
    "place_df.loc[2, 'longtitude'] = -71.067680\n",
    "\n",
    "place_df.loc[3, 'latitude'] = 42.349577\n",
    "place_df.loc[3, 'longtitude'] = -71.079523\n",
    "\n",
    "place_df.loc[4, 'latitude'] = 42.351883\n",
    "place_df.loc[4, 'longtitude'] = -71.064252\n",
    "\n",
    "place_df.loc[5, 'latitude'] = 42.365664\n",
    "place_df.loc[5, 'longtitude'] = -71.054778\n",
    "\n",
    "place_df.loc[6, 'latitude'] = 42.363789\n",
    "place_df.loc[6, 'longtitude'] = -71.058442\n",
    "\n",
    "place_df.loc[7, 'latitude'] = 42.352332\n",
    "place_df.loc[7, 'longtitude'] = -71.055553\n",
    "\n",
    "place_df.loc[8, 'latitude'] = 42.346468\n",
    "place_df.loc[8, 'longtitude'] = -71.098775\n",
    "\n",
    "place_df.loc[9, 'latitude'] = 42.350185\n",
    "place_df.loc[9, 'longtitude'] = -71.105924\n",
    "\n",
    "place_df.loc[10, 'latitude'] = 42.356122\n",
    "place_df.loc[10, 'longtitude'] = -71.054911\n",
    "\n",
    "place_df.loc[11, 'latitude'] = 42.363877\n",
    "place_df.loc[11, 'longtitude'] = -71.067056\n",
    "\n",
    "place_df"
   ]
  },
  {
   "cell_type": "code",
   "execution_count": 587,
   "metadata": {},
   "outputs": [],
   "source": [
    "place_df.columns=['source', 'source_id', 'source_latitude', 'source_longtitude']\n",
    "df=pd.merge(df,place_df, how='inner', on='source')"
   ]
  },
  {
   "cell_type": "code",
   "execution_count": 588,
   "metadata": {},
   "outputs": [],
   "source": [
    "place_df.columns=['destination', 'destination_id', 'destination_latitude', 'destination_longtitude']\n",
    "df=pd.merge(df,place_df, how='inner', on='destination')"
   ]
  },
  {
   "cell_type": "code",
   "execution_count": 589,
   "metadata": {},
   "outputs": [],
   "source": [
    "place_df.columns=['source', 'source_id', 'source_latitude', 'source_longtitude']"
   ]
  },
  {
   "cell_type": "code",
   "execution_count": 590,
   "metadata": {},
   "outputs": [
    {
     "data": {
      "text/html": [
       "<div>\n",
       "<style scoped>\n",
       "    .dataframe tbody tr th:only-of-type {\n",
       "        vertical-align: middle;\n",
       "    }\n",
       "\n",
       "    .dataframe tbody tr th {\n",
       "        vertical-align: top;\n",
       "    }\n",
       "\n",
       "    .dataframe thead th {\n",
       "        text-align: right;\n",
       "    }\n",
       "</style>\n",
       "<table border=\"1\" class=\"dataframe\">\n",
       "  <thead>\n",
       "    <tr style=\"text-align: right;\">\n",
       "      <th></th>\n",
       "      <th>source</th>\n",
       "      <th>source_id</th>\n",
       "      <th>source_latitude</th>\n",
       "      <th>source_longtitude</th>\n",
       "    </tr>\n",
       "  </thead>\n",
       "  <tbody>\n",
       "    <tr>\n",
       "      <th>0</th>\n",
       "      <td>North Station</td>\n",
       "      <td>0</td>\n",
       "      <td>42.366280</td>\n",
       "      <td>-71.060912</td>\n",
       "    </tr>\n",
       "    <tr>\n",
       "      <th>1</th>\n",
       "      <td>Northeastern University</td>\n",
       "      <td>1</td>\n",
       "      <td>42.340291</td>\n",
       "      <td>-71.088718</td>\n",
       "    </tr>\n",
       "    <tr>\n",
       "      <th>2</th>\n",
       "      <td>Beacon Hill</td>\n",
       "      <td>2</td>\n",
       "      <td>42.358869</td>\n",
       "      <td>-71.067680</td>\n",
       "    </tr>\n",
       "    <tr>\n",
       "      <th>3</th>\n",
       "      <td>Back Bay</td>\n",
       "      <td>3</td>\n",
       "      <td>42.349577</td>\n",
       "      <td>-71.079523</td>\n",
       "    </tr>\n",
       "    <tr>\n",
       "      <th>4</th>\n",
       "      <td>Theatre District</td>\n",
       "      <td>4</td>\n",
       "      <td>42.351883</td>\n",
       "      <td>-71.064252</td>\n",
       "    </tr>\n",
       "    <tr>\n",
       "      <th>5</th>\n",
       "      <td>North End</td>\n",
       "      <td>5</td>\n",
       "      <td>42.365664</td>\n",
       "      <td>-71.054778</td>\n",
       "    </tr>\n",
       "    <tr>\n",
       "      <th>6</th>\n",
       "      <td>Haymarket Square</td>\n",
       "      <td>6</td>\n",
       "      <td>42.363789</td>\n",
       "      <td>-71.058442</td>\n",
       "    </tr>\n",
       "    <tr>\n",
       "      <th>7</th>\n",
       "      <td>South Station</td>\n",
       "      <td>7</td>\n",
       "      <td>42.352332</td>\n",
       "      <td>-71.055553</td>\n",
       "    </tr>\n",
       "    <tr>\n",
       "      <th>8</th>\n",
       "      <td>Fenway</td>\n",
       "      <td>8</td>\n",
       "      <td>42.346468</td>\n",
       "      <td>-71.098775</td>\n",
       "    </tr>\n",
       "    <tr>\n",
       "      <th>9</th>\n",
       "      <td>Boston University</td>\n",
       "      <td>9</td>\n",
       "      <td>42.350185</td>\n",
       "      <td>-71.105924</td>\n",
       "    </tr>\n",
       "    <tr>\n",
       "      <th>10</th>\n",
       "      <td>Financial District</td>\n",
       "      <td>10</td>\n",
       "      <td>42.356122</td>\n",
       "      <td>-71.054911</td>\n",
       "    </tr>\n",
       "    <tr>\n",
       "      <th>11</th>\n",
       "      <td>West End</td>\n",
       "      <td>11</td>\n",
       "      <td>42.363877</td>\n",
       "      <td>-71.067056</td>\n",
       "    </tr>\n",
       "  </tbody>\n",
       "</table>\n",
       "</div>"
      ],
      "text/plain": [
       "                     source  source_id  source_latitude  source_longtitude\n",
       "0             North Station          0        42.366280         -71.060912\n",
       "1   Northeastern University          1        42.340291         -71.088718\n",
       "2               Beacon Hill          2        42.358869         -71.067680\n",
       "3                  Back Bay          3        42.349577         -71.079523\n",
       "4          Theatre District          4        42.351883         -71.064252\n",
       "5                 North End          5        42.365664         -71.054778\n",
       "6          Haymarket Square          6        42.363789         -71.058442\n",
       "7             South Station          7        42.352332         -71.055553\n",
       "8                    Fenway          8        42.346468         -71.098775\n",
       "9         Boston University          9        42.350185         -71.105924\n",
       "10       Financial District         10        42.356122         -71.054911\n",
       "11                 West End         11        42.363877         -71.067056"
      ]
     },
     "execution_count": 590,
     "metadata": {},
     "output_type": "execute_result"
    }
   ],
   "source": [
    "place_df"
   ]
  },
  {
   "cell_type": "code",
   "execution_count": 591,
   "metadata": {},
   "outputs": [
    {
     "data": {
      "text/html": [
       "<div>\n",
       "<style scoped>\n",
       "    .dataframe tbody tr th:only-of-type {\n",
       "        vertical-align: middle;\n",
       "    }\n",
       "\n",
       "    .dataframe tbody tr th {\n",
       "        vertical-align: top;\n",
       "    }\n",
       "\n",
       "    .dataframe thead th {\n",
       "        text-align: right;\n",
       "    }\n",
       "</style>\n",
       "<table border=\"1\" class=\"dataframe\">\n",
       "  <thead>\n",
       "    <tr style=\"text-align: right;\">\n",
       "      <th></th>\n",
       "      <th>distance</th>\n",
       "      <th>cab_type</th>\n",
       "      <th>time_stamp</th>\n",
       "      <th>destination</th>\n",
       "      <th>source</th>\n",
       "      <th>price</th>\n",
       "      <th>surge_multiplier</th>\n",
       "      <th>id</th>\n",
       "      <th>product_id</th>\n",
       "      <th>name</th>\n",
       "      <th>cab_type_id</th>\n",
       "      <th>source_id</th>\n",
       "      <th>source_latitude</th>\n",
       "      <th>source_longtitude</th>\n",
       "      <th>destination_id</th>\n",
       "      <th>destination_latitude</th>\n",
       "      <th>destination_longtitude</th>\n",
       "    </tr>\n",
       "  </thead>\n",
       "  <tbody>\n",
       "    <tr>\n",
       "      <th>0</th>\n",
       "      <td>0.44</td>\n",
       "      <td>Lyft</td>\n",
       "      <td>1544952607890</td>\n",
       "      <td>North Station</td>\n",
       "      <td>Haymarket Square</td>\n",
       "      <td>5.0</td>\n",
       "      <td>1.0</td>\n",
       "      <td>424553bb-7174-41ea-aeb4-fe06d4f4b9d7</td>\n",
       "      <td>lyft_line</td>\n",
       "      <td>Shared</td>\n",
       "      <td>0</td>\n",
       "      <td>6</td>\n",
       "      <td>42.363789</td>\n",
       "      <td>-71.058442</td>\n",
       "      <td>0</td>\n",
       "      <td>42.36628</td>\n",
       "      <td>-71.060912</td>\n",
       "    </tr>\n",
       "    <tr>\n",
       "      <th>1</th>\n",
       "      <td>0.44</td>\n",
       "      <td>Lyft</td>\n",
       "      <td>1543284023677</td>\n",
       "      <td>North Station</td>\n",
       "      <td>Haymarket Square</td>\n",
       "      <td>11.0</td>\n",
       "      <td>1.0</td>\n",
       "      <td>4bd23055-6827-41c6-b23b-3c491f24e74d</td>\n",
       "      <td>lyft_premier</td>\n",
       "      <td>Lux</td>\n",
       "      <td>0</td>\n",
       "      <td>6</td>\n",
       "      <td>42.363789</td>\n",
       "      <td>-71.058442</td>\n",
       "      <td>0</td>\n",
       "      <td>42.36628</td>\n",
       "      <td>-71.060912</td>\n",
       "    </tr>\n",
       "    <tr>\n",
       "      <th>2</th>\n",
       "      <td>0.44</td>\n",
       "      <td>Lyft</td>\n",
       "      <td>1543366822198</td>\n",
       "      <td>North Station</td>\n",
       "      <td>Haymarket Square</td>\n",
       "      <td>7.0</td>\n",
       "      <td>1.0</td>\n",
       "      <td>981a3613-77af-4620-a42a-0c0866077d1e</td>\n",
       "      <td>lyft</td>\n",
       "      <td>Lyft</td>\n",
       "      <td>0</td>\n",
       "      <td>6</td>\n",
       "      <td>42.363789</td>\n",
       "      <td>-71.058442</td>\n",
       "      <td>0</td>\n",
       "      <td>42.36628</td>\n",
       "      <td>-71.060912</td>\n",
       "    </tr>\n",
       "    <tr>\n",
       "      <th>3</th>\n",
       "      <td>0.44</td>\n",
       "      <td>Lyft</td>\n",
       "      <td>1543553582749</td>\n",
       "      <td>North Station</td>\n",
       "      <td>Haymarket Square</td>\n",
       "      <td>26.0</td>\n",
       "      <td>1.0</td>\n",
       "      <td>c2d88af2-d278-4bfd-a8d0-29ca77cc5512</td>\n",
       "      <td>lyft_luxsuv</td>\n",
       "      <td>Lux Black XL</td>\n",
       "      <td>0</td>\n",
       "      <td>6</td>\n",
       "      <td>42.363789</td>\n",
       "      <td>-71.058442</td>\n",
       "      <td>0</td>\n",
       "      <td>42.36628</td>\n",
       "      <td>-71.060912</td>\n",
       "    </tr>\n",
       "    <tr>\n",
       "      <th>4</th>\n",
       "      <td>0.44</td>\n",
       "      <td>Lyft</td>\n",
       "      <td>1543463360223</td>\n",
       "      <td>North Station</td>\n",
       "      <td>Haymarket Square</td>\n",
       "      <td>9.0</td>\n",
       "      <td>1.0</td>\n",
       "      <td>e0126e1f-8ca9-4f2e-82b3-50505a09db9a</td>\n",
       "      <td>lyft_plus</td>\n",
       "      <td>Lyft XL</td>\n",
       "      <td>0</td>\n",
       "      <td>6</td>\n",
       "      <td>42.363789</td>\n",
       "      <td>-71.058442</td>\n",
       "      <td>0</td>\n",
       "      <td>42.36628</td>\n",
       "      <td>-71.060912</td>\n",
       "    </tr>\n",
       "  </tbody>\n",
       "</table>\n",
       "</div>"
      ],
      "text/plain": [
       "   distance cab_type     time_stamp    destination            source  price  \\\n",
       "0      0.44     Lyft  1544952607890  North Station  Haymarket Square    5.0   \n",
       "1      0.44     Lyft  1543284023677  North Station  Haymarket Square   11.0   \n",
       "2      0.44     Lyft  1543366822198  North Station  Haymarket Square    7.0   \n",
       "3      0.44     Lyft  1543553582749  North Station  Haymarket Square   26.0   \n",
       "4      0.44     Lyft  1543463360223  North Station  Haymarket Square    9.0   \n",
       "\n",
       "   surge_multiplier                                    id    product_id  \\\n",
       "0               1.0  424553bb-7174-41ea-aeb4-fe06d4f4b9d7     lyft_line   \n",
       "1               1.0  4bd23055-6827-41c6-b23b-3c491f24e74d  lyft_premier   \n",
       "2               1.0  981a3613-77af-4620-a42a-0c0866077d1e          lyft   \n",
       "3               1.0  c2d88af2-d278-4bfd-a8d0-29ca77cc5512   lyft_luxsuv   \n",
       "4               1.0  e0126e1f-8ca9-4f2e-82b3-50505a09db9a     lyft_plus   \n",
       "\n",
       "           name  cab_type_id  source_id  source_latitude  source_longtitude  \\\n",
       "0        Shared            0          6        42.363789         -71.058442   \n",
       "1           Lux            0          6        42.363789         -71.058442   \n",
       "2          Lyft            0          6        42.363789         -71.058442   \n",
       "3  Lux Black XL            0          6        42.363789         -71.058442   \n",
       "4       Lyft XL            0          6        42.363789         -71.058442   \n",
       "\n",
       "   destination_id  destination_latitude  destination_longtitude  \n",
       "0               0              42.36628              -71.060912  \n",
       "1               0              42.36628              -71.060912  \n",
       "2               0              42.36628              -71.060912  \n",
       "3               0              42.36628              -71.060912  \n",
       "4               0              42.36628              -71.060912  "
      ]
     },
     "execution_count": 591,
     "metadata": {},
     "output_type": "execute_result"
    }
   ],
   "source": [
    "df.head()"
   ]
  },
  {
   "cell_type": "markdown",
   "metadata": {},
   "source": [
    "#### Маршруты"
   ]
  },
  {
   "cell_type": "code",
   "execution_count": 592,
   "metadata": {},
   "outputs": [
    {
     "name": "stdout",
     "output_type": "stream",
     "text": [
      "Всего маршрутов: 72\n"
     ]
    }
   ],
   "source": [
    "print('Всего маршрутов:',df.groupby(['source', 'destination']).count().shape[0])"
   ]
  },
  {
   "cell_type": "code",
   "execution_count": 593,
   "metadata": {},
   "outputs": [
    {
     "data": {
      "text/html": [
       "<div>\n",
       "<style scoped>\n",
       "    .dataframe tbody tr th:only-of-type {\n",
       "        vertical-align: middle;\n",
       "    }\n",
       "\n",
       "    .dataframe tbody tr th {\n",
       "        vertical-align: top;\n",
       "    }\n",
       "\n",
       "    .dataframe thead th {\n",
       "        text-align: right;\n",
       "    }\n",
       "</style>\n",
       "<table border=\"1\" class=\"dataframe\">\n",
       "  <thead>\n",
       "    <tr style=\"text-align: right;\">\n",
       "      <th></th>\n",
       "      <th>source</th>\n",
       "      <th>destination</th>\n",
       "      <th>route_id</th>\n",
       "      <th>route_name</th>\n",
       "    </tr>\n",
       "  </thead>\n",
       "  <tbody>\n",
       "    <tr>\n",
       "      <th>0</th>\n",
       "      <td>Back Bay</td>\n",
       "      <td>Boston University</td>\n",
       "      <td>0</td>\n",
       "      <td>Back Bay-Boston University</td>\n",
       "    </tr>\n",
       "    <tr>\n",
       "      <th>1</th>\n",
       "      <td>Back Bay</td>\n",
       "      <td>Fenway</td>\n",
       "      <td>1</td>\n",
       "      <td>Back Bay-Fenway</td>\n",
       "    </tr>\n",
       "    <tr>\n",
       "      <th>2</th>\n",
       "      <td>Back Bay</td>\n",
       "      <td>Haymarket Square</td>\n",
       "      <td>2</td>\n",
       "      <td>Back Bay-Haymarket Square</td>\n",
       "    </tr>\n",
       "    <tr>\n",
       "      <th>3</th>\n",
       "      <td>Back Bay</td>\n",
       "      <td>North End</td>\n",
       "      <td>3</td>\n",
       "      <td>Back Bay-North End</td>\n",
       "    </tr>\n",
       "    <tr>\n",
       "      <th>4</th>\n",
       "      <td>Back Bay</td>\n",
       "      <td>Northeastern University</td>\n",
       "      <td>4</td>\n",
       "      <td>Back Bay-Northeastern University</td>\n",
       "    </tr>\n",
       "  </tbody>\n",
       "</table>\n",
       "</div>"
      ],
      "text/plain": [
       "     source              destination  route_id  \\\n",
       "0  Back Bay        Boston University         0   \n",
       "1  Back Bay                   Fenway         1   \n",
       "2  Back Bay         Haymarket Square         2   \n",
       "3  Back Bay                North End         3   \n",
       "4  Back Bay  Northeastern University         4   \n",
       "\n",
       "                         route_name  \n",
       "0        Back Bay-Boston University  \n",
       "1                   Back Bay-Fenway  \n",
       "2         Back Bay-Haymarket Square  \n",
       "3                Back Bay-North End  \n",
       "4  Back Bay-Northeastern University  "
      ]
     },
     "execution_count": 593,
     "metadata": {},
     "output_type": "execute_result"
    }
   ],
   "source": [
    "route_df=pd.DataFrame([list(i) for i in list(df.groupby(['source', 'destination']).count().index)], columns=['source', 'destination'])\n",
    "route_df['route_id'] = route_df.index\n",
    "route_df['route_name']=route_df.source+'-'+route_df.destination\n",
    "route_df.head()"
   ]
  },
  {
   "cell_type": "code",
   "execution_count": 594,
   "metadata": {},
   "outputs": [],
   "source": [
    "df=pd.merge(df,route_df, how='inner', on=['source','destination'])"
   ]
  },
  {
   "cell_type": "markdown",
   "metadata": {},
   "source": [
    "#### Тариф (тип поездки)"
   ]
  },
  {
   "cell_type": "code",
   "execution_count": 595,
   "metadata": {},
   "outputs": [
    {
     "data": {
      "text/plain": [
       "array(['Shared', 'Lux', 'Lyft', 'Lux Black XL', 'Lyft XL', 'Lux Black',\n",
       "       'Black', 'WAV', 'Taxi', 'UberX', 'Black SUV', 'UberPool', 'UberXL'],\n",
       "      dtype=object)"
      ]
     },
     "execution_count": 595,
     "metadata": {},
     "output_type": "execute_result"
    }
   ],
   "source": [
    "df.name.unique()"
   ]
  },
  {
   "cell_type": "code",
   "execution_count": 596,
   "metadata": {},
   "outputs": [
    {
     "name": "stdout",
     "output_type": "stream",
     "text": [
      "Всего тарифов:13\n",
      "Тарифы Убера ['Black' 'WAV' 'Taxi' 'UberX' 'Black SUV' 'UberPool' 'UberXL']  \n",
      "Тарифы Лифта ['Shared' 'Lux' 'Lyft' 'Lux Black XL' 'Lyft XL' 'Lux Black']\n"
     ]
    }
   ],
   "source": [
    "print('Всего тарифов:{}\\nТарифы Убера {}  \\nТарифы Лифта {}'.format(len(df.name.unique()),df[df.cab_type=='Uber'].name.unique(),df[df.cab_type=='Lyft'].name.unique()))"
   ]
  },
  {
   "cell_type": "code",
   "execution_count": 597,
   "metadata": {},
   "outputs": [
    {
     "data": {
      "text/html": [
       "<div>\n",
       "<style scoped>\n",
       "    .dataframe tbody tr th:only-of-type {\n",
       "        vertical-align: middle;\n",
       "    }\n",
       "\n",
       "    .dataframe tbody tr th {\n",
       "        vertical-align: top;\n",
       "    }\n",
       "\n",
       "    .dataframe thead th {\n",
       "        text-align: right;\n",
       "    }\n",
       "</style>\n",
       "<table border=\"1\" class=\"dataframe\">\n",
       "  <thead>\n",
       "    <tr style=\"text-align: right;\">\n",
       "      <th></th>\n",
       "      <th>name</th>\n",
       "      <th>tariff_id</th>\n",
       "    </tr>\n",
       "  </thead>\n",
       "  <tbody>\n",
       "    <tr>\n",
       "      <th>0</th>\n",
       "      <td>Shared</td>\n",
       "      <td>0</td>\n",
       "    </tr>\n",
       "    <tr>\n",
       "      <th>1</th>\n",
       "      <td>Lux</td>\n",
       "      <td>1</td>\n",
       "    </tr>\n",
       "    <tr>\n",
       "      <th>2</th>\n",
       "      <td>Lyft</td>\n",
       "      <td>2</td>\n",
       "    </tr>\n",
       "    <tr>\n",
       "      <th>3</th>\n",
       "      <td>Lux Black XL</td>\n",
       "      <td>3</td>\n",
       "    </tr>\n",
       "    <tr>\n",
       "      <th>4</th>\n",
       "      <td>Lyft XL</td>\n",
       "      <td>4</td>\n",
       "    </tr>\n",
       "    <tr>\n",
       "      <th>5</th>\n",
       "      <td>Lux Black</td>\n",
       "      <td>5</td>\n",
       "    </tr>\n",
       "    <tr>\n",
       "      <th>6</th>\n",
       "      <td>Black</td>\n",
       "      <td>6</td>\n",
       "    </tr>\n",
       "    <tr>\n",
       "      <th>7</th>\n",
       "      <td>WAV</td>\n",
       "      <td>7</td>\n",
       "    </tr>\n",
       "    <tr>\n",
       "      <th>8</th>\n",
       "      <td>Taxi</td>\n",
       "      <td>8</td>\n",
       "    </tr>\n",
       "    <tr>\n",
       "      <th>9</th>\n",
       "      <td>UberX</td>\n",
       "      <td>9</td>\n",
       "    </tr>\n",
       "    <tr>\n",
       "      <th>10</th>\n",
       "      <td>Black SUV</td>\n",
       "      <td>10</td>\n",
       "    </tr>\n",
       "    <tr>\n",
       "      <th>11</th>\n",
       "      <td>UberPool</td>\n",
       "      <td>11</td>\n",
       "    </tr>\n",
       "    <tr>\n",
       "      <th>12</th>\n",
       "      <td>UberXL</td>\n",
       "      <td>12</td>\n",
       "    </tr>\n",
       "  </tbody>\n",
       "</table>\n",
       "</div>"
      ],
      "text/plain": [
       "            name  tariff_id\n",
       "0         Shared          0\n",
       "1            Lux          1\n",
       "2           Lyft          2\n",
       "3   Lux Black XL          3\n",
       "4        Lyft XL          4\n",
       "5      Lux Black          5\n",
       "6          Black          6\n",
       "7            WAV          7\n",
       "8           Taxi          8\n",
       "9          UberX          9\n",
       "10     Black SUV         10\n",
       "11      UberPool         11\n",
       "12        UberXL         12"
      ]
     },
     "execution_count": 597,
     "metadata": {},
     "output_type": "execute_result"
    }
   ],
   "source": [
    "tariff_df = pd.DataFrame(df.name.unique(), columns=['name'])\n",
    "tariff_df['tariff_id']=tariff_df.index\n",
    "tariff_df"
   ]
  },
  {
   "cell_type": "markdown",
   "metadata": {},
   "source": [
    "Примечание: надо постараться выявить аналогии между тарифами двух компаний"
   ]
  },
  {
   "cell_type": "markdown",
   "metadata": {},
   "source": [
    "Соответсвия тарифов по сути:\n",
    "1. Lux Black XL = Black SUV - дорогие кроссоверы без таксишной расскраски\n",
    "2. Lux Black = Black - дорогие седаны без раскраски\n",
    "3. Lyft XL = Uber XL - минивэн\n",
    "4. Shared = UberPool - сервис совместных поездок\n",
    "5. Lyft = UberX, [Taxi] - обычное такси\n",
    "6. Lux = [Taxi] - комфорт+\n",
    "7. WAV - отдельный класс для поездок с инвалидными колясками"
   ]
  },
  {
   "cell_type": "code",
   "execution_count": 598,
   "metadata": {},
   "outputs": [
    {
     "data": {
      "text/html": [
       "<div>\n",
       "<style scoped>\n",
       "    .dataframe tbody tr th:only-of-type {\n",
       "        vertical-align: middle;\n",
       "    }\n",
       "\n",
       "    .dataframe tbody tr th {\n",
       "        vertical-align: top;\n",
       "    }\n",
       "\n",
       "    .dataframe thead th {\n",
       "        text-align: right;\n",
       "    }\n",
       "</style>\n",
       "<table border=\"1\" class=\"dataframe\">\n",
       "  <thead>\n",
       "    <tr style=\"text-align: right;\">\n",
       "      <th></th>\n",
       "      <th>name</th>\n",
       "      <th>universal_tariff_name</th>\n",
       "    </tr>\n",
       "  </thead>\n",
       "  <tbody>\n",
       "    <tr>\n",
       "      <th>0</th>\n",
       "      <td>Shared</td>\n",
       "      <td>Shared Ride</td>\n",
       "    </tr>\n",
       "    <tr>\n",
       "      <th>1</th>\n",
       "      <td>Lux</td>\n",
       "      <td>Unknown</td>\n",
       "    </tr>\n",
       "    <tr>\n",
       "      <th>2</th>\n",
       "      <td>Lyft</td>\n",
       "      <td>Econom</td>\n",
       "    </tr>\n",
       "    <tr>\n",
       "      <th>3</th>\n",
       "      <td>Lux Black XL</td>\n",
       "      <td>SUV Business</td>\n",
       "    </tr>\n",
       "    <tr>\n",
       "      <th>4</th>\n",
       "      <td>Lyft XL</td>\n",
       "      <td>Minivan</td>\n",
       "    </tr>\n",
       "    <tr>\n",
       "      <th>5</th>\n",
       "      <td>Lux Black</td>\n",
       "      <td>Business</td>\n",
       "    </tr>\n",
       "    <tr>\n",
       "      <th>6</th>\n",
       "      <td>Black</td>\n",
       "      <td>Business</td>\n",
       "    </tr>\n",
       "    <tr>\n",
       "      <th>7</th>\n",
       "      <td>WAV</td>\n",
       "      <td>WAV</td>\n",
       "    </tr>\n",
       "    <tr>\n",
       "      <th>8</th>\n",
       "      <td>Taxi</td>\n",
       "      <td>Unknown</td>\n",
       "    </tr>\n",
       "    <tr>\n",
       "      <th>9</th>\n",
       "      <td>UberX</td>\n",
       "      <td>Econom</td>\n",
       "    </tr>\n",
       "    <tr>\n",
       "      <th>10</th>\n",
       "      <td>Black SUV</td>\n",
       "      <td>SUV Business</td>\n",
       "    </tr>\n",
       "    <tr>\n",
       "      <th>11</th>\n",
       "      <td>WAV</td>\n",
       "      <td>WAV</td>\n",
       "    </tr>\n",
       "    <tr>\n",
       "      <th>12</th>\n",
       "      <td>Taxi</td>\n",
       "      <td>Unknown</td>\n",
       "    </tr>\n",
       "    <tr>\n",
       "      <th>13</th>\n",
       "      <td>Black</td>\n",
       "      <td>Business</td>\n",
       "    </tr>\n",
       "    <tr>\n",
       "      <th>14</th>\n",
       "      <td>UberPool</td>\n",
       "      <td>Shared Ride</td>\n",
       "    </tr>\n",
       "  </tbody>\n",
       "</table>\n",
       "</div>"
      ],
      "text/plain": [
       "            name universal_tariff_name\n",
       "0         Shared           Shared Ride\n",
       "1            Lux               Unknown\n",
       "2           Lyft                Econom\n",
       "3   Lux Black XL          SUV Business\n",
       "4        Lyft XL               Minivan\n",
       "5      Lux Black              Business\n",
       "6          Black              Business\n",
       "7            WAV                   WAV\n",
       "8           Taxi               Unknown\n",
       "9          UberX                Econom\n",
       "10     Black SUV          SUV Business\n",
       "11           WAV                   WAV\n",
       "12          Taxi               Unknown\n",
       "13         Black              Business\n",
       "14      UberPool           Shared Ride"
      ]
     },
     "execution_count": 598,
     "metadata": {},
     "output_type": "execute_result"
    }
   ],
   "source": [
    "names_uber = {'Lux Black XL': 'SUV Business',\n",
    "            'Lux Black': 'Business',\n",
    "            'Lyft XL': 'Minivan',\n",
    "            'Shared': 'Shared Ride',\n",
    "            'Lyft': 'Econom',\n",
    "            'Lux': 'Unknown',\n",
    "            'Black SUV':'SUV Business',\n",
    "            'Black':'Business',\n",
    "            'UberXL':'Minivan',\n",
    "            'UberPool':'Shared Ride',\n",
    "            'UberX':'Econom',\n",
    "            'Taxi': 'Unknown'\n",
    "             }\n",
    "df['universal_tariff_name'] = df['name'].replace(names_uber)\n",
    "df[['name', 'universal_tariff_name']].head(15)"
   ]
  },
  {
   "cell_type": "code",
   "execution_count": 599,
   "metadata": {},
   "outputs": [
    {
     "data": {
      "text/html": [
       "<div>\n",
       "<style scoped>\n",
       "    .dataframe tbody tr th:only-of-type {\n",
       "        vertical-align: middle;\n",
       "    }\n",
       "\n",
       "    .dataframe tbody tr th {\n",
       "        vertical-align: top;\n",
       "    }\n",
       "\n",
       "    .dataframe thead th {\n",
       "        text-align: right;\n",
       "    }\n",
       "</style>\n",
       "<table border=\"1\" class=\"dataframe\">\n",
       "  <thead>\n",
       "    <tr style=\"text-align: right;\">\n",
       "      <th></th>\n",
       "      <th>distance</th>\n",
       "      <th>cab_type</th>\n",
       "      <th>time_stamp</th>\n",
       "      <th>destination</th>\n",
       "      <th>source</th>\n",
       "      <th>price</th>\n",
       "      <th>surge_multiplier</th>\n",
       "      <th>id</th>\n",
       "      <th>product_id</th>\n",
       "      <th>name</th>\n",
       "      <th>cab_type_id</th>\n",
       "      <th>source_id</th>\n",
       "      <th>source_latitude</th>\n",
       "      <th>source_longtitude</th>\n",
       "      <th>destination_id</th>\n",
       "      <th>destination_latitude</th>\n",
       "      <th>destination_longtitude</th>\n",
       "      <th>route_id</th>\n",
       "      <th>route_name</th>\n",
       "      <th>universal_tariff_name</th>\n",
       "    </tr>\n",
       "  </thead>\n",
       "  <tbody>\n",
       "    <tr>\n",
       "      <th>18</th>\n",
       "      <td>0.49</td>\n",
       "      <td>Uber</td>\n",
       "      <td>1544409311996</td>\n",
       "      <td>North Station</td>\n",
       "      <td>Haymarket Square</td>\n",
       "      <td>9.0</td>\n",
       "      <td>1.0</td>\n",
       "      <td>8e3c7303-bdfd-4c67-a4ec-db9add1930c7</td>\n",
       "      <td>6f72dfc5-27f1-42e8-84db-ccc7a75f6969</td>\n",
       "      <td>UberXL</td>\n",
       "      <td>1</td>\n",
       "      <td>6</td>\n",
       "      <td>42.363789</td>\n",
       "      <td>-71.058442</td>\n",
       "      <td>0</td>\n",
       "      <td>42.36628</td>\n",
       "      <td>-71.060912</td>\n",
       "      <td>33</td>\n",
       "      <td>Haymarket Square-North Station</td>\n",
       "      <td>Minivan</td>\n",
       "    </tr>\n",
       "    <tr>\n",
       "      <th>28</th>\n",
       "      <td>0.49</td>\n",
       "      <td>Uber</td>\n",
       "      <td>1543474977234</td>\n",
       "      <td>North Station</td>\n",
       "      <td>Haymarket Square</td>\n",
       "      <td>9.5</td>\n",
       "      <td>1.0</td>\n",
       "      <td>c10af450-6222-405e-b597-569c1c2d27d7</td>\n",
       "      <td>6f72dfc5-27f1-42e8-84db-ccc7a75f6969</td>\n",
       "      <td>UberXL</td>\n",
       "      <td>1</td>\n",
       "      <td>6</td>\n",
       "      <td>42.363789</td>\n",
       "      <td>-71.058442</td>\n",
       "      <td>0</td>\n",
       "      <td>42.36628</td>\n",
       "      <td>-71.060912</td>\n",
       "      <td>33</td>\n",
       "      <td>Haymarket Square-North Station</td>\n",
       "      <td>Minivan</td>\n",
       "    </tr>\n",
       "    <tr>\n",
       "      <th>44</th>\n",
       "      <td>0.49</td>\n",
       "      <td>Uber</td>\n",
       "      <td>1544870109471</td>\n",
       "      <td>North Station</td>\n",
       "      <td>Haymarket Square</td>\n",
       "      <td>10.5</td>\n",
       "      <td>1.0</td>\n",
       "      <td>b2efc6e0-716b-4c09-9311-a5dbb8176ddb</td>\n",
       "      <td>6f72dfc5-27f1-42e8-84db-ccc7a75f6969</td>\n",
       "      <td>UberXL</td>\n",
       "      <td>1</td>\n",
       "      <td>6</td>\n",
       "      <td>42.363789</td>\n",
       "      <td>-71.058442</td>\n",
       "      <td>0</td>\n",
       "      <td>42.36628</td>\n",
       "      <td>-71.060912</td>\n",
       "      <td>33</td>\n",
       "      <td>Haymarket Square-North Station</td>\n",
       "      <td>Minivan</td>\n",
       "    </tr>\n",
       "    <tr>\n",
       "      <th>52</th>\n",
       "      <td>0.49</td>\n",
       "      <td>Uber</td>\n",
       "      <td>1543296262135</td>\n",
       "      <td>North Station</td>\n",
       "      <td>Haymarket Square</td>\n",
       "      <td>9.5</td>\n",
       "      <td>1.0</td>\n",
       "      <td>5bf76736-73db-4859-b0f9-0ad77017c95b</td>\n",
       "      <td>6f72dfc5-27f1-42e8-84db-ccc7a75f6969</td>\n",
       "      <td>UberXL</td>\n",
       "      <td>1</td>\n",
       "      <td>6</td>\n",
       "      <td>42.363789</td>\n",
       "      <td>-71.058442</td>\n",
       "      <td>0</td>\n",
       "      <td>42.36628</td>\n",
       "      <td>-71.060912</td>\n",
       "      <td>33</td>\n",
       "      <td>Haymarket Square-North Station</td>\n",
       "      <td>Minivan</td>\n",
       "    </tr>\n",
       "    <tr>\n",
       "      <th>55</th>\n",
       "      <td>0.49</td>\n",
       "      <td>Uber</td>\n",
       "      <td>1543626487291</td>\n",
       "      <td>North Station</td>\n",
       "      <td>Haymarket Square</td>\n",
       "      <td>9.5</td>\n",
       "      <td>1.0</td>\n",
       "      <td>0287babf-902c-4474-9b84-32c962950004</td>\n",
       "      <td>6f72dfc5-27f1-42e8-84db-ccc7a75f6969</td>\n",
       "      <td>UberXL</td>\n",
       "      <td>1</td>\n",
       "      <td>6</td>\n",
       "      <td>42.363789</td>\n",
       "      <td>-71.058442</td>\n",
       "      <td>0</td>\n",
       "      <td>42.36628</td>\n",
       "      <td>-71.060912</td>\n",
       "      <td>33</td>\n",
       "      <td>Haymarket Square-North Station</td>\n",
       "      <td>Minivan</td>\n",
       "    </tr>\n",
       "    <tr>\n",
       "      <th>67</th>\n",
       "      <td>0.49</td>\n",
       "      <td>Uber</td>\n",
       "      <td>1543744676008</td>\n",
       "      <td>North Station</td>\n",
       "      <td>Haymarket Square</td>\n",
       "      <td>9.5</td>\n",
       "      <td>1.0</td>\n",
       "      <td>c0fee2dd-183a-4683-8934-1a64f6c1cbfa</td>\n",
       "      <td>6f72dfc5-27f1-42e8-84db-ccc7a75f6969</td>\n",
       "      <td>UberXL</td>\n",
       "      <td>1</td>\n",
       "      <td>6</td>\n",
       "      <td>42.363789</td>\n",
       "      <td>-71.058442</td>\n",
       "      <td>0</td>\n",
       "      <td>42.36628</td>\n",
       "      <td>-71.060912</td>\n",
       "      <td>33</td>\n",
       "      <td>Haymarket Square-North Station</td>\n",
       "      <td>Minivan</td>\n",
       "    </tr>\n",
       "    <tr>\n",
       "      <th>72</th>\n",
       "      <td>0.49</td>\n",
       "      <td>Uber</td>\n",
       "      <td>1544771706424</td>\n",
       "      <td>North Station</td>\n",
       "      <td>Haymarket Square</td>\n",
       "      <td>10.5</td>\n",
       "      <td>1.0</td>\n",
       "      <td>734781e5-bff4-4394-86a2-fb54344f60a2</td>\n",
       "      <td>6f72dfc5-27f1-42e8-84db-ccc7a75f6969</td>\n",
       "      <td>UberXL</td>\n",
       "      <td>1</td>\n",
       "      <td>6</td>\n",
       "      <td>42.363789</td>\n",
       "      <td>-71.058442</td>\n",
       "      <td>0</td>\n",
       "      <td>42.36628</td>\n",
       "      <td>-71.060912</td>\n",
       "      <td>33</td>\n",
       "      <td>Haymarket Square-North Station</td>\n",
       "      <td>Minivan</td>\n",
       "    </tr>\n",
       "    <tr>\n",
       "      <th>91</th>\n",
       "      <td>0.49</td>\n",
       "      <td>Uber</td>\n",
       "      <td>1545141006022</td>\n",
       "      <td>North Station</td>\n",
       "      <td>Haymarket Square</td>\n",
       "      <td>10.5</td>\n",
       "      <td>1.0</td>\n",
       "      <td>b9dd35c8-7f48-4830-b2a3-a4f2efb5ee3c</td>\n",
       "      <td>6f72dfc5-27f1-42e8-84db-ccc7a75f6969</td>\n",
       "      <td>UberXL</td>\n",
       "      <td>1</td>\n",
       "      <td>6</td>\n",
       "      <td>42.363789</td>\n",
       "      <td>-71.058442</td>\n",
       "      <td>0</td>\n",
       "      <td>42.36628</td>\n",
       "      <td>-71.060912</td>\n",
       "      <td>33</td>\n",
       "      <td>Haymarket Square-North Station</td>\n",
       "      <td>Minivan</td>\n",
       "    </tr>\n",
       "    <tr>\n",
       "      <th>100</th>\n",
       "      <td>0.49</td>\n",
       "      <td>Uber</td>\n",
       "      <td>1543650178461</td>\n",
       "      <td>North Station</td>\n",
       "      <td>Haymarket Square</td>\n",
       "      <td>9.5</td>\n",
       "      <td>1.0</td>\n",
       "      <td>7a9a8c6a-f28a-4fa6-93c4-dfda7df9825e</td>\n",
       "      <td>6f72dfc5-27f1-42e8-84db-ccc7a75f6969</td>\n",
       "      <td>UberXL</td>\n",
       "      <td>1</td>\n",
       "      <td>6</td>\n",
       "      <td>42.363789</td>\n",
       "      <td>-71.058442</td>\n",
       "      <td>0</td>\n",
       "      <td>42.36628</td>\n",
       "      <td>-71.060912</td>\n",
       "      <td>33</td>\n",
       "      <td>Haymarket Square-North Station</td>\n",
       "      <td>Minivan</td>\n",
       "    </tr>\n",
       "    <tr>\n",
       "      <th>107</th>\n",
       "      <td>0.49</td>\n",
       "      <td>Uber</td>\n",
       "      <td>1545043212358</td>\n",
       "      <td>North Station</td>\n",
       "      <td>Haymarket Square</td>\n",
       "      <td>9.5</td>\n",
       "      <td>1.0</td>\n",
       "      <td>ec68213a-5fe9-4b89-9b50-61353b525c8e</td>\n",
       "      <td>6f72dfc5-27f1-42e8-84db-ccc7a75f6969</td>\n",
       "      <td>UberXL</td>\n",
       "      <td>1</td>\n",
       "      <td>6</td>\n",
       "      <td>42.363789</td>\n",
       "      <td>-71.058442</td>\n",
       "      <td>0</td>\n",
       "      <td>42.36628</td>\n",
       "      <td>-71.060912</td>\n",
       "      <td>33</td>\n",
       "      <td>Haymarket Square-North Station</td>\n",
       "      <td>Minivan</td>\n",
       "    </tr>\n",
       "    <tr>\n",
       "      <th>121</th>\n",
       "      <td>0.49</td>\n",
       "      <td>Uber</td>\n",
       "      <td>1543255511075</td>\n",
       "      <td>North Station</td>\n",
       "      <td>Haymarket Square</td>\n",
       "      <td>10.5</td>\n",
       "      <td>1.0</td>\n",
       "      <td>ac0f3f7f-16fa-4783-89f3-550275ea7c33</td>\n",
       "      <td>6f72dfc5-27f1-42e8-84db-ccc7a75f6969</td>\n",
       "      <td>UberXL</td>\n",
       "      <td>1</td>\n",
       "      <td>6</td>\n",
       "      <td>42.363789</td>\n",
       "      <td>-71.058442</td>\n",
       "      <td>0</td>\n",
       "      <td>42.36628</td>\n",
       "      <td>-71.060912</td>\n",
       "      <td>33</td>\n",
       "      <td>Haymarket Square-North Station</td>\n",
       "      <td>Minivan</td>\n",
       "    </tr>\n",
       "    <tr>\n",
       "      <th>126</th>\n",
       "      <td>0.49</td>\n",
       "      <td>Uber</td>\n",
       "      <td>1544680806394</td>\n",
       "      <td>North Station</td>\n",
       "      <td>Haymarket Square</td>\n",
       "      <td>8.5</td>\n",
       "      <td>1.0</td>\n",
       "      <td>7d975105-3814-4e51-b291-f5cf6470d1c0</td>\n",
       "      <td>6f72dfc5-27f1-42e8-84db-ccc7a75f6969</td>\n",
       "      <td>UberXL</td>\n",
       "      <td>1</td>\n",
       "      <td>6</td>\n",
       "      <td>42.363789</td>\n",
       "      <td>-71.058442</td>\n",
       "      <td>0</td>\n",
       "      <td>42.36628</td>\n",
       "      <td>-71.060912</td>\n",
       "      <td>33</td>\n",
       "      <td>Haymarket Square-North Station</td>\n",
       "      <td>Minivan</td>\n",
       "    </tr>\n",
       "    <tr>\n",
       "      <th>131</th>\n",
       "      <td>0.49</td>\n",
       "      <td>Uber</td>\n",
       "      <td>1543326322416</td>\n",
       "      <td>North Station</td>\n",
       "      <td>Haymarket Square</td>\n",
       "      <td>8.5</td>\n",
       "      <td>1.0</td>\n",
       "      <td>3e3aaa11-4390-4b2a-8629-85ba02a4b10e</td>\n",
       "      <td>6f72dfc5-27f1-42e8-84db-ccc7a75f6969</td>\n",
       "      <td>UberXL</td>\n",
       "      <td>1</td>\n",
       "      <td>6</td>\n",
       "      <td>42.363789</td>\n",
       "      <td>-71.058442</td>\n",
       "      <td>0</td>\n",
       "      <td>42.36628</td>\n",
       "      <td>-71.060912</td>\n",
       "      <td>33</td>\n",
       "      <td>Haymarket Square-North Station</td>\n",
       "      <td>Minivan</td>\n",
       "    </tr>\n",
       "    <tr>\n",
       "      <th>151</th>\n",
       "      <td>0.49</td>\n",
       "      <td>Uber</td>\n",
       "      <td>1545046504824</td>\n",
       "      <td>North Station</td>\n",
       "      <td>Haymarket Square</td>\n",
       "      <td>10.5</td>\n",
       "      <td>1.0</td>\n",
       "      <td>24efcee2-f81b-4b5a-a9f2-bbe43b55de4d</td>\n",
       "      <td>6f72dfc5-27f1-42e8-84db-ccc7a75f6969</td>\n",
       "      <td>UberXL</td>\n",
       "      <td>1</td>\n",
       "      <td>6</td>\n",
       "      <td>42.363789</td>\n",
       "      <td>-71.058442</td>\n",
       "      <td>0</td>\n",
       "      <td>42.36628</td>\n",
       "      <td>-71.060912</td>\n",
       "      <td>33</td>\n",
       "      <td>Haymarket Square-North Station</td>\n",
       "      <td>Minivan</td>\n",
       "    </tr>\n",
       "    <tr>\n",
       "      <th>167</th>\n",
       "      <td>0.49</td>\n",
       "      <td>Uber</td>\n",
       "      <td>1545057012910</td>\n",
       "      <td>North Station</td>\n",
       "      <td>Haymarket Square</td>\n",
       "      <td>9.5</td>\n",
       "      <td>1.0</td>\n",
       "      <td>5f547c7b-6ed1-443d-8207-2617ce9958f0</td>\n",
       "      <td>6f72dfc5-27f1-42e8-84db-ccc7a75f6969</td>\n",
       "      <td>UberXL</td>\n",
       "      <td>1</td>\n",
       "      <td>6</td>\n",
       "      <td>42.363789</td>\n",
       "      <td>-71.058442</td>\n",
       "      <td>0</td>\n",
       "      <td>42.36628</td>\n",
       "      <td>-71.060912</td>\n",
       "      <td>33</td>\n",
       "      <td>Haymarket Square-North Station</td>\n",
       "      <td>Minivan</td>\n",
       "    </tr>\n",
       "    <tr>\n",
       "      <th>176</th>\n",
       "      <td>0.49</td>\n",
       "      <td>Uber</td>\n",
       "      <td>1543552976160</td>\n",
       "      <td>North Station</td>\n",
       "      <td>Haymarket Square</td>\n",
       "      <td>9.5</td>\n",
       "      <td>1.0</td>\n",
       "      <td>cbf4bf0c-5ced-471e-9577-34dc71f966c9</td>\n",
       "      <td>6f72dfc5-27f1-42e8-84db-ccc7a75f6969</td>\n",
       "      <td>UberXL</td>\n",
       "      <td>1</td>\n",
       "      <td>6</td>\n",
       "      <td>42.363789</td>\n",
       "      <td>-71.058442</td>\n",
       "      <td>0</td>\n",
       "      <td>42.36628</td>\n",
       "      <td>-71.060912</td>\n",
       "      <td>33</td>\n",
       "      <td>Haymarket Square-North Station</td>\n",
       "      <td>Minivan</td>\n",
       "    </tr>\n",
       "    <tr>\n",
       "      <th>183</th>\n",
       "      <td>0.49</td>\n",
       "      <td>Uber</td>\n",
       "      <td>1543685881239</td>\n",
       "      <td>North Station</td>\n",
       "      <td>Haymarket Square</td>\n",
       "      <td>9.5</td>\n",
       "      <td>1.0</td>\n",
       "      <td>b16d45ec-efc5-4e7d-8562-8dab958f3207</td>\n",
       "      <td>6f72dfc5-27f1-42e8-84db-ccc7a75f6969</td>\n",
       "      <td>UberXL</td>\n",
       "      <td>1</td>\n",
       "      <td>6</td>\n",
       "      <td>42.363789</td>\n",
       "      <td>-71.058442</td>\n",
       "      <td>0</td>\n",
       "      <td>42.36628</td>\n",
       "      <td>-71.060912</td>\n",
       "      <td>33</td>\n",
       "      <td>Haymarket Square-North Station</td>\n",
       "      <td>Minivan</td>\n",
       "    </tr>\n",
       "    <tr>\n",
       "      <th>192</th>\n",
       "      <td>0.49</td>\n",
       "      <td>Uber</td>\n",
       "      <td>1545091504354</td>\n",
       "      <td>North Station</td>\n",
       "      <td>Haymarket Square</td>\n",
       "      <td>10.5</td>\n",
       "      <td>1.0</td>\n",
       "      <td>5b8eb7f6-a020-4ba9-b37c-4c62d7253222</td>\n",
       "      <td>6f72dfc5-27f1-42e8-84db-ccc7a75f6969</td>\n",
       "      <td>UberXL</td>\n",
       "      <td>1</td>\n",
       "      <td>6</td>\n",
       "      <td>42.363789</td>\n",
       "      <td>-71.058442</td>\n",
       "      <td>0</td>\n",
       "      <td>42.36628</td>\n",
       "      <td>-71.060912</td>\n",
       "      <td>33</td>\n",
       "      <td>Haymarket Square-North Station</td>\n",
       "      <td>Minivan</td>\n",
       "    </tr>\n",
       "    <tr>\n",
       "      <th>202</th>\n",
       "      <td>0.49</td>\n",
       "      <td>Uber</td>\n",
       "      <td>1544830216436</td>\n",
       "      <td>North Station</td>\n",
       "      <td>Haymarket Square</td>\n",
       "      <td>16.5</td>\n",
       "      <td>1.0</td>\n",
       "      <td>e3a013c3-70c5-49e6-a8fd-1378c6c90644</td>\n",
       "      <td>6f72dfc5-27f1-42e8-84db-ccc7a75f6969</td>\n",
       "      <td>UberXL</td>\n",
       "      <td>1</td>\n",
       "      <td>6</td>\n",
       "      <td>42.363789</td>\n",
       "      <td>-71.058442</td>\n",
       "      <td>0</td>\n",
       "      <td>42.36628</td>\n",
       "      <td>-71.060912</td>\n",
       "      <td>33</td>\n",
       "      <td>Haymarket Square-North Station</td>\n",
       "      <td>Minivan</td>\n",
       "    </tr>\n",
       "    <tr>\n",
       "      <th>203</th>\n",
       "      <td>0.49</td>\n",
       "      <td>Uber</td>\n",
       "      <td>1543366644665</td>\n",
       "      <td>North Station</td>\n",
       "      <td>Haymarket Square</td>\n",
       "      <td>10.5</td>\n",
       "      <td>1.0</td>\n",
       "      <td>0acfa2cb-5f8e-4d61-934d-98d415dfea49</td>\n",
       "      <td>6f72dfc5-27f1-42e8-84db-ccc7a75f6969</td>\n",
       "      <td>UberXL</td>\n",
       "      <td>1</td>\n",
       "      <td>6</td>\n",
       "      <td>42.363789</td>\n",
       "      <td>-71.058442</td>\n",
       "      <td>0</td>\n",
       "      <td>42.36628</td>\n",
       "      <td>-71.060912</td>\n",
       "      <td>33</td>\n",
       "      <td>Haymarket Square-North Station</td>\n",
       "      <td>Minivan</td>\n",
       "    </tr>\n",
       "    <tr>\n",
       "      <th>216</th>\n",
       "      <td>0.49</td>\n",
       "      <td>Uber</td>\n",
       "      <td>1543364303431</td>\n",
       "      <td>North Station</td>\n",
       "      <td>Haymarket Square</td>\n",
       "      <td>10.5</td>\n",
       "      <td>1.0</td>\n",
       "      <td>abd95d36-0c79-4a9a-bd1a-1d0e19a59c7a</td>\n",
       "      <td>6f72dfc5-27f1-42e8-84db-ccc7a75f6969</td>\n",
       "      <td>UberXL</td>\n",
       "      <td>1</td>\n",
       "      <td>6</td>\n",
       "      <td>42.363789</td>\n",
       "      <td>-71.058442</td>\n",
       "      <td>0</td>\n",
       "      <td>42.36628</td>\n",
       "      <td>-71.060912</td>\n",
       "      <td>33</td>\n",
       "      <td>Haymarket Square-North Station</td>\n",
       "      <td>Minivan</td>\n",
       "    </tr>\n",
       "    <tr>\n",
       "      <th>231</th>\n",
       "      <td>0.49</td>\n",
       "      <td>Uber</td>\n",
       "      <td>1543826876163</td>\n",
       "      <td>North Station</td>\n",
       "      <td>Haymarket Square</td>\n",
       "      <td>9.0</td>\n",
       "      <td>1.0</td>\n",
       "      <td>62b351ba-4730-44df-9376-23f8cd3339c0</td>\n",
       "      <td>6f72dfc5-27f1-42e8-84db-ccc7a75f6969</td>\n",
       "      <td>UberXL</td>\n",
       "      <td>1</td>\n",
       "      <td>6</td>\n",
       "      <td>42.363789</td>\n",
       "      <td>-71.058442</td>\n",
       "      <td>0</td>\n",
       "      <td>42.36628</td>\n",
       "      <td>-71.060912</td>\n",
       "      <td>33</td>\n",
       "      <td>Haymarket Square-North Station</td>\n",
       "      <td>Minivan</td>\n",
       "    </tr>\n",
       "    <tr>\n",
       "      <th>241</th>\n",
       "      <td>0.49</td>\n",
       "      <td>Uber</td>\n",
       "      <td>1543415887703</td>\n",
       "      <td>North Station</td>\n",
       "      <td>Haymarket Square</td>\n",
       "      <td>10.5</td>\n",
       "      <td>1.0</td>\n",
       "      <td>8bb41f29-c302-447b-aeb1-1c692ba2cc2e</td>\n",
       "      <td>6f72dfc5-27f1-42e8-84db-ccc7a75f6969</td>\n",
       "      <td>UberXL</td>\n",
       "      <td>1</td>\n",
       "      <td>6</td>\n",
       "      <td>42.363789</td>\n",
       "      <td>-71.058442</td>\n",
       "      <td>0</td>\n",
       "      <td>42.36628</td>\n",
       "      <td>-71.060912</td>\n",
       "      <td>33</td>\n",
       "      <td>Haymarket Square-North Station</td>\n",
       "      <td>Minivan</td>\n",
       "    </tr>\n",
       "    <tr>\n",
       "      <th>247</th>\n",
       "      <td>0.49</td>\n",
       "      <td>Uber</td>\n",
       "      <td>1543721585779</td>\n",
       "      <td>North Station</td>\n",
       "      <td>Haymarket Square</td>\n",
       "      <td>11.0</td>\n",
       "      <td>1.0</td>\n",
       "      <td>a3ac3687-67a0-4acf-b9f0-b9b2e5bc0a34</td>\n",
       "      <td>6f72dfc5-27f1-42e8-84db-ccc7a75f6969</td>\n",
       "      <td>UberXL</td>\n",
       "      <td>1</td>\n",
       "      <td>6</td>\n",
       "      <td>42.363789</td>\n",
       "      <td>-71.058442</td>\n",
       "      <td>0</td>\n",
       "      <td>42.36628</td>\n",
       "      <td>-71.060912</td>\n",
       "      <td>33</td>\n",
       "      <td>Haymarket Square-North Station</td>\n",
       "      <td>Minivan</td>\n",
       "    </tr>\n",
       "    <tr>\n",
       "      <th>255</th>\n",
       "      <td>0.49</td>\n",
       "      <td>Uber</td>\n",
       "      <td>1543328843364</td>\n",
       "      <td>North Station</td>\n",
       "      <td>Haymarket Square</td>\n",
       "      <td>9.5</td>\n",
       "      <td>1.0</td>\n",
       "      <td>e028c9bb-ac9e-43b6-990d-b1a0d1051509</td>\n",
       "      <td>6f72dfc5-27f1-42e8-84db-ccc7a75f6969</td>\n",
       "      <td>UberXL</td>\n",
       "      <td>1</td>\n",
       "      <td>6</td>\n",
       "      <td>42.363789</td>\n",
       "      <td>-71.058442</td>\n",
       "      <td>0</td>\n",
       "      <td>42.36628</td>\n",
       "      <td>-71.060912</td>\n",
       "      <td>33</td>\n",
       "      <td>Haymarket Square-North Station</td>\n",
       "      <td>Minivan</td>\n",
       "    </tr>\n",
       "    <tr>\n",
       "      <th>266</th>\n",
       "      <td>0.49</td>\n",
       "      <td>Uber</td>\n",
       "      <td>1543332982101</td>\n",
       "      <td>North Station</td>\n",
       "      <td>Haymarket Square</td>\n",
       "      <td>9.5</td>\n",
       "      <td>1.0</td>\n",
       "      <td>816cc5cd-d055-4808-8f8b-c8a2e8de5114</td>\n",
       "      <td>6f72dfc5-27f1-42e8-84db-ccc7a75f6969</td>\n",
       "      <td>UberXL</td>\n",
       "      <td>1</td>\n",
       "      <td>6</td>\n",
       "      <td>42.363789</td>\n",
       "      <td>-71.058442</td>\n",
       "      <td>0</td>\n",
       "      <td>42.36628</td>\n",
       "      <td>-71.060912</td>\n",
       "      <td>33</td>\n",
       "      <td>Haymarket Square-North Station</td>\n",
       "      <td>Minivan</td>\n",
       "    </tr>\n",
       "    <tr>\n",
       "      <th>275</th>\n",
       "      <td>0.49</td>\n",
       "      <td>Uber</td>\n",
       "      <td>1543669982003</td>\n",
       "      <td>North Station</td>\n",
       "      <td>Haymarket Square</td>\n",
       "      <td>9.5</td>\n",
       "      <td>1.0</td>\n",
       "      <td>d0582c1d-d4d4-4b48-ad64-ce7db3dd7e1d</td>\n",
       "      <td>6f72dfc5-27f1-42e8-84db-ccc7a75f6969</td>\n",
       "      <td>UberXL</td>\n",
       "      <td>1</td>\n",
       "      <td>6</td>\n",
       "      <td>42.363789</td>\n",
       "      <td>-71.058442</td>\n",
       "      <td>0</td>\n",
       "      <td>42.36628</td>\n",
       "      <td>-71.060912</td>\n",
       "      <td>33</td>\n",
       "      <td>Haymarket Square-North Station</td>\n",
       "      <td>Minivan</td>\n",
       "    </tr>\n",
       "    <tr>\n",
       "      <th>288</th>\n",
       "      <td>0.49</td>\n",
       "      <td>Uber</td>\n",
       "      <td>1544936103362</td>\n",
       "      <td>North Station</td>\n",
       "      <td>Haymarket Square</td>\n",
       "      <td>10.5</td>\n",
       "      <td>1.0</td>\n",
       "      <td>35fb7d90-6931-44ba-9800-d6369d9fc7f3</td>\n",
       "      <td>6f72dfc5-27f1-42e8-84db-ccc7a75f6969</td>\n",
       "      <td>UberXL</td>\n",
       "      <td>1</td>\n",
       "      <td>6</td>\n",
       "      <td>42.363789</td>\n",
       "      <td>-71.058442</td>\n",
       "      <td>0</td>\n",
       "      <td>42.36628</td>\n",
       "      <td>-71.060912</td>\n",
       "      <td>33</td>\n",
       "      <td>Haymarket Square-North Station</td>\n",
       "      <td>Minivan</td>\n",
       "    </tr>\n",
       "    <tr>\n",
       "      <th>310</th>\n",
       "      <td>0.49</td>\n",
       "      <td>Uber</td>\n",
       "      <td>1544738109843</td>\n",
       "      <td>North Station</td>\n",
       "      <td>Haymarket Square</td>\n",
       "      <td>9.0</td>\n",
       "      <td>1.0</td>\n",
       "      <td>e883191d-0944-4c64-a1b0-b4efde4ceb15</td>\n",
       "      <td>6f72dfc5-27f1-42e8-84db-ccc7a75f6969</td>\n",
       "      <td>UberXL</td>\n",
       "      <td>1</td>\n",
       "      <td>6</td>\n",
       "      <td>42.363789</td>\n",
       "      <td>-71.058442</td>\n",
       "      <td>0</td>\n",
       "      <td>42.36628</td>\n",
       "      <td>-71.060912</td>\n",
       "      <td>33</td>\n",
       "      <td>Haymarket Square-North Station</td>\n",
       "      <td>Minivan</td>\n",
       "    </tr>\n",
       "    <tr>\n",
       "      <th>314</th>\n",
       "      <td>0.49</td>\n",
       "      <td>Uber</td>\n",
       "      <td>1544948403518</td>\n",
       "      <td>North Station</td>\n",
       "      <td>Haymarket Square</td>\n",
       "      <td>10.5</td>\n",
       "      <td>1.0</td>\n",
       "      <td>1669cfe0-42d6-4d45-b941-d3d8dc82a285</td>\n",
       "      <td>6f72dfc5-27f1-42e8-84db-ccc7a75f6969</td>\n",
       "      <td>UberXL</td>\n",
       "      <td>1</td>\n",
       "      <td>6</td>\n",
       "      <td>42.363789</td>\n",
       "      <td>-71.058442</td>\n",
       "      <td>0</td>\n",
       "      <td>42.36628</td>\n",
       "      <td>-71.060912</td>\n",
       "      <td>33</td>\n",
       "      <td>Haymarket Square-North Station</td>\n",
       "      <td>Minivan</td>\n",
       "    </tr>\n",
       "  </tbody>\n",
       "</table>\n",
       "</div>"
      ],
      "text/plain": [
       "     distance cab_type     time_stamp    destination            source  price  \\\n",
       "18       0.49     Uber  1544409311996  North Station  Haymarket Square    9.0   \n",
       "28       0.49     Uber  1543474977234  North Station  Haymarket Square    9.5   \n",
       "44       0.49     Uber  1544870109471  North Station  Haymarket Square   10.5   \n",
       "52       0.49     Uber  1543296262135  North Station  Haymarket Square    9.5   \n",
       "55       0.49     Uber  1543626487291  North Station  Haymarket Square    9.5   \n",
       "67       0.49     Uber  1543744676008  North Station  Haymarket Square    9.5   \n",
       "72       0.49     Uber  1544771706424  North Station  Haymarket Square   10.5   \n",
       "91       0.49     Uber  1545141006022  North Station  Haymarket Square   10.5   \n",
       "100      0.49     Uber  1543650178461  North Station  Haymarket Square    9.5   \n",
       "107      0.49     Uber  1545043212358  North Station  Haymarket Square    9.5   \n",
       "121      0.49     Uber  1543255511075  North Station  Haymarket Square   10.5   \n",
       "126      0.49     Uber  1544680806394  North Station  Haymarket Square    8.5   \n",
       "131      0.49     Uber  1543326322416  North Station  Haymarket Square    8.5   \n",
       "151      0.49     Uber  1545046504824  North Station  Haymarket Square   10.5   \n",
       "167      0.49     Uber  1545057012910  North Station  Haymarket Square    9.5   \n",
       "176      0.49     Uber  1543552976160  North Station  Haymarket Square    9.5   \n",
       "183      0.49     Uber  1543685881239  North Station  Haymarket Square    9.5   \n",
       "192      0.49     Uber  1545091504354  North Station  Haymarket Square   10.5   \n",
       "202      0.49     Uber  1544830216436  North Station  Haymarket Square   16.5   \n",
       "203      0.49     Uber  1543366644665  North Station  Haymarket Square   10.5   \n",
       "216      0.49     Uber  1543364303431  North Station  Haymarket Square   10.5   \n",
       "231      0.49     Uber  1543826876163  North Station  Haymarket Square    9.0   \n",
       "241      0.49     Uber  1543415887703  North Station  Haymarket Square   10.5   \n",
       "247      0.49     Uber  1543721585779  North Station  Haymarket Square   11.0   \n",
       "255      0.49     Uber  1543328843364  North Station  Haymarket Square    9.5   \n",
       "266      0.49     Uber  1543332982101  North Station  Haymarket Square    9.5   \n",
       "275      0.49     Uber  1543669982003  North Station  Haymarket Square    9.5   \n",
       "288      0.49     Uber  1544936103362  North Station  Haymarket Square   10.5   \n",
       "310      0.49     Uber  1544738109843  North Station  Haymarket Square    9.0   \n",
       "314      0.49     Uber  1544948403518  North Station  Haymarket Square   10.5   \n",
       "\n",
       "     surge_multiplier                                    id  \\\n",
       "18                1.0  8e3c7303-bdfd-4c67-a4ec-db9add1930c7   \n",
       "28                1.0  c10af450-6222-405e-b597-569c1c2d27d7   \n",
       "44                1.0  b2efc6e0-716b-4c09-9311-a5dbb8176ddb   \n",
       "52                1.0  5bf76736-73db-4859-b0f9-0ad77017c95b   \n",
       "55                1.0  0287babf-902c-4474-9b84-32c962950004   \n",
       "67                1.0  c0fee2dd-183a-4683-8934-1a64f6c1cbfa   \n",
       "72                1.0  734781e5-bff4-4394-86a2-fb54344f60a2   \n",
       "91                1.0  b9dd35c8-7f48-4830-b2a3-a4f2efb5ee3c   \n",
       "100               1.0  7a9a8c6a-f28a-4fa6-93c4-dfda7df9825e   \n",
       "107               1.0  ec68213a-5fe9-4b89-9b50-61353b525c8e   \n",
       "121               1.0  ac0f3f7f-16fa-4783-89f3-550275ea7c33   \n",
       "126               1.0  7d975105-3814-4e51-b291-f5cf6470d1c0   \n",
       "131               1.0  3e3aaa11-4390-4b2a-8629-85ba02a4b10e   \n",
       "151               1.0  24efcee2-f81b-4b5a-a9f2-bbe43b55de4d   \n",
       "167               1.0  5f547c7b-6ed1-443d-8207-2617ce9958f0   \n",
       "176               1.0  cbf4bf0c-5ced-471e-9577-34dc71f966c9   \n",
       "183               1.0  b16d45ec-efc5-4e7d-8562-8dab958f3207   \n",
       "192               1.0  5b8eb7f6-a020-4ba9-b37c-4c62d7253222   \n",
       "202               1.0  e3a013c3-70c5-49e6-a8fd-1378c6c90644   \n",
       "203               1.0  0acfa2cb-5f8e-4d61-934d-98d415dfea49   \n",
       "216               1.0  abd95d36-0c79-4a9a-bd1a-1d0e19a59c7a   \n",
       "231               1.0  62b351ba-4730-44df-9376-23f8cd3339c0   \n",
       "241               1.0  8bb41f29-c302-447b-aeb1-1c692ba2cc2e   \n",
       "247               1.0  a3ac3687-67a0-4acf-b9f0-b9b2e5bc0a34   \n",
       "255               1.0  e028c9bb-ac9e-43b6-990d-b1a0d1051509   \n",
       "266               1.0  816cc5cd-d055-4808-8f8b-c8a2e8de5114   \n",
       "275               1.0  d0582c1d-d4d4-4b48-ad64-ce7db3dd7e1d   \n",
       "288               1.0  35fb7d90-6931-44ba-9800-d6369d9fc7f3   \n",
       "310               1.0  e883191d-0944-4c64-a1b0-b4efde4ceb15   \n",
       "314               1.0  1669cfe0-42d6-4d45-b941-d3d8dc82a285   \n",
       "\n",
       "                               product_id    name  cab_type_id  source_id  \\\n",
       "18   6f72dfc5-27f1-42e8-84db-ccc7a75f6969  UberXL            1          6   \n",
       "28   6f72dfc5-27f1-42e8-84db-ccc7a75f6969  UberXL            1          6   \n",
       "44   6f72dfc5-27f1-42e8-84db-ccc7a75f6969  UberXL            1          6   \n",
       "52   6f72dfc5-27f1-42e8-84db-ccc7a75f6969  UberXL            1          6   \n",
       "55   6f72dfc5-27f1-42e8-84db-ccc7a75f6969  UberXL            1          6   \n",
       "67   6f72dfc5-27f1-42e8-84db-ccc7a75f6969  UberXL            1          6   \n",
       "72   6f72dfc5-27f1-42e8-84db-ccc7a75f6969  UberXL            1          6   \n",
       "91   6f72dfc5-27f1-42e8-84db-ccc7a75f6969  UberXL            1          6   \n",
       "100  6f72dfc5-27f1-42e8-84db-ccc7a75f6969  UberXL            1          6   \n",
       "107  6f72dfc5-27f1-42e8-84db-ccc7a75f6969  UberXL            1          6   \n",
       "121  6f72dfc5-27f1-42e8-84db-ccc7a75f6969  UberXL            1          6   \n",
       "126  6f72dfc5-27f1-42e8-84db-ccc7a75f6969  UberXL            1          6   \n",
       "131  6f72dfc5-27f1-42e8-84db-ccc7a75f6969  UberXL            1          6   \n",
       "151  6f72dfc5-27f1-42e8-84db-ccc7a75f6969  UberXL            1          6   \n",
       "167  6f72dfc5-27f1-42e8-84db-ccc7a75f6969  UberXL            1          6   \n",
       "176  6f72dfc5-27f1-42e8-84db-ccc7a75f6969  UberXL            1          6   \n",
       "183  6f72dfc5-27f1-42e8-84db-ccc7a75f6969  UberXL            1          6   \n",
       "192  6f72dfc5-27f1-42e8-84db-ccc7a75f6969  UberXL            1          6   \n",
       "202  6f72dfc5-27f1-42e8-84db-ccc7a75f6969  UberXL            1          6   \n",
       "203  6f72dfc5-27f1-42e8-84db-ccc7a75f6969  UberXL            1          6   \n",
       "216  6f72dfc5-27f1-42e8-84db-ccc7a75f6969  UberXL            1          6   \n",
       "231  6f72dfc5-27f1-42e8-84db-ccc7a75f6969  UberXL            1          6   \n",
       "241  6f72dfc5-27f1-42e8-84db-ccc7a75f6969  UberXL            1          6   \n",
       "247  6f72dfc5-27f1-42e8-84db-ccc7a75f6969  UberXL            1          6   \n",
       "255  6f72dfc5-27f1-42e8-84db-ccc7a75f6969  UberXL            1          6   \n",
       "266  6f72dfc5-27f1-42e8-84db-ccc7a75f6969  UberXL            1          6   \n",
       "275  6f72dfc5-27f1-42e8-84db-ccc7a75f6969  UberXL            1          6   \n",
       "288  6f72dfc5-27f1-42e8-84db-ccc7a75f6969  UberXL            1          6   \n",
       "310  6f72dfc5-27f1-42e8-84db-ccc7a75f6969  UberXL            1          6   \n",
       "314  6f72dfc5-27f1-42e8-84db-ccc7a75f6969  UberXL            1          6   \n",
       "\n",
       "     source_latitude  source_longtitude  destination_id  destination_latitude  \\\n",
       "18         42.363789         -71.058442               0              42.36628   \n",
       "28         42.363789         -71.058442               0              42.36628   \n",
       "44         42.363789         -71.058442               0              42.36628   \n",
       "52         42.363789         -71.058442               0              42.36628   \n",
       "55         42.363789         -71.058442               0              42.36628   \n",
       "67         42.363789         -71.058442               0              42.36628   \n",
       "72         42.363789         -71.058442               0              42.36628   \n",
       "91         42.363789         -71.058442               0              42.36628   \n",
       "100        42.363789         -71.058442               0              42.36628   \n",
       "107        42.363789         -71.058442               0              42.36628   \n",
       "121        42.363789         -71.058442               0              42.36628   \n",
       "126        42.363789         -71.058442               0              42.36628   \n",
       "131        42.363789         -71.058442               0              42.36628   \n",
       "151        42.363789         -71.058442               0              42.36628   \n",
       "167        42.363789         -71.058442               0              42.36628   \n",
       "176        42.363789         -71.058442               0              42.36628   \n",
       "183        42.363789         -71.058442               0              42.36628   \n",
       "192        42.363789         -71.058442               0              42.36628   \n",
       "202        42.363789         -71.058442               0              42.36628   \n",
       "203        42.363789         -71.058442               0              42.36628   \n",
       "216        42.363789         -71.058442               0              42.36628   \n",
       "231        42.363789         -71.058442               0              42.36628   \n",
       "241        42.363789         -71.058442               0              42.36628   \n",
       "247        42.363789         -71.058442               0              42.36628   \n",
       "255        42.363789         -71.058442               0              42.36628   \n",
       "266        42.363789         -71.058442               0              42.36628   \n",
       "275        42.363789         -71.058442               0              42.36628   \n",
       "288        42.363789         -71.058442               0              42.36628   \n",
       "310        42.363789         -71.058442               0              42.36628   \n",
       "314        42.363789         -71.058442               0              42.36628   \n",
       "\n",
       "     destination_longtitude  route_id                      route_name  \\\n",
       "18               -71.060912        33  Haymarket Square-North Station   \n",
       "28               -71.060912        33  Haymarket Square-North Station   \n",
       "44               -71.060912        33  Haymarket Square-North Station   \n",
       "52               -71.060912        33  Haymarket Square-North Station   \n",
       "55               -71.060912        33  Haymarket Square-North Station   \n",
       "67               -71.060912        33  Haymarket Square-North Station   \n",
       "72               -71.060912        33  Haymarket Square-North Station   \n",
       "91               -71.060912        33  Haymarket Square-North Station   \n",
       "100              -71.060912        33  Haymarket Square-North Station   \n",
       "107              -71.060912        33  Haymarket Square-North Station   \n",
       "121              -71.060912        33  Haymarket Square-North Station   \n",
       "126              -71.060912        33  Haymarket Square-North Station   \n",
       "131              -71.060912        33  Haymarket Square-North Station   \n",
       "151              -71.060912        33  Haymarket Square-North Station   \n",
       "167              -71.060912        33  Haymarket Square-North Station   \n",
       "176              -71.060912        33  Haymarket Square-North Station   \n",
       "183              -71.060912        33  Haymarket Square-North Station   \n",
       "192              -71.060912        33  Haymarket Square-North Station   \n",
       "202              -71.060912        33  Haymarket Square-North Station   \n",
       "203              -71.060912        33  Haymarket Square-North Station   \n",
       "216              -71.060912        33  Haymarket Square-North Station   \n",
       "231              -71.060912        33  Haymarket Square-North Station   \n",
       "241              -71.060912        33  Haymarket Square-North Station   \n",
       "247              -71.060912        33  Haymarket Square-North Station   \n",
       "255              -71.060912        33  Haymarket Square-North Station   \n",
       "266              -71.060912        33  Haymarket Square-North Station   \n",
       "275              -71.060912        33  Haymarket Square-North Station   \n",
       "288              -71.060912        33  Haymarket Square-North Station   \n",
       "310              -71.060912        33  Haymarket Square-North Station   \n",
       "314              -71.060912        33  Haymarket Square-North Station   \n",
       "\n",
       "    universal_tariff_name  \n",
       "18                Minivan  \n",
       "28                Minivan  \n",
       "44                Minivan  \n",
       "52                Minivan  \n",
       "55                Minivan  \n",
       "67                Minivan  \n",
       "72                Minivan  \n",
       "91                Minivan  \n",
       "100               Minivan  \n",
       "107               Minivan  \n",
       "121               Minivan  \n",
       "126               Minivan  \n",
       "131               Minivan  \n",
       "151               Minivan  \n",
       "167               Minivan  \n",
       "176               Minivan  \n",
       "183               Minivan  \n",
       "192               Minivan  \n",
       "202               Minivan  \n",
       "203               Minivan  \n",
       "216               Minivan  \n",
       "231               Minivan  \n",
       "241               Minivan  \n",
       "247               Minivan  \n",
       "255               Minivan  \n",
       "266               Minivan  \n",
       "275               Minivan  \n",
       "288               Minivan  \n",
       "310               Minivan  \n",
       "314               Minivan  "
      ]
     },
     "execution_count": 599,
     "metadata": {},
     "output_type": "execute_result"
    }
   ],
   "source": [
    "ub = df.loc[df['cab_type'] == 'Uber']\n",
    "ub[ub['universal_tariff_name'] == 'Minivan'][:30]"
   ]
  },
  {
   "cell_type": "markdown",
   "metadata": {},
   "source": [
    "### Вещественные признаки\n",
    "#### Distance"
   ]
  },
  {
   "cell_type": "code",
   "execution_count": 600,
   "metadata": {},
   "outputs": [
    {
     "name": "stdout",
     "output_type": "stream",
     "text": [
      "Distance: \n",
      "33%-квантиль =1.47 \n",
      "66%-квантиль =2.66\n"
     ]
    },
    {
     "data": {
      "image/png": "[encoded data removed]",
      "text/plain": [
       "<Figure size 432x288 with 1 Axes>"
      ]
     },
     "metadata": {
      "needs_background": "light"
     },
     "output_type": "display_data"
    }
   ],
   "source": [
    "sns.histplot(data=df, x='distance', bins=100)\n",
    "print('Distance: \\n33%-квантиль ={} \\n66%-квантиль ={}'.format(df.distance.quantile(q=0.33), df.distance.quantile(q=0.66)))"
   ]
  },
  {
   "cell_type": "code",
   "execution_count": 601,
   "metadata": {},
   "outputs": [],
   "source": [
    "df['d_type'] = np.select(\n",
    "    [\n",
    "        np.round(df['distance'], 1).between(0, 2, inclusive = True),\n",
    "        np.round(df['distance'], 1).between(2, 3.8, inclusive = True)\n",
    "    ],\n",
    "    [\n",
    "        'Short', 'Medium'\n",
    "    ],\n",
    "    default='Long'    \n",
    ")"
   ]
  },
  {
   "cell_type": "markdown",
   "metadata": {},
   "source": [
    "#### Time"
   ]
  },
  {
   "cell_type": "code",
   "execution_count": 602,
   "metadata": {},
   "outputs": [],
   "source": [
    "df['time_struct']=[gmtime(i/1000.0) for i in df.time_stamp]\n",
    "\n"
   ]
  },
  {
   "cell_type": "code",
   "execution_count": 603,
   "metadata": {},
   "outputs": [],
   "source": [
    "df['year'] = [i.tm_year for i in df['time_struct']]\n",
    "df['month'] = [i.tm_mon for i in df['time_struct']]\n",
    "df['hour'] = [i.tm_hour for i in df['time_struct']]\n",
    "df['weekday'] = [i.tm_wday for i in df['time_struct']]"
   ]
  },
  {
   "cell_type": "code",
   "execution_count": 604,
   "metadata": {},
   "outputs": [],
   "source": [
    "df['date'] = pd.to_datetime(df['time_stamp'], unit='ms').dt.date"
   ]
  },
  {
   "cell_type": "code",
   "execution_count": 605,
   "metadata": {},
   "outputs": [
    {
     "data": {
      "text/html": [
       "<div>\n",
       "<style scoped>\n",
       "    .dataframe tbody tr th:only-of-type {\n",
       "        vertical-align: middle;\n",
       "    }\n",
       "\n",
       "    .dataframe tbody tr th {\n",
       "        vertical-align: top;\n",
       "    }\n",
       "\n",
       "    .dataframe thead th {\n",
       "        text-align: right;\n",
       "    }\n",
       "</style>\n",
       "<table border=\"1\" class=\"dataframe\">\n",
       "  <thead>\n",
       "    <tr style=\"text-align: right;\">\n",
       "      <th></th>\n",
       "      <th>distance</th>\n",
       "      <th>cab_type</th>\n",
       "      <th>time_stamp</th>\n",
       "      <th>destination</th>\n",
       "      <th>source</th>\n",
       "      <th>price</th>\n",
       "      <th>surge_multiplier</th>\n",
       "      <th>id</th>\n",
       "      <th>product_id</th>\n",
       "      <th>name</th>\n",
       "      <th>cab_type_id</th>\n",
       "      <th>source_id</th>\n",
       "      <th>source_latitude</th>\n",
       "      <th>source_longtitude</th>\n",
       "      <th>destination_id</th>\n",
       "      <th>destination_latitude</th>\n",
       "      <th>destination_longtitude</th>\n",
       "      <th>route_id</th>\n",
       "      <th>route_name</th>\n",
       "      <th>universal_tariff_name</th>\n",
       "      <th>d_type</th>\n",
       "      <th>time_struct</th>\n",
       "      <th>year</th>\n",
       "      <th>month</th>\n",
       "      <th>hour</th>\n",
       "      <th>weekday</th>\n",
       "      <th>date</th>\n",
       "    </tr>\n",
       "  </thead>\n",
       "  <tbody>\n",
       "    <tr>\n",
       "      <th>0</th>\n",
       "      <td>0.44</td>\n",
       "      <td>Lyft</td>\n",
       "      <td>1544952607890</td>\n",
       "      <td>North Station</td>\n",
       "      <td>Haymarket Square</td>\n",
       "      <td>5.0</td>\n",
       "      <td>1.0</td>\n",
       "      <td>424553bb-7174-41ea-aeb4-fe06d4f4b9d7</td>\n",
       "      <td>lyft_line</td>\n",
       "      <td>Shared</td>\n",
       "      <td>0</td>\n",
       "      <td>6</td>\n",
       "      <td>42.363789</td>\n",
       "      <td>-71.058442</td>\n",
       "      <td>0</td>\n",
       "      <td>42.36628</td>\n",
       "      <td>-71.060912</td>\n",
       "      <td>33</td>\n",
       "      <td>Haymarket Square-North Station</td>\n",
       "      <td>Shared Ride</td>\n",
       "      <td>Short</td>\n",
       "      <td>(2018, 12, 16, 9, 30, 7, 6, 350, 0)</td>\n",
       "      <td>2018</td>\n",
       "      <td>12</td>\n",
       "      <td>9</td>\n",
       "      <td>6</td>\n",
       "      <td>2018-12-16</td>\n",
       "    </tr>\n",
       "    <tr>\n",
       "      <th>1</th>\n",
       "      <td>0.44</td>\n",
       "      <td>Lyft</td>\n",
       "      <td>1543284023677</td>\n",
       "      <td>North Station</td>\n",
       "      <td>Haymarket Square</td>\n",
       "      <td>11.0</td>\n",
       "      <td>1.0</td>\n",
       "      <td>4bd23055-6827-41c6-b23b-3c491f24e74d</td>\n",
       "      <td>lyft_premier</td>\n",
       "      <td>Lux</td>\n",
       "      <td>0</td>\n",
       "      <td>6</td>\n",
       "      <td>42.363789</td>\n",
       "      <td>-71.058442</td>\n",
       "      <td>0</td>\n",
       "      <td>42.36628</td>\n",
       "      <td>-71.060912</td>\n",
       "      <td>33</td>\n",
       "      <td>Haymarket Square-North Station</td>\n",
       "      <td>Unknown</td>\n",
       "      <td>Short</td>\n",
       "      <td>(2018, 11, 27, 2, 0, 23, 1, 331, 0)</td>\n",
       "      <td>2018</td>\n",
       "      <td>11</td>\n",
       "      <td>2</td>\n",
       "      <td>1</td>\n",
       "      <td>2018-11-27</td>\n",
       "    </tr>\n",
       "    <tr>\n",
       "      <th>2</th>\n",
       "      <td>0.44</td>\n",
       "      <td>Lyft</td>\n",
       "      <td>1543366822198</td>\n",
       "      <td>North Station</td>\n",
       "      <td>Haymarket Square</td>\n",
       "      <td>7.0</td>\n",
       "      <td>1.0</td>\n",
       "      <td>981a3613-77af-4620-a42a-0c0866077d1e</td>\n",
       "      <td>lyft</td>\n",
       "      <td>Lyft</td>\n",
       "      <td>0</td>\n",
       "      <td>6</td>\n",
       "      <td>42.363789</td>\n",
       "      <td>-71.058442</td>\n",
       "      <td>0</td>\n",
       "      <td>42.36628</td>\n",
       "      <td>-71.060912</td>\n",
       "      <td>33</td>\n",
       "      <td>Haymarket Square-North Station</td>\n",
       "      <td>Econom</td>\n",
       "      <td>Short</td>\n",
       "      <td>(2018, 11, 28, 1, 0, 22, 2, 332, 0)</td>\n",
       "      <td>2018</td>\n",
       "      <td>11</td>\n",
       "      <td>1</td>\n",
       "      <td>2</td>\n",
       "      <td>2018-11-28</td>\n",
       "    </tr>\n",
       "    <tr>\n",
       "      <th>3</th>\n",
       "      <td>0.44</td>\n",
       "      <td>Lyft</td>\n",
       "      <td>1543553582749</td>\n",
       "      <td>North Station</td>\n",
       "      <td>Haymarket Square</td>\n",
       "      <td>26.0</td>\n",
       "      <td>1.0</td>\n",
       "      <td>c2d88af2-d278-4bfd-a8d0-29ca77cc5512</td>\n",
       "      <td>lyft_luxsuv</td>\n",
       "      <td>Lux Black XL</td>\n",
       "      <td>0</td>\n",
       "      <td>6</td>\n",
       "      <td>42.363789</td>\n",
       "      <td>-71.058442</td>\n",
       "      <td>0</td>\n",
       "      <td>42.36628</td>\n",
       "      <td>-71.060912</td>\n",
       "      <td>33</td>\n",
       "      <td>Haymarket Square-North Station</td>\n",
       "      <td>SUV Business</td>\n",
       "      <td>Short</td>\n",
       "      <td>(2018, 11, 30, 4, 53, 2, 4, 334, 0)</td>\n",
       "      <td>2018</td>\n",
       "      <td>11</td>\n",
       "      <td>4</td>\n",
       "      <td>4</td>\n",
       "      <td>2018-11-30</td>\n",
       "    </tr>\n",
       "    <tr>\n",
       "      <th>4</th>\n",
       "      <td>0.44</td>\n",
       "      <td>Lyft</td>\n",
       "      <td>1543463360223</td>\n",
       "      <td>North Station</td>\n",
       "      <td>Haymarket Square</td>\n",
       "      <td>9.0</td>\n",
       "      <td>1.0</td>\n",
       "      <td>e0126e1f-8ca9-4f2e-82b3-50505a09db9a</td>\n",
       "      <td>lyft_plus</td>\n",
       "      <td>Lyft XL</td>\n",
       "      <td>0</td>\n",
       "      <td>6</td>\n",
       "      <td>42.363789</td>\n",
       "      <td>-71.058442</td>\n",
       "      <td>0</td>\n",
       "      <td>42.36628</td>\n",
       "      <td>-71.060912</td>\n",
       "      <td>33</td>\n",
       "      <td>Haymarket Square-North Station</td>\n",
       "      <td>Minivan</td>\n",
       "      <td>Short</td>\n",
       "      <td>(2018, 11, 29, 3, 49, 20, 3, 333, 0)</td>\n",
       "      <td>2018</td>\n",
       "      <td>11</td>\n",
       "      <td>3</td>\n",
       "      <td>3</td>\n",
       "      <td>2018-11-29</td>\n",
       "    </tr>\n",
       "  </tbody>\n",
       "</table>\n",
       "</div>"
      ],
      "text/plain": [
       "   distance cab_type     time_stamp    destination            source  price  \\\n",
       "0      0.44     Lyft  1544952607890  North Station  Haymarket Square    5.0   \n",
       "1      0.44     Lyft  1543284023677  North Station  Haymarket Square   11.0   \n",
       "2      0.44     Lyft  1543366822198  North Station  Haymarket Square    7.0   \n",
       "3      0.44     Lyft  1543553582749  North Station  Haymarket Square   26.0   \n",
       "4      0.44     Lyft  1543463360223  North Station  Haymarket Square    9.0   \n",
       "\n",
       "   surge_multiplier                                    id    product_id  \\\n",
       "0               1.0  424553bb-7174-41ea-aeb4-fe06d4f4b9d7     lyft_line   \n",
       "1               1.0  4bd23055-6827-41c6-b23b-3c491f24e74d  lyft_premier   \n",
       "2               1.0  981a3613-77af-4620-a42a-0c0866077d1e          lyft   \n",
       "3               1.0  c2d88af2-d278-4bfd-a8d0-29ca77cc5512   lyft_luxsuv   \n",
       "4               1.0  e0126e1f-8ca9-4f2e-82b3-50505a09db9a     lyft_plus   \n",
       "\n",
       "           name  cab_type_id  source_id  source_latitude  source_longtitude  \\\n",
       "0        Shared            0          6        42.363789         -71.058442   \n",
       "1           Lux            0          6        42.363789         -71.058442   \n",
       "2          Lyft            0          6        42.363789         -71.058442   \n",
       "3  Lux Black XL            0          6        42.363789         -71.058442   \n",
       "4       Lyft XL            0          6        42.363789         -71.058442   \n",
       "\n",
       "   destination_id  destination_latitude  destination_longtitude  route_id  \\\n",
       "0               0              42.36628              -71.060912        33   \n",
       "1               0              42.36628              -71.060912        33   \n",
       "2               0              42.36628              -71.060912        33   \n",
       "3               0              42.36628              -71.060912        33   \n",
       "4               0              42.36628              -71.060912        33   \n",
       "\n",
       "                       route_name universal_tariff_name d_type  \\\n",
       "0  Haymarket Square-North Station           Shared Ride  Short   \n",
       "1  Haymarket Square-North Station               Unknown  Short   \n",
       "2  Haymarket Square-North Station                Econom  Short   \n",
       "3  Haymarket Square-North Station          SUV Business  Short   \n",
       "4  Haymarket Square-North Station               Minivan  Short   \n",
       "\n",
       "                            time_struct  year  month  hour  weekday  \\\n",
       "0   (2018, 12, 16, 9, 30, 7, 6, 350, 0)  2018     12     9        6   \n",
       "1   (2018, 11, 27, 2, 0, 23, 1, 331, 0)  2018     11     2        1   \n",
       "2   (2018, 11, 28, 1, 0, 22, 2, 332, 0)  2018     11     1        2   \n",
       "3   (2018, 11, 30, 4, 53, 2, 4, 334, 0)  2018     11     4        4   \n",
       "4  (2018, 11, 29, 3, 49, 20, 3, 333, 0)  2018     11     3        3   \n",
       "\n",
       "         date  \n",
       "0  2018-12-16  \n",
       "1  2018-11-27  \n",
       "2  2018-11-28  \n",
       "3  2018-11-30  \n",
       "4  2018-11-29  "
      ]
     },
     "execution_count": 605,
     "metadata": {},
     "output_type": "execute_result"
    }
   ],
   "source": [
    "df.head()"
   ]
  },
  {
   "cell_type": "markdown",
   "metadata": {},
   "source": [
    "Данные за ноябрь-декабрь 2018 года."
   ]
  },
  {
   "cell_type": "markdown",
   "metadata": {},
   "source": [
    "#### Price"
   ]
  },
  {
   "cell_type": "code",
   "execution_count": 606,
   "metadata": {},
   "outputs": [],
   "source": [
    "df['estimated_price_per_km'] = df.price/df.distance #предполагаемая цена до поездки за км\n",
    "df['final_price'] = df.price*df.surge_multiplier #итоговая цена\n",
    "df['final_price_per_km'] = df.final_price/df.distance"
   ]
  },
  {
   "cell_type": "code",
   "execution_count": 607,
   "metadata": {},
   "outputs": [
    {
     "name": "stdout",
     "output_type": "stream",
     "text": [
      "Distance: \n",
      "33%-квантиль =5.6 \n",
      "66%-квантиль =10.0\n"
     ]
    },
    {
     "data": {
      "image/png": "[encoded data removed]",
      "text/plain": [
       "<Figure size 432x288 with 1 Axes>"
      ]
     },
     "metadata": {
      "needs_background": "light"
     },
     "output_type": "display_data"
    }
   ],
   "source": [
    "sns.histplot(data=df, x='final_price_per_km', bins=50, binrange=[0, 50])\n",
    "print('Distance: \\n33%-квантиль ={} \\n66%-квантиль ={}'.format(df.final_price_per_km.quantile(q=0.33), df.final_price_per_km.quantile(q=0.66)))"
   ]
  },
  {
   "cell_type": "code",
   "execution_count": 608,
   "metadata": {},
   "outputs": [
    {
     "data": {
      "text/plain": [
       "161437    1375.000000\n",
       "608065    1375.000000\n",
       "612924    1375.000000\n",
       "159031    1375.000000\n",
       "153191    1375.000000\n",
       "608779    1375.000000\n",
       "159165    1375.000000\n",
       "613755    1375.000000\n",
       "156228    1375.000000\n",
       "611596    1375.000000\n",
       "254027     916.666667\n",
       "257501     916.666667\n",
       "258998     916.666667\n",
       "523014     916.666667\n",
       "251515     916.666667\n",
       "254562     916.666667\n",
       "252573     916.666667\n",
       "520142     916.666667\n",
       "523087     916.666667\n",
       "257094     916.666667\n",
       "252095     916.666667\n",
       "251315     916.666667\n",
       "255089     916.666667\n",
       "254796     916.666667\n",
       "253816     916.666667\n",
       "253123     916.666667\n",
       "250864     916.666667\n",
       "529055     900.000000\n",
       "522073     900.000000\n",
       "520606     900.000000\n",
       "Name: final_price_per_km, dtype: float64"
      ]
     },
     "execution_count": 608,
     "metadata": {},
     "output_type": "execute_result"
    }
   ],
   "source": [
    "df['final_price_per_km'].sort_values(ascending = False).head(30)"
   ]
  },
  {
   "cell_type": "code",
   "execution_count": 609,
   "metadata": {},
   "outputs": [
    {
     "data": {
      "text/plain": [
       "Timestamp('1970-01-01 00:25:44.952607890')"
      ]
     },
     "execution_count": 609,
     "metadata": {},
     "output_type": "execute_result"
    }
   ],
   "source": [
    "pd.to_datetime(1544952607890, unit='ns')"
   ]
  },
  {
   "cell_type": "code",
   "execution_count": 610,
   "metadata": {},
   "outputs": [
    {
     "data": {
      "text/plain": [
       "time.struct_time(tm_year=50927, tm_mon=8, tm_mday=8, tm_hour=1, tm_min=11, tm_sec=30, tm_wday=4, tm_yday=220, tm_isdst=0)"
      ]
     },
     "execution_count": 610,
     "metadata": {},
     "output_type": "execute_result"
    }
   ],
   "source": [
    "import time\n",
    "time.localtime(1544952607890)"
   ]
  },
  {
   "cell_type": "markdown",
   "metadata": {},
   "source": [
    "Есть некоторые поездки > 50 долларов за км  \n",
    "Я бы разделила так: до 5 долларов - дешевые, от 5 до 10 -нормальная цена, от 10 до 20 - дорогие, > 30 очень дорогие"
   ]
  },
  {
   "cell_type": "code",
   "execution_count": 611,
   "metadata": {},
   "outputs": [],
   "source": [
    "df['p_type'] = np.select(\n",
    "    [\n",
    "        np.round(df['final_price_per_km'], 1).between(0, 5, inclusive = True),\n",
    "        np.round(df['final_price_per_km'], 1).between(5.1, 10, inclusive = True),\n",
    "        np.round(df['final_price_per_km'], 1).between(10.1, 30, inclusive = True)\n",
    "    ],\n",
    "    [\n",
    "        'Cheap', 'Medium', 'Expensive'\n",
    "    ],\n",
    "    default='Very Expensive'    \n",
    ")"
   ]
  },
  {
   "cell_type": "markdown",
   "metadata": {},
   "source": [
    "##### Surge_multiplier\n",
    "Почти за каждую поездку = 1, т.е. цена не менялась "
   ]
  },
  {
   "cell_type": "code",
   "execution_count": 612,
   "metadata": {},
   "outputs": [
    {
     "name": "stdout",
     "output_type": "stream",
     "text": [
      "Процент поездок с возросшей ценой: 3.03\n"
     ]
    }
   ],
   "source": [
    "print('Процент поездок с возросшей ценой:',round(df[df.surge_multiplier>1.0].shape[0]/df.shape[0]*100, 2))"
   ]
  },
  {
   "cell_type": "code",
   "execution_count": 613,
   "metadata": {},
   "outputs": [],
   "source": [
    "df['price_increase']=[i!=1 for i in df.surge_multiplier]"
   ]
  },
  {
   "cell_type": "markdown",
   "metadata": {},
   "source": [
    "##### Date and Hour"
   ]
  },
  {
   "cell_type": "code",
   "execution_count": 614,
   "metadata": {},
   "outputs": [],
   "source": [
    "def get_date_and_hour_ns(val):\n",
    "    timestamp = pd.to_datetime(val, unit='ms')\n",
    "    return str(timestamp.date()) + ':' + str(timestamp.hour)\n",
    "\n",
    "\n",
    "df['date_and_hour'] = df['time_stamp'].apply(get_date_and_hour_ns)"
   ]
  },
  {
   "cell_type": "markdown",
   "metadata": {},
   "source": [
    "### Сохраним получившийся датасет"
   ]
  },
  {
   "cell_type": "code",
   "execution_count": 615,
   "metadata": {},
   "outputs": [
    {
     "data": {
      "text/html": [
       "<div>\n",
       "<style scoped>\n",
       "    .dataframe tbody tr th:only-of-type {\n",
       "        vertical-align: middle;\n",
       "    }\n",
       "\n",
       "    .dataframe tbody tr th {\n",
       "        vertical-align: top;\n",
       "    }\n",
       "\n",
       "    .dataframe thead th {\n",
       "        text-align: right;\n",
       "    }\n",
       "</style>\n",
       "<table border=\"1\" class=\"dataframe\">\n",
       "  <thead>\n",
       "    <tr style=\"text-align: right;\">\n",
       "      <th></th>\n",
       "      <th>distance</th>\n",
       "      <th>cab_type</th>\n",
       "      <th>time_stamp</th>\n",
       "      <th>destination</th>\n",
       "      <th>source</th>\n",
       "      <th>price</th>\n",
       "      <th>surge_multiplier</th>\n",
       "      <th>id</th>\n",
       "      <th>product_id</th>\n",
       "      <th>name</th>\n",
       "      <th>cab_type_id</th>\n",
       "      <th>source_id</th>\n",
       "      <th>source_latitude</th>\n",
       "      <th>source_longtitude</th>\n",
       "      <th>destination_id</th>\n",
       "      <th>destination_latitude</th>\n",
       "      <th>destination_longtitude</th>\n",
       "      <th>route_id</th>\n",
       "      <th>route_name</th>\n",
       "      <th>universal_tariff_name</th>\n",
       "      <th>d_type</th>\n",
       "      <th>time_struct</th>\n",
       "      <th>year</th>\n",
       "      <th>month</th>\n",
       "      <th>hour</th>\n",
       "      <th>weekday</th>\n",
       "      <th>date</th>\n",
       "      <th>estimated_price_per_km</th>\n",
       "      <th>final_price</th>\n",
       "      <th>final_price_per_km</th>\n",
       "      <th>p_type</th>\n",
       "      <th>price_increase</th>\n",
       "      <th>date_and_hour</th>\n",
       "    </tr>\n",
       "  </thead>\n",
       "  <tbody>\n",
       "    <tr>\n",
       "      <th>0</th>\n",
       "      <td>0.44</td>\n",
       "      <td>Lyft</td>\n",
       "      <td>1544952607890</td>\n",
       "      <td>North Station</td>\n",
       "      <td>Haymarket Square</td>\n",
       "      <td>5.0</td>\n",
       "      <td>1.0</td>\n",
       "      <td>424553bb-7174-41ea-aeb4-fe06d4f4b9d7</td>\n",
       "      <td>lyft_line</td>\n",
       "      <td>Shared</td>\n",
       "      <td>0</td>\n",
       "      <td>6</td>\n",
       "      <td>42.363789</td>\n",
       "      <td>-71.058442</td>\n",
       "      <td>0</td>\n",
       "      <td>42.36628</td>\n",
       "      <td>-71.060912</td>\n",
       "      <td>33</td>\n",
       "      <td>Haymarket Square-North Station</td>\n",
       "      <td>Shared Ride</td>\n",
       "      <td>Short</td>\n",
       "      <td>(2018, 12, 16, 9, 30, 7, 6, 350, 0)</td>\n",
       "      <td>2018</td>\n",
       "      <td>12</td>\n",
       "      <td>9</td>\n",
       "      <td>6</td>\n",
       "      <td>2018-12-16</td>\n",
       "      <td>11.363636</td>\n",
       "      <td>5.0</td>\n",
       "      <td>11.363636</td>\n",
       "      <td>Expensive</td>\n",
       "      <td>False</td>\n",
       "      <td>2018-12-16:9</td>\n",
       "    </tr>\n",
       "    <tr>\n",
       "      <th>1</th>\n",
       "      <td>0.44</td>\n",
       "      <td>Lyft</td>\n",
       "      <td>1543284023677</td>\n",
       "      <td>North Station</td>\n",
       "      <td>Haymarket Square</td>\n",
       "      <td>11.0</td>\n",
       "      <td>1.0</td>\n",
       "      <td>4bd23055-6827-41c6-b23b-3c491f24e74d</td>\n",
       "      <td>lyft_premier</td>\n",
       "      <td>Lux</td>\n",
       "      <td>0</td>\n",
       "      <td>6</td>\n",
       "      <td>42.363789</td>\n",
       "      <td>-71.058442</td>\n",
       "      <td>0</td>\n",
       "      <td>42.36628</td>\n",
       "      <td>-71.060912</td>\n",
       "      <td>33</td>\n",
       "      <td>Haymarket Square-North Station</td>\n",
       "      <td>Unknown</td>\n",
       "      <td>Short</td>\n",
       "      <td>(2018, 11, 27, 2, 0, 23, 1, 331, 0)</td>\n",
       "      <td>2018</td>\n",
       "      <td>11</td>\n",
       "      <td>2</td>\n",
       "      <td>1</td>\n",
       "      <td>2018-11-27</td>\n",
       "      <td>25.000000</td>\n",
       "      <td>11.0</td>\n",
       "      <td>25.000000</td>\n",
       "      <td>Expensive</td>\n",
       "      <td>False</td>\n",
       "      <td>2018-11-27:2</td>\n",
       "    </tr>\n",
       "    <tr>\n",
       "      <th>2</th>\n",
       "      <td>0.44</td>\n",
       "      <td>Lyft</td>\n",
       "      <td>1543366822198</td>\n",
       "      <td>North Station</td>\n",
       "      <td>Haymarket Square</td>\n",
       "      <td>7.0</td>\n",
       "      <td>1.0</td>\n",
       "      <td>981a3613-77af-4620-a42a-0c0866077d1e</td>\n",
       "      <td>lyft</td>\n",
       "      <td>Lyft</td>\n",
       "      <td>0</td>\n",
       "      <td>6</td>\n",
       "      <td>42.363789</td>\n",
       "      <td>-71.058442</td>\n",
       "      <td>0</td>\n",
       "      <td>42.36628</td>\n",
       "      <td>-71.060912</td>\n",
       "      <td>33</td>\n",
       "      <td>Haymarket Square-North Station</td>\n",
       "      <td>Econom</td>\n",
       "      <td>Short</td>\n",
       "      <td>(2018, 11, 28, 1, 0, 22, 2, 332, 0)</td>\n",
       "      <td>2018</td>\n",
       "      <td>11</td>\n",
       "      <td>1</td>\n",
       "      <td>2</td>\n",
       "      <td>2018-11-28</td>\n",
       "      <td>15.909091</td>\n",
       "      <td>7.0</td>\n",
       "      <td>15.909091</td>\n",
       "      <td>Expensive</td>\n",
       "      <td>False</td>\n",
       "      <td>2018-11-28:1</td>\n",
       "    </tr>\n",
       "    <tr>\n",
       "      <th>3</th>\n",
       "      <td>0.44</td>\n",
       "      <td>Lyft</td>\n",
       "      <td>1543553582749</td>\n",
       "      <td>North Station</td>\n",
       "      <td>Haymarket Square</td>\n",
       "      <td>26.0</td>\n",
       "      <td>1.0</td>\n",
       "      <td>c2d88af2-d278-4bfd-a8d0-29ca77cc5512</td>\n",
       "      <td>lyft_luxsuv</td>\n",
       "      <td>Lux Black XL</td>\n",
       "      <td>0</td>\n",
       "      <td>6</td>\n",
       "      <td>42.363789</td>\n",
       "      <td>-71.058442</td>\n",
       "      <td>0</td>\n",
       "      <td>42.36628</td>\n",
       "      <td>-71.060912</td>\n",
       "      <td>33</td>\n",
       "      <td>Haymarket Square-North Station</td>\n",
       "      <td>SUV Business</td>\n",
       "      <td>Short</td>\n",
       "      <td>(2018, 11, 30, 4, 53, 2, 4, 334, 0)</td>\n",
       "      <td>2018</td>\n",
       "      <td>11</td>\n",
       "      <td>4</td>\n",
       "      <td>4</td>\n",
       "      <td>2018-11-30</td>\n",
       "      <td>59.090909</td>\n",
       "      <td>26.0</td>\n",
       "      <td>59.090909</td>\n",
       "      <td>Very Expensive</td>\n",
       "      <td>False</td>\n",
       "      <td>2018-11-30:4</td>\n",
       "    </tr>\n",
       "    <tr>\n",
       "      <th>4</th>\n",
       "      <td>0.44</td>\n",
       "      <td>Lyft</td>\n",
       "      <td>1543463360223</td>\n",
       "      <td>North Station</td>\n",
       "      <td>Haymarket Square</td>\n",
       "      <td>9.0</td>\n",
       "      <td>1.0</td>\n",
       "      <td>e0126e1f-8ca9-4f2e-82b3-50505a09db9a</td>\n",
       "      <td>lyft_plus</td>\n",
       "      <td>Lyft XL</td>\n",
       "      <td>0</td>\n",
       "      <td>6</td>\n",
       "      <td>42.363789</td>\n",
       "      <td>-71.058442</td>\n",
       "      <td>0</td>\n",
       "      <td>42.36628</td>\n",
       "      <td>-71.060912</td>\n",
       "      <td>33</td>\n",
       "      <td>Haymarket Square-North Station</td>\n",
       "      <td>Minivan</td>\n",
       "      <td>Short</td>\n",
       "      <td>(2018, 11, 29, 3, 49, 20, 3, 333, 0)</td>\n",
       "      <td>2018</td>\n",
       "      <td>11</td>\n",
       "      <td>3</td>\n",
       "      <td>3</td>\n",
       "      <td>2018-11-29</td>\n",
       "      <td>20.454545</td>\n",
       "      <td>9.0</td>\n",
       "      <td>20.454545</td>\n",
       "      <td>Expensive</td>\n",
       "      <td>False</td>\n",
       "      <td>2018-11-29:3</td>\n",
       "    </tr>\n",
       "  </tbody>\n",
       "</table>\n",
       "</div>"
      ],
      "text/plain": [
       "   distance cab_type     time_stamp    destination            source  price  \\\n",
       "0      0.44     Lyft  1544952607890  North Station  Haymarket Square    5.0   \n",
       "1      0.44     Lyft  1543284023677  North Station  Haymarket Square   11.0   \n",
       "2      0.44     Lyft  1543366822198  North Station  Haymarket Square    7.0   \n",
       "3      0.44     Lyft  1543553582749  North Station  Haymarket Square   26.0   \n",
       "4      0.44     Lyft  1543463360223  North Station  Haymarket Square    9.0   \n",
       "\n",
       "   surge_multiplier                                    id    product_id  \\\n",
       "0               1.0  424553bb-7174-41ea-aeb4-fe06d4f4b9d7     lyft_line   \n",
       "1               1.0  4bd23055-6827-41c6-b23b-3c491f24e74d  lyft_premier   \n",
       "2               1.0  981a3613-77af-4620-a42a-0c0866077d1e          lyft   \n",
       "3               1.0  c2d88af2-d278-4bfd-a8d0-29ca77cc5512   lyft_luxsuv   \n",
       "4               1.0  e0126e1f-8ca9-4f2e-82b3-50505a09db9a     lyft_plus   \n",
       "\n",
       "           name  cab_type_id  source_id  source_latitude  source_longtitude  \\\n",
       "0        Shared            0          6        42.363789         -71.058442   \n",
       "1           Lux            0          6        42.363789         -71.058442   \n",
       "2          Lyft            0          6        42.363789         -71.058442   \n",
       "3  Lux Black XL            0          6        42.363789         -71.058442   \n",
       "4       Lyft XL            0          6        42.363789         -71.058442   \n",
       "\n",
       "   destination_id  destination_latitude  destination_longtitude  route_id  \\\n",
       "0               0              42.36628              -71.060912        33   \n",
       "1               0              42.36628              -71.060912        33   \n",
       "2               0              42.36628              -71.060912        33   \n",
       "3               0              42.36628              -71.060912        33   \n",
       "4               0              42.36628              -71.060912        33   \n",
       "\n",
       "                       route_name universal_tariff_name d_type  \\\n",
       "0  Haymarket Square-North Station           Shared Ride  Short   \n",
       "1  Haymarket Square-North Station               Unknown  Short   \n",
       "2  Haymarket Square-North Station                Econom  Short   \n",
       "3  Haymarket Square-North Station          SUV Business  Short   \n",
       "4  Haymarket Square-North Station               Minivan  Short   \n",
       "\n",
       "                            time_struct  year  month  hour  weekday  \\\n",
       "0   (2018, 12, 16, 9, 30, 7, 6, 350, 0)  2018     12     9        6   \n",
       "1   (2018, 11, 27, 2, 0, 23, 1, 331, 0)  2018     11     2        1   \n",
       "2   (2018, 11, 28, 1, 0, 22, 2, 332, 0)  2018     11     1        2   \n",
       "3   (2018, 11, 30, 4, 53, 2, 4, 334, 0)  2018     11     4        4   \n",
       "4  (2018, 11, 29, 3, 49, 20, 3, 333, 0)  2018     11     3        3   \n",
       "\n",
       "         date  estimated_price_per_km  final_price  final_price_per_km  \\\n",
       "0  2018-12-16               11.363636          5.0           11.363636   \n",
       "1  2018-11-27               25.000000         11.0           25.000000   \n",
       "2  2018-11-28               15.909091          7.0           15.909091   \n",
       "3  2018-11-30               59.090909         26.0           59.090909   \n",
       "4  2018-11-29               20.454545          9.0           20.454545   \n",
       "\n",
       "           p_type  price_increase date_and_hour  \n",
       "0       Expensive           False  2018-12-16:9  \n",
       "1       Expensive           False  2018-11-27:2  \n",
       "2       Expensive           False  2018-11-28:1  \n",
       "3  Very Expensive           False  2018-11-30:4  \n",
       "4       Expensive           False  2018-11-29:3  "
      ]
     },
     "execution_count": 615,
     "metadata": {},
     "output_type": "execute_result"
    }
   ],
   "source": [
    "df.head()"
   ]
  },
  {
   "cell_type": "code",
   "execution_count": 616,
   "metadata": {},
   "outputs": [],
   "source": [
    "df.to_csv(\"data/processed_cab_rides.csv\")"
   ]
  },
  {
   "cell_type": "markdown",
   "metadata": {},
   "source": [
    "#### Данные для визуализации в Kepler"
   ]
  },
  {
   "cell_type": "markdown",
   "metadata": {},
   "source": [
    "Для построения самих путей"
   ]
  },
  {
   "cell_type": "code",
   "execution_count": 617,
   "metadata": {},
   "outputs": [],
   "source": [
    "uber_df = df[df['cab_type'] == 'Uber']\n",
    "lyft_df = df[df['cab_type'] == 'Lyft']\n",
    "\n",
    "route_stats = df.groupby(['source', 'destination'], as_index=False).agg({\n",
    "    'distance':'count',\n",
    "    'final_price_per_km':'mean'\n",
    "})\n",
    "\n",
    "place_df.columns = ['source', 'source_id', 'source_latitude', 'source_longtitude']\n",
    "route_stats = route_stats.join(place_df.set_index('source'), on ='source', how = 'left')\n",
    "\n",
    "place_df.columns = ['destination', 'destination_id', 'destination_latitude', 'destination_longtitude']\n",
    "route_stats = route_stats.join(place_df.set_index('destination'), on ='destination', how = 'left')\n",
    "\n",
    "route_stats.to_csv('data/route_stats.csv')"
   ]
  },
  {
   "cell_type": "markdown",
   "metadata": {},
   "source": [
    "Для простроения точек"
   ]
  },
  {
   "cell_type": "code",
   "execution_count": 618,
   "metadata": {},
   "outputs": [],
   "source": [
    "source_stats = df.groupby(['source', 'source_latitude', 'source_longtitude'], as_index=False).agg({\n",
    "    'distance':'count',\n",
    "    'final_price_per_km':'mean'\n",
    "})\n",
    "\n",
    "source_stats_uber = uber_df.groupby(['source', 'source_latitude', 'source_longtitude'], as_index=False).agg({\n",
    "    'distance':'count',\n",
    "    'final_price_per_km':'mean'\n",
    "})\n",
    "\n",
    "source_stats_lyft = lyft_df.groupby(['source', 'source_latitude', 'source_longtitude'], as_index=False).agg({\n",
    "    'distance':'count',\n",
    "    'final_price_per_km':'mean'\n",
    "})\n",
    "\n",
    "source_stats.to_csv('data/source_stats.csv')\n",
    "source_stats_uber.to_csv('data/source_stats_uber.csv')\n",
    "source_stats_lyft.to_csv('data/source_stats_lyft.csv')"
   ]
  },
  {
   "cell_type": "markdown",
   "metadata": {},
   "source": [
    "#### For TableAU Butterfly chart"
   ]
  },
  {
   "cell_type": "code",
   "execution_count": 619,
   "metadata": {},
   "outputs": [],
   "source": [
    "uber__ = df[df['cab_type'] == 'Uber']\n",
    "lyft__ = df[df['cab_type'] == 'Lyft']\n",
    "\n",
    "by_tariff = uber__.groupby(['cab_type', 'universal_tariff_name'], as_index = False).agg({\n",
    "    'final_price_per_km':['mean', 'median'],\n",
    "    'final_price':['mean', 'median']\n",
    "})\n",
    "by_tariff.columns = ['cab_type', 'universal_tariff_name', 'price_per_km_mean', 'price_per_km_median', 'final_price_mean', 'final_price_median']\n",
    "\n",
    "by_tariff = by_tariff[by_tariff['universal_tariff_name'] != 'Unknown']\n",
    "by_tariff = by_tariff[['universal_tariff_name', 'price_per_km_median', 'price_per_km_mean']]\n",
    "by_tariff.columns = ['universal_tariff_name', 'price_per_km_median_uber', 'price_per_km_mean_uber']\n",
    "\n",
    "lyft_by_tariff = lyft__.groupby(['cab_type', 'universal_tariff_name'], as_index = False).agg({\n",
    "    'final_price_per_km':['mean', 'median']\n",
    "})\n",
    "\n",
    "lyft_by_tariff = lyft_by_tariff[lyft_by_tariff['universal_tariff_name'] != 'Unknown']\n",
    "lyft_by_tariff.columns = ['cab_type', 'universal_tariff_name', 'price_per_km_mean_lyft', 'price_per_km_median_lyft']\n",
    "lyft_by_tariff = lyft_by_tariff[['universal_tariff_name', 'price_per_km_mean_lyft', 'price_per_km_median_lyft']]\n",
    "\n",
    "\n",
    "# lyft_by_tariff\n",
    "by_tariff = by_tariff.join(lyft_by_tariff.set_index('universal_tariff_name'), on = 'universal_tariff_name', how = 'left')"
   ]
  },
  {
   "cell_type": "code",
   "execution_count": 620,
   "metadata": {},
   "outputs": [
    {
     "data": {
      "text/html": [
       "<div>\n",
       "<style scoped>\n",
       "    .dataframe tbody tr th:only-of-type {\n",
       "        vertical-align: middle;\n",
       "    }\n",
       "\n",
       "    .dataframe tbody tr th {\n",
       "        vertical-align: top;\n",
       "    }\n",
       "\n",
       "    .dataframe thead th {\n",
       "        text-align: right;\n",
       "    }\n",
       "</style>\n",
       "<table border=\"1\" class=\"dataframe\">\n",
       "  <thead>\n",
       "    <tr style=\"text-align: right;\">\n",
       "      <th></th>\n",
       "      <th>universal_tariff_name</th>\n",
       "      <th>price_per_km_median_uber</th>\n",
       "      <th>price_per_km_mean_uber</th>\n",
       "      <th>price_per_km_mean_lyft</th>\n",
       "      <th>price_per_km_median_lyft</th>\n",
       "    </tr>\n",
       "  </thead>\n",
       "  <tbody>\n",
       "    <tr>\n",
       "      <th>0</th>\n",
       "      <td>Business</td>\n",
       "      <td>9.541985</td>\n",
       "      <td>12.373297</td>\n",
       "      <td>13.420071</td>\n",
       "      <td>11.073826</td>\n",
       "    </tr>\n",
       "    <tr>\n",
       "      <th>1</th>\n",
       "      <td>Econom</td>\n",
       "      <td>4.666667</td>\n",
       "      <td>5.942021</td>\n",
       "      <td>5.641959</td>\n",
       "      <td>4.639175</td>\n",
       "    </tr>\n",
       "    <tr>\n",
       "      <th>2</th>\n",
       "      <td>Minivan</td>\n",
       "      <td>7.488987</td>\n",
       "      <td>9.131168</td>\n",
       "      <td>8.743382</td>\n",
       "      <td>7.417582</td>\n",
       "    </tr>\n",
       "    <tr>\n",
       "      <th>3</th>\n",
       "      <td>SUV Business</td>\n",
       "      <td>13.594470</td>\n",
       "      <td>19.425076</td>\n",
       "      <td>19.722089</td>\n",
       "      <td>15.228426</td>\n",
       "    </tr>\n",
       "    <tr>\n",
       "      <th>4</th>\n",
       "      <td>Shared Ride</td>\n",
       "      <td>4.237288</td>\n",
       "      <td>5.336275</td>\n",
       "      <td>3.300848</td>\n",
       "      <td>2.893891</td>\n",
       "    </tr>\n",
       "    <tr>\n",
       "      <th>6</th>\n",
       "      <td>WAV</td>\n",
       "      <td>4.666667</td>\n",
       "      <td>5.941989</td>\n",
       "      <td>NaN</td>\n",
       "      <td>NaN</td>\n",
       "    </tr>\n",
       "  </tbody>\n",
       "</table>\n",
       "</div>"
      ],
      "text/plain": [
       "  universal_tariff_name  price_per_km_median_uber  price_per_km_mean_uber  \\\n",
       "0              Business                  9.541985               12.373297   \n",
       "1                Econom                  4.666667                5.942021   \n",
       "2               Minivan                  7.488987                9.131168   \n",
       "3          SUV Business                 13.594470               19.425076   \n",
       "4           Shared Ride                  4.237288                5.336275   \n",
       "6                   WAV                  4.666667                5.941989   \n",
       "\n",
       "   price_per_km_mean_lyft  price_per_km_median_lyft  \n",
       "0               13.420071                 11.073826  \n",
       "1                5.641959                  4.639175  \n",
       "2                8.743382                  7.417582  \n",
       "3               19.722089                 15.228426  \n",
       "4                3.300848                  2.893891  \n",
       "6                     NaN                       NaN  "
      ]
     },
     "execution_count": 620,
     "metadata": {},
     "output_type": "execute_result"
    }
   ],
   "source": [
    "by_tariff"
   ]
  },
  {
   "cell_type": "code",
   "execution_count": 621,
   "metadata": {},
   "outputs": [],
   "source": [
    "by_tariff.to_csv('data/by_tariff_comparison.csv')"
   ]
  },
  {
   "cell_type": "markdown",
   "metadata": {},
   "source": [
    "## Анализ данных\n",
    "Важные колонки - cab_type, distance, destination, source, name, hour, weekday, final_price(итоговая цена), final_price_per_km (цена за км), d_type (короткая/средняя/большая дистанция), p_type (дешево/средне/дорого/очень дорого), price_increase (выросла цена или нет), route_name (маршрут, всего их 72)"
   ]
  },
  {
   "cell_type": "markdown",
   "metadata": {},
   "source": [
    "### Тарифы"
   ]
  },
  {
   "cell_type": "code",
   "execution_count": 622,
   "metadata": {},
   "outputs": [
    {
     "data": {
      "text/html": [
       "<div>\n",
       "<style scoped>\n",
       "    .dataframe tbody tr th:only-of-type {\n",
       "        vertical-align: middle;\n",
       "    }\n",
       "\n",
       "    .dataframe tbody tr th {\n",
       "        vertical-align: top;\n",
       "    }\n",
       "\n",
       "    .dataframe thead tr th {\n",
       "        text-align: left;\n",
       "    }\n",
       "\n",
       "    .dataframe thead tr:last-of-type th {\n",
       "        text-align: right;\n",
       "    }\n",
       "</style>\n",
       "<table border=\"1\" class=\"dataframe\">\n",
       "  <thead>\n",
       "    <tr>\n",
       "      <th></th>\n",
       "      <th></th>\n",
       "      <th>name</th>\n",
       "      <th colspan=\"4\" halign=\"left\">distance</th>\n",
       "      <th colspan=\"4\" halign=\"left\">final_price_per_km</th>\n",
       "      <th>price_increase</th>\n",
       "      <th colspan=\"4\" halign=\"left\">p_type</th>\n",
       "      <th colspan=\"3\" halign=\"left\">d_type</th>\n",
       "    </tr>\n",
       "    <tr>\n",
       "      <th></th>\n",
       "      <th></th>\n",
       "      <th>count</th>\n",
       "      <th>min</th>\n",
       "      <th>mean</th>\n",
       "      <th>max</th>\n",
       "      <th>std</th>\n",
       "      <th>min</th>\n",
       "      <th>mean</th>\n",
       "      <th>max</th>\n",
       "      <th>std</th>\n",
       "      <th>&lt;lambda&gt;</th>\n",
       "      <th>&lt;lambda_0&gt;</th>\n",
       "      <th>&lt;lambda_1&gt;</th>\n",
       "      <th>&lt;lambda_2&gt;</th>\n",
       "      <th>&lt;lambda_3&gt;</th>\n",
       "      <th>&lt;lambda_0&gt;</th>\n",
       "      <th>&lt;lambda_1&gt;</th>\n",
       "      <th>&lt;lambda_2&gt;</th>\n",
       "    </tr>\n",
       "    <tr>\n",
       "      <th>cab_type</th>\n",
       "      <th>name</th>\n",
       "      <th></th>\n",
       "      <th></th>\n",
       "      <th></th>\n",
       "      <th></th>\n",
       "      <th></th>\n",
       "      <th></th>\n",
       "      <th></th>\n",
       "      <th></th>\n",
       "      <th></th>\n",
       "      <th></th>\n",
       "      <th></th>\n",
       "      <th></th>\n",
       "      <th></th>\n",
       "      <th></th>\n",
       "      <th></th>\n",
       "      <th></th>\n",
       "      <th></th>\n",
       "    </tr>\n",
       "  </thead>\n",
       "  <tbody>\n",
       "    <tr>\n",
       "      <th rowspan=\"6\" valign=\"top\">Lyft</th>\n",
       "      <th>Lux</th>\n",
       "      <td>51235</td>\n",
       "      <td>0.39</td>\n",
       "      <td>2.186968</td>\n",
       "      <td>6.33</td>\n",
       "      <td>1.086631</td>\n",
       "      <td>4.726891</td>\n",
       "      <td>10.086758</td>\n",
       "      <td>84.782609</td>\n",
       "      <td>5.035969</td>\n",
       "      <td>8</td>\n",
       "      <td>414</td>\n",
       "      <td>33109</td>\n",
       "      <td>17306</td>\n",
       "      <td>406</td>\n",
       "      <td>24291</td>\n",
       "      <td>23213</td>\n",
       "      <td>3731</td>\n",
       "    </tr>\n",
       "    <tr>\n",
       "      <th>Lux Black</th>\n",
       "      <td>51235</td>\n",
       "      <td>0.39</td>\n",
       "      <td>2.186968</td>\n",
       "      <td>6.33</td>\n",
       "      <td>1.086631</td>\n",
       "      <td>6.018519</td>\n",
       "      <td>13.420071</td>\n",
       "      <td>130.434783</td>\n",
       "      <td>7.608933</td>\n",
       "      <td>8</td>\n",
       "      <td>0</td>\n",
       "      <td>22228</td>\n",
       "      <td>26880</td>\n",
       "      <td>2127</td>\n",
       "      <td>24291</td>\n",
       "      <td>23213</td>\n",
       "      <td>3731</td>\n",
       "    </tr>\n",
       "    <tr>\n",
       "      <th>Lux Black XL</th>\n",
       "      <td>51235</td>\n",
       "      <td>0.39</td>\n",
       "      <td>2.186968</td>\n",
       "      <td>6.33</td>\n",
       "      <td>1.086631</td>\n",
       "      <td>7.503949</td>\n",
       "      <td>19.722089</td>\n",
       "      <td>228.260870</td>\n",
       "      <td>12.840217</td>\n",
       "      <td>8</td>\n",
       "      <td>0</td>\n",
       "      <td>3201</td>\n",
       "      <td>41452</td>\n",
       "      <td>6582</td>\n",
       "      <td>24291</td>\n",
       "      <td>23213</td>\n",
       "      <td>3731</td>\n",
       "    </tr>\n",
       "    <tr>\n",
       "      <th>Lyft</th>\n",
       "      <td>51235</td>\n",
       "      <td>0.39</td>\n",
       "      <td>2.186968</td>\n",
       "      <td>6.33</td>\n",
       "      <td>1.086631</td>\n",
       "      <td>2.224576</td>\n",
       "      <td>5.641959</td>\n",
       "      <td>58.695652</td>\n",
       "      <td>3.239836</td>\n",
       "      <td>8</td>\n",
       "      <td>29232</td>\n",
       "      <td>17191</td>\n",
       "      <td>4755</td>\n",
       "      <td>57</td>\n",
       "      <td>24291</td>\n",
       "      <td>23213</td>\n",
       "      <td>3731</td>\n",
       "    </tr>\n",
       "    <tr>\n",
       "      <th>Lyft XL</th>\n",
       "      <td>51235</td>\n",
       "      <td>0.39</td>\n",
       "      <td>2.186968</td>\n",
       "      <td>6.33</td>\n",
       "      <td>1.086631</td>\n",
       "      <td>4.107425</td>\n",
       "      <td>8.743382</td>\n",
       "      <td>95.338983</td>\n",
       "      <td>4.535395</td>\n",
       "      <td>8</td>\n",
       "      <td>3095</td>\n",
       "      <td>35601</td>\n",
       "      <td>12260</td>\n",
       "      <td>279</td>\n",
       "      <td>24291</td>\n",
       "      <td>23213</td>\n",
       "      <td>3731</td>\n",
       "    </tr>\n",
       "    <tr>\n",
       "      <th>Shared</th>\n",
       "      <td>51233</td>\n",
       "      <td>0.39</td>\n",
       "      <td>2.187012</td>\n",
       "      <td>6.33</td>\n",
       "      <td>1.086629</td>\n",
       "      <td>0.556586</td>\n",
       "      <td>3.300848</td>\n",
       "      <td>19.565217</td>\n",
       "      <td>1.656570</td>\n",
       "      <td>0</td>\n",
       "      <td>46169</td>\n",
       "      <td>4604</td>\n",
       "      <td>460</td>\n",
       "      <td>0</td>\n",
       "      <td>24289</td>\n",
       "      <td>23213</td>\n",
       "      <td>3731</td>\n",
       "    </tr>\n",
       "    <tr>\n",
       "      <th rowspan=\"7\" valign=\"top\">Uber</th>\n",
       "      <th>Black</th>\n",
       "      <td>55095</td>\n",
       "      <td>0.02</td>\n",
       "      <td>2.191399</td>\n",
       "      <td>7.86</td>\n",
       "      <td>1.178975</td>\n",
       "      <td>3.993610</td>\n",
       "      <td>12.373297</td>\n",
       "      <td>750.000000</td>\n",
       "      <td>18.174267</td>\n",
       "      <td>0</td>\n",
       "      <td>195</td>\n",
       "      <td>29977</td>\n",
       "      <td>23236</td>\n",
       "      <td>1687</td>\n",
       "      <td>26449</td>\n",
       "      <td>24603</td>\n",
       "      <td>4043</td>\n",
       "    </tr>\n",
       "    <tr>\n",
       "      <th>Black SUV</th>\n",
       "      <td>55096</td>\n",
       "      <td>0.02</td>\n",
       "      <td>2.191378</td>\n",
       "      <td>7.86</td>\n",
       "      <td>1.178975</td>\n",
       "      <td>5.563003</td>\n",
       "      <td>19.425076</td>\n",
       "      <td>1375.000000</td>\n",
       "      <td>32.696465</td>\n",
       "      <td>0</td>\n",
       "      <td>0</td>\n",
       "      <td>6041</td>\n",
       "      <td>43118</td>\n",
       "      <td>5937</td>\n",
       "      <td>26450</td>\n",
       "      <td>24603</td>\n",
       "      <td>4043</td>\n",
       "    </tr>\n",
       "    <tr>\n",
       "      <th>Taxi</th>\n",
       "      <td>55095</td>\n",
       "      <td>0.02</td>\n",
       "      <td>2.191383</td>\n",
       "      <td>7.86</td>\n",
       "      <td>1.178985</td>\n",
       "      <td>NaN</td>\n",
       "      <td>NaN</td>\n",
       "      <td>NaN</td>\n",
       "      <td>NaN</td>\n",
       "      <td>0</td>\n",
       "      <td>0</td>\n",
       "      <td>0</td>\n",
       "      <td>0</td>\n",
       "      <td>55095</td>\n",
       "      <td>26449</td>\n",
       "      <td>24603</td>\n",
       "      <td>4043</td>\n",
       "    </tr>\n",
       "    <tr>\n",
       "      <th>UberPool</th>\n",
       "      <td>55091</td>\n",
       "      <td>0.02</td>\n",
       "      <td>2.191396</td>\n",
       "      <td>7.86</td>\n",
       "      <td>1.179007</td>\n",
       "      <td>1.474531</td>\n",
       "      <td>5.336275</td>\n",
       "      <td>375.000000</td>\n",
       "      <td>7.273938</td>\n",
       "      <td>0</td>\n",
       "      <td>34530</td>\n",
       "      <td>16606</td>\n",
       "      <td>3881</td>\n",
       "      <td>74</td>\n",
       "      <td>26448</td>\n",
       "      <td>24600</td>\n",
       "      <td>4043</td>\n",
       "    </tr>\n",
       "    <tr>\n",
       "      <th>UberX</th>\n",
       "      <td>55094</td>\n",
       "      <td>0.02</td>\n",
       "      <td>2.191390</td>\n",
       "      <td>7.86</td>\n",
       "      <td>1.178985</td>\n",
       "      <td>1.837061</td>\n",
       "      <td>5.942021</td>\n",
       "      <td>375.000000</td>\n",
       "      <td>8.452523</td>\n",
       "      <td>0</td>\n",
       "      <td>30835</td>\n",
       "      <td>18962</td>\n",
       "      <td>5214</td>\n",
       "      <td>83</td>\n",
       "      <td>26449</td>\n",
       "      <td>24602</td>\n",
       "      <td>4043</td>\n",
       "    </tr>\n",
       "    <tr>\n",
       "      <th>UberXL</th>\n",
       "      <td>55096</td>\n",
       "      <td>0.02</td>\n",
       "      <td>2.191378</td>\n",
       "      <td>7.86</td>\n",
       "      <td>1.178975</td>\n",
       "      <td>2.845528</td>\n",
       "      <td>9.131168</td>\n",
       "      <td>475.000000</td>\n",
       "      <td>10.512167</td>\n",
       "      <td>0</td>\n",
       "      <td>3531</td>\n",
       "      <td>37747</td>\n",
       "      <td>13635</td>\n",
       "      <td>183</td>\n",
       "      <td>26450</td>\n",
       "      <td>24603</td>\n",
       "      <td>4043</td>\n",
       "    </tr>\n",
       "    <tr>\n",
       "      <th>WAV</th>\n",
       "      <td>55096</td>\n",
       "      <td>0.02</td>\n",
       "      <td>2.191378</td>\n",
       "      <td>7.86</td>\n",
       "      <td>1.178975</td>\n",
       "      <td>1.837061</td>\n",
       "      <td>5.941989</td>\n",
       "      <td>375.000000</td>\n",
       "      <td>8.452376</td>\n",
       "      <td>0</td>\n",
       "      <td>30836</td>\n",
       "      <td>18963</td>\n",
       "      <td>5214</td>\n",
       "      <td>83</td>\n",
       "      <td>26450</td>\n",
       "      <td>24603</td>\n",
       "      <td>4043</td>\n",
       "    </tr>\n",
       "  </tbody>\n",
       "</table>\n",
       "</div>"
      ],
      "text/plain": [
       "                        name distance                            \\\n",
       "                       count      min      mean   max       std   \n",
       "cab_type name                                                     \n",
       "Lyft     Lux           51235     0.39  2.186968  6.33  1.086631   \n",
       "         Lux Black     51235     0.39  2.186968  6.33  1.086631   \n",
       "         Lux Black XL  51235     0.39  2.186968  6.33  1.086631   \n",
       "         Lyft          51235     0.39  2.186968  6.33  1.086631   \n",
       "         Lyft XL       51235     0.39  2.186968  6.33  1.086631   \n",
       "         Shared        51233     0.39  2.187012  6.33  1.086629   \n",
       "Uber     Black         55095     0.02  2.191399  7.86  1.178975   \n",
       "         Black SUV     55096     0.02  2.191378  7.86  1.178975   \n",
       "         Taxi          55095     0.02  2.191383  7.86  1.178985   \n",
       "         UberPool      55091     0.02  2.191396  7.86  1.179007   \n",
       "         UberX         55094     0.02  2.191390  7.86  1.178985   \n",
       "         UberXL        55096     0.02  2.191378  7.86  1.178975   \n",
       "         WAV           55096     0.02  2.191378  7.86  1.178975   \n",
       "\n",
       "                      final_price_per_km                                     \\\n",
       "                                     min       mean          max        std   \n",
       "cab_type name                                                                 \n",
       "Lyft     Lux                    4.726891  10.086758    84.782609   5.035969   \n",
       "         Lux Black              6.018519  13.420071   130.434783   7.608933   \n",
       "         Lux Black XL           7.503949  19.722089   228.260870  12.840217   \n",
       "         Lyft                   2.224576   5.641959    58.695652   3.239836   \n",
       "         Lyft XL                4.107425   8.743382    95.338983   4.535395   \n",
       "         Shared                 0.556586   3.300848    19.565217   1.656570   \n",
       "Uber     Black                  3.993610  12.373297   750.000000  18.174267   \n",
       "         Black SUV              5.563003  19.425076  1375.000000  32.696465   \n",
       "         Taxi                        NaN        NaN          NaN        NaN   \n",
       "         UberPool               1.474531   5.336275   375.000000   7.273938   \n",
       "         UberX                  1.837061   5.942021   375.000000   8.452523   \n",
       "         UberXL                 2.845528   9.131168   475.000000  10.512167   \n",
       "         WAV                    1.837061   5.941989   375.000000   8.452376   \n",
       "\n",
       "                      price_increase     p_type                        \\\n",
       "                            <lambda> <lambda_0> <lambda_1> <lambda_2>   \n",
       "cab_type name                                                           \n",
       "Lyft     Lux                       8        414      33109      17306   \n",
       "         Lux Black                 8          0      22228      26880   \n",
       "         Lux Black XL              8          0       3201      41452   \n",
       "         Lyft                      8      29232      17191       4755   \n",
       "         Lyft XL                   8       3095      35601      12260   \n",
       "         Shared                    0      46169       4604        460   \n",
       "Uber     Black                     0        195      29977      23236   \n",
       "         Black SUV                 0          0       6041      43118   \n",
       "         Taxi                      0          0          0          0   \n",
       "         UberPool                  0      34530      16606       3881   \n",
       "         UberX                     0      30835      18962       5214   \n",
       "         UberXL                    0       3531      37747      13635   \n",
       "         WAV                       0      30836      18963       5214   \n",
       "\n",
       "                                     d_type                        \n",
       "                      <lambda_3> <lambda_0> <lambda_1> <lambda_2>  \n",
       "cab_type name                                                      \n",
       "Lyft     Lux                 406      24291      23213       3731  \n",
       "         Lux Black          2127      24291      23213       3731  \n",
       "         Lux Black XL       6582      24291      23213       3731  \n",
       "         Lyft                 57      24291      23213       3731  \n",
       "         Lyft XL             279      24291      23213       3731  \n",
       "         Shared                0      24289      23213       3731  \n",
       "Uber     Black              1687      26449      24603       4043  \n",
       "         Black SUV          5937      26450      24603       4043  \n",
       "         Taxi              55095      26449      24603       4043  \n",
       "         UberPool             74      26448      24600       4043  \n",
       "         UberX                83      26449      24602       4043  \n",
       "         UberXL              183      26450      24603       4043  \n",
       "         WAV                  83      26450      24603       4043  "
      ]
     },
     "execution_count": 622,
     "metadata": {},
     "output_type": "execute_result"
    }
   ],
   "source": [
    "df.groupby(['cab_type', 'name']).agg({'name':'count', \n",
    "                                     'distance':['min','mean', 'max', 'std'],\n",
    "                                     'final_price_per_km': ['min','mean', 'max', 'std'],\n",
    "                                     'price_increase': lambda x: round(x.mean()*100),\n",
    "                                     'p_type':[lambda x: round(x[x=='Cheap'].count()), \n",
    "                                               lambda x: round(x[x=='Medium'].count()),\n",
    "                                               lambda x: round(x[x=='Expensive'].count()), \n",
    "                                               lambda x: round(x[x=='Very Expensive'].count())],\n",
    "                                     'd_type':[lambda x: round(x[x=='Short'].count()), \n",
    "                                               lambda x: round(x[x=='Medium'].count()),\n",
    "                                               lambda x: round(x[x=='Long'].count())]}\n",
    "                                    )"
   ]
  },
  {
   "cell_type": "markdown",
   "metadata": {},
   "source": [
    "1. Нет данных о цене по тарифу Такси  \n",
    "2. Соответствия тарифов по средней цене и распределению(примерно):  \n",
    "* Lux Black XL = Black SUV 19-20usd  \n",
    "* Lux Black = Black 12-13 usd    \n",
    "* Lux, Lyft XL = Uber XL 9-10 usd  \n",
    "* Lyft = UberX, UberPool, WAV  5-6 usd  \n",
    "* Shared 3 usd\n",
    "\n",
    "3. <strong><span style=\"color:purple\">В убере никогда не повышают итоговую цену, в то время как в Лифт это случается у каждого 13-го клиента</span></strong>\n",
    "4. Распределение по distance одинаковое для всех тарифов"
   ]
  },
  {
   "cell_type": "code",
   "execution_count": 623,
   "metadata": {},
   "outputs": [
    {
     "data": {
      "text/plain": [
       "name\n",
       "Lux             2.186968\n",
       "Lux Black       2.186968\n",
       "Lux Black XL    2.186968\n",
       "Lyft            2.186968\n",
       "Lyft XL         2.186968\n",
       "Shared          2.187012\n",
       "Name: distance, dtype: float64"
      ]
     },
     "execution_count": 623,
     "metadata": {},
     "output_type": "execute_result"
    }
   ],
   "source": [
    "df[df['cab_type'] == 'Lyft'].groupby('name')['distance'].mean()"
   ]
  },
  {
   "cell_type": "markdown",
   "metadata": {},
   "source": [
    "### Длина маршрута"
   ]
  },
  {
   "cell_type": "code",
   "execution_count": 624,
   "metadata": {},
   "outputs": [
    {
     "data": {
      "text/html": [
       "<div>\n",
       "<style scoped>\n",
       "    .dataframe tbody tr th:only-of-type {\n",
       "        vertical-align: middle;\n",
       "    }\n",
       "\n",
       "    .dataframe tbody tr th {\n",
       "        vertical-align: top;\n",
       "    }\n",
       "\n",
       "    .dataframe thead tr th {\n",
       "        text-align: left;\n",
       "    }\n",
       "\n",
       "    .dataframe thead tr:last-of-type th {\n",
       "        text-align: right;\n",
       "    }\n",
       "</style>\n",
       "<table border=\"1\" class=\"dataframe\">\n",
       "  <thead>\n",
       "    <tr>\n",
       "      <th></th>\n",
       "      <th></th>\n",
       "      <th>d_type</th>\n",
       "      <th colspan=\"4\" halign=\"left\">final_price_per_km</th>\n",
       "      <th>price_increase</th>\n",
       "    </tr>\n",
       "    <tr>\n",
       "      <th></th>\n",
       "      <th></th>\n",
       "      <th>count</th>\n",
       "      <th>min</th>\n",
       "      <th>mean</th>\n",
       "      <th>max</th>\n",
       "      <th>std</th>\n",
       "      <th>&lt;lambda&gt;</th>\n",
       "    </tr>\n",
       "    <tr>\n",
       "      <th>cab_type</th>\n",
       "      <th>d_type</th>\n",
       "      <th></th>\n",
       "      <th></th>\n",
       "      <th></th>\n",
       "      <th></th>\n",
       "      <th></th>\n",
       "      <th></th>\n",
       "    </tr>\n",
       "  </thead>\n",
       "  <tbody>\n",
       "    <tr>\n",
       "      <th rowspan=\"3\" valign=\"top\">Lyft</th>\n",
       "      <th>Long</th>\n",
       "      <td>22386</td>\n",
       "      <td>0.556586</td>\n",
       "      <td>5.972899</td>\n",
       "      <td>47.300771</td>\n",
       "      <td>3.992121</td>\n",
       "      <td>8</td>\n",
       "    </tr>\n",
       "    <tr>\n",
       "      <th>Medium</th>\n",
       "      <td>139278</td>\n",
       "      <td>0.771605</td>\n",
       "      <td>7.416123</td>\n",
       "      <td>61.926606</td>\n",
       "      <td>4.830627</td>\n",
       "      <td>8</td>\n",
       "    </tr>\n",
       "    <tr>\n",
       "      <th>Short</th>\n",
       "      <td>145744</td>\n",
       "      <td>1.275510</td>\n",
       "      <td>13.409587</td>\n",
       "      <td>228.260870</td>\n",
       "      <td>10.687269</td>\n",
       "      <td>6</td>\n",
       "    </tr>\n",
       "    <tr>\n",
       "      <th rowspan=\"3\" valign=\"top\">Uber</th>\n",
       "      <th>Long</th>\n",
       "      <td>28301</td>\n",
       "      <td>1.474531</td>\n",
       "      <td>4.653439</td>\n",
       "      <td>18.355856</td>\n",
       "      <td>2.320787</td>\n",
       "      <td>0</td>\n",
       "    </tr>\n",
       "    <tr>\n",
       "      <th>Medium</th>\n",
       "      <td>172217</td>\n",
       "      <td>1.851852</td>\n",
       "      <td>6.253830</td>\n",
       "      <td>31.336406</td>\n",
       "      <td>3.105270</td>\n",
       "      <td>0</td>\n",
       "    </tr>\n",
       "    <tr>\n",
       "      <th>Short</th>\n",
       "      <td>185145</td>\n",
       "      <td>2.894737</td>\n",
       "      <td>13.659676</td>\n",
       "      <td>1375.000000</td>\n",
       "      <td>24.568161</td>\n",
       "      <td>0</td>\n",
       "    </tr>\n",
       "  </tbody>\n",
       "</table>\n",
       "</div>"
      ],
      "text/plain": [
       "                 d_type final_price_per_km                                     \\\n",
       "                  count                min       mean          max        std   \n",
       "cab_type d_type                                                                 \n",
       "Lyft     Long     22386           0.556586   5.972899    47.300771   3.992121   \n",
       "         Medium  139278           0.771605   7.416123    61.926606   4.830627   \n",
       "         Short   145744           1.275510  13.409587   228.260870  10.687269   \n",
       "Uber     Long     28301           1.474531   4.653439    18.355856   2.320787   \n",
       "         Medium  172217           1.851852   6.253830    31.336406   3.105270   \n",
       "         Short   185145           2.894737  13.659676  1375.000000  24.568161   \n",
       "\n",
       "                price_increase  \n",
       "                      <lambda>  \n",
       "cab_type d_type                 \n",
       "Lyft     Long                8  \n",
       "         Medium              8  \n",
       "         Short               6  \n",
       "Uber     Long                0  \n",
       "         Medium              0  \n",
       "         Short               0  "
      ]
     },
     "execution_count": 624,
     "metadata": {},
     "output_type": "execute_result"
    }
   ],
   "source": [
    "df.groupby(['cab_type', 'd_type']).agg({'d_type':'count',\n",
    "                                     'final_price_per_km': ['min','mean', 'max', 'std'],\n",
    "                                     'price_increase': lambda x: round(x.mean()*100)})"
   ]
  },
  {
   "cell_type": "markdown",
   "metadata": {},
   "source": [
    "### Присутствие кампаний в разных гео"
   ]
  },
  {
   "cell_type": "code",
   "execution_count": 625,
   "metadata": {},
   "outputs": [
    {
     "data": {
      "text/html": [
       "<div>\n",
       "<style scoped>\n",
       "    .dataframe tbody tr th:only-of-type {\n",
       "        vertical-align: middle;\n",
       "    }\n",
       "\n",
       "    .dataframe tbody tr th {\n",
       "        vertical-align: top;\n",
       "    }\n",
       "\n",
       "    .dataframe thead tr th {\n",
       "        text-align: left;\n",
       "    }\n",
       "\n",
       "    .dataframe thead tr:last-of-type th {\n",
       "        text-align: right;\n",
       "    }\n",
       "</style>\n",
       "<table border=\"1\" class=\"dataframe\">\n",
       "  <thead>\n",
       "    <tr>\n",
       "      <th></th>\n",
       "      <th></th>\n",
       "      <th>route_name</th>\n",
       "      <th colspan=\"2\" halign=\"left\">final_price_per_km</th>\n",
       "    </tr>\n",
       "    <tr>\n",
       "      <th></th>\n",
       "      <th></th>\n",
       "      <th>count</th>\n",
       "      <th>mean</th>\n",
       "      <th>std</th>\n",
       "    </tr>\n",
       "    <tr>\n",
       "      <th>cab_type</th>\n",
       "      <th>route_name</th>\n",
       "      <th></th>\n",
       "      <th></th>\n",
       "      <th></th>\n",
       "    </tr>\n",
       "  </thead>\n",
       "  <tbody>\n",
       "    <tr>\n",
       "      <th rowspan=\"72\" valign=\"top\">Lyft</th>\n",
       "      <th>Back Bay-Boston University</th>\n",
       "      <td>4164</td>\n",
       "      <td>11.196404</td>\n",
       "      <td>8.767156</td>\n",
       "    </tr>\n",
       "    <tr>\n",
       "      <th>Back Bay-Fenway</th>\n",
       "      <td>4212</td>\n",
       "      <td>11.325771</td>\n",
       "      <td>8.861602</td>\n",
       "    </tr>\n",
       "    <tr>\n",
       "      <th>Back Bay-Haymarket Square</th>\n",
       "      <td>4236</td>\n",
       "      <td>8.940161</td>\n",
       "      <td>6.569238</td>\n",
       "    </tr>\n",
       "    <tr>\n",
       "      <th>Back Bay-North End</th>\n",
       "      <td>4548</td>\n",
       "      <td>8.215278</td>\n",
       "      <td>5.969519</td>\n",
       "    </tr>\n",
       "    <tr>\n",
       "      <th>Back Bay-Northeastern University</th>\n",
       "      <td>4271</td>\n",
       "      <td>14.106491</td>\n",
       "      <td>11.369189</td>\n",
       "    </tr>\n",
       "    <tr>\n",
       "      <th>Back Bay-South Station</th>\n",
       "      <td>4224</td>\n",
       "      <td>11.851774</td>\n",
       "      <td>9.004794</td>\n",
       "    </tr>\n",
       "    <tr>\n",
       "      <th>Beacon Hill-Boston University</th>\n",
       "      <td>4098</td>\n",
       "      <td>7.810311</td>\n",
       "      <td>4.771630</td>\n",
       "    </tr>\n",
       "    <tr>\n",
       "      <th>Beacon Hill-Fenway</th>\n",
       "      <td>4200</td>\n",
       "      <td>7.593173</td>\n",
       "      <td>4.743307</td>\n",
       "    </tr>\n",
       "    <tr>\n",
       "      <th>Beacon Hill-Haymarket Square</th>\n",
       "      <td>4218</td>\n",
       "      <td>10.738861</td>\n",
       "      <td>7.070191</td>\n",
       "    </tr>\n",
       "    <tr>\n",
       "      <th>Beacon Hill-North End</th>\n",
       "      <td>4446</td>\n",
       "      <td>9.753024</td>\n",
       "      <td>6.559271</td>\n",
       "    </tr>\n",
       "    <tr>\n",
       "      <th>Beacon Hill-Northeastern University</th>\n",
       "      <td>4302</td>\n",
       "      <td>7.696507</td>\n",
       "      <td>4.760075</td>\n",
       "    </tr>\n",
       "    <tr>\n",
       "      <th>Beacon Hill-South Station</th>\n",
       "      <td>4200</td>\n",
       "      <td>8.726814</td>\n",
       "      <td>6.210927</td>\n",
       "    </tr>\n",
       "    <tr>\n",
       "      <th>Boston University-Back Bay</th>\n",
       "      <td>4164</td>\n",
       "      <td>9.851859</td>\n",
       "      <td>7.149587</td>\n",
       "    </tr>\n",
       "    <tr>\n",
       "      <th>Boston University-Beacon Hill</th>\n",
       "      <td>4098</td>\n",
       "      <td>7.306232</td>\n",
       "      <td>4.891627</td>\n",
       "    </tr>\n",
       "    <tr>\n",
       "      <th>Boston University-Financial District</th>\n",
       "      <td>4314</td>\n",
       "      <td>6.325658</td>\n",
       "      <td>4.711511</td>\n",
       "    </tr>\n",
       "    <tr>\n",
       "      <th>Boston University-North Station</th>\n",
       "      <td>4230</td>\n",
       "      <td>6.709683</td>\n",
       "      <td>4.715815</td>\n",
       "    </tr>\n",
       "    <tr>\n",
       "      <th>Boston University-Theatre District</th>\n",
       "      <td>4416</td>\n",
       "      <td>7.300040</td>\n",
       "      <td>4.818496</td>\n",
       "    </tr>\n",
       "    <tr>\n",
       "      <th>Boston University-West End</th>\n",
       "      <td>4398</td>\n",
       "      <td>6.969165</td>\n",
       "      <td>4.805654</td>\n",
       "    </tr>\n",
       "    <tr>\n",
       "      <th>Fenway-Back Bay</th>\n",
       "      <td>4212</td>\n",
       "      <td>10.735456</td>\n",
       "      <td>8.008674</td>\n",
       "    </tr>\n",
       "    <tr>\n",
       "      <th>Fenway-Beacon Hill</th>\n",
       "      <td>4200</td>\n",
       "      <td>7.847029</td>\n",
       "      <td>5.261717</td>\n",
       "    </tr>\n",
       "    <tr>\n",
       "      <th>Fenway-Financial District</th>\n",
       "      <td>4326</td>\n",
       "      <td>6.646724</td>\n",
       "      <td>4.891418</td>\n",
       "    </tr>\n",
       "    <tr>\n",
       "      <th>Fenway-North Station</th>\n",
       "      <td>4284</td>\n",
       "      <td>7.123082</td>\n",
       "      <td>4.929034</td>\n",
       "    </tr>\n",
       "    <tr>\n",
       "      <th>Fenway-Theatre District</th>\n",
       "      <td>4068</td>\n",
       "      <td>7.952211</td>\n",
       "      <td>5.670643</td>\n",
       "    </tr>\n",
       "    <tr>\n",
       "      <th>Fenway-West End</th>\n",
       "      <td>4530</td>\n",
       "      <td>7.280642</td>\n",
       "      <td>4.867322</td>\n",
       "    </tr>\n",
       "    <tr>\n",
       "      <th>Financial District-Boston University</th>\n",
       "      <td>4314</td>\n",
       "      <td>5.427648</td>\n",
       "      <td>3.363256</td>\n",
       "    </tr>\n",
       "    <tr>\n",
       "      <th>Financial District-Fenway</th>\n",
       "      <td>4326</td>\n",
       "      <td>5.868767</td>\n",
       "      <td>3.540639</td>\n",
       "    </tr>\n",
       "    <tr>\n",
       "      <th>Financial District-Haymarket Square</th>\n",
       "      <td>4505</td>\n",
       "      <td>12.853850</td>\n",
       "      <td>8.611428</td>\n",
       "    </tr>\n",
       "    <tr>\n",
       "      <th>Financial District-North End</th>\n",
       "      <td>4152</td>\n",
       "      <td>12.240817</td>\n",
       "      <td>8.158561</td>\n",
       "    </tr>\n",
       "    <tr>\n",
       "      <th>Financial District-Northeastern University</th>\n",
       "      <td>4314</td>\n",
       "      <td>6.535756</td>\n",
       "      <td>3.843676</td>\n",
       "    </tr>\n",
       "    <tr>\n",
       "      <th>Financial District-South Station</th>\n",
       "      <td>4626</td>\n",
       "      <td>29.055069</td>\n",
       "      <td>19.884671</td>\n",
       "    </tr>\n",
       "    <tr>\n",
       "      <th>Haymarket Square-Back Bay</th>\n",
       "      <td>4236</td>\n",
       "      <td>7.895366</td>\n",
       "      <td>3.975481</td>\n",
       "    </tr>\n",
       "    <tr>\n",
       "      <th>Haymarket Square-Beacon Hill</th>\n",
       "      <td>4218</td>\n",
       "      <td>10.829382</td>\n",
       "      <td>6.185594</td>\n",
       "    </tr>\n",
       "    <tr>\n",
       "      <th>Haymarket Square-Financial District</th>\n",
       "      <td>4506</td>\n",
       "      <td>13.018978</td>\n",
       "      <td>7.844831</td>\n",
       "    </tr>\n",
       "    <tr>\n",
       "      <th>Haymarket Square-North Station</th>\n",
       "      <td>4314</td>\n",
       "      <td>23.629460</td>\n",
       "      <td>14.832336</td>\n",
       "    </tr>\n",
       "    <tr>\n",
       "      <th>Haymarket Square-Theatre District</th>\n",
       "      <td>4308</td>\n",
       "      <td>11.142145</td>\n",
       "      <td>6.111852</td>\n",
       "    </tr>\n",
       "    <tr>\n",
       "      <th>Haymarket Square-West End</th>\n",
       "      <td>4032</td>\n",
       "      <td>19.283607</td>\n",
       "      <td>11.956692</td>\n",
       "    </tr>\n",
       "    <tr>\n",
       "      <th>North End-Back Bay</th>\n",
       "      <td>4548</td>\n",
       "      <td>7.171385</td>\n",
       "      <td>3.566535</td>\n",
       "    </tr>\n",
       "    <tr>\n",
       "      <th>North End-Beacon Hill</th>\n",
       "      <td>4446</td>\n",
       "      <td>8.840081</td>\n",
       "      <td>4.419042</td>\n",
       "    </tr>\n",
       "    <tr>\n",
       "      <th>North End-Financial District</th>\n",
       "      <td>4152</td>\n",
       "      <td>11.998963</td>\n",
       "      <td>6.712095</td>\n",
       "    </tr>\n",
       "    <tr>\n",
       "      <th>North End-North Station</th>\n",
       "      <td>4194</td>\n",
       "      <td>12.573707</td>\n",
       "      <td>7.408058</td>\n",
       "    </tr>\n",
       "    <tr>\n",
       "      <th>North End-Theatre District</th>\n",
       "      <td>4170</td>\n",
       "      <td>10.262330</td>\n",
       "      <td>5.104490</td>\n",
       "    </tr>\n",
       "    <tr>\n",
       "      <th>North End-West End</th>\n",
       "      <td>4110</td>\n",
       "      <td>11.169739</td>\n",
       "      <td>5.988906</td>\n",
       "    </tr>\n",
       "    <tr>\n",
       "      <th>North Station-Boston University</th>\n",
       "      <td>4230</td>\n",
       "      <td>6.430138</td>\n",
       "      <td>3.419562</td>\n",
       "    </tr>\n",
       "    <tr>\n",
       "      <th>North Station-Fenway</th>\n",
       "      <td>4284</td>\n",
       "      <td>6.138962</td>\n",
       "      <td>3.097191</td>\n",
       "    </tr>\n",
       "    <tr>\n",
       "      <th>North Station-Haymarket Square</th>\n",
       "      <td>4314</td>\n",
       "      <td>17.690965</td>\n",
       "      <td>11.139583</td>\n",
       "    </tr>\n",
       "    <tr>\n",
       "      <th>North Station-North End</th>\n",
       "      <td>4194</td>\n",
       "      <td>12.479671</td>\n",
       "      <td>7.364143</td>\n",
       "    </tr>\n",
       "    <tr>\n",
       "      <th>North Station-Northeastern University</th>\n",
       "      <td>4254</td>\n",
       "      <td>6.322821</td>\n",
       "      <td>3.391964</td>\n",
       "    </tr>\n",
       "    <tr>\n",
       "      <th>North Station-South Station</th>\n",
       "      <td>4050</td>\n",
       "      <td>8.026337</td>\n",
       "      <td>4.331449</td>\n",
       "    </tr>\n",
       "    <tr>\n",
       "      <th>Northeastern University-Back Bay</th>\n",
       "      <td>4266</td>\n",
       "      <td>11.137006</td>\n",
       "      <td>8.260409</td>\n",
       "    </tr>\n",
       "    <tr>\n",
       "      <th>Northeastern University-Beacon Hill</th>\n",
       "      <td>4302</td>\n",
       "      <td>7.662538</td>\n",
       "      <td>4.899430</td>\n",
       "    </tr>\n",
       "    <tr>\n",
       "      <th>Northeastern University-Financial District</th>\n",
       "      <td>4314</td>\n",
       "      <td>6.944352</td>\n",
       "      <td>5.098301</td>\n",
       "    </tr>\n",
       "    <tr>\n",
       "      <th>Northeastern University-North Station</th>\n",
       "      <td>4254</td>\n",
       "      <td>7.253695</td>\n",
       "      <td>5.161796</td>\n",
       "    </tr>\n",
       "    <tr>\n",
       "      <th>Northeastern University-Theatre District</th>\n",
       "      <td>4254</td>\n",
       "      <td>8.973357</td>\n",
       "      <td>6.064060</td>\n",
       "    </tr>\n",
       "    <tr>\n",
       "      <th>Northeastern University-West End</th>\n",
       "      <td>4224</td>\n",
       "      <td>7.510836</td>\n",
       "      <td>5.164672</td>\n",
       "    </tr>\n",
       "    <tr>\n",
       "      <th>South Station-Back Bay</th>\n",
       "      <td>4224</td>\n",
       "      <td>7.771246</td>\n",
       "      <td>4.719252</td>\n",
       "    </tr>\n",
       "    <tr>\n",
       "      <th>South Station-Beacon Hill</th>\n",
       "      <td>4200</td>\n",
       "      <td>7.610624</td>\n",
       "      <td>4.636419</td>\n",
       "    </tr>\n",
       "    <tr>\n",
       "      <th>South Station-Financial District</th>\n",
       "      <td>4626</td>\n",
       "      <td>21.868187</td>\n",
       "      <td>15.213988</td>\n",
       "    </tr>\n",
       "    <tr>\n",
       "      <th>South Station-North Station</th>\n",
       "      <td>4050</td>\n",
       "      <td>8.796556</td>\n",
       "      <td>5.195224</td>\n",
       "    </tr>\n",
       "    <tr>\n",
       "      <th>South Station-Theatre District</th>\n",
       "      <td>4320</td>\n",
       "      <td>13.018634</td>\n",
       "      <td>8.698403</td>\n",
       "    </tr>\n",
       "    <tr>\n",
       "      <th>South Station-West End</th>\n",
       "      <td>4200</td>\n",
       "      <td>9.408793</td>\n",
       "      <td>5.600754</td>\n",
       "    </tr>\n",
       "    <tr>\n",
       "      <th>Theatre District-Boston University</th>\n",
       "      <td>4416</td>\n",
       "      <td>6.766930</td>\n",
       "      <td>4.918389</td>\n",
       "    </tr>\n",
       "    <tr>\n",
       "      <th>Theatre District-Fenway</th>\n",
       "      <td>4068</td>\n",
       "      <td>7.270123</td>\n",
       "      <td>5.123547</td>\n",
       "    </tr>\n",
       "    <tr>\n",
       "      <th>Theatre District-Haymarket Square</th>\n",
       "      <td>4308</td>\n",
       "      <td>10.173924</td>\n",
       "      <td>7.188315</td>\n",
       "    </tr>\n",
       "    <tr>\n",
       "      <th>Theatre District-North End</th>\n",
       "      <td>4164</td>\n",
       "      <td>10.234013</td>\n",
       "      <td>7.219110</td>\n",
       "    </tr>\n",
       "    <tr>\n",
       "      <th>Theatre District-Northeastern University</th>\n",
       "      <td>4254</td>\n",
       "      <td>8.703518</td>\n",
       "      <td>5.498347</td>\n",
       "    </tr>\n",
       "    <tr>\n",
       "      <th>Theatre District-South Station</th>\n",
       "      <td>4320</td>\n",
       "      <td>23.400287</td>\n",
       "      <td>18.870455</td>\n",
       "    </tr>\n",
       "    <tr>\n",
       "      <th>West End-Boston University</th>\n",
       "      <td>4392</td>\n",
       "      <td>6.702781</td>\n",
       "      <td>3.399936</td>\n",
       "    </tr>\n",
       "    <tr>\n",
       "      <th>West End-Fenway</th>\n",
       "      <td>4530</td>\n",
       "      <td>6.482399</td>\n",
       "      <td>3.385490</td>\n",
       "    </tr>\n",
       "    <tr>\n",
       "      <th>West End-Haymarket Square</th>\n",
       "      <td>4032</td>\n",
       "      <td>16.862492</td>\n",
       "      <td>10.739235</td>\n",
       "    </tr>\n",
       "    <tr>\n",
       "      <th>West End-North End</th>\n",
       "      <td>4110</td>\n",
       "      <td>12.686269</td>\n",
       "      <td>7.421480</td>\n",
       "    </tr>\n",
       "    <tr>\n",
       "      <th>West End-Northeastern University</th>\n",
       "      <td>4224</td>\n",
       "      <td>6.608524</td>\n",
       "      <td>3.516421</td>\n",
       "    </tr>\n",
       "    <tr>\n",
       "      <th>West End-South Station</th>\n",
       "      <td>4200</td>\n",
       "      <td>8.751161</td>\n",
       "      <td>4.578973</td>\n",
       "    </tr>\n",
       "    <tr>\n",
       "      <th rowspan=\"72\" valign=\"top\">Uber</th>\n",
       "      <th>Back Bay-Boston University</th>\n",
       "      <td>5271</td>\n",
       "      <td>18.109586</td>\n",
       "      <td>68.572168</td>\n",
       "    </tr>\n",
       "    <tr>\n",
       "      <th>Back Bay-Fenway</th>\n",
       "      <td>5257</td>\n",
       "      <td>9.586416</td>\n",
       "      <td>4.851776</td>\n",
       "    </tr>\n",
       "    <tr>\n",
       "      <th>Back Bay-Haymarket Square</th>\n",
       "      <td>5369</td>\n",
       "      <td>7.221561</td>\n",
       "      <td>3.479058</td>\n",
       "    </tr>\n",
       "    <tr>\n",
       "      <th>Back Bay-North End</th>\n",
       "      <td>5677</td>\n",
       "      <td>6.496655</td>\n",
       "      <td>3.255962</td>\n",
       "    </tr>\n",
       "    <tr>\n",
       "      <th>Back Bay-Northeastern University</th>\n",
       "      <td>5313</td>\n",
       "      <td>10.825375</td>\n",
       "      <td>5.662552</td>\n",
       "    </tr>\n",
       "    <tr>\n",
       "      <th>Back Bay-South Station</th>\n",
       "      <td>5250</td>\n",
       "      <td>6.120086</td>\n",
       "      <td>4.487546</td>\n",
       "    </tr>\n",
       "    <tr>\n",
       "      <th>Beacon Hill-Boston University</th>\n",
       "      <td>5124</td>\n",
       "      <td>6.953780</td>\n",
       "      <td>3.487852</td>\n",
       "    </tr>\n",
       "    <tr>\n",
       "      <th>Beacon Hill-Fenway</th>\n",
       "      <td>5236</td>\n",
       "      <td>6.628613</td>\n",
       "      <td>3.239987</td>\n",
       "    </tr>\n",
       "    <tr>\n",
       "      <th>Beacon Hill-Haymarket Square</th>\n",
       "      <td>5348</td>\n",
       "      <td>10.201541</td>\n",
       "      <td>5.201214</td>\n",
       "    </tr>\n",
       "    <tr>\n",
       "      <th>Beacon Hill-North End</th>\n",
       "      <td>5593</td>\n",
       "      <td>8.477691</td>\n",
       "      <td>4.507740</td>\n",
       "    </tr>\n",
       "    <tr>\n",
       "      <th>Beacon Hill-Northeastern University</th>\n",
       "      <td>5382</td>\n",
       "      <td>7.459618</td>\n",
       "      <td>3.533642</td>\n",
       "    </tr>\n",
       "    <tr>\n",
       "      <th>Beacon Hill-South Station</th>\n",
       "      <td>5256</td>\n",
       "      <td>6.985426</td>\n",
       "      <td>4.134841</td>\n",
       "    </tr>\n",
       "    <tr>\n",
       "      <th>Boston University-Back Bay</th>\n",
       "      <td>5271</td>\n",
       "      <td>16.990159</td>\n",
       "      <td>67.117720</td>\n",
       "    </tr>\n",
       "    <tr>\n",
       "      <th>Boston University-Beacon Hill</th>\n",
       "      <td>5117</td>\n",
       "      <td>5.909712</td>\n",
       "      <td>3.061232</td>\n",
       "    </tr>\n",
       "    <tr>\n",
       "      <th>Boston University-Financial District</th>\n",
       "      <td>5397</td>\n",
       "      <td>5.001677</td>\n",
       "      <td>2.566789</td>\n",
       "    </tr>\n",
       "    <tr>\n",
       "      <th>Boston University-North Station</th>\n",
       "      <td>5250</td>\n",
       "      <td>5.569837</td>\n",
       "      <td>2.818329</td>\n",
       "    </tr>\n",
       "    <tr>\n",
       "      <th>Boston University-Theatre District</th>\n",
       "      <td>5551</td>\n",
       "      <td>6.529944</td>\n",
       "      <td>6.848751</td>\n",
       "    </tr>\n",
       "    <tr>\n",
       "      <th>Boston University-West End</th>\n",
       "      <td>5558</td>\n",
       "      <td>5.677228</td>\n",
       "      <td>3.021020</td>\n",
       "    </tr>\n",
       "    <tr>\n",
       "      <th>Fenway-Back Bay</th>\n",
       "      <td>5264</td>\n",
       "      <td>8.690381</td>\n",
       "      <td>4.557584</td>\n",
       "    </tr>\n",
       "    <tr>\n",
       "      <th>Fenway-Beacon Hill</th>\n",
       "      <td>5236</td>\n",
       "      <td>6.431097</td>\n",
       "      <td>3.167221</td>\n",
       "    </tr>\n",
       "    <tr>\n",
       "      <th>Fenway-Financial District</th>\n",
       "      <td>5355</td>\n",
       "      <td>5.010006</td>\n",
       "      <td>2.540991</td>\n",
       "    </tr>\n",
       "    <tr>\n",
       "      <th>Fenway-North Station</th>\n",
       "      <td>5467</td>\n",
       "      <td>5.917284</td>\n",
       "      <td>2.991728</td>\n",
       "    </tr>\n",
       "    <tr>\n",
       "      <th>Fenway-Theatre District</th>\n",
       "      <td>5180</td>\n",
       "      <td>6.628892</td>\n",
       "      <td>3.246079</td>\n",
       "    </tr>\n",
       "    <tr>\n",
       "      <th>Fenway-West End</th>\n",
       "      <td>5635</td>\n",
       "      <td>6.209791</td>\n",
       "      <td>3.059369</td>\n",
       "    </tr>\n",
       "    <tr>\n",
       "      <th>Financial District-Boston University</th>\n",
       "      <td>5397</td>\n",
       "      <td>4.891208</td>\n",
       "      <td>3.098047</td>\n",
       "    </tr>\n",
       "    <tr>\n",
       "      <th>Financial District-Fenway</th>\n",
       "      <td>5369</td>\n",
       "      <td>4.921787</td>\n",
       "      <td>2.460739</td>\n",
       "    </tr>\n",
       "    <tr>\n",
       "      <th>Financial District-Haymarket Square</th>\n",
       "      <td>5628</td>\n",
       "      <td>10.860858</td>\n",
       "      <td>6.119823</td>\n",
       "    </tr>\n",
       "    <tr>\n",
       "      <th>Financial District-North End</th>\n",
       "      <td>5187</td>\n",
       "      <td>10.751800</td>\n",
       "      <td>5.891161</td>\n",
       "    </tr>\n",
       "    <tr>\n",
       "      <th>Financial District-Northeastern University</th>\n",
       "      <td>5313</td>\n",
       "      <td>5.445105</td>\n",
       "      <td>3.012155</td>\n",
       "    </tr>\n",
       "    <tr>\n",
       "      <th>Financial District-South Station</th>\n",
       "      <td>5726</td>\n",
       "      <td>30.907577</td>\n",
       "      <td>18.923487</td>\n",
       "    </tr>\n",
       "    <tr>\n",
       "      <th>Haymarket Square-Back Bay</th>\n",
       "      <td>5369</td>\n",
       "      <td>7.754608</td>\n",
       "      <td>3.792009</td>\n",
       "    </tr>\n",
       "    <tr>\n",
       "      <th>Haymarket Square-Beacon Hill</th>\n",
       "      <td>5348</td>\n",
       "      <td>12.655429</td>\n",
       "      <td>7.216522</td>\n",
       "    </tr>\n",
       "    <tr>\n",
       "      <th>Haymarket Square-Financial District</th>\n",
       "      <td>5628</td>\n",
       "      <td>13.408368</td>\n",
       "      <td>7.685463</td>\n",
       "    </tr>\n",
       "    <tr>\n",
       "      <th>Haymarket Square-North Station</th>\n",
       "      <td>5320</td>\n",
       "      <td>24.867128</td>\n",
       "      <td>14.914220</td>\n",
       "    </tr>\n",
       "    <tr>\n",
       "      <th>Haymarket Square-Theatre District</th>\n",
       "      <td>5333</td>\n",
       "      <td>11.522774</td>\n",
       "      <td>5.952334</td>\n",
       "    </tr>\n",
       "    <tr>\n",
       "      <th>Haymarket Square-West End</th>\n",
       "      <td>5124</td>\n",
       "      <td>22.670071</td>\n",
       "      <td>34.775115</td>\n",
       "    </tr>\n",
       "    <tr>\n",
       "      <th>North End-Back Bay</th>\n",
       "      <td>5677</td>\n",
       "      <td>6.902318</td>\n",
       "      <td>3.369814</td>\n",
       "    </tr>\n",
       "    <tr>\n",
       "      <th>North End-Beacon Hill</th>\n",
       "      <td>5593</td>\n",
       "      <td>8.535416</td>\n",
       "      <td>4.320154</td>\n",
       "    </tr>\n",
       "    <tr>\n",
       "      <th>North End-Financial District</th>\n",
       "      <td>5187</td>\n",
       "      <td>12.402334</td>\n",
       "      <td>6.362330</td>\n",
       "    </tr>\n",
       "    <tr>\n",
       "      <th>North End-North Station</th>\n",
       "      <td>5228</td>\n",
       "      <td>13.016907</td>\n",
       "      <td>8.171296</td>\n",
       "    </tr>\n",
       "    <tr>\n",
       "      <th>North End-Theatre District</th>\n",
       "      <td>5355</td>\n",
       "      <td>10.231481</td>\n",
       "      <td>4.870521</td>\n",
       "    </tr>\n",
       "    <tr>\n",
       "      <th>North End-West End</th>\n",
       "      <td>5103</td>\n",
       "      <td>11.385538</td>\n",
       "      <td>6.176260</td>\n",
       "    </tr>\n",
       "    <tr>\n",
       "      <th>North Station-Boston University</th>\n",
       "      <td>5250</td>\n",
       "      <td>6.009858</td>\n",
       "      <td>2.906523</td>\n",
       "    </tr>\n",
       "    <tr>\n",
       "      <th>North Station-Fenway</th>\n",
       "      <td>5467</td>\n",
       "      <td>5.856115</td>\n",
       "      <td>2.846898</td>\n",
       "    </tr>\n",
       "    <tr>\n",
       "      <th>North Station-Haymarket Square</th>\n",
       "      <td>5327</td>\n",
       "      <td>21.623081</td>\n",
       "      <td>13.199309</td>\n",
       "    </tr>\n",
       "    <tr>\n",
       "      <th>North Station-North End</th>\n",
       "      <td>5227</td>\n",
       "      <td>12.305138</td>\n",
       "      <td>7.799716</td>\n",
       "    </tr>\n",
       "    <tr>\n",
       "      <th>North Station-Northeastern University</th>\n",
       "      <td>5425</td>\n",
       "      <td>5.673820</td>\n",
       "      <td>2.888459</td>\n",
       "    </tr>\n",
       "    <tr>\n",
       "      <th>North Station-South Station</th>\n",
       "      <td>5096</td>\n",
       "      <td>7.452980</td>\n",
       "      <td>3.831067</td>\n",
       "    </tr>\n",
       "    <tr>\n",
       "      <th>Northeastern University-Back Bay</th>\n",
       "      <td>5313</td>\n",
       "      <td>8.452403</td>\n",
       "      <td>4.193393</td>\n",
       "    </tr>\n",
       "    <tr>\n",
       "      <th>Northeastern University-Beacon Hill</th>\n",
       "      <td>5388</td>\n",
       "      <td>6.229092</td>\n",
       "      <td>2.933647</td>\n",
       "    </tr>\n",
       "    <tr>\n",
       "      <th>Northeastern University-Financial District</th>\n",
       "      <td>5320</td>\n",
       "      <td>4.920417</td>\n",
       "      <td>2.619943</td>\n",
       "    </tr>\n",
       "    <tr>\n",
       "      <th>Northeastern University-North Station</th>\n",
       "      <td>5425</td>\n",
       "      <td>5.774847</td>\n",
       "      <td>2.837779</td>\n",
       "    </tr>\n",
       "    <tr>\n",
       "      <th>Northeastern University-Theatre District</th>\n",
       "      <td>5390</td>\n",
       "      <td>7.411483</td>\n",
       "      <td>3.846429</td>\n",
       "    </tr>\n",
       "    <tr>\n",
       "      <th>Northeastern University-West End</th>\n",
       "      <td>5306</td>\n",
       "      <td>5.857908</td>\n",
       "      <td>3.032782</td>\n",
       "    </tr>\n",
       "    <tr>\n",
       "      <th>South Station-Back Bay</th>\n",
       "      <td>5236</td>\n",
       "      <td>6.366828</td>\n",
       "      <td>3.378107</td>\n",
       "    </tr>\n",
       "    <tr>\n",
       "      <th>South Station-Beacon Hill</th>\n",
       "      <td>5257</td>\n",
       "      <td>6.495034</td>\n",
       "      <td>3.135762</td>\n",
       "    </tr>\n",
       "    <tr>\n",
       "      <th>South Station-Financial District</th>\n",
       "      <td>5726</td>\n",
       "      <td>20.621286</td>\n",
       "      <td>12.891801</td>\n",
       "    </tr>\n",
       "    <tr>\n",
       "      <th>South Station-North Station</th>\n",
       "      <td>5103</td>\n",
       "      <td>7.689807</td>\n",
       "      <td>3.959624</td>\n",
       "    </tr>\n",
       "    <tr>\n",
       "      <th>South Station-Theatre District</th>\n",
       "      <td>5453</td>\n",
       "      <td>14.277938</td>\n",
       "      <td>56.062044</td>\n",
       "    </tr>\n",
       "    <tr>\n",
       "      <th>South Station-West End</th>\n",
       "      <td>5355</td>\n",
       "      <td>7.762825</td>\n",
       "      <td>4.013952</td>\n",
       "    </tr>\n",
       "    <tr>\n",
       "      <th>Theatre District-Boston University</th>\n",
       "      <td>5550</td>\n",
       "      <td>6.755085</td>\n",
       "      <td>4.825100</td>\n",
       "    </tr>\n",
       "    <tr>\n",
       "      <th>Theatre District-Fenway</th>\n",
       "      <td>5173</td>\n",
       "      <td>6.353544</td>\n",
       "      <td>3.098879</td>\n",
       "    </tr>\n",
       "    <tr>\n",
       "      <th>Theatre District-Haymarket Square</th>\n",
       "      <td>5355</td>\n",
       "      <td>8.918888</td>\n",
       "      <td>4.293752</td>\n",
       "    </tr>\n",
       "    <tr>\n",
       "      <th>Theatre District-North End</th>\n",
       "      <td>5362</td>\n",
       "      <td>8.912934</td>\n",
       "      <td>4.553477</td>\n",
       "    </tr>\n",
       "    <tr>\n",
       "      <th>Theatre District-Northeastern University</th>\n",
       "      <td>5390</td>\n",
       "      <td>8.275844</td>\n",
       "      <td>3.869568</td>\n",
       "    </tr>\n",
       "    <tr>\n",
       "      <th>Theatre District-South Station</th>\n",
       "      <td>5453</td>\n",
       "      <td>26.138656</td>\n",
       "      <td>56.063452</td>\n",
       "    </tr>\n",
       "    <tr>\n",
       "      <th>West End-Boston University</th>\n",
       "      <td>5558</td>\n",
       "      <td>6.234556</td>\n",
       "      <td>2.983863</td>\n",
       "    </tr>\n",
       "    <tr>\n",
       "      <th>West End-Fenway</th>\n",
       "      <td>5635</td>\n",
       "      <td>5.991066</td>\n",
       "      <td>2.944970</td>\n",
       "    </tr>\n",
       "    <tr>\n",
       "      <th>West End-Haymarket Square</th>\n",
       "      <td>5124</td>\n",
       "      <td>20.042845</td>\n",
       "      <td>34.461501</td>\n",
       "    </tr>\n",
       "    <tr>\n",
       "      <th>West End-North End</th>\n",
       "      <td>5096</td>\n",
       "      <td>12.870655</td>\n",
       "      <td>13.597269</td>\n",
       "    </tr>\n",
       "    <tr>\n",
       "      <th>West End-Northeastern University</th>\n",
       "      <td>5313</td>\n",
       "      <td>5.902894</td>\n",
       "      <td>2.808164</td>\n",
       "    </tr>\n",
       "    <tr>\n",
       "      <th>West End-South Station</th>\n",
       "      <td>5348</td>\n",
       "      <td>7.287031</td>\n",
       "      <td>3.933214</td>\n",
       "    </tr>\n",
       "  </tbody>\n",
       "</table>\n",
       "</div>"
      ],
      "text/plain": [
       "                                                    route_name  \\\n",
       "                                                         count   \n",
       "cab_type route_name                                              \n",
       "Lyft     Back Bay-Boston University                       4164   \n",
       "         Back Bay-Fenway                                  4212   \n",
       "         Back Bay-Haymarket Square                        4236   \n",
       "         Back Bay-North End                               4548   \n",
       "         Back Bay-Northeastern University                 4271   \n",
       "         Back Bay-South Station                           4224   \n",
       "         Beacon Hill-Boston University                    4098   \n",
       "         Beacon Hill-Fenway                               4200   \n",
       "         Beacon Hill-Haymarket Square                     4218   \n",
       "         Beacon Hill-North End                            4446   \n",
       "         Beacon Hill-Northeastern University              4302   \n",
       "         Beacon Hill-South Station                        4200   \n",
       "         Boston University-Back Bay                       4164   \n",
       "         Boston University-Beacon Hill                    4098   \n",
       "         Boston University-Financial District             4314   \n",
       "         Boston University-North Station                  4230   \n",
       "         Boston University-Theatre District               4416   \n",
       "         Boston University-West End                       4398   \n",
       "         Fenway-Back Bay                                  4212   \n",
       "         Fenway-Beacon Hill                               4200   \n",
       "         Fenway-Financial District                        4326   \n",
       "         Fenway-North Station                             4284   \n",
       "         Fenway-Theatre District                          4068   \n",
       "         Fenway-West End                                  4530   \n",
       "         Financial District-Boston University             4314   \n",
       "         Financial District-Fenway                        4326   \n",
       "         Financial District-Haymarket Square              4505   \n",
       "         Financial District-North End                     4152   \n",
       "         Financial District-Northeastern University       4314   \n",
       "         Financial District-South Station                 4626   \n",
       "         Haymarket Square-Back Bay                        4236   \n",
       "         Haymarket Square-Beacon Hill                     4218   \n",
       "         Haymarket Square-Financial District              4506   \n",
       "         Haymarket Square-North Station                   4314   \n",
       "         Haymarket Square-Theatre District                4308   \n",
       "         Haymarket Square-West End                        4032   \n",
       "         North End-Back Bay                               4548   \n",
       "         North End-Beacon Hill                            4446   \n",
       "         North End-Financial District                     4152   \n",
       "         North End-North Station                          4194   \n",
       "         North End-Theatre District                       4170   \n",
       "         North End-West End                               4110   \n",
       "         North Station-Boston University                  4230   \n",
       "         North Station-Fenway                             4284   \n",
       "         North Station-Haymarket Square                   4314   \n",
       "         North Station-North End                          4194   \n",
       "         North Station-Northeastern University            4254   \n",
       "         North Station-South Station                      4050   \n",
       "         Northeastern University-Back Bay                 4266   \n",
       "         Northeastern University-Beacon Hill              4302   \n",
       "         Northeastern University-Financial District       4314   \n",
       "         Northeastern University-North Station            4254   \n",
       "         Northeastern University-Theatre District         4254   \n",
       "         Northeastern University-West End                 4224   \n",
       "         South Station-Back Bay                           4224   \n",
       "         South Station-Beacon Hill                        4200   \n",
       "         South Station-Financial District                 4626   \n",
       "         South Station-North Station                      4050   \n",
       "         South Station-Theatre District                   4320   \n",
       "         South Station-West End                           4200   \n",
       "         Theatre District-Boston University               4416   \n",
       "         Theatre District-Fenway                          4068   \n",
       "         Theatre District-Haymarket Square                4308   \n",
       "         Theatre District-North End                       4164   \n",
       "         Theatre District-Northeastern University         4254   \n",
       "         Theatre District-South Station                   4320   \n",
       "         West End-Boston University                       4392   \n",
       "         West End-Fenway                                  4530   \n",
       "         West End-Haymarket Square                        4032   \n",
       "         West End-North End                               4110   \n",
       "         West End-Northeastern University                 4224   \n",
       "         West End-South Station                           4200   \n",
       "Uber     Back Bay-Boston University                       5271   \n",
       "         Back Bay-Fenway                                  5257   \n",
       "         Back Bay-Haymarket Square                        5369   \n",
       "         Back Bay-North End                               5677   \n",
       "         Back Bay-Northeastern University                 5313   \n",
       "         Back Bay-South Station                           5250   \n",
       "         Beacon Hill-Boston University                    5124   \n",
       "         Beacon Hill-Fenway                               5236   \n",
       "         Beacon Hill-Haymarket Square                     5348   \n",
       "         Beacon Hill-North End                            5593   \n",
       "         Beacon Hill-Northeastern University              5382   \n",
       "         Beacon Hill-South Station                        5256   \n",
       "         Boston University-Back Bay                       5271   \n",
       "         Boston University-Beacon Hill                    5117   \n",
       "         Boston University-Financial District             5397   \n",
       "         Boston University-North Station                  5250   \n",
       "         Boston University-Theatre District               5551   \n",
       "         Boston University-West End                       5558   \n",
       "         Fenway-Back Bay                                  5264   \n",
       "         Fenway-Beacon Hill                               5236   \n",
       "         Fenway-Financial District                        5355   \n",
       "         Fenway-North Station                             5467   \n",
       "         Fenway-Theatre District                          5180   \n",
       "         Fenway-West End                                  5635   \n",
       "         Financial District-Boston University             5397   \n",
       "         Financial District-Fenway                        5369   \n",
       "         Financial District-Haymarket Square              5628   \n",
       "         Financial District-North End                     5187   \n",
       "         Financial District-Northeastern University       5313   \n",
       "         Financial District-South Station                 5726   \n",
       "         Haymarket Square-Back Bay                        5369   \n",
       "         Haymarket Square-Beacon Hill                     5348   \n",
       "         Haymarket Square-Financial District              5628   \n",
       "         Haymarket Square-North Station                   5320   \n",
       "         Haymarket Square-Theatre District                5333   \n",
       "         Haymarket Square-West End                        5124   \n",
       "         North End-Back Bay                               5677   \n",
       "         North End-Beacon Hill                            5593   \n",
       "         North End-Financial District                     5187   \n",
       "         North End-North Station                          5228   \n",
       "         North End-Theatre District                       5355   \n",
       "         North End-West End                               5103   \n",
       "         North Station-Boston University                  5250   \n",
       "         North Station-Fenway                             5467   \n",
       "         North Station-Haymarket Square                   5327   \n",
       "         North Station-North End                          5227   \n",
       "         North Station-Northeastern University            5425   \n",
       "         North Station-South Station                      5096   \n",
       "         Northeastern University-Back Bay                 5313   \n",
       "         Northeastern University-Beacon Hill              5388   \n",
       "         Northeastern University-Financial District       5320   \n",
       "         Northeastern University-North Station            5425   \n",
       "         Northeastern University-Theatre District         5390   \n",
       "         Northeastern University-West End                 5306   \n",
       "         South Station-Back Bay                           5236   \n",
       "         South Station-Beacon Hill                        5257   \n",
       "         South Station-Financial District                 5726   \n",
       "         South Station-North Station                      5103   \n",
       "         South Station-Theatre District                   5453   \n",
       "         South Station-West End                           5355   \n",
       "         Theatre District-Boston University               5550   \n",
       "         Theatre District-Fenway                          5173   \n",
       "         Theatre District-Haymarket Square                5355   \n",
       "         Theatre District-North End                       5362   \n",
       "         Theatre District-Northeastern University         5390   \n",
       "         Theatre District-South Station                   5453   \n",
       "         West End-Boston University                       5558   \n",
       "         West End-Fenway                                  5635   \n",
       "         West End-Haymarket Square                        5124   \n",
       "         West End-North End                               5096   \n",
       "         West End-Northeastern University                 5313   \n",
       "         West End-South Station                           5348   \n",
       "\n",
       "                                                    final_price_per_km  \\\n",
       "                                                                  mean   \n",
       "cab_type route_name                                                      \n",
       "Lyft     Back Bay-Boston University                          11.196404   \n",
       "         Back Bay-Fenway                                     11.325771   \n",
       "         Back Bay-Haymarket Square                            8.940161   \n",
       "         Back Bay-North End                                   8.215278   \n",
       "         Back Bay-Northeastern University                    14.106491   \n",
       "         Back Bay-South Station                              11.851774   \n",
       "         Beacon Hill-Boston University                        7.810311   \n",
       "         Beacon Hill-Fenway                                   7.593173   \n",
       "         Beacon Hill-Haymarket Square                        10.738861   \n",
       "         Beacon Hill-North End                                9.753024   \n",
       "         Beacon Hill-Northeastern University                  7.696507   \n",
       "         Beacon Hill-South Station                            8.726814   \n",
       "         Boston University-Back Bay                           9.851859   \n",
       "         Boston University-Beacon Hill                        7.306232   \n",
       "         Boston University-Financial District                 6.325658   \n",
       "         Boston University-North Station                      6.709683   \n",
       "         Boston University-Theatre District                   7.300040   \n",
       "         Boston University-West End                           6.969165   \n",
       "         Fenway-Back Bay                                     10.735456   \n",
       "         Fenway-Beacon Hill                                   7.847029   \n",
       "         Fenway-Financial District                            6.646724   \n",
       "         Fenway-North Station                                 7.123082   \n",
       "         Fenway-Theatre District                              7.952211   \n",
       "         Fenway-West End                                      7.280642   \n",
       "         Financial District-Boston University                 5.427648   \n",
       "         Financial District-Fenway                            5.868767   \n",
       "         Financial District-Haymarket Square                 12.853850   \n",
       "         Financial District-North End                        12.240817   \n",
       "         Financial District-Northeastern University           6.535756   \n",
       "         Financial District-South Station                    29.055069   \n",
       "         Haymarket Square-Back Bay                            7.895366   \n",
       "         Haymarket Square-Beacon Hill                        10.829382   \n",
       "         Haymarket Square-Financial District                 13.018978   \n",
       "         Haymarket Square-North Station                      23.629460   \n",
       "         Haymarket Square-Theatre District                   11.142145   \n",
       "         Haymarket Square-West End                           19.283607   \n",
       "         North End-Back Bay                                   7.171385   \n",
       "         North End-Beacon Hill                                8.840081   \n",
       "         North End-Financial District                        11.998963   \n",
       "         North End-North Station                             12.573707   \n",
       "         North End-Theatre District                          10.262330   \n",
       "         North End-West End                                  11.169739   \n",
       "         North Station-Boston University                      6.430138   \n",
       "         North Station-Fenway                                 6.138962   \n",
       "         North Station-Haymarket Square                      17.690965   \n",
       "         North Station-North End                             12.479671   \n",
       "         North Station-Northeastern University                6.322821   \n",
       "         North Station-South Station                          8.026337   \n",
       "         Northeastern University-Back Bay                    11.137006   \n",
       "         Northeastern University-Beacon Hill                  7.662538   \n",
       "         Northeastern University-Financial District           6.944352   \n",
       "         Northeastern University-North Station                7.253695   \n",
       "         Northeastern University-Theatre District             8.973357   \n",
       "         Northeastern University-West End                     7.510836   \n",
       "         South Station-Back Bay                               7.771246   \n",
       "         South Station-Beacon Hill                            7.610624   \n",
       "         South Station-Financial District                    21.868187   \n",
       "         South Station-North Station                          8.796556   \n",
       "         South Station-Theatre District                      13.018634   \n",
       "         South Station-West End                               9.408793   \n",
       "         Theatre District-Boston University                   6.766930   \n",
       "         Theatre District-Fenway                              7.270123   \n",
       "         Theatre District-Haymarket Square                   10.173924   \n",
       "         Theatre District-North End                          10.234013   \n",
       "         Theatre District-Northeastern University             8.703518   \n",
       "         Theatre District-South Station                      23.400287   \n",
       "         West End-Boston University                           6.702781   \n",
       "         West End-Fenway                                      6.482399   \n",
       "         West End-Haymarket Square                           16.862492   \n",
       "         West End-North End                                  12.686269   \n",
       "         West End-Northeastern University                     6.608524   \n",
       "         West End-South Station                               8.751161   \n",
       "Uber     Back Bay-Boston University                          18.109586   \n",
       "         Back Bay-Fenway                                      9.586416   \n",
       "         Back Bay-Haymarket Square                            7.221561   \n",
       "         Back Bay-North End                                   6.496655   \n",
       "         Back Bay-Northeastern University                    10.825375   \n",
       "         Back Bay-South Station                               6.120086   \n",
       "         Beacon Hill-Boston University                        6.953780   \n",
       "         Beacon Hill-Fenway                                   6.628613   \n",
       "         Beacon Hill-Haymarket Square                        10.201541   \n",
       "         Beacon Hill-North End                                8.477691   \n",
       "         Beacon Hill-Northeastern University                  7.459618   \n",
       "         Beacon Hill-South Station                            6.985426   \n",
       "         Boston University-Back Bay                          16.990159   \n",
       "         Boston University-Beacon Hill                        5.909712   \n",
       "         Boston University-Financial District                 5.001677   \n",
       "         Boston University-North Station                      5.569837   \n",
       "         Boston University-Theatre District                   6.529944   \n",
       "         Boston University-West End                           5.677228   \n",
       "         Fenway-Back Bay                                      8.690381   \n",
       "         Fenway-Beacon Hill                                   6.431097   \n",
       "         Fenway-Financial District                            5.010006   \n",
       "         Fenway-North Station                                 5.917284   \n",
       "         Fenway-Theatre District                              6.628892   \n",
       "         Fenway-West End                                      6.209791   \n",
       "         Financial District-Boston University                 4.891208   \n",
       "         Financial District-Fenway                            4.921787   \n",
       "         Financial District-Haymarket Square                 10.860858   \n",
       "         Financial District-North End                        10.751800   \n",
       "         Financial District-Northeastern University           5.445105   \n",
       "         Financial District-South Station                    30.907577   \n",
       "         Haymarket Square-Back Bay                            7.754608   \n",
       "         Haymarket Square-Beacon Hill                        12.655429   \n",
       "         Haymarket Square-Financial District                 13.408368   \n",
       "         Haymarket Square-North Station                      24.867128   \n",
       "         Haymarket Square-Theatre District                   11.522774   \n",
       "         Haymarket Square-West End                           22.670071   \n",
       "         North End-Back Bay                                   6.902318   \n",
       "         North End-Beacon Hill                                8.535416   \n",
       "         North End-Financial District                        12.402334   \n",
       "         North End-North Station                             13.016907   \n",
       "         North End-Theatre District                          10.231481   \n",
       "         North End-West End                                  11.385538   \n",
       "         North Station-Boston University                      6.009858   \n",
       "         North Station-Fenway                                 5.856115   \n",
       "         North Station-Haymarket Square                      21.623081   \n",
       "         North Station-North End                             12.305138   \n",
       "         North Station-Northeastern University                5.673820   \n",
       "         North Station-South Station                          7.452980   \n",
       "         Northeastern University-Back Bay                     8.452403   \n",
       "         Northeastern University-Beacon Hill                  6.229092   \n",
       "         Northeastern University-Financial District           4.920417   \n",
       "         Northeastern University-North Station                5.774847   \n",
       "         Northeastern University-Theatre District             7.411483   \n",
       "         Northeastern University-West End                     5.857908   \n",
       "         South Station-Back Bay                               6.366828   \n",
       "         South Station-Beacon Hill                            6.495034   \n",
       "         South Station-Financial District                    20.621286   \n",
       "         South Station-North Station                          7.689807   \n",
       "         South Station-Theatre District                      14.277938   \n",
       "         South Station-West End                               7.762825   \n",
       "         Theatre District-Boston University                   6.755085   \n",
       "         Theatre District-Fenway                              6.353544   \n",
       "         Theatre District-Haymarket Square                    8.918888   \n",
       "         Theatre District-North End                           8.912934   \n",
       "         Theatre District-Northeastern University             8.275844   \n",
       "         Theatre District-South Station                      26.138656   \n",
       "         West End-Boston University                           6.234556   \n",
       "         West End-Fenway                                      5.991066   \n",
       "         West End-Haymarket Square                           20.042845   \n",
       "         West End-North End                                  12.870655   \n",
       "         West End-Northeastern University                     5.902894   \n",
       "         West End-South Station                               7.287031   \n",
       "\n",
       "                                                                \n",
       "                                                           std  \n",
       "cab_type route_name                                             \n",
       "Lyft     Back Bay-Boston University                   8.767156  \n",
       "         Back Bay-Fenway                              8.861602  \n",
       "         Back Bay-Haymarket Square                    6.569238  \n",
       "         Back Bay-North End                           5.969519  \n",
       "         Back Bay-Northeastern University            11.369189  \n",
       "         Back Bay-South Station                       9.004794  \n",
       "         Beacon Hill-Boston University                4.771630  \n",
       "         Beacon Hill-Fenway                           4.743307  \n",
       "         Beacon Hill-Haymarket Square                 7.070191  \n",
       "         Beacon Hill-North End                        6.559271  \n",
       "         Beacon Hill-Northeastern University          4.760075  \n",
       "         Beacon Hill-South Station                    6.210927  \n",
       "         Boston University-Back Bay                   7.149587  \n",
       "         Boston University-Beacon Hill                4.891627  \n",
       "         Boston University-Financial District         4.711511  \n",
       "         Boston University-North Station              4.715815  \n",
       "         Boston University-Theatre District           4.818496  \n",
       "         Boston University-West End                   4.805654  \n",
       "         Fenway-Back Bay                              8.008674  \n",
       "         Fenway-Beacon Hill                           5.261717  \n",
       "         Fenway-Financial District                    4.891418  \n",
       "         Fenway-North Station                         4.929034  \n",
       "         Fenway-Theatre District                      5.670643  \n",
       "         Fenway-West End                              4.867322  \n",
       "         Financial District-Boston University         3.363256  \n",
       "         Financial District-Fenway                    3.540639  \n",
       "         Financial District-Haymarket Square          8.611428  \n",
       "         Financial District-North End                 8.158561  \n",
       "         Financial District-Northeastern University   3.843676  \n",
       "         Financial District-South Station            19.884671  \n",
       "         Haymarket Square-Back Bay                    3.975481  \n",
       "         Haymarket Square-Beacon Hill                 6.185594  \n",
       "         Haymarket Square-Financial District          7.844831  \n",
       "         Haymarket Square-North Station              14.832336  \n",
       "         Haymarket Square-Theatre District            6.111852  \n",
       "         Haymarket Square-West End                   11.956692  \n",
       "         North End-Back Bay                           3.566535  \n",
       "         North End-Beacon Hill                        4.419042  \n",
       "         North End-Financial District                 6.712095  \n",
       "         North End-North Station                      7.408058  \n",
       "         North End-Theatre District                   5.104490  \n",
       "         North End-West End                           5.988906  \n",
       "         North Station-Boston University              3.419562  \n",
       "         North Station-Fenway                         3.097191  \n",
       "         North Station-Haymarket Square              11.139583  \n",
       "         North Station-North End                      7.364143  \n",
       "         North Station-Northeastern University        3.391964  \n",
       "         North Station-South Station                  4.331449  \n",
       "         Northeastern University-Back Bay             8.260409  \n",
       "         Northeastern University-Beacon Hill          4.899430  \n",
       "         Northeastern University-Financial District   5.098301  \n",
       "         Northeastern University-North Station        5.161796  \n",
       "         Northeastern University-Theatre District     6.064060  \n",
       "         Northeastern University-West End             5.164672  \n",
       "         South Station-Back Bay                       4.719252  \n",
       "         South Station-Beacon Hill                    4.636419  \n",
       "         South Station-Financial District            15.213988  \n",
       "         South Station-North Station                  5.195224  \n",
       "         South Station-Theatre District               8.698403  \n",
       "         South Station-West End                       5.600754  \n",
       "         Theatre District-Boston University           4.918389  \n",
       "         Theatre District-Fenway                      5.123547  \n",
       "         Theatre District-Haymarket Square            7.188315  \n",
       "         Theatre District-North End                   7.219110  \n",
       "         Theatre District-Northeastern University     5.498347  \n",
       "         Theatre District-South Station              18.870455  \n",
       "         West End-Boston University                   3.399936  \n",
       "         West End-Fenway                              3.385490  \n",
       "         West End-Haymarket Square                   10.739235  \n",
       "         West End-North End                           7.421480  \n",
       "         West End-Northeastern University             3.516421  \n",
       "         West End-South Station                       4.578973  \n",
       "Uber     Back Bay-Boston University                  68.572168  \n",
       "         Back Bay-Fenway                              4.851776  \n",
       "         Back Bay-Haymarket Square                    3.479058  \n",
       "         Back Bay-North End                           3.255962  \n",
       "         Back Bay-Northeastern University             5.662552  \n",
       "         Back Bay-South Station                       4.487546  \n",
       "         Beacon Hill-Boston University                3.487852  \n",
       "         Beacon Hill-Fenway                           3.239987  \n",
       "         Beacon Hill-Haymarket Square                 5.201214  \n",
       "         Beacon Hill-North End                        4.507740  \n",
       "         Beacon Hill-Northeastern University          3.533642  \n",
       "         Beacon Hill-South Station                    4.134841  \n",
       "         Boston University-Back Bay                  67.117720  \n",
       "         Boston University-Beacon Hill                3.061232  \n",
       "         Boston University-Financial District         2.566789  \n",
       "         Boston University-North Station              2.818329  \n",
       "         Boston University-Theatre District           6.848751  \n",
       "         Boston University-West End                   3.021020  \n",
       "         Fenway-Back Bay                              4.557584  \n",
       "         Fenway-Beacon Hill                           3.167221  \n",
       "         Fenway-Financial District                    2.540991  \n",
       "         Fenway-North Station                         2.991728  \n",
       "         Fenway-Theatre District                      3.246079  \n",
       "         Fenway-West End                              3.059369  \n",
       "         Financial District-Boston University         3.098047  \n",
       "         Financial District-Fenway                    2.460739  \n",
       "         Financial District-Haymarket Square          6.119823  \n",
       "         Financial District-North End                 5.891161  \n",
       "         Financial District-Northeastern University   3.012155  \n",
       "         Financial District-South Station            18.923487  \n",
       "         Haymarket Square-Back Bay                    3.792009  \n",
       "         Haymarket Square-Beacon Hill                 7.216522  \n",
       "         Haymarket Square-Financial District          7.685463  \n",
       "         Haymarket Square-North Station              14.914220  \n",
       "         Haymarket Square-Theatre District            5.952334  \n",
       "         Haymarket Square-West End                   34.775115  \n",
       "         North End-Back Bay                           3.369814  \n",
       "         North End-Beacon Hill                        4.320154  \n",
       "         North End-Financial District                 6.362330  \n",
       "         North End-North Station                      8.171296  \n",
       "         North End-Theatre District                   4.870521  \n",
       "         North End-West End                           6.176260  \n",
       "         North Station-Boston University              2.906523  \n",
       "         North Station-Fenway                         2.846898  \n",
       "         North Station-Haymarket Square              13.199309  \n",
       "         North Station-North End                      7.799716  \n",
       "         North Station-Northeastern University        2.888459  \n",
       "         North Station-South Station                  3.831067  \n",
       "         Northeastern University-Back Bay             4.193393  \n",
       "         Northeastern University-Beacon Hill          2.933647  \n",
       "         Northeastern University-Financial District   2.619943  \n",
       "         Northeastern University-North Station        2.837779  \n",
       "         Northeastern University-Theatre District     3.846429  \n",
       "         Northeastern University-West End             3.032782  \n",
       "         South Station-Back Bay                       3.378107  \n",
       "         South Station-Beacon Hill                    3.135762  \n",
       "         South Station-Financial District            12.891801  \n",
       "         South Station-North Station                  3.959624  \n",
       "         South Station-Theatre District              56.062044  \n",
       "         South Station-West End                       4.013952  \n",
       "         Theatre District-Boston University           4.825100  \n",
       "         Theatre District-Fenway                      3.098879  \n",
       "         Theatre District-Haymarket Square            4.293752  \n",
       "         Theatre District-North End                   4.553477  \n",
       "         Theatre District-Northeastern University     3.869568  \n",
       "         Theatre District-South Station              56.063452  \n",
       "         West End-Boston University                   2.983863  \n",
       "         West End-Fenway                              2.944970  \n",
       "         West End-Haymarket Square                   34.461501  \n",
       "         West End-North End                          13.597269  \n",
       "         West End-Northeastern University             2.808164  \n",
       "         West End-South Station                       3.933214  "
      ]
     },
     "execution_count": 625,
     "metadata": {},
     "output_type": "execute_result"
    }
   ],
   "source": [
    "df.groupby(['cab_type', 'route_name']).agg({'route_name':'count',\n",
    "                                     'final_price_per_km': ['mean', 'std']})"
   ]
  },
  {
   "cell_type": "markdown",
   "metadata": {},
   "source": [
    "Видно, что некоторые маршруты дороже, посмотрим какие:"
   ]
  },
  {
   "cell_type": "code",
   "execution_count": 626,
   "metadata": {},
   "outputs": [
    {
     "data": {
      "text/plain": [
       "<AxesSubplot:xlabel='destination', ylabel='source'>"
      ]
     },
     "execution_count": 626,
     "metadata": {},
     "output_type": "execute_result"
    },
    {
     "data": {
      "image/png": "[encoded data removed]",
      "text/plain": [
       "<Figure size 432x288 with 2 Axes>"
      ]
     },
     "metadata": {
      "needs_background": "light"
     },
     "output_type": "display_data"
    }
   ],
   "source": [
    "route_price =  pd.pivot_table(df.groupby(['source','destination']).agg({'final_price_per_km': 'mean'}),\n",
    "                              values='final_price_per_km',\n",
    "                              index=['source'],\n",
    "                              columns=['destination'])\n",
    "sns.heatmap(route_price, annot=True)"
   ]
  },
  {
   "cell_type": "markdown",
   "metadata": {},
   "source": [
    "Теперь посмотрим куда ездят такси разных компаний:"
   ]
  },
  {
   "cell_type": "code",
   "execution_count": 627,
   "metadata": {},
   "outputs": [],
   "source": [
    "uber = df[df.cab_type_id==1].copy()\n",
    "lyft = df[df.cab_type_id==0].copy()"
   ]
  },
  {
   "cell_type": "code",
   "execution_count": 628,
   "metadata": {},
   "outputs": [
    {
     "data": {
      "text/plain": [
       "<AxesSubplot:title={'center':'Lyft'}, xlabel='destination', ylabel='source'>"
      ]
     },
     "execution_count": 628,
     "metadata": {},
     "output_type": "execute_result"
    },
    {
     "data": {
      "image/png": "[encoded data removed]",
      "text/plain": [
       "<Figure size 1440x288 with 4 Axes>"
      ]
     },
     "metadata": {
      "needs_background": "light"
     },
     "output_type": "display_data"
    }
   ],
   "source": [
    "route_count_uber =  pd.pivot_table(uber.groupby(['source','destination']).agg({'name': lambda x: round(x.count()*100/uber.shape[0],3)}),\n",
    "                              values='name',\n",
    "                              index=['source'],\n",
    "                              columns=['destination'])\n",
    "route_count_lyft =  pd.pivot_table(lyft.groupby(['source','destination']).agg({'name': lambda x: round(x.count()*100/lyft.shape[0],3)}),\n",
    "                              values='name',\n",
    "                              index=['source'],\n",
    "                              columns=['destination'])\n",
    "plt.figure(figsize=(20,4))\n",
    "ax =plt.subplot(121)\n",
    "plt.title('Uber')\n",
    "sns.heatmap(route_count_uber,annot=True, vmin = 1.3, vmax=1.5)\n",
    "ax =plt.subplot(122)\n",
    "plt.title('Lyft')\n",
    "sns.heatmap(route_count_lyft, annot=True,vmin = 1.3, vmax=1.5)"
   ]
  },
  {
   "cell_type": "markdown",
   "metadata": {},
   "source": [
    "Посчитаем отношение количества поездок в те или иные районы в Убер и Лифт"
   ]
  },
  {
   "cell_type": "code",
   "execution_count": 629,
   "metadata": {},
   "outputs": [
    {
     "data": {
      "text/html": [
       "<div>\n",
       "<style scoped>\n",
       "    .dataframe tbody tr th:only-of-type {\n",
       "        vertical-align: middle;\n",
       "    }\n",
       "\n",
       "    .dataframe tbody tr th {\n",
       "        vertical-align: top;\n",
       "    }\n",
       "\n",
       "    .dataframe thead th {\n",
       "        text-align: right;\n",
       "    }\n",
       "</style>\n",
       "<table border=\"1\" class=\"dataframe\">\n",
       "  <thead>\n",
       "    <tr style=\"text-align: right;\">\n",
       "      <th></th>\n",
       "      <th>distance</th>\n",
       "    </tr>\n",
       "    <tr>\n",
       "      <th>route_name</th>\n",
       "      <th></th>\n",
       "    </tr>\n",
       "  </thead>\n",
       "  <tbody>\n",
       "    <tr>\n",
       "      <th>Theatre District-North End</th>\n",
       "      <td>1.03</td>\n",
       "    </tr>\n",
       "    <tr>\n",
       "      <th>Fenway-Theatre District</th>\n",
       "      <td>1.02</td>\n",
       "    </tr>\n",
       "    <tr>\n",
       "      <th>North Station-Northeastern University</th>\n",
       "      <td>1.02</td>\n",
       "    </tr>\n",
       "    <tr>\n",
       "      <th>West End-Haymarket Square</th>\n",
       "      <td>1.02</td>\n",
       "    </tr>\n",
       "    <tr>\n",
       "      <th>Haymarket Square-West End</th>\n",
       "      <td>1.02</td>\n",
       "    </tr>\n",
       "    <tr>\n",
       "      <th>Theatre District-Fenway</th>\n",
       "      <td>1.02</td>\n",
       "    </tr>\n",
       "    <tr>\n",
       "      <th>North End-Theatre District</th>\n",
       "      <td>1.02</td>\n",
       "    </tr>\n",
       "    <tr>\n",
       "      <th>Fenway-North Station</th>\n",
       "      <td>1.02</td>\n",
       "    </tr>\n",
       "    <tr>\n",
       "      <th>North Station-Fenway</th>\n",
       "      <td>1.02</td>\n",
       "    </tr>\n",
       "    <tr>\n",
       "      <th>Northeastern University-North Station</th>\n",
       "      <td>1.02</td>\n",
       "    </tr>\n",
       "    <tr>\n",
       "      <th>Haymarket Square-Back Bay</th>\n",
       "      <td>1.01</td>\n",
       "    </tr>\n",
       "    <tr>\n",
       "      <th>Haymarket Square-Beacon Hill</th>\n",
       "      <td>1.01</td>\n",
       "    </tr>\n",
       "    <tr>\n",
       "      <th>Back Bay-Boston University</th>\n",
       "      <td>1.01</td>\n",
       "    </tr>\n",
       "    <tr>\n",
       "      <th>Northeastern University-Theatre District</th>\n",
       "      <td>1.01</td>\n",
       "    </tr>\n",
       "    <tr>\n",
       "      <th>South Station-West End</th>\n",
       "      <td>1.01</td>\n",
       "    </tr>\n",
       "    <tr>\n",
       "      <th>Theatre District-Northeastern University</th>\n",
       "      <td>1.01</td>\n",
       "    </tr>\n",
       "    <tr>\n",
       "      <th>West End-Boston University</th>\n",
       "      <td>1.01</td>\n",
       "    </tr>\n",
       "    <tr>\n",
       "      <th>West End-Northeastern University</th>\n",
       "      <td>1.01</td>\n",
       "    </tr>\n",
       "    <tr>\n",
       "      <th>Northeastern University-West End</th>\n",
       "      <td>1.01</td>\n",
       "    </tr>\n",
       "    <tr>\n",
       "      <th>West End-South Station</th>\n",
       "      <td>1.01</td>\n",
       "    </tr>\n",
       "    <tr>\n",
       "      <th>Boston University-Back Bay</th>\n",
       "      <td>1.01</td>\n",
       "    </tr>\n",
       "    <tr>\n",
       "      <th>Beacon Hill-Haymarket Square</th>\n",
       "      <td>1.01</td>\n",
       "    </tr>\n",
       "    <tr>\n",
       "      <th>Back Bay-Haymarket Square</th>\n",
       "      <td>1.01</td>\n",
       "    </tr>\n",
       "    <tr>\n",
       "      <th>Boston University-West End</th>\n",
       "      <td>1.01</td>\n",
       "    </tr>\n",
       "    <tr>\n",
       "      <th>Northeastern University-Beacon Hill</th>\n",
       "      <td>1.00</td>\n",
       "    </tr>\n",
       "    <tr>\n",
       "      <th>Beacon Hill-North End</th>\n",
       "      <td>1.00</td>\n",
       "    </tr>\n",
       "    <tr>\n",
       "      <th>North Station-South Station</th>\n",
       "      <td>1.00</td>\n",
       "    </tr>\n",
       "    <tr>\n",
       "      <th>North Station-North End</th>\n",
       "      <td>1.00</td>\n",
       "    </tr>\n",
       "    <tr>\n",
       "      <th>Boston University-Beacon Hill</th>\n",
       "      <td>1.00</td>\n",
       "    </tr>\n",
       "    <tr>\n",
       "      <th>South Station-North Station</th>\n",
       "      <td>1.00</td>\n",
       "    </tr>\n",
       "    <tr>\n",
       "      <th>Boston University-Financial District</th>\n",
       "      <td>1.00</td>\n",
       "    </tr>\n",
       "    <tr>\n",
       "      <th>North End-North Station</th>\n",
       "      <td>1.00</td>\n",
       "    </tr>\n",
       "    <tr>\n",
       "      <th>South Station-Theatre District</th>\n",
       "      <td>1.00</td>\n",
       "    </tr>\n",
       "    <tr>\n",
       "      <th>North End-Beacon Hill</th>\n",
       "      <td>1.00</td>\n",
       "    </tr>\n",
       "    <tr>\n",
       "      <th>Theatre District-Boston University</th>\n",
       "      <td>1.00</td>\n",
       "    </tr>\n",
       "    <tr>\n",
       "      <th>Beacon Hill-Boston University</th>\n",
       "      <td>1.00</td>\n",
       "    </tr>\n",
       "    <tr>\n",
       "      <th>Boston University-Theatre District</th>\n",
       "      <td>1.00</td>\n",
       "    </tr>\n",
       "    <tr>\n",
       "      <th>Theatre District-South Station</th>\n",
       "      <td>1.00</td>\n",
       "    </tr>\n",
       "    <tr>\n",
       "      <th>Financial District-Boston University</th>\n",
       "      <td>1.00</td>\n",
       "    </tr>\n",
       "    <tr>\n",
       "      <th>Beacon Hill-Northeastern University</th>\n",
       "      <td>1.00</td>\n",
       "    </tr>\n",
       "    <tr>\n",
       "      <th>Beacon Hill-South Station</th>\n",
       "      <td>0.99</td>\n",
       "    </tr>\n",
       "    <tr>\n",
       "      <th>Beacon Hill-Fenway</th>\n",
       "      <td>0.99</td>\n",
       "    </tr>\n",
       "    <tr>\n",
       "      <th>Theatre District-Haymarket Square</th>\n",
       "      <td>0.99</td>\n",
       "    </tr>\n",
       "    <tr>\n",
       "      <th>Back Bay-South Station</th>\n",
       "      <td>0.99</td>\n",
       "    </tr>\n",
       "    <tr>\n",
       "      <th>South Station-Financial District</th>\n",
       "      <td>0.99</td>\n",
       "    </tr>\n",
       "    <tr>\n",
       "      <th>Back Bay-Northeastern University</th>\n",
       "      <td>0.99</td>\n",
       "    </tr>\n",
       "    <tr>\n",
       "      <th>South Station-Beacon Hill</th>\n",
       "      <td>0.99</td>\n",
       "    </tr>\n",
       "    <tr>\n",
       "      <th>West End-Fenway</th>\n",
       "      <td>0.99</td>\n",
       "    </tr>\n",
       "    <tr>\n",
       "      <th>South Station-Back Bay</th>\n",
       "      <td>0.99</td>\n",
       "    </tr>\n",
       "    <tr>\n",
       "      <th>Back Bay-North End</th>\n",
       "      <td>0.99</td>\n",
       "    </tr>\n",
       "    <tr>\n",
       "      <th>West End-North End</th>\n",
       "      <td>0.99</td>\n",
       "    </tr>\n",
       "    <tr>\n",
       "      <th>Fenway-Financial District</th>\n",
       "      <td>0.99</td>\n",
       "    </tr>\n",
       "    <tr>\n",
       "      <th>Northeastern University-Financial District</th>\n",
       "      <td>0.99</td>\n",
       "    </tr>\n",
       "    <tr>\n",
       "      <th>Northeastern University-Back Bay</th>\n",
       "      <td>0.99</td>\n",
       "    </tr>\n",
       "    <tr>\n",
       "      <th>Fenway-Back Bay</th>\n",
       "      <td>0.99</td>\n",
       "    </tr>\n",
       "    <tr>\n",
       "      <th>Fenway-West End</th>\n",
       "      <td>0.99</td>\n",
       "    </tr>\n",
       "    <tr>\n",
       "      <th>Financial District-Fenway</th>\n",
       "      <td>0.99</td>\n",
       "    </tr>\n",
       "    <tr>\n",
       "      <th>Financial District-Haymarket Square</th>\n",
       "      <td>0.99</td>\n",
       "    </tr>\n",
       "    <tr>\n",
       "      <th>Financial District-North End</th>\n",
       "      <td>0.99</td>\n",
       "    </tr>\n",
       "    <tr>\n",
       "      <th>Financial District-Northeastern University</th>\n",
       "      <td>0.99</td>\n",
       "    </tr>\n",
       "    <tr>\n",
       "      <th>Financial District-South Station</th>\n",
       "      <td>0.99</td>\n",
       "    </tr>\n",
       "    <tr>\n",
       "      <th>Haymarket Square-Financial District</th>\n",
       "      <td>0.99</td>\n",
       "    </tr>\n",
       "    <tr>\n",
       "      <th>Haymarket Square-North Station</th>\n",
       "      <td>0.99</td>\n",
       "    </tr>\n",
       "    <tr>\n",
       "      <th>Haymarket Square-Theatre District</th>\n",
       "      <td>0.99</td>\n",
       "    </tr>\n",
       "    <tr>\n",
       "      <th>Boston University-North Station</th>\n",
       "      <td>0.99</td>\n",
       "    </tr>\n",
       "    <tr>\n",
       "      <th>Back Bay-Fenway</th>\n",
       "      <td>0.99</td>\n",
       "    </tr>\n",
       "    <tr>\n",
       "      <th>North End-Financial District</th>\n",
       "      <td>0.99</td>\n",
       "    </tr>\n",
       "    <tr>\n",
       "      <th>North End-West End</th>\n",
       "      <td>0.99</td>\n",
       "    </tr>\n",
       "    <tr>\n",
       "      <th>North Station-Boston University</th>\n",
       "      <td>0.99</td>\n",
       "    </tr>\n",
       "    <tr>\n",
       "      <th>North Station-Haymarket Square</th>\n",
       "      <td>0.99</td>\n",
       "    </tr>\n",
       "    <tr>\n",
       "      <th>Fenway-Beacon Hill</th>\n",
       "      <td>0.99</td>\n",
       "    </tr>\n",
       "    <tr>\n",
       "      <th>North End-Back Bay</th>\n",
       "      <td>0.99</td>\n",
       "    </tr>\n",
       "  </tbody>\n",
       "</table>\n",
       "</div>"
      ],
      "text/plain": [
       "                                            distance\n",
       "route_name                                          \n",
       "Theatre District-North End                      1.03\n",
       "Fenway-Theatre District                         1.02\n",
       "North Station-Northeastern University           1.02\n",
       "West End-Haymarket Square                       1.02\n",
       "Haymarket Square-West End                       1.02\n",
       "Theatre District-Fenway                         1.02\n",
       "North End-Theatre District                      1.02\n",
       "Fenway-North Station                            1.02\n",
       "North Station-Fenway                            1.02\n",
       "Northeastern University-North Station           1.02\n",
       "Haymarket Square-Back Bay                       1.01\n",
       "Haymarket Square-Beacon Hill                    1.01\n",
       "Back Bay-Boston University                      1.01\n",
       "Northeastern University-Theatre District        1.01\n",
       "South Station-West End                          1.01\n",
       "Theatre District-Northeastern University        1.01\n",
       "West End-Boston University                      1.01\n",
       "West End-Northeastern University                1.01\n",
       "Northeastern University-West End                1.01\n",
       "West End-South Station                          1.01\n",
       "Boston University-Back Bay                      1.01\n",
       "Beacon Hill-Haymarket Square                    1.01\n",
       "Back Bay-Haymarket Square                       1.01\n",
       "Boston University-West End                      1.01\n",
       "Northeastern University-Beacon Hill             1.00\n",
       "Beacon Hill-North End                           1.00\n",
       "North Station-South Station                     1.00\n",
       "North Station-North End                         1.00\n",
       "Boston University-Beacon Hill                   1.00\n",
       "South Station-North Station                     1.00\n",
       "Boston University-Financial District            1.00\n",
       "North End-North Station                         1.00\n",
       "South Station-Theatre District                  1.00\n",
       "North End-Beacon Hill                           1.00\n",
       "Theatre District-Boston University              1.00\n",
       "Beacon Hill-Boston University                   1.00\n",
       "Boston University-Theatre District              1.00\n",
       "Theatre District-South Station                  1.00\n",
       "Financial District-Boston University            1.00\n",
       "Beacon Hill-Northeastern University             1.00\n",
       "Beacon Hill-South Station                       0.99\n",
       "Beacon Hill-Fenway                              0.99\n",
       "Theatre District-Haymarket Square               0.99\n",
       "Back Bay-South Station                          0.99\n",
       "South Station-Financial District                0.99\n",
       "Back Bay-Northeastern University                0.99\n",
       "South Station-Beacon Hill                       0.99\n",
       "West End-Fenway                                 0.99\n",
       "South Station-Back Bay                          0.99\n",
       "Back Bay-North End                              0.99\n",
       "West End-North End                              0.99\n",
       "Fenway-Financial District                       0.99\n",
       "Northeastern University-Financial District      0.99\n",
       "Northeastern University-Back Bay                0.99\n",
       "Fenway-Back Bay                                 0.99\n",
       "Fenway-West End                                 0.99\n",
       "Financial District-Fenway                       0.99\n",
       "Financial District-Haymarket Square             0.99\n",
       "Financial District-North End                    0.99\n",
       "Financial District-Northeastern University      0.99\n",
       "Financial District-South Station                0.99\n",
       "Haymarket Square-Financial District             0.99\n",
       "Haymarket Square-North Station                  0.99\n",
       "Haymarket Square-Theatre District               0.99\n",
       "Boston University-North Station                 0.99\n",
       "Back Bay-Fenway                                 0.99\n",
       "North End-Financial District                    0.99\n",
       "North End-West End                              0.99\n",
       "North Station-Boston University                 0.99\n",
       "North Station-Haymarket Square                  0.99\n",
       "Fenway-Beacon Hill                              0.99\n",
       "North End-Back Bay                              0.99"
      ]
     },
     "execution_count": 629,
     "metadata": {},
     "output_type": "execute_result"
    }
   ],
   "source": [
    "lyft_ = pd.DataFrame(df[df['cab_type'] == 'Lyft'].groupby('route_name')['distance'].count())\n",
    "uber_ = pd.DataFrame(df[df['cab_type'] == 'Uber'].groupby('route_name')['distance'].count())\n",
    "uber_ = round(uber_ / uber_.sum() * 100, 2)\n",
    "lyft_ = round(lyft_ / lyft_.sum() * 100, 2)\n",
    "round(uber_ / lyft_, 2).sort_values(by = 'distance', ascending = False)"
   ]
  },
  {
   "cell_type": "markdown",
   "metadata": {},
   "source": [
    "На основании данных из таблицы, можно сделать вывод что на всех представленных маршрутах виден полный партитет кампаний по их относительному уровню популярности в них\n",
    "Убер везде в среднем заказывают на 25% больше, что соответствует отношению всех поездок этих кампаний"
   ]
  },
  {
   "cell_type": "markdown",
   "metadata": {},
   "source": [
    "### Время поездки"
   ]
  },
  {
   "cell_type": "code",
   "execution_count": 630,
   "metadata": {},
   "outputs": [],
   "source": [
    "time_uber = pd.pivot_table(uber.groupby([ 'weekday', 'hour']).agg({'name':'count',\n",
    "                                     'final_price_per_km':'mean'}),\n",
    "            values=['name', 'final_price_per_km'],\n",
    "            index=['weekday'],\n",
    "            columns=['hour'])"
   ]
  },
  {
   "cell_type": "code",
   "execution_count": 631,
   "metadata": {},
   "outputs": [
    {
     "data": {
      "text/plain": [
       "<AxesSubplot:title={'center':'Uber price'}, xlabel='hour', ylabel='weekday'>"
      ]
     },
     "execution_count": 631,
     "metadata": {},
     "output_type": "execute_result"
    },
    {
     "data": {
      "image/png": "[encoded data removed]",
      "text/plain": [
       "<Figure size 1440x288 with 4 Axes>"
      ]
     },
     "metadata": {
      "needs_background": "light"
     },
     "output_type": "display_data"
    }
   ],
   "source": [
    "plt.figure(figsize=(20,4))\n",
    "ax =plt.subplot(121)\n",
    "plt.title('Uber count')\n",
    "sns.heatmap(time_uber.name)\n",
    "ax =plt.subplot(122)\n",
    "plt.title('Uber price')\n",
    "sns.heatmap(time_uber.final_price_per_km,vmin = 8, vmax=13)"
   ]
  },
  {
   "cell_type": "code",
   "execution_count": 632,
   "metadata": {},
   "outputs": [],
   "source": [
    "time_lyft = pd.pivot_table(lyft.groupby([ 'weekday', 'hour']).agg({'name':'count',\n",
    "                                     'final_price_per_km':'mean'}),\n",
    "            values=['name', 'final_price_per_km'],\n",
    "            index=['weekday'],\n",
    "            columns=['hour'])"
   ]
  },
  {
   "cell_type": "code",
   "execution_count": 633,
   "metadata": {},
   "outputs": [
    {
     "data": {
      "text/plain": [
       "<AxesSubplot:title={'center':'Lyft price'}, xlabel='hour', ylabel='weekday'>"
      ]
     },
     "execution_count": 633,
     "metadata": {},
     "output_type": "execute_result"
    },
    {
     "data": {
      "image/png": "[encoded data removed]",
      "text/plain": [
       "<Figure size 1440x288 with 4 Axes>"
      ]
     },
     "metadata": {
      "needs_background": "light"
     },
     "output_type": "display_data"
    }
   ],
   "source": [
    "plt.figure(figsize=(20,4))\n",
    "ax =plt.subplot(121)\n",
    "plt.title('Lyft count')\n",
    "sns.heatmap(time_lyft.name)\n",
    "ax =plt.subplot(122)\n",
    "plt.title('Lyft price')\n",
    "sns.heatmap(time_lyft.final_price_per_km, vmin = 8, vmax=13)"
   ]
  },
  {
   "cell_type": "markdown",
   "metadata": {},
   "source": [
    "Получается, что у убера в целом дешевле, но неравномернее распределение по времени  \n",
    "Еще непонятно, почему нет данных за ночи всех сред"
   ]
  },
  {
   "cell_type": "markdown",
   "metadata": {},
   "source": [
    "#### Прямое сравнение присутствия кампаний по времени дня"
   ]
  },
  {
   "cell_type": "markdown",
   "metadata": {},
   "source": [
    "Посчитаем отношение поездок в разрезе на время дня для обеих кампаний и визуализируем динамику изменения этого отношения на протяжении дня"
   ]
  },
  {
   "cell_type": "code",
   "execution_count": 634,
   "metadata": {},
   "outputs": [],
   "source": [
    "a = pd.DataFrame(df.groupby(['cab_type','hour'])['distance'].count().unstack()).transpose()\n",
    "a['hour'] = pd.Series(a.index)"
   ]
  },
  {
   "cell_type": "code",
   "execution_count": 635,
   "metadata": {},
   "outputs": [
    {
     "data": {
      "application/vnd.plotly.v1+json": {
       "config": {
        "plotlyServerURL": "https://plot.ly"
       },
       "data": [
        {
         "mode": "lines",
         "name": "Uber",
         "type": "scatter",
         "x": [
          0,
          1,
          2,
          3,
          4,
          5,
          6,
          7,
          8,
          9,
          10,
          11,
          12,
          13,
          14,
          15,
          16,
          17,
          18,
          19,
          20,
          21,
          22,
          23
         ],
         "y": [
          17756,
          15879,
          16000,
          15591,
          15828,
          13853,
          15401,
          13912,
          13575,
          16023,
          17059,
          17012,
          16751,
          16881,
          17078,
          16989,
          17035,
          16531,
          16980,
          15094,
          15067,
          15252,
          16189,
          17927
         ]
        },
        {
         "mode": "lines",
         "name": "Lyft",
         "type": "scatter",
         "x": [
          0,
          1,
          2,
          3,
          4,
          5,
          6,
          7,
          8,
          9,
          10,
          11,
          12,
          13,
          14,
          15,
          16,
          17,
          18,
          19,
          20,
          21,
          22,
          23
         ],
         "y": [
          14657,
          12669,
          12548,
          12224,
          12502,
          11155,
          11935,
          11024,
          10700,
          12948,
          13325,
          13372,
          13633,
          13503,
          13306,
          13394,
          13349,
          13853,
          13404,
          12461,
          11715,
          12480,
          13247,
          14004
         ]
        }
       ],
       "layout": {
        "template": {
         "data": {
          "bar": [
           {
            "error_x": {
             "color": "#2a3f5f"
            },
            "error_y": {
             "color": "#2a3f5f"
            },
            "marker": {
             "line": {
              "color": "#E5ECF6",
              "width": 0.5
             }
            },
            "type": "bar"
           }
          ],
          "barpolar": [
           {
            "marker": {
             "line": {
              "color": "#E5ECF6",
              "width": 0.5
             }
            },
            "type": "barpolar"
           }
          ],
          "carpet": [
           {
            "aaxis": {
             "endlinecolor": "#2a3f5f",
             "gridcolor": "white",
             "linecolor": "white",
             "minorgridcolor": "white",
             "startlinecolor": "#2a3f5f"
            },
            "baxis": {
             "endlinecolor": "#2a3f5f",
             "gridcolor": "white",
             "linecolor": "white",
             "minorgridcolor": "white",
             "startlinecolor": "#2a3f5f"
            },
            "type": "carpet"
           }
          ],
          "choropleth": [
           {
            "colorbar": {
             "outlinewidth": 0,
             "ticks": ""
            },
            "type": "choropleth"
           }
          ],
          "contour": [
           {
            "colorbar": {
             "outlinewidth": 0,
             "ticks": ""
            },
            "colorscale": [
             [
              0,
              "#0d0887"
             ],
             [
              0.1111111111111111,
              "#46039f"
             ],
             [
              0.2222222222222222,
              "#7201a8"
             ],
             [
              0.3333333333333333,
              "#9c179e"
             ],
             [
              0.4444444444444444,
              "#bd3786"
             ],
             [
              0.5555555555555556,
              "#d8576b"
             ],
             [
              0.6666666666666666,
              "#ed7953"
             ],
             [
              0.7777777777777778,
              "#fb9f3a"
             ],
             [
              0.8888888888888888,
              "#fdca26"
             ],
             [
              1,
              "#f0f921"
             ]
            ],
            "type": "contour"
           }
          ],
          "contourcarpet": [
           {
            "colorbar": {
             "outlinewidth": 0,
             "ticks": ""
            },
            "type": "contourcarpet"
           }
          ],
          "heatmap": [
           {
            "colorbar": {
             "outlinewidth": 0,
             "ticks": ""
            },
            "colorscale": [
             [
              0,
              "#0d0887"
             ],
             [
              0.1111111111111111,
              "#46039f"
             ],
             [
              0.2222222222222222,
              "#7201a8"
             ],
             [
              0.3333333333333333,
              "#9c179e"
             ],
             [
              0.4444444444444444,
              "#bd3786"
             ],
             [
              0.5555555555555556,
              "#d8576b"
             ],
             [
              0.6666666666666666,
              "#ed7953"
             ],
             [
              0.7777777777777778,
              "#fb9f3a"
             ],
             [
              0.8888888888888888,
              "#fdca26"
             ],
             [
              1,
              "#f0f921"
             ]
            ],
            "type": "heatmap"
           }
          ],
          "heatmapgl": [
           {
            "colorbar": {
             "outlinewidth": 0,
             "ticks": ""
            },
            "colorscale": [
             [
              0,
              "#0d0887"
             ],
             [
              0.1111111111111111,
              "#46039f"
             ],
             [
              0.2222222222222222,
              "#7201a8"
             ],
             [
              0.3333333333333333,
              "#9c179e"
             ],
             [
              0.4444444444444444,
              "#bd3786"
             ],
             [
              0.5555555555555556,
              "#d8576b"
             ],
             [
              0.6666666666666666,
              "#ed7953"
             ],
             [
              0.7777777777777778,
              "#fb9f3a"
             ],
             [
              0.8888888888888888,
              "#fdca26"
             ],
             [
              1,
              "#f0f921"
             ]
            ],
            "type": "heatmapgl"
           }
          ],
          "histogram": [
           {
            "marker": {
             "colorbar": {
              "outlinewidth": 0,
              "ticks": ""
             }
            },
            "type": "histogram"
           }
          ],
          "histogram2d": [
           {
            "colorbar": {
             "outlinewidth": 0,
             "ticks": ""
            },
            "colorscale": [
             [
              0,
              "#0d0887"
             ],
             [
              0.1111111111111111,
              "#46039f"
             ],
             [
              0.2222222222222222,
              "#7201a8"
             ],
             [
              0.3333333333333333,
              "#9c179e"
             ],
             [
              0.4444444444444444,
              "#bd3786"
             ],
             [
              0.5555555555555556,
              "#d8576b"
             ],
             [
              0.6666666666666666,
              "#ed7953"
             ],
             [
              0.7777777777777778,
              "#fb9f3a"
             ],
             [
              0.8888888888888888,
              "#fdca26"
             ],
             [
              1,
              "#f0f921"
             ]
            ],
            "type": "histogram2d"
           }
          ],
          "histogram2dcontour": [
           {
            "colorbar": {
             "outlinewidth": 0,
             "ticks": ""
            },
            "colorscale": [
             [
              0,
              "#0d0887"
             ],
             [
              0.1111111111111111,
              "#46039f"
             ],
             [
              0.2222222222222222,
              "#7201a8"
             ],
             [
              0.3333333333333333,
              "#9c179e"
             ],
             [
              0.4444444444444444,
              "#bd3786"
             ],
             [
              0.5555555555555556,
              "#d8576b"
             ],
             [
              0.6666666666666666,
              "#ed7953"
             ],
             [
              0.7777777777777778,
              "#fb9f3a"
             ],
             [
              0.8888888888888888,
              "#fdca26"
             ],
             [
              1,
              "#f0f921"
             ]
            ],
            "type": "histogram2dcontour"
           }
          ],
          "mesh3d": [
           {
            "colorbar": {
             "outlinewidth": 0,
             "ticks": ""
            },
            "type": "mesh3d"
           }
          ],
          "parcoords": [
           {
            "line": {
             "colorbar": {
              "outlinewidth": 0,
              "ticks": ""
             }
            },
            "type": "parcoords"
           }
          ],
          "pie": [
           {
            "automargin": true,
            "type": "pie"
           }
          ],
          "scatter": [
           {
            "marker": {
             "colorbar": {
              "outlinewidth": 0,
              "ticks": ""
             }
            },
            "type": "scatter"
           }
          ],
          "scatter3d": [
           {
            "line": {
             "colorbar": {
              "outlinewidth": 0,
              "ticks": ""
             }
            },
            "marker": {
             "colorbar": {
              "outlinewidth": 0,
              "ticks": ""
             }
            },
            "type": "scatter3d"
           }
          ],
          "scattercarpet": [
           {
            "marker": {
             "colorbar": {
              "outlinewidth": 0,
              "ticks": ""
             }
            },
            "type": "scattercarpet"
           }
          ],
          "scattergeo": [
           {
            "marker": {
             "colorbar": {
              "outlinewidth": 0,
              "ticks": ""
             }
            },
            "type": "scattergeo"
           }
          ],
          "scattergl": [
           {
            "marker": {
             "colorbar": {
              "outlinewidth": 0,
              "ticks": ""
             }
            },
            "type": "scattergl"
           }
          ],
          "scattermapbox": [
           {
            "marker": {
             "colorbar": {
              "outlinewidth": 0,
              "ticks": ""
             }
            },
            "type": "scattermapbox"
           }
          ],
          "scatterpolar": [
           {
            "marker": {
             "colorbar": {
              "outlinewidth": 0,
              "ticks": ""
             }
            },
            "type": "scatterpolar"
           }
          ],
          "scatterpolargl": [
           {
            "marker": {
             "colorbar": {
              "outlinewidth": 0,
              "ticks": ""
             }
            },
            "type": "scatterpolargl"
           }
          ],
          "scatterternary": [
           {
            "marker": {
             "colorbar": {
              "outlinewidth": 0,
              "ticks": ""
             }
            },
            "type": "scatterternary"
           }
          ],
          "surface": [
           {
            "colorbar": {
             "outlinewidth": 0,
             "ticks": ""
            },
            "colorscale": [
             [
              0,
              "#0d0887"
             ],
             [
              0.1111111111111111,
              "#46039f"
             ],
             [
              0.2222222222222222,
              "#7201a8"
             ],
             [
              0.3333333333333333,
              "#9c179e"
             ],
             [
              0.4444444444444444,
              "#bd3786"
             ],
             [
              0.5555555555555556,
              "#d8576b"
             ],
             [
              0.6666666666666666,
              "#ed7953"
             ],
             [
              0.7777777777777778,
              "#fb9f3a"
             ],
             [
              0.8888888888888888,
              "#fdca26"
             ],
             [
              1,
              "#f0f921"
             ]
            ],
            "type": "surface"
           }
          ],
          "table": [
           {
            "cells": {
             "fill": {
              "color": "#EBF0F8"
             },
             "line": {
              "color": "white"
             }
            },
            "header": {
             "fill": {
              "color": "#C8D4E3"
             },
             "line": {
              "color": "white"
             }
            },
            "type": "table"
           }
          ]
         },
         "layout": {
          "annotationdefaults": {
           "arrowcolor": "#2a3f5f",
           "arrowhead": 0,
           "arrowwidth": 1
          },
          "autotypenumbers": "strict",
          "coloraxis": {
           "colorbar": {
            "outlinewidth": 0,
            "ticks": ""
           }
          },
          "colorscale": {
           "diverging": [
            [
             0,
             "#8e0152"
            ],
            [
             0.1,
             "#c51b7d"
            ],
            [
             0.2,
             "#de77ae"
            ],
            [
             0.3,
             "#f1b6da"
            ],
            [
             0.4,
             "#fde0ef"
            ],
            [
             0.5,
             "#f7f7f7"
            ],
            [
             0.6,
             "#e6f5d0"
            ],
            [
             0.7,
             "#b8e186"
            ],
            [
             0.8,
             "#7fbc41"
            ],
            [
             0.9,
             "#4d9221"
            ],
            [
             1,
             "#276419"
            ]
           ],
           "sequential": [
            [
             0,
             "#0d0887"
            ],
            [
             0.1111111111111111,
             "#46039f"
            ],
            [
             0.2222222222222222,
             "#7201a8"
            ],
            [
             0.3333333333333333,
             "#9c179e"
            ],
            [
             0.4444444444444444,
             "#bd3786"
            ],
            [
             0.5555555555555556,
             "#d8576b"
            ],
            [
             0.6666666666666666,
             "#ed7953"
            ],
            [
             0.7777777777777778,
             "#fb9f3a"
            ],
            [
             0.8888888888888888,
             "#fdca26"
            ],
            [
             1,
             "#f0f921"
            ]
           ],
           "sequentialminus": [
            [
             0,
             "#0d0887"
            ],
            [
             0.1111111111111111,
             "#46039f"
            ],
            [
             0.2222222222222222,
             "#7201a8"
            ],
            [
             0.3333333333333333,
             "#9c179e"
            ],
            [
             0.4444444444444444,
             "#bd3786"
            ],
            [
             0.5555555555555556,
             "#d8576b"
            ],
            [
             0.6666666666666666,
             "#ed7953"
            ],
            [
             0.7777777777777778,
             "#fb9f3a"
            ],
            [
             0.8888888888888888,
             "#fdca26"
            ],
            [
             1,
             "#f0f921"
            ]
           ]
          },
          "colorway": [
           "#636efa",
           "#EF553B",
           "#00cc96",
           "#ab63fa",
           "#FFA15A",
           "#19d3f3",
           "#FF6692",
           "#B6E880",
           "#FF97FF",
           "#FECB52"
          ],
          "font": {
           "color": "#2a3f5f"
          },
          "geo": {
           "bgcolor": "white",
           "lakecolor": "white",
           "landcolor": "#E5ECF6",
           "showlakes": true,
           "showland": true,
           "subunitcolor": "white"
          },
          "hoverlabel": {
           "align": "left"
          },
          "hovermode": "closest",
          "mapbox": {
           "style": "light"
          },
          "paper_bgcolor": "white",
          "plot_bgcolor": "#E5ECF6",
          "polar": {
           "angularaxis": {
            "gridcolor": "white",
            "linecolor": "white",
            "ticks": ""
           },
           "bgcolor": "#E5ECF6",
           "radialaxis": {
            "gridcolor": "white",
            "linecolor": "white",
            "ticks": ""
           }
          },
          "scene": {
           "xaxis": {
            "backgroundcolor": "#E5ECF6",
            "gridcolor": "white",
            "gridwidth": 2,
            "linecolor": "white",
            "showbackground": true,
            "ticks": "",
            "zerolinecolor": "white"
           },
           "yaxis": {
            "backgroundcolor": "#E5ECF6",
            "gridcolor": "white",
            "gridwidth": 2,
            "linecolor": "white",
            "showbackground": true,
            "ticks": "",
            "zerolinecolor": "white"
           },
           "zaxis": {
            "backgroundcolor": "#E5ECF6",
            "gridcolor": "white",
            "gridwidth": 2,
            "linecolor": "white",
            "showbackground": true,
            "ticks": "",
            "zerolinecolor": "white"
           }
          },
          "shapedefaults": {
           "line": {
            "color": "#2a3f5f"
           }
          },
          "ternary": {
           "aaxis": {
            "gridcolor": "white",
            "linecolor": "white",
            "ticks": ""
           },
           "baxis": {
            "gridcolor": "white",
            "linecolor": "white",
            "ticks": ""
           },
           "bgcolor": "#E5ECF6",
           "caxis": {
            "gridcolor": "white",
            "linecolor": "white",
            "ticks": ""
           }
          },
          "title": {
           "x": 0.05
          },
          "xaxis": {
           "automargin": true,
           "gridcolor": "white",
           "linecolor": "white",
           "ticks": "",
           "title": {
            "standoff": 15
           },
           "zerolinecolor": "white",
           "zerolinewidth": 2
          },
          "yaxis": {
           "automargin": true,
           "gridcolor": "white",
           "linecolor": "white",
           "ticks": "",
           "title": {
            "standoff": 15
           },
           "zerolinecolor": "white",
           "zerolinewidth": 2
          }
         }
        },
        "title": {
         "text": "Сравнение количества поездок в течение суток"
        }
       }
      },
      "text/html": [
       "<div>                            <div id=\"be9fc3c9-1317-4f70-848b-a0f1a80f5929\" class=\"plotly-graph-div\" style=\"height:525px; width:100%;\"></div>            <script type=\"text/javascript\">                require([\"plotly\"], function(Plotly) {                    window.PLOTLYENV=window.PLOTLYENV || {};                                    if (document.getElementById(\"be9fc3c9-1317-4f70-848b-a0f1a80f5929\")) {                    Plotly.newPlot(                        \"be9fc3c9-1317-4f70-848b-a0f1a80f5929\",                        [{\"mode\": \"lines\", \"name\": \"Uber\", \"type\": \"scatter\", \"x\": [0, 1, 2, 3, 4, 5, 6, 7, 8, 9, 10, 11, 12, 13, 14, 15, 16, 17, 18, 19, 20, 21, 22, 23], \"y\": [17756, 15879, 16000, 15591, 15828, 13853, 15401, 13912, 13575, 16023, 17059, 17012, 16751, 16881, 17078, 16989, 17035, 16531, 16980, 15094, 15067, 15252, 16189, 17927]}, {\"mode\": \"lines\", \"name\": \"Lyft\", \"type\": \"scatter\", \"x\": [0, 1, 2, 3, 4, 5, 6, 7, 8, 9, 10, 11, 12, 13, 14, 15, 16, 17, 18, 19, 20, 21, 22, 23], \"y\": [14657, 12669, 12548, 12224, 12502, 11155, 11935, 11024, 10700, 12948, 13325, 13372, 13633, 13503, 13306, 13394, 13349, 13853, 13404, 12461, 11715, 12480, 13247, 14004]}],                        {\"template\": {\"data\": {\"bar\": [{\"error_x\": {\"color\": \"#2a3f5f\"}, \"error_y\": {\"color\": \"#2a3f5f\"}, \"marker\": {\"line\": {\"color\": \"#E5ECF6\", \"width\": 0.5}}, \"type\": \"bar\"}], \"barpolar\": [{\"marker\": {\"line\": {\"color\": \"#E5ECF6\", \"width\": 0.5}}, \"type\": \"barpolar\"}], \"carpet\": [{\"aaxis\": {\"endlinecolor\": \"#2a3f5f\", \"gridcolor\": \"white\", \"linecolor\": \"white\", \"minorgridcolor\": \"white\", \"startlinecolor\": \"#2a3f5f\"}, \"baxis\": {\"endlinecolor\": \"#2a3f5f\", \"gridcolor\": \"white\", \"linecolor\": \"white\", \"minorgridcolor\": \"white\", \"startlinecolor\": \"#2a3f5f\"}, \"type\": \"carpet\"}], \"choropleth\": [{\"colorbar\": {\"outlinewidth\": 0, \"ticks\": \"\"}, \"type\": \"choropleth\"}], \"contour\": [{\"colorbar\": {\"outlinewidth\": 0, \"ticks\": \"\"}, \"colorscale\": [[0.0, \"#0d0887\"], [0.1111111111111111, \"#46039f\"], [0.2222222222222222, \"#7201a8\"], [0.3333333333333333, \"#9c179e\"], [0.4444444444444444, \"#bd3786\"], [0.5555555555555556, \"#d8576b\"], [0.6666666666666666, \"#ed7953\"], [0.7777777777777778, \"#fb9f3a\"], [0.8888888888888888, \"#fdca26\"], [1.0, \"#f0f921\"]], \"type\": \"contour\"}], \"contourcarpet\": [{\"colorbar\": {\"outlinewidth\": 0, \"ticks\": \"\"}, \"type\": \"contourcarpet\"}], \"heatmap\": [{\"colorbar\": {\"outlinewidth\": 0, \"ticks\": \"\"}, \"colorscale\": [[0.0, \"#0d0887\"], [0.1111111111111111, \"#46039f\"], [0.2222222222222222, \"#7201a8\"], [0.3333333333333333, \"#9c179e\"], [0.4444444444444444, \"#bd3786\"], [0.5555555555555556, \"#d8576b\"], [0.6666666666666666, \"#ed7953\"], [0.7777777777777778, \"#fb9f3a\"], [0.8888888888888888, \"#fdca26\"], [1.0, \"#f0f921\"]], \"type\": \"heatmap\"}], \"heatmapgl\": [{\"colorbar\": {\"outlinewidth\": 0, \"ticks\": \"\"}, \"colorscale\": [[0.0, \"#0d0887\"], [0.1111111111111111, \"#46039f\"], [0.2222222222222222, \"#7201a8\"], [0.3333333333333333, \"#9c179e\"], [0.4444444444444444, \"#bd3786\"], [0.5555555555555556, \"#d8576b\"], [0.6666666666666666, \"#ed7953\"], [0.7777777777777778, \"#fb9f3a\"], [0.8888888888888888, \"#fdca26\"], [1.0, \"#f0f921\"]], \"type\": \"heatmapgl\"}], \"histogram\": [{\"marker\": {\"colorbar\": {\"outlinewidth\": 0, \"ticks\": \"\"}}, \"type\": \"histogram\"}], \"histogram2d\": [{\"colorbar\": {\"outlinewidth\": 0, \"ticks\": \"\"}, \"colorscale\": [[0.0, \"#0d0887\"], [0.1111111111111111, \"#46039f\"], [0.2222222222222222, \"#7201a8\"], [0.3333333333333333, \"#9c179e\"], [0.4444444444444444, \"#bd3786\"], [0.5555555555555556, \"#d8576b\"], [0.6666666666666666, \"#ed7953\"], [0.7777777777777778, \"#fb9f3a\"], [0.8888888888888888, \"#fdca26\"], [1.0, \"#f0f921\"]], \"type\": \"histogram2d\"}], \"histogram2dcontour\": [{\"colorbar\": {\"outlinewidth\": 0, \"ticks\": \"\"}, \"colorscale\": [[0.0, \"#0d0887\"], [0.1111111111111111, \"#46039f\"], [0.2222222222222222, \"#7201a8\"], [0.3333333333333333, \"#9c179e\"], [0.4444444444444444, \"#bd3786\"], [0.5555555555555556, \"#d8576b\"], [0.6666666666666666, \"#ed7953\"], [0.7777777777777778, \"#fb9f3a\"], [0.8888888888888888, \"#fdca26\"], [1.0, \"#f0f921\"]], \"type\": \"histogram2dcontour\"}], \"mesh3d\": [{\"colorbar\": {\"outlinewidth\": 0, \"ticks\": \"\"}, \"type\": \"mesh3d\"}], \"parcoords\": [{\"line\": {\"colorbar\": {\"outlinewidth\": 0, \"ticks\": \"\"}}, \"type\": \"parcoords\"}], \"pie\": [{\"automargin\": true, \"type\": \"pie\"}], \"scatter\": [{\"marker\": {\"colorbar\": {\"outlinewidth\": 0, \"ticks\": \"\"}}, \"type\": \"scatter\"}], \"scatter3d\": [{\"line\": {\"colorbar\": {\"outlinewidth\": 0, \"ticks\": \"\"}}, \"marker\": {\"colorbar\": {\"outlinewidth\": 0, \"ticks\": \"\"}}, \"type\": \"scatter3d\"}], \"scattercarpet\": [{\"marker\": {\"colorbar\": {\"outlinewidth\": 0, \"ticks\": \"\"}}, \"type\": \"scattercarpet\"}], \"scattergeo\": [{\"marker\": {\"colorbar\": {\"outlinewidth\": 0, \"ticks\": \"\"}}, \"type\": \"scattergeo\"}], \"scattergl\": [{\"marker\": {\"colorbar\": {\"outlinewidth\": 0, \"ticks\": \"\"}}, \"type\": \"scattergl\"}], \"scattermapbox\": [{\"marker\": {\"colorbar\": {\"outlinewidth\": 0, \"ticks\": \"\"}}, \"type\": \"scattermapbox\"}], \"scatterpolar\": [{\"marker\": {\"colorbar\": {\"outlinewidth\": 0, \"ticks\": \"\"}}, \"type\": \"scatterpolar\"}], \"scatterpolargl\": [{\"marker\": {\"colorbar\": {\"outlinewidth\": 0, \"ticks\": \"\"}}, \"type\": \"scatterpolargl\"}], \"scatterternary\": [{\"marker\": {\"colorbar\": {\"outlinewidth\": 0, \"ticks\": \"\"}}, \"type\": \"scatterternary\"}], \"surface\": [{\"colorbar\": {\"outlinewidth\": 0, \"ticks\": \"\"}, \"colorscale\": [[0.0, \"#0d0887\"], [0.1111111111111111, \"#46039f\"], [0.2222222222222222, \"#7201a8\"], [0.3333333333333333, \"#9c179e\"], [0.4444444444444444, \"#bd3786\"], [0.5555555555555556, \"#d8576b\"], [0.6666666666666666, \"#ed7953\"], [0.7777777777777778, \"#fb9f3a\"], [0.8888888888888888, \"#fdca26\"], [1.0, \"#f0f921\"]], \"type\": \"surface\"}], \"table\": [{\"cells\": {\"fill\": {\"color\": \"#EBF0F8\"}, \"line\": {\"color\": \"white\"}}, \"header\": {\"fill\": {\"color\": \"#C8D4E3\"}, \"line\": {\"color\": \"white\"}}, \"type\": \"table\"}]}, \"layout\": {\"annotationdefaults\": {\"arrowcolor\": \"#2a3f5f\", \"arrowhead\": 0, \"arrowwidth\": 1}, \"autotypenumbers\": \"strict\", \"coloraxis\": {\"colorbar\": {\"outlinewidth\": 0, \"ticks\": \"\"}}, \"colorscale\": {\"diverging\": [[0, \"#8e0152\"], [0.1, \"#c51b7d\"], [0.2, \"#de77ae\"], [0.3, \"#f1b6da\"], [0.4, \"#fde0ef\"], [0.5, \"#f7f7f7\"], [0.6, \"#e6f5d0\"], [0.7, \"#b8e186\"], [0.8, \"#7fbc41\"], [0.9, \"#4d9221\"], [1, \"#276419\"]], \"sequential\": [[0.0, \"#0d0887\"], [0.1111111111111111, \"#46039f\"], [0.2222222222222222, \"#7201a8\"], [0.3333333333333333, \"#9c179e\"], [0.4444444444444444, \"#bd3786\"], [0.5555555555555556, \"#d8576b\"], [0.6666666666666666, \"#ed7953\"], [0.7777777777777778, \"#fb9f3a\"], [0.8888888888888888, \"#fdca26\"], [1.0, \"#f0f921\"]], \"sequentialminus\": [[0.0, \"#0d0887\"], [0.1111111111111111, \"#46039f\"], [0.2222222222222222, \"#7201a8\"], [0.3333333333333333, \"#9c179e\"], [0.4444444444444444, \"#bd3786\"], [0.5555555555555556, \"#d8576b\"], [0.6666666666666666, \"#ed7953\"], [0.7777777777777778, \"#fb9f3a\"], [0.8888888888888888, \"#fdca26\"], [1.0, \"#f0f921\"]]}, \"colorway\": [\"#636efa\", \"#EF553B\", \"#00cc96\", \"#ab63fa\", \"#FFA15A\", \"#19d3f3\", \"#FF6692\", \"#B6E880\", \"#FF97FF\", \"#FECB52\"], \"font\": {\"color\": \"#2a3f5f\"}, \"geo\": {\"bgcolor\": \"white\", \"lakecolor\": \"white\", \"landcolor\": \"#E5ECF6\", \"showlakes\": true, \"showland\": true, \"subunitcolor\": \"white\"}, \"hoverlabel\": {\"align\": \"left\"}, \"hovermode\": \"closest\", \"mapbox\": {\"style\": \"light\"}, \"paper_bgcolor\": \"white\", \"plot_bgcolor\": \"#E5ECF6\", \"polar\": {\"angularaxis\": {\"gridcolor\": \"white\", \"linecolor\": \"white\", \"ticks\": \"\"}, \"bgcolor\": \"#E5ECF6\", \"radialaxis\": {\"gridcolor\": \"white\", \"linecolor\": \"white\", \"ticks\": \"\"}}, \"scene\": {\"xaxis\": {\"backgroundcolor\": \"#E5ECF6\", \"gridcolor\": \"white\", \"gridwidth\": 2, \"linecolor\": \"white\", \"showbackground\": true, \"ticks\": \"\", \"zerolinecolor\": \"white\"}, \"yaxis\": {\"backgroundcolor\": \"#E5ECF6\", \"gridcolor\": \"white\", \"gridwidth\": 2, \"linecolor\": \"white\", \"showbackground\": true, \"ticks\": \"\", \"zerolinecolor\": \"white\"}, \"zaxis\": {\"backgroundcolor\": \"#E5ECF6\", \"gridcolor\": \"white\", \"gridwidth\": 2, \"linecolor\": \"white\", \"showbackground\": true, \"ticks\": \"\", \"zerolinecolor\": \"white\"}}, \"shapedefaults\": {\"line\": {\"color\": \"#2a3f5f\"}}, \"ternary\": {\"aaxis\": {\"gridcolor\": \"white\", \"linecolor\": \"white\", \"ticks\": \"\"}, \"baxis\": {\"gridcolor\": \"white\", \"linecolor\": \"white\", \"ticks\": \"\"}, \"bgcolor\": \"#E5ECF6\", \"caxis\": {\"gridcolor\": \"white\", \"linecolor\": \"white\", \"ticks\": \"\"}}, \"title\": {\"x\": 0.05}, \"xaxis\": {\"automargin\": true, \"gridcolor\": \"white\", \"linecolor\": \"white\", \"ticks\": \"\", \"title\": {\"standoff\": 15}, \"zerolinecolor\": \"white\", \"zerolinewidth\": 2}, \"yaxis\": {\"automargin\": true, \"gridcolor\": \"white\", \"linecolor\": \"white\", \"ticks\": \"\", \"title\": {\"standoff\": 15}, \"zerolinecolor\": \"white\", \"zerolinewidth\": 2}}}, \"title\": {\"text\": \"\\u0421\\u0440\\u0430\\u0432\\u043d\\u0435\\u043d\\u0438\\u0435 \\u043a\\u043e\\u043b\\u0438\\u0447\\u0435\\u0441\\u0442\\u0432\\u0430 \\u043f\\u043e\\u0435\\u0437\\u0434\\u043e\\u043a \\u0432 \\u0442\\u0435\\u0447\\u0435\\u043d\\u0438\\u0435 \\u0441\\u0443\\u0442\\u043e\\u043a\"}},                        {\"responsive\": true}                    ).then(function(){\n",
       "                            \n",
       "var gd = document.getElementById('be9fc3c9-1317-4f70-848b-a0f1a80f5929');\n",
       "var x = new MutationObserver(function (mutations, observer) {{\n",
       "        var display = window.getComputedStyle(gd).display;\n",
       "        if (!display || display === 'none') {{\n",
       "            console.log([gd, 'removed!']);\n",
       "            Plotly.purge(gd);\n",
       "            observer.disconnect();\n",
       "        }}\n",
       "}});\n",
       "\n",
       "// Listen for the removal of the full notebook cells\n",
       "var notebookContainer = gd.closest('#notebook-container');\n",
       "if (notebookContainer) {{\n",
       "    x.observe(notebookContainer, {childList: true});\n",
       "}}\n",
       "\n",
       "// Listen for the clearing of the current output cell\n",
       "var outputEl = gd.closest('.output');\n",
       "if (outputEl) {{\n",
       "    x.observe(outputEl, {childList: true});\n",
       "}}\n",
       "\n",
       "                        })                };                });            </script>        </div>"
      ]
     },
     "metadata": {},
     "output_type": "display_data"
    }
   ],
   "source": [
    "import plotly.graph_objects as go\n",
    "\n",
    "fig = go.Figure()\n",
    "fig.update_layout(\n",
    "    title_text='Сравнение количества поездок в течение суток'\n",
    ")\n",
    "fig.add_trace(go.Scatter(x=a['hour'], y=a['Uber'],\n",
    "                    mode='lines',\n",
    "                    name='Uber'))\n",
    "fig.add_trace(go.Scatter(x=a['hour'], y=a['Lyft'],\n",
    "                    mode='lines',\n",
    "                    name='Lyft'))\n",
    "fig.show()"
   ]
  },
  {
   "cell_type": "markdown",
   "metadata": {},
   "source": [
    "Видим, что в течение суток динамика спроса сервисов равна"
   ]
  },
  {
   "cell_type": "markdown",
   "metadata": {},
   "source": [
    "#### Прямое сравнение ценообразования кампаний по времени дня"
   ]
  },
  {
   "cell_type": "markdown",
   "metadata": {},
   "source": [
    "Посмотрим теперь на динамику ценообразования в течение суток"
   ]
  },
  {
   "cell_type": "code",
   "execution_count": 636,
   "metadata": {},
   "outputs": [],
   "source": [
    "a = pd.DataFrame(df.groupby(['cab_type','hour'])['final_price_per_km'].mean().unstack()).transpose()\n",
    "a['hour'] = pd.Series(a.index)"
   ]
  },
  {
   "cell_type": "code",
   "execution_count": 637,
   "metadata": {},
   "outputs": [
    {
     "data": {
      "application/vnd.plotly.v1+json": {
       "config": {
        "plotlyServerURL": "https://plot.ly"
       },
       "data": [
        {
         "mode": "lines",
         "name": "Uber",
         "type": "scatter",
         "x": [
          0,
          1,
          2,
          3,
          4,
          5,
          6,
          7,
          8,
          9,
          10,
          11,
          12,
          13,
          14,
          15,
          16,
          17,
          18,
          19,
          20,
          21,
          22,
          23
         ],
         "y": [
          9.711869759125417,
          9.618281996124201,
          9.573015957019535,
          9.588790311304379,
          9.537023736418323,
          10.074913638097842,
          9.977167178255812,
          9.358033779843014,
          9.739002696921919,
          9.438594058407938,
          9.652516443576664,
          10.034259921266564,
          9.440179736928751,
          9.442899991431693,
          9.702841800942862,
          9.48422802893464,
          10.052587492817526,
          9.418014696773039,
          10.228025927591633,
          9.69179123886572,
          9.590945869850051,
          10.004751221730277,
          9.560972015220718,
          9.682856234880411
         ]
        },
        {
         "mode": "lines",
         "name": "Lyft",
         "type": "scatter",
         "x": [
          0,
          1,
          2,
          3,
          4,
          5,
          6,
          7,
          8,
          9,
          10,
          11,
          12,
          13,
          14,
          15,
          16,
          17,
          18,
          19,
          20,
          21,
          22,
          23
         ],
         "y": [
          10.22006455238147,
          10.206291414487158,
          10.330349946362356,
          10.130365398418363,
          10.175937603956056,
          10.145998526540934,
          10.097699975431318,
          10.182707978914255,
          10.144222512653085,
          10.191605543410168,
          10.064160925396921,
          10.226680217557348,
          10.151414836038375,
          10.432763110863704,
          10.099131662144329,
          10.110671233712019,
          10.166766483848368,
          10.10609157845157,
          10.070932942450831,
          10.071531566696745,
          10.067802914070974,
          10.01637508305031,
          10.154515805284985,
          10.07924415866233
         ]
        }
       ],
       "layout": {
        "template": {
         "data": {
          "bar": [
           {
            "error_x": {
             "color": "#2a3f5f"
            },
            "error_y": {
             "color": "#2a3f5f"
            },
            "marker": {
             "line": {
              "color": "#E5ECF6",
              "width": 0.5
             }
            },
            "type": "bar"
           }
          ],
          "barpolar": [
           {
            "marker": {
             "line": {
              "color": "#E5ECF6",
              "width": 0.5
             }
            },
            "type": "barpolar"
           }
          ],
          "carpet": [
           {
            "aaxis": {
             "endlinecolor": "#2a3f5f",
             "gridcolor": "white",
             "linecolor": "white",
             "minorgridcolor": "white",
             "startlinecolor": "#2a3f5f"
            },
            "baxis": {
             "endlinecolor": "#2a3f5f",
             "gridcolor": "white",
             "linecolor": "white",
             "minorgridcolor": "white",
             "startlinecolor": "#2a3f5f"
            },
            "type": "carpet"
           }
          ],
          "choropleth": [
           {
            "colorbar": {
             "outlinewidth": 0,
             "ticks": ""
            },
            "type": "choropleth"
           }
          ],
          "contour": [
           {
            "colorbar": {
             "outlinewidth": 0,
             "ticks": ""
            },
            "colorscale": [
             [
              0,
              "#0d0887"
             ],
             [
              0.1111111111111111,
              "#46039f"
             ],
             [
              0.2222222222222222,
              "#7201a8"
             ],
             [
              0.3333333333333333,
              "#9c179e"
             ],
             [
              0.4444444444444444,
              "#bd3786"
             ],
             [
              0.5555555555555556,
              "#d8576b"
             ],
             [
              0.6666666666666666,
              "#ed7953"
             ],
             [
              0.7777777777777778,
              "#fb9f3a"
             ],
             [
              0.8888888888888888,
              "#fdca26"
             ],
             [
              1,
              "#f0f921"
             ]
            ],
            "type": "contour"
           }
          ],
          "contourcarpet": [
           {
            "colorbar": {
             "outlinewidth": 0,
             "ticks": ""
            },
            "type": "contourcarpet"
           }
          ],
          "heatmap": [
           {
            "colorbar": {
             "outlinewidth": 0,
             "ticks": ""
            },
            "colorscale": [
             [
              0,
              "#0d0887"
             ],
             [
              0.1111111111111111,
              "#46039f"
             ],
             [
              0.2222222222222222,
              "#7201a8"
             ],
             [
              0.3333333333333333,
              "#9c179e"
             ],
             [
              0.4444444444444444,
              "#bd3786"
             ],
             [
              0.5555555555555556,
              "#d8576b"
             ],
             [
              0.6666666666666666,
              "#ed7953"
             ],
             [
              0.7777777777777778,
              "#fb9f3a"
             ],
             [
              0.8888888888888888,
              "#fdca26"
             ],
             [
              1,
              "#f0f921"
             ]
            ],
            "type": "heatmap"
           }
          ],
          "heatmapgl": [
           {
            "colorbar": {
             "outlinewidth": 0,
             "ticks": ""
            },
            "colorscale": [
             [
              0,
              "#0d0887"
             ],
             [
              0.1111111111111111,
              "#46039f"
             ],
             [
              0.2222222222222222,
              "#7201a8"
             ],
             [
              0.3333333333333333,
              "#9c179e"
             ],
             [
              0.4444444444444444,
              "#bd3786"
             ],
             [
              0.5555555555555556,
              "#d8576b"
             ],
             [
              0.6666666666666666,
              "#ed7953"
             ],
             [
              0.7777777777777778,
              "#fb9f3a"
             ],
             [
              0.8888888888888888,
              "#fdca26"
             ],
             [
              1,
              "#f0f921"
             ]
            ],
            "type": "heatmapgl"
           }
          ],
          "histogram": [
           {
            "marker": {
             "colorbar": {
              "outlinewidth": 0,
              "ticks": ""
             }
            },
            "type": "histogram"
           }
          ],
          "histogram2d": [
           {
            "colorbar": {
             "outlinewidth": 0,
             "ticks": ""
            },
            "colorscale": [
             [
              0,
              "#0d0887"
             ],
             [
              0.1111111111111111,
              "#46039f"
             ],
             [
              0.2222222222222222,
              "#7201a8"
             ],
             [
              0.3333333333333333,
              "#9c179e"
             ],
             [
              0.4444444444444444,
              "#bd3786"
             ],
             [
              0.5555555555555556,
              "#d8576b"
             ],
             [
              0.6666666666666666,
              "#ed7953"
             ],
             [
              0.7777777777777778,
              "#fb9f3a"
             ],
             [
              0.8888888888888888,
              "#fdca26"
             ],
             [
              1,
              "#f0f921"
             ]
            ],
            "type": "histogram2d"
           }
          ],
          "histogram2dcontour": [
           {
            "colorbar": {
             "outlinewidth": 0,
             "ticks": ""
            },
            "colorscale": [
             [
              0,
              "#0d0887"
             ],
             [
              0.1111111111111111,
              "#46039f"
             ],
             [
              0.2222222222222222,
              "#7201a8"
             ],
             [
              0.3333333333333333,
              "#9c179e"
             ],
             [
              0.4444444444444444,
              "#bd3786"
             ],
             [
              0.5555555555555556,
              "#d8576b"
             ],
             [
              0.6666666666666666,
              "#ed7953"
             ],
             [
              0.7777777777777778,
              "#fb9f3a"
             ],
             [
              0.8888888888888888,
              "#fdca26"
             ],
             [
              1,
              "#f0f921"
             ]
            ],
            "type": "histogram2dcontour"
           }
          ],
          "mesh3d": [
           {
            "colorbar": {
             "outlinewidth": 0,
             "ticks": ""
            },
            "type": "mesh3d"
           }
          ],
          "parcoords": [
           {
            "line": {
             "colorbar": {
              "outlinewidth": 0,
              "ticks": ""
             }
            },
            "type": "parcoords"
           }
          ],
          "pie": [
           {
            "automargin": true,
            "type": "pie"
           }
          ],
          "scatter": [
           {
            "marker": {
             "colorbar": {
              "outlinewidth": 0,
              "ticks": ""
             }
            },
            "type": "scatter"
           }
          ],
          "scatter3d": [
           {
            "line": {
             "colorbar": {
              "outlinewidth": 0,
              "ticks": ""
             }
            },
            "marker": {
             "colorbar": {
              "outlinewidth": 0,
              "ticks": ""
             }
            },
            "type": "scatter3d"
           }
          ],
          "scattercarpet": [
           {
            "marker": {
             "colorbar": {
              "outlinewidth": 0,
              "ticks": ""
             }
            },
            "type": "scattercarpet"
           }
          ],
          "scattergeo": [
           {
            "marker": {
             "colorbar": {
              "outlinewidth": 0,
              "ticks": ""
             }
            },
            "type": "scattergeo"
           }
          ],
          "scattergl": [
           {
            "marker": {
             "colorbar": {
              "outlinewidth": 0,
              "ticks": ""
             }
            },
            "type": "scattergl"
           }
          ],
          "scattermapbox": [
           {
            "marker": {
             "colorbar": {
              "outlinewidth": 0,
              "ticks": ""
             }
            },
            "type": "scattermapbox"
           }
          ],
          "scatterpolar": [
           {
            "marker": {
             "colorbar": {
              "outlinewidth": 0,
              "ticks": ""
             }
            },
            "type": "scatterpolar"
           }
          ],
          "scatterpolargl": [
           {
            "marker": {
             "colorbar": {
              "outlinewidth": 0,
              "ticks": ""
             }
            },
            "type": "scatterpolargl"
           }
          ],
          "scatterternary": [
           {
            "marker": {
             "colorbar": {
              "outlinewidth": 0,
              "ticks": ""
             }
            },
            "type": "scatterternary"
           }
          ],
          "surface": [
           {
            "colorbar": {
             "outlinewidth": 0,
             "ticks": ""
            },
            "colorscale": [
             [
              0,
              "#0d0887"
             ],
             [
              0.1111111111111111,
              "#46039f"
             ],
             [
              0.2222222222222222,
              "#7201a8"
             ],
             [
              0.3333333333333333,
              "#9c179e"
             ],
             [
              0.4444444444444444,
              "#bd3786"
             ],
             [
              0.5555555555555556,
              "#d8576b"
             ],
             [
              0.6666666666666666,
              "#ed7953"
             ],
             [
              0.7777777777777778,
              "#fb9f3a"
             ],
             [
              0.8888888888888888,
              "#fdca26"
             ],
             [
              1,
              "#f0f921"
             ]
            ],
            "type": "surface"
           }
          ],
          "table": [
           {
            "cells": {
             "fill": {
              "color": "#EBF0F8"
             },
             "line": {
              "color": "white"
             }
            },
            "header": {
             "fill": {
              "color": "#C8D4E3"
             },
             "line": {
              "color": "white"
             }
            },
            "type": "table"
           }
          ]
         },
         "layout": {
          "annotationdefaults": {
           "arrowcolor": "#2a3f5f",
           "arrowhead": 0,
           "arrowwidth": 1
          },
          "autotypenumbers": "strict",
          "coloraxis": {
           "colorbar": {
            "outlinewidth": 0,
            "ticks": ""
           }
          },
          "colorscale": {
           "diverging": [
            [
             0,
             "#8e0152"
            ],
            [
             0.1,
             "#c51b7d"
            ],
            [
             0.2,
             "#de77ae"
            ],
            [
             0.3,
             "#f1b6da"
            ],
            [
             0.4,
             "#fde0ef"
            ],
            [
             0.5,
             "#f7f7f7"
            ],
            [
             0.6,
             "#e6f5d0"
            ],
            [
             0.7,
             "#b8e186"
            ],
            [
             0.8,
             "#7fbc41"
            ],
            [
             0.9,
             "#4d9221"
            ],
            [
             1,
             "#276419"
            ]
           ],
           "sequential": [
            [
             0,
             "#0d0887"
            ],
            [
             0.1111111111111111,
             "#46039f"
            ],
            [
             0.2222222222222222,
             "#7201a8"
            ],
            [
             0.3333333333333333,
             "#9c179e"
            ],
            [
             0.4444444444444444,
             "#bd3786"
            ],
            [
             0.5555555555555556,
             "#d8576b"
            ],
            [
             0.6666666666666666,
             "#ed7953"
            ],
            [
             0.7777777777777778,
             "#fb9f3a"
            ],
            [
             0.8888888888888888,
             "#fdca26"
            ],
            [
             1,
             "#f0f921"
            ]
           ],
           "sequentialminus": [
            [
             0,
             "#0d0887"
            ],
            [
             0.1111111111111111,
             "#46039f"
            ],
            [
             0.2222222222222222,
             "#7201a8"
            ],
            [
             0.3333333333333333,
             "#9c179e"
            ],
            [
             0.4444444444444444,
             "#bd3786"
            ],
            [
             0.5555555555555556,
             "#d8576b"
            ],
            [
             0.6666666666666666,
             "#ed7953"
            ],
            [
             0.7777777777777778,
             "#fb9f3a"
            ],
            [
             0.8888888888888888,
             "#fdca26"
            ],
            [
             1,
             "#f0f921"
            ]
           ]
          },
          "colorway": [
           "#636efa",
           "#EF553B",
           "#00cc96",
           "#ab63fa",
           "#FFA15A",
           "#19d3f3",
           "#FF6692",
           "#B6E880",
           "#FF97FF",
           "#FECB52"
          ],
          "font": {
           "color": "#2a3f5f"
          },
          "geo": {
           "bgcolor": "white",
           "lakecolor": "white",
           "landcolor": "#E5ECF6",
           "showlakes": true,
           "showland": true,
           "subunitcolor": "white"
          },
          "hoverlabel": {
           "align": "left"
          },
          "hovermode": "closest",
          "mapbox": {
           "style": "light"
          },
          "paper_bgcolor": "white",
          "plot_bgcolor": "#E5ECF6",
          "polar": {
           "angularaxis": {
            "gridcolor": "white",
            "linecolor": "white",
            "ticks": ""
           },
           "bgcolor": "#E5ECF6",
           "radialaxis": {
            "gridcolor": "white",
            "linecolor": "white",
            "ticks": ""
           }
          },
          "scene": {
           "xaxis": {
            "backgroundcolor": "#E5ECF6",
            "gridcolor": "white",
            "gridwidth": 2,
            "linecolor": "white",
            "showbackground": true,
            "ticks": "",
            "zerolinecolor": "white"
           },
           "yaxis": {
            "backgroundcolor": "#E5ECF6",
            "gridcolor": "white",
            "gridwidth": 2,
            "linecolor": "white",
            "showbackground": true,
            "ticks": "",
            "zerolinecolor": "white"
           },
           "zaxis": {
            "backgroundcolor": "#E5ECF6",
            "gridcolor": "white",
            "gridwidth": 2,
            "linecolor": "white",
            "showbackground": true,
            "ticks": "",
            "zerolinecolor": "white"
           }
          },
          "shapedefaults": {
           "line": {
            "color": "#2a3f5f"
           }
          },
          "ternary": {
           "aaxis": {
            "gridcolor": "white",
            "linecolor": "white",
            "ticks": ""
           },
           "baxis": {
            "gridcolor": "white",
            "linecolor": "white",
            "ticks": ""
           },
           "bgcolor": "#E5ECF6",
           "caxis": {
            "gridcolor": "white",
            "linecolor": "white",
            "ticks": ""
           }
          },
          "title": {
           "x": 0.05
          },
          "xaxis": {
           "automargin": true,
           "gridcolor": "white",
           "linecolor": "white",
           "ticks": "",
           "title": {
            "standoff": 15
           },
           "zerolinecolor": "white",
           "zerolinewidth": 2
          },
          "yaxis": {
           "automargin": true,
           "gridcolor": "white",
           "linecolor": "white",
           "ticks": "",
           "title": {
            "standoff": 15
           },
           "zerolinecolor": "white",
           "zerolinewidth": 2
          }
         }
        },
        "title": {
         "text": "Сравнение цены поездок в течение суток"
        }
       }
      },
      "text/html": [
       "<div>                            <div id=\"7831f16f-d5a6-407f-bd45-6a32b41ba468\" class=\"plotly-graph-div\" style=\"height:525px; width:100%;\"></div>            <script type=\"text/javascript\">                require([\"plotly\"], function(Plotly) {                    window.PLOTLYENV=window.PLOTLYENV || {};                                    if (document.getElementById(\"7831f16f-d5a6-407f-bd45-6a32b41ba468\")) {                    Plotly.newPlot(                        \"7831f16f-d5a6-407f-bd45-6a32b41ba468\",                        [{\"mode\": \"lines\", \"name\": \"Uber\", \"type\": \"scatter\", \"x\": [0, 1, 2, 3, 4, 5, 6, 7, 8, 9, 10, 11, 12, 13, 14, 15, 16, 17, 18, 19, 20, 21, 22, 23], \"y\": [9.711869759125417, 9.618281996124201, 9.573015957019535, 9.588790311304379, 9.537023736418323, 10.074913638097842, 9.977167178255812, 9.358033779843014, 9.739002696921919, 9.438594058407938, 9.652516443576664, 10.034259921266564, 9.440179736928751, 9.442899991431693, 9.702841800942862, 9.48422802893464, 10.052587492817526, 9.418014696773039, 10.228025927591633, 9.69179123886572, 9.590945869850051, 10.004751221730277, 9.560972015220718, 9.682856234880411]}, {\"mode\": \"lines\", \"name\": \"Lyft\", \"type\": \"scatter\", \"x\": [0, 1, 2, 3, 4, 5, 6, 7, 8, 9, 10, 11, 12, 13, 14, 15, 16, 17, 18, 19, 20, 21, 22, 23], \"y\": [10.22006455238147, 10.206291414487158, 10.330349946362356, 10.130365398418363, 10.175937603956056, 10.145998526540934, 10.097699975431318, 10.182707978914255, 10.144222512653085, 10.191605543410168, 10.064160925396921, 10.226680217557348, 10.151414836038375, 10.432763110863704, 10.099131662144329, 10.110671233712019, 10.166766483848368, 10.10609157845157, 10.070932942450831, 10.071531566696745, 10.067802914070974, 10.01637508305031, 10.154515805284985, 10.07924415866233]}],                        {\"template\": {\"data\": {\"bar\": [{\"error_x\": {\"color\": \"#2a3f5f\"}, \"error_y\": {\"color\": \"#2a3f5f\"}, \"marker\": {\"line\": {\"color\": \"#E5ECF6\", \"width\": 0.5}}, \"type\": \"bar\"}], \"barpolar\": [{\"marker\": {\"line\": {\"color\": \"#E5ECF6\", \"width\": 0.5}}, \"type\": \"barpolar\"}], \"carpet\": [{\"aaxis\": {\"endlinecolor\": \"#2a3f5f\", \"gridcolor\": \"white\", \"linecolor\": \"white\", \"minorgridcolor\": \"white\", \"startlinecolor\": \"#2a3f5f\"}, \"baxis\": {\"endlinecolor\": \"#2a3f5f\", \"gridcolor\": \"white\", \"linecolor\": \"white\", \"minorgridcolor\": \"white\", \"startlinecolor\": \"#2a3f5f\"}, \"type\": \"carpet\"}], \"choropleth\": [{\"colorbar\": {\"outlinewidth\": 0, \"ticks\": \"\"}, \"type\": \"choropleth\"}], \"contour\": [{\"colorbar\": {\"outlinewidth\": 0, \"ticks\": \"\"}, \"colorscale\": [[0.0, \"#0d0887\"], [0.1111111111111111, \"#46039f\"], [0.2222222222222222, \"#7201a8\"], [0.3333333333333333, \"#9c179e\"], [0.4444444444444444, \"#bd3786\"], [0.5555555555555556, \"#d8576b\"], [0.6666666666666666, \"#ed7953\"], [0.7777777777777778, \"#fb9f3a\"], [0.8888888888888888, \"#fdca26\"], [1.0, \"#f0f921\"]], \"type\": \"contour\"}], \"contourcarpet\": [{\"colorbar\": {\"outlinewidth\": 0, \"ticks\": \"\"}, \"type\": \"contourcarpet\"}], \"heatmap\": [{\"colorbar\": {\"outlinewidth\": 0, \"ticks\": \"\"}, \"colorscale\": [[0.0, \"#0d0887\"], [0.1111111111111111, \"#46039f\"], [0.2222222222222222, \"#7201a8\"], [0.3333333333333333, \"#9c179e\"], [0.4444444444444444, \"#bd3786\"], [0.5555555555555556, \"#d8576b\"], [0.6666666666666666, \"#ed7953\"], [0.7777777777777778, \"#fb9f3a\"], [0.8888888888888888, \"#fdca26\"], [1.0, \"#f0f921\"]], \"type\": \"heatmap\"}], \"heatmapgl\": [{\"colorbar\": {\"outlinewidth\": 0, \"ticks\": \"\"}, \"colorscale\": [[0.0, \"#0d0887\"], [0.1111111111111111, \"#46039f\"], [0.2222222222222222, \"#7201a8\"], [0.3333333333333333, \"#9c179e\"], [0.4444444444444444, \"#bd3786\"], [0.5555555555555556, \"#d8576b\"], [0.6666666666666666, \"#ed7953\"], [0.7777777777777778, \"#fb9f3a\"], [0.8888888888888888, \"#fdca26\"], [1.0, \"#f0f921\"]], \"type\": \"heatmapgl\"}], \"histogram\": [{\"marker\": {\"colorbar\": {\"outlinewidth\": 0, \"ticks\": \"\"}}, \"type\": \"histogram\"}], \"histogram2d\": [{\"colorbar\": {\"outlinewidth\": 0, \"ticks\": \"\"}, \"colorscale\": [[0.0, \"#0d0887\"], [0.1111111111111111, \"#46039f\"], [0.2222222222222222, \"#7201a8\"], [0.3333333333333333, \"#9c179e\"], [0.4444444444444444, \"#bd3786\"], [0.5555555555555556, \"#d8576b\"], [0.6666666666666666, \"#ed7953\"], [0.7777777777777778, \"#fb9f3a\"], [0.8888888888888888, \"#fdca26\"], [1.0, \"#f0f921\"]], \"type\": \"histogram2d\"}], \"histogram2dcontour\": [{\"colorbar\": {\"outlinewidth\": 0, \"ticks\": \"\"}, \"colorscale\": [[0.0, \"#0d0887\"], [0.1111111111111111, \"#46039f\"], [0.2222222222222222, \"#7201a8\"], [0.3333333333333333, \"#9c179e\"], [0.4444444444444444, \"#bd3786\"], [0.5555555555555556, \"#d8576b\"], [0.6666666666666666, \"#ed7953\"], [0.7777777777777778, \"#fb9f3a\"], [0.8888888888888888, \"#fdca26\"], [1.0, \"#f0f921\"]], \"type\": \"histogram2dcontour\"}], \"mesh3d\": [{\"colorbar\": {\"outlinewidth\": 0, \"ticks\": \"\"}, \"type\": \"mesh3d\"}], \"parcoords\": [{\"line\": {\"colorbar\": {\"outlinewidth\": 0, \"ticks\": \"\"}}, \"type\": \"parcoords\"}], \"pie\": [{\"automargin\": true, \"type\": \"pie\"}], \"scatter\": [{\"marker\": {\"colorbar\": {\"outlinewidth\": 0, \"ticks\": \"\"}}, \"type\": \"scatter\"}], \"scatter3d\": [{\"line\": {\"colorbar\": {\"outlinewidth\": 0, \"ticks\": \"\"}}, \"marker\": {\"colorbar\": {\"outlinewidth\": 0, \"ticks\": \"\"}}, \"type\": \"scatter3d\"}], \"scattercarpet\": [{\"marker\": {\"colorbar\": {\"outlinewidth\": 0, \"ticks\": \"\"}}, \"type\": \"scattercarpet\"}], \"scattergeo\": [{\"marker\": {\"colorbar\": {\"outlinewidth\": 0, \"ticks\": \"\"}}, \"type\": \"scattergeo\"}], \"scattergl\": [{\"marker\": {\"colorbar\": {\"outlinewidth\": 0, \"ticks\": \"\"}}, \"type\": \"scattergl\"}], \"scattermapbox\": [{\"marker\": {\"colorbar\": {\"outlinewidth\": 0, \"ticks\": \"\"}}, \"type\": \"scattermapbox\"}], \"scatterpolar\": [{\"marker\": {\"colorbar\": {\"outlinewidth\": 0, \"ticks\": \"\"}}, \"type\": \"scatterpolar\"}], \"scatterpolargl\": [{\"marker\": {\"colorbar\": {\"outlinewidth\": 0, \"ticks\": \"\"}}, \"type\": \"scatterpolargl\"}], \"scatterternary\": [{\"marker\": {\"colorbar\": {\"outlinewidth\": 0, \"ticks\": \"\"}}, \"type\": \"scatterternary\"}], \"surface\": [{\"colorbar\": {\"outlinewidth\": 0, \"ticks\": \"\"}, \"colorscale\": [[0.0, \"#0d0887\"], [0.1111111111111111, \"#46039f\"], [0.2222222222222222, \"#7201a8\"], [0.3333333333333333, \"#9c179e\"], [0.4444444444444444, \"#bd3786\"], [0.5555555555555556, \"#d8576b\"], [0.6666666666666666, \"#ed7953\"], [0.7777777777777778, \"#fb9f3a\"], [0.8888888888888888, \"#fdca26\"], [1.0, \"#f0f921\"]], \"type\": \"surface\"}], \"table\": [{\"cells\": {\"fill\": {\"color\": \"#EBF0F8\"}, \"line\": {\"color\": \"white\"}}, \"header\": {\"fill\": {\"color\": \"#C8D4E3\"}, \"line\": {\"color\": \"white\"}}, \"type\": \"table\"}]}, \"layout\": {\"annotationdefaults\": {\"arrowcolor\": \"#2a3f5f\", \"arrowhead\": 0, \"arrowwidth\": 1}, \"autotypenumbers\": \"strict\", \"coloraxis\": {\"colorbar\": {\"outlinewidth\": 0, \"ticks\": \"\"}}, \"colorscale\": {\"diverging\": [[0, \"#8e0152\"], [0.1, \"#c51b7d\"], [0.2, \"#de77ae\"], [0.3, \"#f1b6da\"], [0.4, \"#fde0ef\"], [0.5, \"#f7f7f7\"], [0.6, \"#e6f5d0\"], [0.7, \"#b8e186\"], [0.8, \"#7fbc41\"], [0.9, \"#4d9221\"], [1, \"#276419\"]], \"sequential\": [[0.0, \"#0d0887\"], [0.1111111111111111, \"#46039f\"], [0.2222222222222222, \"#7201a8\"], [0.3333333333333333, \"#9c179e\"], [0.4444444444444444, \"#bd3786\"], [0.5555555555555556, \"#d8576b\"], [0.6666666666666666, \"#ed7953\"], [0.7777777777777778, \"#fb9f3a\"], [0.8888888888888888, \"#fdca26\"], [1.0, \"#f0f921\"]], \"sequentialminus\": [[0.0, \"#0d0887\"], [0.1111111111111111, \"#46039f\"], [0.2222222222222222, \"#7201a8\"], [0.3333333333333333, \"#9c179e\"], [0.4444444444444444, \"#bd3786\"], [0.5555555555555556, \"#d8576b\"], [0.6666666666666666, \"#ed7953\"], [0.7777777777777778, \"#fb9f3a\"], [0.8888888888888888, \"#fdca26\"], [1.0, \"#f0f921\"]]}, \"colorway\": [\"#636efa\", \"#EF553B\", \"#00cc96\", \"#ab63fa\", \"#FFA15A\", \"#19d3f3\", \"#FF6692\", \"#B6E880\", \"#FF97FF\", \"#FECB52\"], \"font\": {\"color\": \"#2a3f5f\"}, \"geo\": {\"bgcolor\": \"white\", \"lakecolor\": \"white\", \"landcolor\": \"#E5ECF6\", \"showlakes\": true, \"showland\": true, \"subunitcolor\": \"white\"}, \"hoverlabel\": {\"align\": \"left\"}, \"hovermode\": \"closest\", \"mapbox\": {\"style\": \"light\"}, \"paper_bgcolor\": \"white\", \"plot_bgcolor\": \"#E5ECF6\", \"polar\": {\"angularaxis\": {\"gridcolor\": \"white\", \"linecolor\": \"white\", \"ticks\": \"\"}, \"bgcolor\": \"#E5ECF6\", \"radialaxis\": {\"gridcolor\": \"white\", \"linecolor\": \"white\", \"ticks\": \"\"}}, \"scene\": {\"xaxis\": {\"backgroundcolor\": \"#E5ECF6\", \"gridcolor\": \"white\", \"gridwidth\": 2, \"linecolor\": \"white\", \"showbackground\": true, \"ticks\": \"\", \"zerolinecolor\": \"white\"}, \"yaxis\": {\"backgroundcolor\": \"#E5ECF6\", \"gridcolor\": \"white\", \"gridwidth\": 2, \"linecolor\": \"white\", \"showbackground\": true, \"ticks\": \"\", \"zerolinecolor\": \"white\"}, \"zaxis\": {\"backgroundcolor\": \"#E5ECF6\", \"gridcolor\": \"white\", \"gridwidth\": 2, \"linecolor\": \"white\", \"showbackground\": true, \"ticks\": \"\", \"zerolinecolor\": \"white\"}}, \"shapedefaults\": {\"line\": {\"color\": \"#2a3f5f\"}}, \"ternary\": {\"aaxis\": {\"gridcolor\": \"white\", \"linecolor\": \"white\", \"ticks\": \"\"}, \"baxis\": {\"gridcolor\": \"white\", \"linecolor\": \"white\", \"ticks\": \"\"}, \"bgcolor\": \"#E5ECF6\", \"caxis\": {\"gridcolor\": \"white\", \"linecolor\": \"white\", \"ticks\": \"\"}}, \"title\": {\"x\": 0.05}, \"xaxis\": {\"automargin\": true, \"gridcolor\": \"white\", \"linecolor\": \"white\", \"ticks\": \"\", \"title\": {\"standoff\": 15}, \"zerolinecolor\": \"white\", \"zerolinewidth\": 2}, \"yaxis\": {\"automargin\": true, \"gridcolor\": \"white\", \"linecolor\": \"white\", \"ticks\": \"\", \"title\": {\"standoff\": 15}, \"zerolinecolor\": \"white\", \"zerolinewidth\": 2}}}, \"title\": {\"text\": \"\\u0421\\u0440\\u0430\\u0432\\u043d\\u0435\\u043d\\u0438\\u0435 \\u0446\\u0435\\u043d\\u044b \\u043f\\u043e\\u0435\\u0437\\u0434\\u043e\\u043a \\u0432 \\u0442\\u0435\\u0447\\u0435\\u043d\\u0438\\u0435 \\u0441\\u0443\\u0442\\u043e\\u043a\"}},                        {\"responsive\": true}                    ).then(function(){\n",
       "                            \n",
       "var gd = document.getElementById('7831f16f-d5a6-407f-bd45-6a32b41ba468');\n",
       "var x = new MutationObserver(function (mutations, observer) {{\n",
       "        var display = window.getComputedStyle(gd).display;\n",
       "        if (!display || display === 'none') {{\n",
       "            console.log([gd, 'removed!']);\n",
       "            Plotly.purge(gd);\n",
       "            observer.disconnect();\n",
       "        }}\n",
       "}});\n",
       "\n",
       "// Listen for the removal of the full notebook cells\n",
       "var notebookContainer = gd.closest('#notebook-container');\n",
       "if (notebookContainer) {{\n",
       "    x.observe(notebookContainer, {childList: true});\n",
       "}}\n",
       "\n",
       "// Listen for the clearing of the current output cell\n",
       "var outputEl = gd.closest('.output');\n",
       "if (outputEl) {{\n",
       "    x.observe(outputEl, {childList: true});\n",
       "}}\n",
       "\n",
       "                        })                };                });            </script>        </div>"
      ]
     },
     "metadata": {},
     "output_type": "display_data"
    }
   ],
   "source": [
    "fig = go.Figure()\n",
    "fig.update_layout(\n",
    "    title_text='Сравнение цены поездок в течение суток'\n",
    ")\n",
    "fig.add_trace(go.Scatter(x=a['hour'], y=a['Uber'],\n",
    "                    mode='lines',\n",
    "                    name='Uber'))\n",
    "fig.add_trace(go.Scatter(x=a['hour'], y=a['Lyft'],\n",
    "                    mode='lines',\n",
    "                    name='Lyft'))\n",
    "fig.show()"
   ]
  },
  {
   "cell_type": "markdown",
   "metadata": {},
   "source": [
    "<strong><span style=\"color:purple\">Убер дешевле, чем Лифт на протяжении всего дня</span></strong>"
   ]
  },
  {
   "cell_type": "markdown",
   "metadata": {},
   "source": [
    "<strong><span style=\"color:purple\">У Убера бОльшая волатильность, из-за чего цена за минуту иногда достигает цену за минуту в Лифт</span></strong>"
   ]
  },
  {
   "cell_type": "markdown",
   "metadata": {},
   "source": [
    "## Идеи по дашборду:\n",
    "1. Разделить экран на две половины: с одной Убер, с другой - Лифт  \n",
    "2. Возможность выбора тарифа, промежутка цены и дистанции, места отправления и посадки, час, день недели  - выпадение из списка со множественным выбором  \n",
    "3. Возможность выбора промежутка времени - слайдер  \n",
    "4. Bar plot со значением цены от тарифа \n",
    "5. heatmap с процентом поездок от маршрута и heatmap со средней ценой от маршрута\n",
    "6. Временной ряд количества поездок, разными цветами - разные тарифы\n",
    "7. Временной ряд цены поездок за км, разными цветами - разные тарифы"
   ]
  },
  {
   "cell_type": "markdown",
   "metadata": {},
   "source": [
    "## Погода"
   ]
  },
  {
   "cell_type": "markdown",
   "metadata": {},
   "source": [
    "Препроцессинг для джоина в табло"
   ]
  },
  {
   "cell_type": "code",
   "execution_count": 638,
   "metadata": {},
   "outputs": [],
   "source": [
    "weather_df = pd.read_csv('data/weather.csv')"
   ]
  },
  {
   "cell_type": "code",
   "execution_count": 639,
   "metadata": {},
   "outputs": [],
   "source": [
    "def get_date_and_hour(val):\n",
    "    timestamp = pd.to_datetime(val, unit='s')\n",
    "    return str(timestamp.date()) + ':' + str(timestamp.hour)\n",
    "\n",
    "weather_df['date_and_hour'] = weather_df['time_stamp'].apply(get_date_and_hour)"
   ]
  },
  {
   "cell_type": "code",
   "execution_count": 640,
   "metadata": {},
   "outputs": [],
   "source": [
    "def rain_classificator(val):\n",
    "    if math.isnan(val):\n",
    "        return 'No rain'\n",
    "    if val < 0.10:\n",
    "        return 'light rain'\n",
    "    if val < 0.30:\n",
    "        return 'moderate'\n",
    "    return 'heavy'\n",
    "\n",
    "weather_df['rain_rating'] = weather_df['rain'].apply(rain_classificator)"
   ]
  },
  {
   "cell_type": "code",
   "execution_count": 641,
   "metadata": {},
   "outputs": [
    {
     "data": {
      "text/plain": [
       "No rain       5382\n",
       "light rain     697\n",
       "moderate       184\n",
       "heavy           13\n",
       "Name: rain_rating, dtype: int64"
      ]
     },
     "execution_count": 641,
     "metadata": {},
     "output_type": "execute_result"
    }
   ],
   "source": [
    "weather_df['rain_rating'].value_counts()"
   ]
  },
  {
   "cell_type": "code",
   "execution_count": 642,
   "metadata": {},
   "outputs": [],
   "source": [
    "weather_df.to_csv(\"data/processed_weather.csv\")"
   ]
  },
  {
   "cell_type": "code",
   "execution_count": null,
   "metadata": {},
   "outputs": [],
   "source": []
  }
 ],
 "metadata": {
  "kernelspec": {
   "display_name": "Python 3",
   "language": "python",
   "name": "python3"
  },
  "language_info": {
   "codemirror_mode": {
    "name": "ipython",
    "version": 3
   },
   "file_extension": ".py",
   "mimetype": "text/x-python",
   "name": "python",
   "nbconvert_exporter": "python",
   "pygments_lexer": "ipython3",
   "version": "3.8.4"
  },
  "notify_time": "10",
  "toc": {
   "base_numbering": 1,
   "nav_menu": {},
   "number_sections": true,
   "sideBar": true,
   "skip_h1_title": false,
   "title_cell": "Table of Contents",
   "title_sidebar": "Contents",
   "toc_cell": false,
   "toc_position": {
    "height": "calc(100% - 180px)",
    "left": "10px",
    "top": "150px",
    "width": "367.797px"
   },
   "toc_section_display": true,
   "toc_window_display": true
  }
 },
 "nbformat": 4,
 "nbformat_minor": 4
}
