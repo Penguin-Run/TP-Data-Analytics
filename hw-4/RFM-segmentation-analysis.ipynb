{
 "cells": [
  {
   "cell_type": "markdown",
   "id": "particular-memory",
   "metadata": {},
   "source": [
    "## Получение и предобработка данных"
   ]
  },
  {
   "cell_type": "code",
   "execution_count": 46,
   "id": "polar-posting",
   "metadata": {},
   "outputs": [],
   "source": [
    "import pandas as pd\n",
    "import numpy as np\n",
    "import sqlalchemy\n",
    "from clickhouse_driver import Client"
   ]
  },
  {
   "cell_type": "markdown",
   "id": "sharp-classics",
   "metadata": {},
   "source": [
    "### Подключаемся к Clickhouse для получения данных"
   ]
  },
  {
   "cell_type": "code",
   "execution_count": 47,
   "id": "conservative-growth",
   "metadata": {},
   "outputs": [],
   "source": [
    "client = Client('89.208.84.253',\n",
    "                port= '59000',\n",
    "                user='student',\n",
    "                password='nUrHdn2N',\n",
    "                secure=False,\n",
    "                verify=True,\n",
    "                database='data_analysis',\n",
    "                compression=False)"
   ]
  },
  {
   "cell_type": "code",
   "execution_count": 74,
   "id": "everyday-church",
   "metadata": {},
   "outputs": [],
   "source": [
    "query_views = \"\"\"select *\n",
    "from data_analysis.views\n",
    "\"\"\"\n",
    "\n",
    "query_orders = \"\"\"select *\n",
    "from data_analysis.orders\n",
    "\"\"\"\n",
    "\n",
    "result,columns = client.execute(query_views, with_column_types=True)\n",
    "views = pd.DataFrame(result, columns = [tuple[0] for tuple in columns])\n",
    "\n",
    "result,columns = client.execute(query_orders, with_column_types=True)\n",
    "orders = pd.DataFrame(result, columns = [tuple[0] for tuple in columns])"
   ]
  },
  {
   "cell_type": "code",
   "execution_count": 75,
   "id": "senior-horse",
   "metadata": {
    "scrolled": true
   },
   "outputs": [
    {
     "data": {
      "text/html": [
       "<div>\n",
       "<style scoped>\n",
       "    .dataframe tbody tr th:only-of-type {\n",
       "        vertical-align: middle;\n",
       "    }\n",
       "\n",
       "    .dataframe tbody tr th {\n",
       "        vertical-align: top;\n",
       "    }\n",
       "\n",
       "    .dataframe thead th {\n",
       "        text-align: right;\n",
       "    }\n",
       "</style>\n",
       "<table border=\"1\" class=\"dataframe\">\n",
       "  <thead>\n",
       "    <tr style=\"text-align: right;\">\n",
       "      <th></th>\n",
       "      <th>idhash_view</th>\n",
       "      <th>view_dttm</th>\n",
       "      <th>tariff</th>\n",
       "      <th>idhash_order</th>\n",
       "      <th>idhash_client</th>\n",
       "      <th>client_bill_usd</th>\n",
       "      <th>latitude</th>\n",
       "      <th>longitude</th>\n",
       "      <th>del_latitude</th>\n",
       "      <th>del_longitude</th>\n",
       "    </tr>\n",
       "  </thead>\n",
       "  <tbody>\n",
       "    <tr>\n",
       "      <th>0</th>\n",
       "      <td>944452746</td>\n",
       "      <td>2015-12-14 19:43:26</td>\n",
       "      <td>Эконом</td>\n",
       "      <td>0</td>\n",
       "      <td>3923985705</td>\n",
       "      <td>2.52</td>\n",
       "      <td>57.622251</td>\n",
       "      <td>39.883861</td>\n",
       "      <td>57.636150</td>\n",
       "      <td>39.844848</td>\n",
       "    </tr>\n",
       "    <tr>\n",
       "      <th>1</th>\n",
       "      <td>1124126659</td>\n",
       "      <td>2015-12-14 19:43:28</td>\n",
       "      <td>Комфорт</td>\n",
       "      <td>0</td>\n",
       "      <td>1613934680</td>\n",
       "      <td>0.00</td>\n",
       "      <td>55.884660</td>\n",
       "      <td>37.408535</td>\n",
       "      <td>0.000000</td>\n",
       "      <td>0.000000</td>\n",
       "    </tr>\n",
       "    <tr>\n",
       "      <th>2</th>\n",
       "      <td>4108744040</td>\n",
       "      <td>2015-12-14 19:43:28</td>\n",
       "      <td>Эконом</td>\n",
       "      <td>0</td>\n",
       "      <td>112675651</td>\n",
       "      <td>5.57</td>\n",
       "      <td>57.696041</td>\n",
       "      <td>39.793804</td>\n",
       "      <td>57.677161</td>\n",
       "      <td>39.900115</td>\n",
       "    </tr>\n",
       "    <tr>\n",
       "      <th>3</th>\n",
       "      <td>2884954660</td>\n",
       "      <td>2015-12-14 19:43:29</td>\n",
       "      <td>Эконом</td>\n",
       "      <td>0</td>\n",
       "      <td>1584742787</td>\n",
       "      <td>3.31</td>\n",
       "      <td>57.571621</td>\n",
       "      <td>39.856915</td>\n",
       "      <td>57.610347</td>\n",
       "      <td>39.831193</td>\n",
       "    </tr>\n",
       "    <tr>\n",
       "      <th>4</th>\n",
       "      <td>3769769055</td>\n",
       "      <td>2015-12-14 19:43:30</td>\n",
       "      <td>Эконом</td>\n",
       "      <td>0</td>\n",
       "      <td>2202904080</td>\n",
       "      <td>5.99</td>\n",
       "      <td>55.768278</td>\n",
       "      <td>37.556728</td>\n",
       "      <td>55.774841</td>\n",
       "      <td>37.709461</td>\n",
       "    </tr>\n",
       "  </tbody>\n",
       "</table>\n",
       "</div>"
      ],
      "text/plain": [
       "   idhash_view           view_dttm   tariff  idhash_order  idhash_client  \\\n",
       "0    944452746 2015-12-14 19:43:26   Эконом             0     3923985705   \n",
       "1   1124126659 2015-12-14 19:43:28  Комфорт             0     1613934680   \n",
       "2   4108744040 2015-12-14 19:43:28   Эконом             0      112675651   \n",
       "3   2884954660 2015-12-14 19:43:29   Эконом             0     1584742787   \n",
       "4   3769769055 2015-12-14 19:43:30   Эконом             0     2202904080   \n",
       "\n",
       "   client_bill_usd   latitude  longitude  del_latitude  del_longitude  \n",
       "0             2.52  57.622251  39.883861     57.636150      39.844848  \n",
       "1             0.00  55.884660  37.408535      0.000000       0.000000  \n",
       "2             5.57  57.696041  39.793804     57.677161      39.900115  \n",
       "3             3.31  57.571621  39.856915     57.610347      39.831193  \n",
       "4             5.99  55.768278  37.556728     55.774841      37.709461  "
      ]
     },
     "execution_count": 75,
     "metadata": {},
     "output_type": "execute_result"
    }
   ],
   "source": [
    "views.head()"
   ]
  },
  {
   "cell_type": "code",
   "execution_count": 76,
   "id": "apparent-raise",
   "metadata": {},
   "outputs": [
    {
     "data": {
      "text/html": [
       "<div>\n",
       "<style scoped>\n",
       "    .dataframe tbody tr th:only-of-type {\n",
       "        vertical-align: middle;\n",
       "    }\n",
       "\n",
       "    .dataframe tbody tr th {\n",
       "        vertical-align: top;\n",
       "    }\n",
       "\n",
       "    .dataframe thead th {\n",
       "        text-align: right;\n",
       "    }\n",
       "</style>\n",
       "<table border=\"1\" class=\"dataframe\">\n",
       "  <thead>\n",
       "    <tr style=\"text-align: right;\">\n",
       "      <th></th>\n",
       "      <th>idhash_order</th>\n",
       "      <th>idhash_view</th>\n",
       "      <th>order_dttm</th>\n",
       "      <th>da_dttm</th>\n",
       "      <th>rfc_dttm</th>\n",
       "      <th>cc_dttm</th>\n",
       "      <th>finish_dttm</th>\n",
       "      <th>cancel_dttm</th>\n",
       "      <th>status</th>\n",
       "    </tr>\n",
       "  </thead>\n",
       "  <tbody>\n",
       "    <tr>\n",
       "      <th>0</th>\n",
       "      <td>3777115420</td>\n",
       "      <td>95199865</td>\n",
       "      <td>2015-12-06 00:00:09</td>\n",
       "      <td>2015-12-06 00:00:09</td>\n",
       "      <td>2015-12-06 00:03:31</td>\n",
       "      <td>2015-12-06 00:04:59</td>\n",
       "      <td>2015-12-06 00:10:06</td>\n",
       "      <td>NaT</td>\n",
       "      <td>CP</td>\n",
       "    </tr>\n",
       "    <tr>\n",
       "      <th>1</th>\n",
       "      <td>2983673012</td>\n",
       "      <td>3853062057</td>\n",
       "      <td>2015-12-06 00:00:11</td>\n",
       "      <td>2015-12-06 00:00:12</td>\n",
       "      <td>NaT</td>\n",
       "      <td>NaT</td>\n",
       "      <td>NaT</td>\n",
       "      <td>2015-12-06 00:01:26</td>\n",
       "      <td>CC</td>\n",
       "    </tr>\n",
       "    <tr>\n",
       "      <th>2</th>\n",
       "      <td>2177076394</td>\n",
       "      <td>147233410</td>\n",
       "      <td>2015-12-06 00:00:26</td>\n",
       "      <td>2015-12-06 00:00:37</td>\n",
       "      <td>2015-12-06 00:04:31</td>\n",
       "      <td>2015-12-06 00:07:06</td>\n",
       "      <td>2015-12-06 00:12:29</td>\n",
       "      <td>NaT</td>\n",
       "      <td>CP</td>\n",
       "    </tr>\n",
       "    <tr>\n",
       "      <th>3</th>\n",
       "      <td>1997846256</td>\n",
       "      <td>518227239</td>\n",
       "      <td>2015-12-06 00:00:32</td>\n",
       "      <td>2015-12-06 00:00:41</td>\n",
       "      <td>2015-12-06 00:04:04</td>\n",
       "      <td>2015-12-06 00:06:08</td>\n",
       "      <td>2015-12-06 00:17:11</td>\n",
       "      <td>NaT</td>\n",
       "      <td>CP</td>\n",
       "    </tr>\n",
       "    <tr>\n",
       "      <th>4</th>\n",
       "      <td>1893504594</td>\n",
       "      <td>3623774808</td>\n",
       "      <td>2015-12-06 00:01:07</td>\n",
       "      <td>2015-12-06 00:04:46</td>\n",
       "      <td>2015-12-06 00:11:35</td>\n",
       "      <td>2015-12-06 00:13:01</td>\n",
       "      <td>2015-12-06 00:29:43</td>\n",
       "      <td>NaT</td>\n",
       "      <td>CP</td>\n",
       "    </tr>\n",
       "  </tbody>\n",
       "</table>\n",
       "</div>"
      ],
      "text/plain": [
       "   idhash_order  idhash_view          order_dttm             da_dttm  \\\n",
       "0    3777115420     95199865 2015-12-06 00:00:09 2015-12-06 00:00:09   \n",
       "1    2983673012   3853062057 2015-12-06 00:00:11 2015-12-06 00:00:12   \n",
       "2    2177076394    147233410 2015-12-06 00:00:26 2015-12-06 00:00:37   \n",
       "3    1997846256    518227239 2015-12-06 00:00:32 2015-12-06 00:00:41   \n",
       "4    1893504594   3623774808 2015-12-06 00:01:07 2015-12-06 00:04:46   \n",
       "\n",
       "             rfc_dttm             cc_dttm         finish_dttm  \\\n",
       "0 2015-12-06 00:03:31 2015-12-06 00:04:59 2015-12-06 00:10:06   \n",
       "1                 NaT                 NaT                 NaT   \n",
       "2 2015-12-06 00:04:31 2015-12-06 00:07:06 2015-12-06 00:12:29   \n",
       "3 2015-12-06 00:04:04 2015-12-06 00:06:08 2015-12-06 00:17:11   \n",
       "4 2015-12-06 00:11:35 2015-12-06 00:13:01 2015-12-06 00:29:43   \n",
       "\n",
       "          cancel_dttm status  \n",
       "0                 NaT     CP  \n",
       "1 2015-12-06 00:01:26     CC  \n",
       "2                 NaT     CP  \n",
       "3                 NaT     CP  \n",
       "4                 NaT     CP  "
      ]
     },
     "execution_count": 76,
     "metadata": {},
     "output_type": "execute_result"
    }
   ],
   "source": [
    "orders.head()"
   ]
  },
  {
   "cell_type": "markdown",
   "id": "acquired-intention",
   "metadata": {},
   "source": [
    "### RFM-сегментация"
   ]
  },
  {
   "cell_type": "code",
   "execution_count": 51,
   "id": "expanded-rainbow",
   "metadata": {},
   "outputs": [],
   "source": [
    "views['client_bill_rub'] =  views['client_bill_usd'] * 75"
   ]
  },
  {
   "cell_type": "markdown",
   "id": "clinical-creek",
   "metadata": {},
   "source": [
    "Для RFM-сегментации нам нужна информация о:\n",
    "* дате последнего заказа\n",
    "* частоте заказов\n",
    "* сумме заказов\n",
    "\n",
    "Заказ будем считать совершенным, если человека без происшествий довезли до пункта назначения, то есть если имеется дата завершения поездки колонки \"finish_dttm\" таблицы с заказами:"
   ]
  },
  {
   "cell_type": "code",
   "execution_count": 52,
   "id": "martial-mistress",
   "metadata": {},
   "outputs": [],
   "source": [
    "completed_orders = orders.dropna(subset = ['finish_dttm'])"
   ]
  },
  {
   "cell_type": "markdown",
   "id": "medieval-silly",
   "metadata": {},
   "source": [
    "Приджоиним информацию о сумме каждого заказа из views:"
   ]
  },
  {
   "cell_type": "code",
   "execution_count": 60,
   "id": "sound-batch",
   "metadata": {},
   "outputs": [],
   "source": [
    "completed_orders = completed_orders.drop('idhash_view', axis = 1).join(views.set_index('idhash_order'), on='idhash_order', how = 'left')"
   ]
  },
  {
   "cell_type": "markdown",
   "id": "yellow-english",
   "metadata": {},
   "source": [
    "Оставляем только нужные нам для сегментации колонки:"
   ]
  },
  {
   "cell_type": "code",
   "execution_count": 67,
   "id": "collectible-parent",
   "metadata": {},
   "outputs": [],
   "source": [
    "completed_orders = completed_orders.drop(['da_dttm', 'rfc_dttm', 'cc_dttm', 'cancel_dttm', 'status', 'idhash_view', 'client_bill_usd', 'latitude', 'longitude', 'del_latitude', 'del_longitude'], axis = 1)"
   ]
  },
  {
   "cell_type": "code",
   "execution_count": 77,
   "id": "awful-jones",
   "metadata": {},
   "outputs": [
    {
     "data": {
      "text/html": [
       "<div>\n",
       "<style scoped>\n",
       "    .dataframe tbody tr th:only-of-type {\n",
       "        vertical-align: middle;\n",
       "    }\n",
       "\n",
       "    .dataframe tbody tr th {\n",
       "        vertical-align: top;\n",
       "    }\n",
       "\n",
       "    .dataframe thead th {\n",
       "        text-align: right;\n",
       "    }\n",
       "</style>\n",
       "<table border=\"1\" class=\"dataframe\">\n",
       "  <thead>\n",
       "    <tr style=\"text-align: right;\">\n",
       "      <th></th>\n",
       "      <th>idhash_order</th>\n",
       "      <th>order_dttm</th>\n",
       "      <th>finish_dttm</th>\n",
       "      <th>view_dttm</th>\n",
       "      <th>tariff</th>\n",
       "      <th>idhash_client</th>\n",
       "      <th>client_bill_rub</th>\n",
       "    </tr>\n",
       "  </thead>\n",
       "  <tbody>\n",
       "    <tr>\n",
       "      <th>0</th>\n",
       "      <td>3777115420</td>\n",
       "      <td>2015-12-06 00:00:09</td>\n",
       "      <td>2015-12-06 00:10:06</td>\n",
       "      <td>2015-12-06 00:00:06</td>\n",
       "      <td>Эконом</td>\n",
       "      <td>2.606231e+08</td>\n",
       "      <td>115.500</td>\n",
       "    </tr>\n",
       "    <tr>\n",
       "      <th>2</th>\n",
       "      <td>2177076394</td>\n",
       "      <td>2015-12-06 00:00:26</td>\n",
       "      <td>2015-12-06 00:12:29</td>\n",
       "      <td>2015-12-06 00:00:25</td>\n",
       "      <td>Эконом</td>\n",
       "      <td>1.419240e+09</td>\n",
       "      <td>141.000</td>\n",
       "    </tr>\n",
       "    <tr>\n",
       "      <th>3</th>\n",
       "      <td>1997846256</td>\n",
       "      <td>2015-12-06 00:00:32</td>\n",
       "      <td>2015-12-06 00:17:11</td>\n",
       "      <td>2015-12-06 00:00:26</td>\n",
       "      <td>Эконом</td>\n",
       "      <td>3.243818e+09</td>\n",
       "      <td>384.000</td>\n",
       "    </tr>\n",
       "    <tr>\n",
       "      <th>4</th>\n",
       "      <td>1893504594</td>\n",
       "      <td>2015-12-06 00:01:07</td>\n",
       "      <td>2015-12-06 00:29:43</td>\n",
       "      <td>2015-12-06 00:00:48</td>\n",
       "      <td>Комфорт+</td>\n",
       "      <td>2.978411e+09</td>\n",
       "      <td>529.500</td>\n",
       "    </tr>\n",
       "    <tr>\n",
       "      <th>9</th>\n",
       "      <td>1786344293</td>\n",
       "      <td>2015-12-06 00:02:09</td>\n",
       "      <td>2015-12-06 00:18:00</td>\n",
       "      <td>2015-12-06 00:02:02</td>\n",
       "      <td>Эконом</td>\n",
       "      <td>1.583693e+09</td>\n",
       "      <td>208.500</td>\n",
       "    </tr>\n",
       "    <tr>\n",
       "      <th>...</th>\n",
       "      <td>...</td>\n",
       "      <td>...</td>\n",
       "      <td>...</td>\n",
       "      <td>...</td>\n",
       "      <td>...</td>\n",
       "      <td>...</td>\n",
       "      <td>...</td>\n",
       "    </tr>\n",
       "    <tr>\n",
       "      <th>86115</th>\n",
       "      <td>1766787720</td>\n",
       "      <td>2015-12-19 23:58:05</td>\n",
       "      <td>2015-12-20 00:11:39</td>\n",
       "      <td>2015-12-19 23:57:56</td>\n",
       "      <td>Эконом</td>\n",
       "      <td>2.361156e+09</td>\n",
       "      <td>222.750</td>\n",
       "    </tr>\n",
       "    <tr>\n",
       "      <th>86116</th>\n",
       "      <td>906364318</td>\n",
       "      <td>2015-12-19 23:58:20</td>\n",
       "      <td>2015-12-20 00:08:35</td>\n",
       "      <td>2015-12-19 23:58:13</td>\n",
       "      <td>Эконом</td>\n",
       "      <td>4.145563e+09</td>\n",
       "      <td>198.750</td>\n",
       "    </tr>\n",
       "    <tr>\n",
       "      <th>86117</th>\n",
       "      <td>2921584586</td>\n",
       "      <td>2015-12-19 23:58:26</td>\n",
       "      <td>2015-12-20 00:19:02</td>\n",
       "      <td>2015-12-19 23:58:17</td>\n",
       "      <td>Комфорт</td>\n",
       "      <td>8.464269e+08</td>\n",
       "      <td>381.375</td>\n",
       "    </tr>\n",
       "    <tr>\n",
       "      <th>86119</th>\n",
       "      <td>1146229702</td>\n",
       "      <td>2015-12-19 23:58:59</td>\n",
       "      <td>2015-12-20 00:16:25</td>\n",
       "      <td>2015-12-19 23:58:54</td>\n",
       "      <td>Комфорт</td>\n",
       "      <td>8.030496e+08</td>\n",
       "      <td>540.000</td>\n",
       "    </tr>\n",
       "    <tr>\n",
       "      <th>86120</th>\n",
       "      <td>3552745176</td>\n",
       "      <td>2015-12-19 23:59:21</td>\n",
       "      <td>2015-12-20 00:18:59</td>\n",
       "      <td>2015-12-19 23:59:19</td>\n",
       "      <td>Эконом</td>\n",
       "      <td>3.425363e+09</td>\n",
       "      <td>407.250</td>\n",
       "    </tr>\n",
       "  </tbody>\n",
       "</table>\n",
       "<p>55000 rows × 7 columns</p>\n",
       "</div>"
      ],
      "text/plain": [
       "       idhash_order          order_dttm         finish_dttm  \\\n",
       "0        3777115420 2015-12-06 00:00:09 2015-12-06 00:10:06   \n",
       "2        2177076394 2015-12-06 00:00:26 2015-12-06 00:12:29   \n",
       "3        1997846256 2015-12-06 00:00:32 2015-12-06 00:17:11   \n",
       "4        1893504594 2015-12-06 00:01:07 2015-12-06 00:29:43   \n",
       "9        1786344293 2015-12-06 00:02:09 2015-12-06 00:18:00   \n",
       "...             ...                 ...                 ...   \n",
       "86115    1766787720 2015-12-19 23:58:05 2015-12-20 00:11:39   \n",
       "86116     906364318 2015-12-19 23:58:20 2015-12-20 00:08:35   \n",
       "86117    2921584586 2015-12-19 23:58:26 2015-12-20 00:19:02   \n",
       "86119    1146229702 2015-12-19 23:58:59 2015-12-20 00:16:25   \n",
       "86120    3552745176 2015-12-19 23:59:21 2015-12-20 00:18:59   \n",
       "\n",
       "                view_dttm    tariff  idhash_client  client_bill_rub  \n",
       "0     2015-12-06 00:00:06    Эконом   2.606231e+08          115.500  \n",
       "2     2015-12-06 00:00:25    Эконом   1.419240e+09          141.000  \n",
       "3     2015-12-06 00:00:26    Эконом   3.243818e+09          384.000  \n",
       "4     2015-12-06 00:00:48  Комфорт+   2.978411e+09          529.500  \n",
       "9     2015-12-06 00:02:02    Эконом   1.583693e+09          208.500  \n",
       "...                   ...       ...            ...              ...  \n",
       "86115 2015-12-19 23:57:56    Эконом   2.361156e+09          222.750  \n",
       "86116 2015-12-19 23:58:13    Эконом   4.145563e+09          198.750  \n",
       "86117 2015-12-19 23:58:17   Комфорт   8.464269e+08          381.375  \n",
       "86119 2015-12-19 23:58:54   Комфорт   8.030496e+08          540.000  \n",
       "86120 2015-12-19 23:59:19    Эконом   3.425363e+09          407.250  \n",
       "\n",
       "[55000 rows x 7 columns]"
      ]
     },
     "execution_count": 77,
     "metadata": {},
     "output_type": "execute_result"
    }
   ],
   "source": [
    "completed_orders"
   ]
  },
  {
   "cell_type": "markdown",
   "id": "passing-drawing",
   "metadata": {},
   "source": [
    "#### Определим границы наших сегментов"
   ]
  },
  {
   "cell_type": "markdown",
   "id": "confirmed-certification",
   "metadata": {},
   "source": [
    "##### recency"
   ]
  },
  {
   "cell_type": "markdown",
   "id": "fewer-short",
   "metadata": {},
   "source": [
    "Сгруппируем по пользователем и:\n",
    "* поставим в колонку recent - самый недавний заказ\n",
    "* просуммируем все заказы\n",
    "* посчитаем количество всех заказов"
   ]
  },
  {
   "cell_type": "code",
   "execution_count": 95,
   "id": "crazy-container",
   "metadata": {},
   "outputs": [],
   "source": [
    "grouped = completed_orders.groupby('idhash_client').agg(\n",
    "    {'client_bill_rub': ['mean', 'count'],\n",
    "     'order_dttm': 'max'}\n",
    ")\n",
    "monetary = grouped[('client_bill_rub', 'mean')]\n",
    "frequency = grouped[('client_bill_rub', 'count')]\n",
    "recency = grouped[('order_dttm', 'max')]"
   ]
  },
  {
   "cell_type": "markdown",
   "id": "informative-explanation",
   "metadata": {},
   "source": [
    "На каждый признак построим гистограммы, посмотрим перцентили и решим, где прочертить границы нашей сегментации:"
   ]
  },
  {
   "cell_type": "code",
   "execution_count": 98,
   "id": "medical-connecticut",
   "metadata": {},
   "outputs": [
    {
     "data": {
      "image/png": "[encoded data removed]",
      "text/plain": [
       "<Figure size 432x288 with 1 Axes>"
      ]
     },
     "metadata": {
      "needs_background": "light"
     },
     "output_type": "display_data"
    }
   ],
   "source": [
    "import matplotlib.pyplot as plt\n",
    "\n",
    "monetary.hist(bins = 200, range = (0, 2000))\n",
    "plt.show()\n"
   ]
  },
  {
   "cell_type": "markdown",
   "id": "fiscal-magic",
   "metadata": {},
   "source": [
    "Большое скопление заказов с нулевой суммой выбросом не считаю, так как это люди, оплатившие поездку бонусами (я надеюсь), а значит это тоже наши клиенты, которые в данной поездке пошли нам в убыток."
   ]
  },
  {
   "cell_type": "markdown",
   "id": "compact-listing",
   "metadata": {},
   "source": [
    "Применим равномерное сегментирование по диапазонам значений:"
   ]
  },
  {
   "cell_type": "code",
   "execution_count": 138,
   "id": "excited-edward",
   "metadata": {},
   "outputs": [
    {
     "name": "stdout",
     "output_type": "stream",
     "text": [
      "0.0 - 321.0   ~58%\n",
      "321.0 - 572.25   ~32%\n",
      "572.25 - 23015.25   ~10%\n"
     ]
    }
   ],
   "source": [
    "range = monetary.quantile(0.97) - monetary.quantile(0.03)\n",
    "step = range / 3\n",
    "\n",
    "border_1 = monetary.quantile(0.03) + step\n",
    "border_2 = border_1 + step\n",
    "\n",
    "print('{} - {}   ~{}%'.format(monetary.min(), border_1, 58))\n",
    "print('{} - {}   ~{}%'.format(border_1, border_2, 32))\n",
    "print('{} - {}   ~{}%'.format(border_2, monetary.max(), 10))"
   ]
  },
  {
   "cell_type": "code",
   "execution_count": null,
   "id": "unsigned-stuff",
   "metadata": {},
   "outputs": [],
   "source": []
  }
 ],
 "metadata": {
  "kernelspec": {
   "display_name": "Python 3",
   "language": "python",
   "name": "python3"
  },
  "language_info": {
   "codemirror_mode": {
    "name": "ipython",
    "version": 3
   },
   "file_extension": ".py",
   "mimetype": "text/x-python",
   "name": "python",
   "nbconvert_exporter": "python",
   "pygments_lexer": "ipython3",
   "version": "3.8.4"
  }
 },
 "nbformat": 4,
 "nbformat_minor": 5
}
