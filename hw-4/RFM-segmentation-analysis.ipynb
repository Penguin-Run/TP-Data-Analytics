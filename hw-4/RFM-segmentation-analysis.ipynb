{
 "cells": [
  {
   "cell_type": "markdown",
   "id": "particular-memory",
   "metadata": {},
   "source": [
    "## Получение и предобработка данных"
   ]
  },
  {
   "cell_type": "code",
   "execution_count": 7,
   "id": "polar-posting",
   "metadata": {},
   "outputs": [],
   "source": [
    "import pandas as pd\n",
    "import numpy as np\n",
    "import sqlalchemy\n",
    "from clickhouse_driver import Client"
   ]
  },
  {
   "cell_type": "markdown",
   "id": "sharp-classics",
   "metadata": {},
   "source": [
    "### Подключаемся к Clickhouse для получения данных"
   ]
  },
  {
   "cell_type": "code",
   "execution_count": 8,
   "id": "conservative-growth",
   "metadata": {},
   "outputs": [],
   "source": [
    "client = Client('89.208.84.253',\n",
    "                port= '59000',\n",
    "                user='student',\n",
    "                password='nUrHdn2N',\n",
    "                secure=False,\n",
    "                verify=True,\n",
    "                database='data_analysis',\n",
    "                compression=False)"
   ]
  },
  {
   "cell_type": "code",
   "execution_count": 9,
   "id": "everyday-church",
   "metadata": {},
   "outputs": [],
   "source": [
    "query_views = \"\"\"select *\n",
    "from data_analysis.views\n",
    "\"\"\"\n",
    "\n",
    "query_orders = \"\"\"select *\n",
    "from data_analysis.orders\n",
    "\"\"\"\n",
    "\n",
    "result,columns = client.execute(query_views, with_column_types=True)\n",
    "views = pd.DataFrame(result, columns = [tuple[0] for tuple in columns])\n",
    "\n",
    "result,columns = client.execute(query_orders, with_column_types=True)\n",
    "orders = pd.DataFrame(result, columns = [tuple[0] for tuple in columns])"
   ]
  },
  {
   "cell_type": "code",
   "execution_count": 10,
   "id": "senior-horse",
   "metadata": {
    "scrolled": false
   },
   "outputs": [
    {
     "data": {
      "text/html": [
       "<div>\n",
       "<style scoped>\n",
       "    .dataframe tbody tr th:only-of-type {\n",
       "        vertical-align: middle;\n",
       "    }\n",
       "\n",
       "    .dataframe tbody tr th {\n",
       "        vertical-align: top;\n",
       "    }\n",
       "\n",
       "    .dataframe thead th {\n",
       "        text-align: right;\n",
       "    }\n",
       "</style>\n",
       "<table border=\"1\" class=\"dataframe\">\n",
       "  <thead>\n",
       "    <tr style=\"text-align: right;\">\n",
       "      <th></th>\n",
       "      <th>idhash_view</th>\n",
       "      <th>view_dttm</th>\n",
       "      <th>tariff</th>\n",
       "      <th>idhash_order</th>\n",
       "      <th>idhash_client</th>\n",
       "      <th>client_bill_usd</th>\n",
       "      <th>latitude</th>\n",
       "      <th>longitude</th>\n",
       "      <th>del_latitude</th>\n",
       "      <th>del_longitude</th>\n",
       "    </tr>\n",
       "  </thead>\n",
       "  <tbody>\n",
       "    <tr>\n",
       "      <th>0</th>\n",
       "      <td>3105945005</td>\n",
       "      <td>2015-12-06 00:00:02</td>\n",
       "      <td>Эконом</td>\n",
       "      <td>0</td>\n",
       "      <td>35537762</td>\n",
       "      <td>6.04</td>\n",
       "      <td>57.630691</td>\n",
       "      <td>39.888197</td>\n",
       "      <td>57.713856</td>\n",
       "      <td>39.772606</td>\n",
       "    </tr>\n",
       "    <tr>\n",
       "      <th>1</th>\n",
       "      <td>2062958078</td>\n",
       "      <td>2015-12-06 00:00:04</td>\n",
       "      <td>Комфорт</td>\n",
       "      <td>0</td>\n",
       "      <td>2920203325</td>\n",
       "      <td>0.00</td>\n",
       "      <td>57.622005</td>\n",
       "      <td>39.878959</td>\n",
       "      <td>0.000000</td>\n",
       "      <td>0.000000</td>\n",
       "    </tr>\n",
       "    <tr>\n",
       "      <th>2</th>\n",
       "      <td>2786426058</td>\n",
       "      <td>2015-12-06 00:00:05</td>\n",
       "      <td>Эконом</td>\n",
       "      <td>0</td>\n",
       "      <td>801152436</td>\n",
       "      <td>4.03</td>\n",
       "      <td>55.728050</td>\n",
       "      <td>37.580513</td>\n",
       "      <td>55.669315</td>\n",
       "      <td>37.561047</td>\n",
       "    </tr>\n",
       "    <tr>\n",
       "      <th>3</th>\n",
       "      <td>992462937</td>\n",
       "      <td>2015-12-06 00:00:06</td>\n",
       "      <td>Эконом</td>\n",
       "      <td>3777115420</td>\n",
       "      <td>260623123</td>\n",
       "      <td>1.54</td>\n",
       "      <td>57.653202</td>\n",
       "      <td>39.960438</td>\n",
       "      <td>57.647839</td>\n",
       "      <td>39.946285</td>\n",
       "    </tr>\n",
       "    <tr>\n",
       "      <th>4</th>\n",
       "      <td>517307460</td>\n",
       "      <td>2015-12-06 00:00:08</td>\n",
       "      <td>Комфорт+</td>\n",
       "      <td>0</td>\n",
       "      <td>2446042259</td>\n",
       "      <td>0.00</td>\n",
       "      <td>57.621269</td>\n",
       "      <td>39.867851</td>\n",
       "      <td>0.000000</td>\n",
       "      <td>0.000000</td>\n",
       "    </tr>\n",
       "  </tbody>\n",
       "</table>\n",
       "</div>"
      ],
      "text/plain": [
       "   idhash_view           view_dttm    tariff  idhash_order  idhash_client  \\\n",
       "0   3105945005 2015-12-06 00:00:02    Эконом             0       35537762   \n",
       "1   2062958078 2015-12-06 00:00:04   Комфорт             0     2920203325   \n",
       "2   2786426058 2015-12-06 00:00:05    Эконом             0      801152436   \n",
       "3    992462937 2015-12-06 00:00:06    Эконом    3777115420      260623123   \n",
       "4    517307460 2015-12-06 00:00:08  Комфорт+             0     2446042259   \n",
       "\n",
       "   client_bill_usd   latitude  longitude  del_latitude  del_longitude  \n",
       "0             6.04  57.630691  39.888197     57.713856      39.772606  \n",
       "1             0.00  57.622005  39.878959      0.000000       0.000000  \n",
       "2             4.03  55.728050  37.580513     55.669315      37.561047  \n",
       "3             1.54  57.653202  39.960438     57.647839      39.946285  \n",
       "4             0.00  57.621269  39.867851      0.000000       0.000000  "
      ]
     },
     "execution_count": 10,
     "metadata": {},
     "output_type": "execute_result"
    }
   ],
   "source": [
    "views.head()"
   ]
  },
  {
   "cell_type": "markdown",
   "id": "portuguese-dominant",
   "metadata": {},
   "source": [
    "Добавим для удобства айди пользователя в таблицу заказов"
   ]
  },
  {
   "cell_type": "code",
   "execution_count": 11,
   "id": "numerous-migration",
   "metadata": {},
   "outputs": [],
   "source": [
    "orders['idhash_client'] = orders.drop('idhash_view', axis = 1).join(views.set_index('idhash_order'), on='idhash_order', how = 'left')['idhash_client']"
   ]
  },
  {
   "cell_type": "code",
   "execution_count": 12,
   "id": "described-camping",
   "metadata": {},
   "outputs": [
    {
     "data": {
      "text/html": [
       "<div>\n",
       "<style scoped>\n",
       "    .dataframe tbody tr th:only-of-type {\n",
       "        vertical-align: middle;\n",
       "    }\n",
       "\n",
       "    .dataframe tbody tr th {\n",
       "        vertical-align: top;\n",
       "    }\n",
       "\n",
       "    .dataframe thead th {\n",
       "        text-align: right;\n",
       "    }\n",
       "</style>\n",
       "<table border=\"1\" class=\"dataframe\">\n",
       "  <thead>\n",
       "    <tr style=\"text-align: right;\">\n",
       "      <th></th>\n",
       "      <th>idhash_order</th>\n",
       "      <th>idhash_view</th>\n",
       "      <th>order_dttm</th>\n",
       "      <th>da_dttm</th>\n",
       "      <th>rfc_dttm</th>\n",
       "      <th>cc_dttm</th>\n",
       "      <th>finish_dttm</th>\n",
       "      <th>cancel_dttm</th>\n",
       "      <th>status</th>\n",
       "      <th>idhash_client</th>\n",
       "    </tr>\n",
       "  </thead>\n",
       "  <tbody>\n",
       "    <tr>\n",
       "      <th>0</th>\n",
       "      <td>3777115420</td>\n",
       "      <td>95199865</td>\n",
       "      <td>2015-12-06 00:00:09</td>\n",
       "      <td>2015-12-06 00:00:09</td>\n",
       "      <td>2015-12-06 00:03:31</td>\n",
       "      <td>2015-12-06 00:04:59</td>\n",
       "      <td>2015-12-06 00:10:06</td>\n",
       "      <td>NaT</td>\n",
       "      <td>CP</td>\n",
       "      <td>2.606231e+08</td>\n",
       "    </tr>\n",
       "    <tr>\n",
       "      <th>1</th>\n",
       "      <td>2983673012</td>\n",
       "      <td>3853062057</td>\n",
       "      <td>2015-12-06 00:00:11</td>\n",
       "      <td>2015-12-06 00:00:12</td>\n",
       "      <td>NaT</td>\n",
       "      <td>NaT</td>\n",
       "      <td>NaT</td>\n",
       "      <td>2015-12-06 00:01:26</td>\n",
       "      <td>CC</td>\n",
       "      <td>NaN</td>\n",
       "    </tr>\n",
       "    <tr>\n",
       "      <th>2</th>\n",
       "      <td>2177076394</td>\n",
       "      <td>147233410</td>\n",
       "      <td>2015-12-06 00:00:26</td>\n",
       "      <td>2015-12-06 00:00:37</td>\n",
       "      <td>2015-12-06 00:04:31</td>\n",
       "      <td>2015-12-06 00:07:06</td>\n",
       "      <td>2015-12-06 00:12:29</td>\n",
       "      <td>NaT</td>\n",
       "      <td>CP</td>\n",
       "      <td>1.419240e+09</td>\n",
       "    </tr>\n",
       "    <tr>\n",
       "      <th>3</th>\n",
       "      <td>1997846256</td>\n",
       "      <td>518227239</td>\n",
       "      <td>2015-12-06 00:00:32</td>\n",
       "      <td>2015-12-06 00:00:41</td>\n",
       "      <td>2015-12-06 00:04:04</td>\n",
       "      <td>2015-12-06 00:06:08</td>\n",
       "      <td>2015-12-06 00:17:11</td>\n",
       "      <td>NaT</td>\n",
       "      <td>CP</td>\n",
       "      <td>3.243818e+09</td>\n",
       "    </tr>\n",
       "    <tr>\n",
       "      <th>4</th>\n",
       "      <td>1893504594</td>\n",
       "      <td>3623774808</td>\n",
       "      <td>2015-12-06 00:01:07</td>\n",
       "      <td>2015-12-06 00:04:46</td>\n",
       "      <td>2015-12-06 00:11:35</td>\n",
       "      <td>2015-12-06 00:13:01</td>\n",
       "      <td>2015-12-06 00:29:43</td>\n",
       "      <td>NaT</td>\n",
       "      <td>CP</td>\n",
       "      <td>2.978411e+09</td>\n",
       "    </tr>\n",
       "  </tbody>\n",
       "</table>\n",
       "</div>"
      ],
      "text/plain": [
       "   idhash_order  idhash_view          order_dttm             da_dttm  \\\n",
       "0    3777115420     95199865 2015-12-06 00:00:09 2015-12-06 00:00:09   \n",
       "1    2983673012   3853062057 2015-12-06 00:00:11 2015-12-06 00:00:12   \n",
       "2    2177076394    147233410 2015-12-06 00:00:26 2015-12-06 00:00:37   \n",
       "3    1997846256    518227239 2015-12-06 00:00:32 2015-12-06 00:00:41   \n",
       "4    1893504594   3623774808 2015-12-06 00:01:07 2015-12-06 00:04:46   \n",
       "\n",
       "             rfc_dttm             cc_dttm         finish_dttm  \\\n",
       "0 2015-12-06 00:03:31 2015-12-06 00:04:59 2015-12-06 00:10:06   \n",
       "1                 NaT                 NaT                 NaT   \n",
       "2 2015-12-06 00:04:31 2015-12-06 00:07:06 2015-12-06 00:12:29   \n",
       "3 2015-12-06 00:04:04 2015-12-06 00:06:08 2015-12-06 00:17:11   \n",
       "4 2015-12-06 00:11:35 2015-12-06 00:13:01 2015-12-06 00:29:43   \n",
       "\n",
       "          cancel_dttm status  idhash_client  \n",
       "0                 NaT     CP   2.606231e+08  \n",
       "1 2015-12-06 00:01:26     CC            NaN  \n",
       "2                 NaT     CP   1.419240e+09  \n",
       "3                 NaT     CP   3.243818e+09  \n",
       "4                 NaT     CP   2.978411e+09  "
      ]
     },
     "execution_count": 12,
     "metadata": {},
     "output_type": "execute_result"
    }
   ],
   "source": [
    "orders.head()"
   ]
  },
  {
   "cell_type": "markdown",
   "id": "acquired-intention",
   "metadata": {},
   "source": [
    "### RFM-сегментация"
   ]
  },
  {
   "cell_type": "code",
   "execution_count": 13,
   "id": "expanded-rainbow",
   "metadata": {},
   "outputs": [],
   "source": [
    "views['client_bill_rub'] =  views['client_bill_usd'] * 75"
   ]
  },
  {
   "cell_type": "markdown",
   "id": "first-mayor",
   "metadata": {},
   "source": [
    "Для RFM-сегментации нам нужна информация о:\n",
    "* дате последнего заказа\n",
    "* частоте заказов\n",
    "* сумме заказов\n",
    "\n",
    "Заказ будем считать совершенным, если человека без происшествий довезли до пункта назначения, то есть если имеется дата завершения поездки колонки \"finish_dttm\" таблицы с заказами:"
   ]
  },
  {
   "cell_type": "code",
   "execution_count": 14,
   "id": "infectious-community",
   "metadata": {},
   "outputs": [],
   "source": [
    "completed_orders = orders.dropna(subset = ['finish_dttm'])"
   ]
  },
  {
   "cell_type": "markdown",
   "id": "guilty-comparison",
   "metadata": {},
   "source": [
    "Приджоиним информацию о сумме каждого заказа из views:"
   ]
  },
  {
   "cell_type": "code",
   "execution_count": 15,
   "id": "incorporated-roller",
   "metadata": {},
   "outputs": [],
   "source": [
    "completed_orders = completed_orders.drop(['idhash_view', 'idhash_client'], axis = 1).join(views.set_index('idhash_order'), on='idhash_order', how = 'left')"
   ]
  },
  {
   "cell_type": "markdown",
   "id": "mobile-planner",
   "metadata": {},
   "source": [
    "Оставляем только нужные нам для сегментации колонки:"
   ]
  },
  {
   "cell_type": "code",
   "execution_count": 16,
   "id": "positive-terminology",
   "metadata": {},
   "outputs": [],
   "source": [
    "completed_orders = completed_orders.drop(['da_dttm', 'rfc_dttm', 'cc_dttm', 'cancel_dttm', 'status', 'idhash_view', 'client_bill_usd', 'latitude', 'longitude', 'del_latitude', 'del_longitude'], axis = 1)"
   ]
  },
  {
   "cell_type": "markdown",
   "id": "alpine-brighton",
   "metadata": {},
   "source": [
    "Добавляем колонку в временем, которое прошло с момента заказа в часах"
   ]
  },
  {
   "cell_type": "code",
   "execution_count": 17,
   "id": "personalized-recording",
   "metadata": {},
   "outputs": [],
   "source": [
    "def get_recency(order_date):\n",
    "    TODAY = pd.to_datetime('2015-12-20 00:00:00')\n",
    "    return round((TODAY - order_date).total_seconds() / 3600 / 24, 2)\n",
    "\n",
    "\n",
    "completed_orders['days_since_last_order'] =  completed_orders['order_dttm'].apply(get_recency)"
   ]
  },
  {
   "cell_type": "code",
   "execution_count": 18,
   "id": "sonic-inclusion",
   "metadata": {},
   "outputs": [
    {
     "data": {
      "text/html": [
       "<div>\n",
       "<style scoped>\n",
       "    .dataframe tbody tr th:only-of-type {\n",
       "        vertical-align: middle;\n",
       "    }\n",
       "\n",
       "    .dataframe tbody tr th {\n",
       "        vertical-align: top;\n",
       "    }\n",
       "\n",
       "    .dataframe thead th {\n",
       "        text-align: right;\n",
       "    }\n",
       "</style>\n",
       "<table border=\"1\" class=\"dataframe\">\n",
       "  <thead>\n",
       "    <tr style=\"text-align: right;\">\n",
       "      <th></th>\n",
       "      <th>idhash_order</th>\n",
       "      <th>order_dttm</th>\n",
       "      <th>finish_dttm</th>\n",
       "      <th>view_dttm</th>\n",
       "      <th>tariff</th>\n",
       "      <th>idhash_client</th>\n",
       "      <th>client_bill_rub</th>\n",
       "      <th>days_since_last_order</th>\n",
       "    </tr>\n",
       "  </thead>\n",
       "  <tbody>\n",
       "    <tr>\n",
       "      <th>0</th>\n",
       "      <td>3777115420</td>\n",
       "      <td>2015-12-06 00:00:09</td>\n",
       "      <td>2015-12-06 00:10:06</td>\n",
       "      <td>2015-12-06 00:00:06</td>\n",
       "      <td>Эконом</td>\n",
       "      <td>2.606231e+08</td>\n",
       "      <td>115.5</td>\n",
       "      <td>14.0</td>\n",
       "    </tr>\n",
       "    <tr>\n",
       "      <th>2</th>\n",
       "      <td>2177076394</td>\n",
       "      <td>2015-12-06 00:00:26</td>\n",
       "      <td>2015-12-06 00:12:29</td>\n",
       "      <td>2015-12-06 00:00:25</td>\n",
       "      <td>Эконом</td>\n",
       "      <td>1.419240e+09</td>\n",
       "      <td>141.0</td>\n",
       "      <td>14.0</td>\n",
       "    </tr>\n",
       "    <tr>\n",
       "      <th>3</th>\n",
       "      <td>1997846256</td>\n",
       "      <td>2015-12-06 00:00:32</td>\n",
       "      <td>2015-12-06 00:17:11</td>\n",
       "      <td>2015-12-06 00:00:26</td>\n",
       "      <td>Эконом</td>\n",
       "      <td>3.243818e+09</td>\n",
       "      <td>384.0</td>\n",
       "      <td>14.0</td>\n",
       "    </tr>\n",
       "    <tr>\n",
       "      <th>4</th>\n",
       "      <td>1893504594</td>\n",
       "      <td>2015-12-06 00:01:07</td>\n",
       "      <td>2015-12-06 00:29:43</td>\n",
       "      <td>2015-12-06 00:00:48</td>\n",
       "      <td>Комфорт+</td>\n",
       "      <td>2.978411e+09</td>\n",
       "      <td>529.5</td>\n",
       "      <td>14.0</td>\n",
       "    </tr>\n",
       "    <tr>\n",
       "      <th>9</th>\n",
       "      <td>1786344293</td>\n",
       "      <td>2015-12-06 00:02:09</td>\n",
       "      <td>2015-12-06 00:18:00</td>\n",
       "      <td>2015-12-06 00:02:02</td>\n",
       "      <td>Эконом</td>\n",
       "      <td>1.583693e+09</td>\n",
       "      <td>208.5</td>\n",
       "      <td>14.0</td>\n",
       "    </tr>\n",
       "  </tbody>\n",
       "</table>\n",
       "</div>"
      ],
      "text/plain": [
       "   idhash_order          order_dttm         finish_dttm           view_dttm  \\\n",
       "0    3777115420 2015-12-06 00:00:09 2015-12-06 00:10:06 2015-12-06 00:00:06   \n",
       "2    2177076394 2015-12-06 00:00:26 2015-12-06 00:12:29 2015-12-06 00:00:25   \n",
       "3    1997846256 2015-12-06 00:00:32 2015-12-06 00:17:11 2015-12-06 00:00:26   \n",
       "4    1893504594 2015-12-06 00:01:07 2015-12-06 00:29:43 2015-12-06 00:00:48   \n",
       "9    1786344293 2015-12-06 00:02:09 2015-12-06 00:18:00 2015-12-06 00:02:02   \n",
       "\n",
       "     tariff  idhash_client  client_bill_rub  days_since_last_order  \n",
       "0    Эконом   2.606231e+08            115.5                   14.0  \n",
       "2    Эконом   1.419240e+09            141.0                   14.0  \n",
       "3    Эконом   3.243818e+09            384.0                   14.0  \n",
       "4  Комфорт+   2.978411e+09            529.5                   14.0  \n",
       "9    Эконом   1.583693e+09            208.5                   14.0  "
      ]
     },
     "execution_count": 18,
     "metadata": {},
     "output_type": "execute_result"
    }
   ],
   "source": [
    "completed_orders.head()"
   ]
  },
  {
   "cell_type": "markdown",
   "id": "verified-blanket",
   "metadata": {},
   "source": [
    "#### Определим границы наших сегментов"
   ]
  },
  {
   "cell_type": "markdown",
   "id": "postal-shame",
   "metadata": {},
   "source": [
    "Сгруппируем по пользователем и:\n",
    "* поставим в колонку recent - самый недавний заказ\n",
    "* просуммируем все заказы\n",
    "* посчитаем количество всех заказов"
   ]
  },
  {
   "cell_type": "code",
   "execution_count": 19,
   "id": "electoral-klein",
   "metadata": {},
   "outputs": [],
   "source": [
    "grouped = completed_orders.groupby('idhash_client').agg(\n",
    "    {'client_bill_rub': ['mean', 'count'],\n",
    "     'days_since_last_order': 'min'}\n",
    ")\n",
    "monetary = grouped[('client_bill_rub', 'mean')]\n",
    "frequency = grouped[('client_bill_rub', 'count')]\n",
    "recency = grouped[('days_since_last_order', 'min')]\n",
    "\n",
    "borders = {}"
   ]
  },
  {
   "cell_type": "markdown",
   "id": "automated-knight",
   "metadata": {},
   "source": [
    "##### monetary"
   ]
  },
  {
   "cell_type": "code",
   "execution_count": 21,
   "id": "tribal-metabolism",
   "metadata": {},
   "outputs": [
    {
     "data": {
      "image/png": "[encoded data removed]",
      "text/plain": [
       "<Figure size 432x288 with 1 Axes>"
      ]
     },
     "metadata": {
      "needs_background": "light"
     },
     "output_type": "display_data"
    }
   ],
   "source": [
    "import matplotlib.pyplot as plt\n",
    "\n",
    "monetary.hist(bins = 200, range = (0, 2000))\n",
    "plt.show()\n"
   ]
  },
  {
   "cell_type": "markdown",
   "id": "liquid-uncle",
   "metadata": {},
   "source": [
    "Большое скопление заказов с нулевой суммой выбросом не считаю, так как это люди, оплатившие поездку бонусами (я надеюсь), а значит это тоже наши клиенты, которые в данной поездке пошли нам в убыток."
   ]
  },
  {
   "cell_type": "markdown",
   "id": "common-sodium",
   "metadata": {},
   "source": [
    "Применим равномерное сегментирование по диапазонам значений:"
   ]
  },
  {
   "cell_type": "code",
   "execution_count": 22,
   "id": "ultimate-spanking",
   "metadata": {},
   "outputs": [
    {
     "name": "stdout",
     "output_type": "stream",
     "text": [
      "0.0 - 321.0   ~58%\n",
      "321.0 - 572.25   ~32%\n",
      "572.25 - 23015.25   ~10%\n"
     ]
    }
   ],
   "source": [
    "range = monetary.quantile(0.97) - monetary.quantile(0.03)\n",
    "step = range / 3\n",
    "\n",
    "border_1 = monetary.quantile(0.03) + step\n",
    "border_2 = border_1 + step\n",
    "\n",
    "print('{} - {}   ~{}%'.format(monetary.min(), border_1, 58))\n",
    "print('{} - {}   ~{}%'.format(border_1, border_2, 32))\n",
    "print('{} - {}   ~{}%'.format(border_2, monetary.max(), 10))\n",
    "\n",
    "borders['monetary'] = [[monetary.min(), border_1], [border_1, border_2], [border_2, monetary.max()]]"
   ]
  },
  {
   "cell_type": "markdown",
   "id": "passing-coordinate",
   "metadata": {},
   "source": [
    "##### frequency"
   ]
  },
  {
   "cell_type": "code",
   "execution_count": 23,
   "id": "native-feedback",
   "metadata": {},
   "outputs": [
    {
     "data": {
      "image/png": "[encoded data removed]",
      "text/plain": [
       "<Figure size 432x288 with 1 Axes>"
      ]
     },
     "metadata": {
      "needs_background": "light"
     },
     "output_type": "display_data"
    }
   ],
   "source": [
    "frequency.hist(bins = 30)\n",
    "plt.show()"
   ]
  },
  {
   "cell_type": "markdown",
   "id": "italian-fitting",
   "metadata": {},
   "source": [
    "Определим границы по фиксированным диапазон, то есть самостоятельно:"
   ]
  },
  {
   "cell_type": "code",
   "execution_count": 24,
   "id": "primary-carol",
   "metadata": {},
   "outputs": [
    {
     "name": "stdout",
     "output_type": "stream",
     "text": [
      "Диапазон количества поездок:\n",
      "1 - 1.01   ~46%\n",
      "1.01 - 3.01   ~31%\n",
      "3.01 - 41   ~23%\n"
     ]
    }
   ],
   "source": [
    "border_1 = 1.01\n",
    "border_2 = 3.01\n",
    "\n",
    "print('Диапазон количества поездок:')\n",
    "print('{} - {}   ~{}%'.format(frequency.min(), border_1, 46))\n",
    "print('{} - {}   ~{}%'.format(border_1, border_2, 77 - 46))\n",
    "print('{} - {}   ~{}%'.format(border_2, frequency.max(), 100 - 77))\n",
    "\n",
    "borders['frequency'] = [[frequency.min(), border_1], [border_1, border_2], [border_2, frequency.max()]]"
   ]
  },
  {
   "cell_type": "markdown",
   "id": "french-relay",
   "metadata": {},
   "source": [
    "##### recency"
   ]
  },
  {
   "cell_type": "code",
   "execution_count": 25,
   "id": "victorian-journey",
   "metadata": {},
   "outputs": [
    {
     "data": {
      "image/png": "[encoded data removed]",
      "text/plain": [
       "<Figure size 432x288 with 1 Axes>"
      ]
     },
     "metadata": {
      "needs_background": "light"
     },
     "output_type": "display_data"
    }
   ],
   "source": [
    "recency.hist(bins = 100)\n",
    "plt.show()"
   ]
  },
  {
   "cell_type": "code",
   "execution_count": 26,
   "id": "reasonable-arlington",
   "metadata": {},
   "outputs": [
    {
     "data": {
      "text/plain": [
       "count    18104.000000\n",
       "mean         5.792154\n",
       "std          3.951559\n",
       "min          0.000000\n",
       "25%          2.470000\n",
       "50%          5.220000\n",
       "75%          9.150000\n",
       "max         14.000000\n",
       "Name: (days_since_last_order, min), dtype: float64"
      ]
     },
     "execution_count": 26,
     "metadata": {},
     "output_type": "execute_result"
    }
   ],
   "source": [
    "recency.describe()"
   ]
  },
  {
   "cell_type": "code",
   "execution_count": 27,
   "id": "earned-ferry",
   "metadata": {},
   "outputs": [
    {
     "name": "stdout",
     "output_type": "stream",
     "text": [
      "0.0 - 2.01   ~16%\n",
      "2.01 - 7.01   ~44%\n",
      "7.01 - 14.0   ~40%\n"
     ]
    }
   ],
   "source": [
    "border_1 = 2.01\n",
    "border_2 = 7.01\n",
    "\n",
    "print('{} - {}   ~{}%'.format(recency.min(), border_1, 16))\n",
    "print('{} - {}   ~{}%'.format(border_1, border_2, 60 - 16))\n",
    "print('{} - {}   ~{}%'.format(border_2, recency.max(), 100 - 60))\n",
    "\n",
    "borders['recency'] = [[recency.min(), border_1], [border_1, border_2], [border_2, recency.max()]]"
   ]
  },
  {
   "cell_type": "markdown",
   "id": "equal-yield",
   "metadata": {},
   "source": [
    "#### Разобьем на сегменты и добавим сегменты к изначальной таблице orders к пользователям"
   ]
  },
  {
   "cell_type": "code",
   "execution_count": 28,
   "id": "nonprofit-camel",
   "metadata": {},
   "outputs": [],
   "source": [
    "grouped.columns = ['monetary', 'frequency', 'recency']"
   ]
  },
  {
   "cell_type": "code",
   "execution_count": 29,
   "id": "mighty-stevens",
   "metadata": {
    "scrolled": true
   },
   "outputs": [
    {
     "data": {
      "text/html": [
       "<div>\n",
       "<style scoped>\n",
       "    .dataframe tbody tr th:only-of-type {\n",
       "        vertical-align: middle;\n",
       "    }\n",
       "\n",
       "    .dataframe tbody tr th {\n",
       "        vertical-align: top;\n",
       "    }\n",
       "\n",
       "    .dataframe thead th {\n",
       "        text-align: right;\n",
       "    }\n",
       "</style>\n",
       "<table border=\"1\" class=\"dataframe\">\n",
       "  <thead>\n",
       "    <tr style=\"text-align: right;\">\n",
       "      <th></th>\n",
       "      <th>monetary</th>\n",
       "      <th>frequency</th>\n",
       "      <th>recency</th>\n",
       "      <th>monetary_RFM</th>\n",
       "      <th>frequency_RFM</th>\n",
       "      <th>recency_RFM</th>\n",
       "      <th>RFM_description</th>\n",
       "    </tr>\n",
       "    <tr>\n",
       "      <th>idhash_client</th>\n",
       "      <th></th>\n",
       "      <th></th>\n",
       "      <th></th>\n",
       "      <th></th>\n",
       "      <th></th>\n",
       "      <th></th>\n",
       "      <th></th>\n",
       "    </tr>\n",
       "  </thead>\n",
       "  <tbody>\n",
       "    <tr>\n",
       "      <th>39262.0</th>\n",
       "      <td>159.25</td>\n",
       "      <td>3</td>\n",
       "      <td>0.05</td>\n",
       "      <td>1</td>\n",
       "      <td>2</td>\n",
       "      <td>3</td>\n",
       "      <td>321 Постоянные с маленьким чеком</td>\n",
       "    </tr>\n",
       "    <tr>\n",
       "      <th>48902.0</th>\n",
       "      <td>198.75</td>\n",
       "      <td>1</td>\n",
       "      <td>5.48</td>\n",
       "      <td>1</td>\n",
       "      <td>1</td>\n",
       "      <td>2</td>\n",
       "      <td>211 Спящие разовые с маленьким чеком</td>\n",
       "    </tr>\n",
       "    <tr>\n",
       "      <th>199395.0</th>\n",
       "      <td>383.75</td>\n",
       "      <td>3</td>\n",
       "      <td>2.57</td>\n",
       "      <td>2</td>\n",
       "      <td>2</td>\n",
       "      <td>2</td>\n",
       "      <td>222 Спящие редкие со средним чеком</td>\n",
       "    </tr>\n",
       "    <tr>\n",
       "      <th>1721255.0</th>\n",
       "      <td>183.00</td>\n",
       "      <td>2</td>\n",
       "      <td>2.01</td>\n",
       "      <td>1</td>\n",
       "      <td>2</td>\n",
       "      <td>2</td>\n",
       "      <td>221 Спящие редкие с маленьким чеком</td>\n",
       "    </tr>\n",
       "    <tr>\n",
       "      <th>2825748.0</th>\n",
       "      <td>196.50</td>\n",
       "      <td>1</td>\n",
       "      <td>10.75</td>\n",
       "      <td>1</td>\n",
       "      <td>1</td>\n",
       "      <td>1</td>\n",
       "      <td>111 Потерянные экономные</td>\n",
       "    </tr>\n",
       "  </tbody>\n",
       "</table>\n",
       "</div>"
      ],
      "text/plain": [
       "               monetary  frequency  recency  monetary_RFM  frequency_RFM  \\\n",
       "idhash_client                                                              \n",
       "39262.0          159.25          3     0.05             1              2   \n",
       "48902.0          198.75          1     5.48             1              1   \n",
       "199395.0         383.75          3     2.57             2              2   \n",
       "1721255.0        183.00          2     2.01             1              2   \n",
       "2825748.0        196.50          1    10.75             1              1   \n",
       "\n",
       "               recency_RFM                       RFM_description  \n",
       "idhash_client                                                     \n",
       "39262.0                  3      321 Постоянные с маленьким чеком  \n",
       "48902.0                  2  211 Спящие разовые с маленьким чеком  \n",
       "199395.0                 2    222 Спящие редкие со средним чеком  \n",
       "1721255.0                2   221 Спящие редкие с маленьким чеком  \n",
       "2825748.0                1              111 Потерянные экономные  "
      ]
     },
     "execution_count": 29,
     "metadata": {},
     "output_type": "execute_result"
    }
   ],
   "source": [
    "def get_monetary_rating(value):\n",
    "    if value < borders['monetary'][0][1]:\n",
    "        return 1\n",
    "    elif value < borders['monetary'][1][1]:\n",
    "        return 2\n",
    "    elif value <= borders['monetary'][2][1]:\n",
    "        return 3\n",
    "    return -1\n",
    "\n",
    "def get_frequency_rating(value):\n",
    "    if value < borders['frequency'][0][1]:\n",
    "        return 1\n",
    "    elif value < borders['frequency'][1][1]:\n",
    "        return 2\n",
    "    elif value <= borders['frequency'][2][1]:\n",
    "        return 3\n",
    "    return -1\n",
    "\n",
    "def get_recency_rating(value):\n",
    "    if value < borders['recency'][0][1]:\n",
    "        return 3\n",
    "    elif value < borders['recency'][1][1]:\n",
    "        return 2\n",
    "    elif value <= borders['recency'][2][1]:\n",
    "        return 1\n",
    "    return -1\n",
    "\n",
    "def get_rfm_description(row):\n",
    "    if row['recency_RFM'] == 1 and row['frequency_RFM'] == 1 and row['monetary_RFM'] == 1:\n",
    "        return \"111 Потерянные экономные\"\n",
    "    if row['recency_RFM'] == 1 and row['frequency_RFM'] == 1 and row['monetary_RFM'] == 2:\n",
    "        return \"112 Одноразовые\"\n",
    "    if row['recency_RFM'] == 1 and row['frequency_RFM'] == 1 and row['monetary_RFM'] == 3:\n",
    "        return \"113 Одноразовые\"\n",
    "    if row['recency_RFM'] == 1 and row['frequency_RFM'] == 2 and row['monetary_RFM'] == 1:\n",
    "        return \"121 Уходящие редкие\"\n",
    "    if row['recency_RFM'] == 1 and row['frequency_RFM'] == 2 and row['monetary_RFM'] == 2:\n",
    "        return \"122 Уходящие редкие\"\n",
    "    if row['recency_RFM'] == 1 and row['frequency_RFM'] == 2 and row['monetary_RFM'] == 3:\n",
    "        return \"123 Уходящие редкие\"\n",
    "    if row['recency_RFM'] == 1 and row['frequency_RFM'] == 3 and row['monetary_RFM'] == 1:\n",
    "        return \"131 Уходящие постоянные\"\n",
    "    if row['recency_RFM'] == 1 and row['frequency_RFM'] == 3 and row['monetary_RFM'] == 2:\n",
    "        return \"132 Уходящие хорошие постоянные\"\n",
    "    if row['recency_RFM'] == 1 and row['frequency_RFM'] == 3 and row['monetary_RFM'] == 3:\n",
    "        return \"133 Уходящие VIP\"\n",
    "    \n",
    "    if row['recency_RFM'] == 2 and row['frequency_RFM'] == 1 and row['monetary_RFM'] == 1:\n",
    "        return \"211 Спящие разовые с маленьким чеком\"\n",
    "    if row['recency_RFM'] == 2 and row['frequency_RFM'] == 1 and row['monetary_RFM'] == 2:\n",
    "        return \"212 Спящие разовые с маленьким чеком\"\n",
    "    if row['recency_RFM'] == 2 and row['frequency_RFM'] == 1 and row['monetary_RFM'] == 3:\n",
    "        return \"213 Спящие разовые с маленьким чеком\"\n",
    "    if row['recency_RFM'] == 2 and row['frequency_RFM'] == 2 and row['monetary_RFM'] == 1:\n",
    "        return \"221 Спящие редкие с маленьким чеком\"\n",
    "    if row['recency_RFM'] == 2 and row['frequency_RFM'] == 2 and row['monetary_RFM'] == 2:\n",
    "        return \"222 Спящие редкие со средним чеком\"\n",
    "    if row['recency_RFM'] == 2 and row['frequency_RFM'] == 2 and row['monetary_RFM'] == 3:\n",
    "        return \"223 Спящие редкие с высоким чеком\"\n",
    "    if row['recency_RFM'] == 2 and row['frequency_RFM'] == 3 and row['monetary_RFM'] == 1:\n",
    "        return \"231 Спящие постоянные с маленьким чеком\"\n",
    "    if row['recency_RFM'] == 2 and row['frequency_RFM'] == 3 and row['monetary_RFM'] == 2:\n",
    "        return \"232 Спящие постоянные со средним чеком\"\n",
    "    if row['recency_RFM'] == 2 and row['frequency_RFM'] == 3 and row['monetary_RFM'] == 3:\n",
    "        return \"233 Спящие постоянные с высоким чеком\"\n",
    "    \n",
    "    if row['recency_RFM'] == 3 and row['frequency_RFM'] == 1 and row['monetary_RFM'] == 1:\n",
    "        return \"311 Новички с маленьким чеком\"\n",
    "    if row['recency_RFM'] == 3 and row['frequency_RFM'] == 1 and row['monetary_RFM'] == 2:\n",
    "        return \"312 Новички со средним чеком\"\n",
    "    if row['recency_RFM'] == 3 and row['frequency_RFM'] == 1 and row['monetary_RFM'] == 3:\n",
    "        return \"313 Новички с высоким чеком. Потенциальные VIP.\"\n",
    "    if row['recency_RFM'] == 3 and row['frequency_RFM'] == 2 and row['monetary_RFM'] == 1:\n",
    "        return \"321 Постоянные с маленьким чеком\"\n",
    "    if row['recency_RFM'] == 3 and row['frequency_RFM'] == 2 and row['monetary_RFM'] == 2:\n",
    "        return \"322 Редкие со средним чеком\"\n",
    "    if row['recency_RFM'] == 3 and row['frequency_RFM'] == 2 and row['monetary_RFM'] == 3:\n",
    "        return \"323 Постоянные с высоким чеком\"\n",
    "    if row['recency_RFM'] == 3 and row['frequency_RFM'] == 3 and row['monetary_RFM'] == 1:\n",
    "        return \"331 Постоянные с маленьким чеком\"\n",
    "    if row['recency_RFM'] == 3 and row['frequency_RFM'] == 3 and row['monetary_RFM'] == 2:\n",
    "        return \"332 Постоянные со средним чеком\"\n",
    "    if row['recency_RFM'] == 3 and row['frequency_RFM'] == 3 and row['monetary_RFM'] == 3:\n",
    "        return \"333 VIP\"\n",
    "    \n",
    "    \n",
    "\n",
    "grouped['monetary_RFM'] = grouped['monetary'].apply(get_monetary_rating)\n",
    "grouped['frequency_RFM'] = grouped['frequency'].apply(get_frequency_rating)\n",
    "grouped['recency_RFM'] = grouped['recency'].apply(get_recency_rating)\n",
    "grouped['RFM_description'] = grouped.apply(get_rfm_description, axis = 1)\n",
    "\n",
    "grouped.head()"
   ]
  },
  {
   "cell_type": "code",
   "execution_count": 30,
   "id": "bacterial-garlic",
   "metadata": {},
   "outputs": [],
   "source": [
    "orders = orders.join(grouped, on = 'idhash_client', how = 'left')\n",
    "views = views.join(grouped, on = 'idhash_client', how = 'left')"
   ]
  },
  {
   "cell_type": "markdown",
   "id": "plastic-kidney",
   "metadata": {},
   "source": [
    "## Считаем метрики с учетом RFM-сегментации"
   ]
  },
  {
   "cell_type": "markdown",
   "id": "apparent-island",
   "metadata": {},
   "source": [
    "### View2Order\n",
    "*  ###### по сегментам в динамике по дням\n",
    "    * группируем по сегментам и дням в сводной таблице кол-во заказов и кол-во просмотров\n",
    "    * визуализируем \n",
    "        * на обычном графике с линиями для каждого из сегментов\n",
    "* ###### по сегментам в динамике по времени суток (утро-день-вечер-ночь)\n",
    "    * группируем по сегментам и времени дня в сводной таблице кол-во заказов и кол-во просмотров:\n",
    "        * добавим в таблицу категоризацию на время дня \n",
    "    * визуализируем\n",
    "        * попробовать мб сделать тип гистограмки для каждого времени дня с соотношением"
   ]
  },
  {
   "cell_type": "code",
   "execution_count": 31,
   "id": "incomplete-adelaide",
   "metadata": {},
   "outputs": [],
   "source": [
    "df = views.join(orders.drop(['idhash_client', 'idhash_view', 'monetary', 'frequency', 'recency', 'monetary_RFM', 'frequency_RFM',\n",
    "       'recency_RFM', 'RFM_description'], axis = 1).set_index('idhash_order'), on = 'idhash_order', how = 'left')"
   ]
  },
  {
   "cell_type": "markdown",
   "id": "oriented-parliament",
   "metadata": {},
   "source": [
    "Чистим таблицу от просмотров, совершенных пользователями, которые никогда ничего не заказывали:"
   ]
  },
  {
   "cell_type": "code",
   "execution_count": 32,
   "id": "large-commissioner",
   "metadata": {
    "scrolled": true
   },
   "outputs": [
    {
     "name": "stdout",
     "output_type": "stream",
     "text": [
      "Количество всех просмотров в базе: 903541\n",
      "Количество просмотров среди наших клиентов (пользователей, хотя бы один раз заказавших такси у нас): 346993\n"
     ]
    }
   ],
   "source": [
    "print('Количество всех просмотров в базе:', df['view_dttm'].count())\n",
    "df = df.dropna(subset = ['RFM_description'])\n",
    "print('Количество просмотров среди наших клиентов (пользователей, хотя бы один раз заказавших такси у нас):', df['view_dttm'].count())"
   ]
  },
  {
   "cell_type": "markdown",
   "id": "certified-start",
   "metadata": {},
   "source": [
    "###### По сегментам в динамике по дням"
   ]
  },
  {
   "cell_type": "code",
   "execution_count": 33,
   "id": "amateur-ending",
   "metadata": {},
   "outputs": [],
   "source": [
    "df['view_dttm_date'] = df['view_dttm'].dt.date"
   ]
  },
  {
   "cell_type": "code",
   "execution_count": 85,
   "id": "motivated-tradition",
   "metadata": {},
   "outputs": [
    {
     "data": {
      "text/html": [
       "<div>\n",
       "<style scoped>\n",
       "    .dataframe tbody tr th:only-of-type {\n",
       "        vertical-align: middle;\n",
       "    }\n",
       "\n",
       "    .dataframe tbody tr th {\n",
       "        vertical-align: top;\n",
       "    }\n",
       "\n",
       "    .dataframe thead th {\n",
       "        text-align: right;\n",
       "    }\n",
       "</style>\n",
       "<table border=\"1\" class=\"dataframe\">\n",
       "  <thead>\n",
       "    <tr style=\"text-align: right;\">\n",
       "      <th>RFM_description</th>\n",
       "      <th>111 Потерянные экономные</th>\n",
       "      <th>112 Одноразовые</th>\n",
       "      <th>113 Одноразовые</th>\n",
       "      <th>121 Уходящие редкие</th>\n",
       "      <th>122 Уходящие редкие</th>\n",
       "      <th>123 Уходящие редкие</th>\n",
       "      <th>131 Уходящие постоянные</th>\n",
       "      <th>132 Уходящие хорошие постоянные</th>\n",
       "      <th>133 Уходящие VIP</th>\n",
       "      <th>211 Спящие разовые с маленьким чеком</th>\n",
       "      <th>...</th>\n",
       "      <th>233 Спящие постоянные с высоким чеком</th>\n",
       "      <th>311 Новички с маленьким чеком</th>\n",
       "      <th>312 Новички со средним чеком</th>\n",
       "      <th>313 Новички с высоким чеком. Потенциальные VIP.</th>\n",
       "      <th>321 Постоянные с маленьким чеком</th>\n",
       "      <th>322 Редкие со средним чеком</th>\n",
       "      <th>323 Постоянные с высоким чеком</th>\n",
       "      <th>331 Постоянные с маленьким чеком</th>\n",
       "      <th>332 Постоянные со средним чеком</th>\n",
       "      <th>333 VIP</th>\n",
       "    </tr>\n",
       "    <tr>\n",
       "      <th>view_dttm_date</th>\n",
       "      <th></th>\n",
       "      <th></th>\n",
       "      <th></th>\n",
       "      <th></th>\n",
       "      <th></th>\n",
       "      <th></th>\n",
       "      <th></th>\n",
       "      <th></th>\n",
       "      <th></th>\n",
       "      <th></th>\n",
       "      <th></th>\n",
       "      <th></th>\n",
       "      <th></th>\n",
       "      <th></th>\n",
       "      <th></th>\n",
       "      <th></th>\n",
       "      <th></th>\n",
       "      <th></th>\n",
       "      <th></th>\n",
       "      <th></th>\n",
       "      <th></th>\n",
       "    </tr>\n",
       "  </thead>\n",
       "  <tbody>\n",
       "    <tr>\n",
       "      <th>2015-12-06</th>\n",
       "      <td>19.0</td>\n",
       "      <td>17.0</td>\n",
       "      <td>18.0</td>\n",
       "      <td>23.0</td>\n",
       "      <td>19.0</td>\n",
       "      <td>20.0</td>\n",
       "      <td>17.0</td>\n",
       "      <td>18.0</td>\n",
       "      <td>12.0</td>\n",
       "      <td>8.0</td>\n",
       "      <td>...</td>\n",
       "      <td>17.0</td>\n",
       "      <td>9.0</td>\n",
       "      <td>25.0</td>\n",
       "      <td>8.0</td>\n",
       "      <td>13.0</td>\n",
       "      <td>15.0</td>\n",
       "      <td>13.0</td>\n",
       "      <td>22.0</td>\n",
       "      <td>22.0</td>\n",
       "      <td>16.0</td>\n",
       "    </tr>\n",
       "    <tr>\n",
       "      <th>2015-12-07</th>\n",
       "      <td>19.0</td>\n",
       "      <td>18.0</td>\n",
       "      <td>17.0</td>\n",
       "      <td>20.0</td>\n",
       "      <td>21.0</td>\n",
       "      <td>19.0</td>\n",
       "      <td>17.0</td>\n",
       "      <td>24.0</td>\n",
       "      <td>12.0</td>\n",
       "      <td>7.0</td>\n",
       "      <td>...</td>\n",
       "      <td>20.0</td>\n",
       "      <td>5.0</td>\n",
       "      <td>6.0</td>\n",
       "      <td>0.0</td>\n",
       "      <td>17.0</td>\n",
       "      <td>14.0</td>\n",
       "      <td>16.0</td>\n",
       "      <td>22.0</td>\n",
       "      <td>23.0</td>\n",
       "      <td>21.0</td>\n",
       "    </tr>\n",
       "    <tr>\n",
       "      <th>2015-12-08</th>\n",
       "      <td>17.0</td>\n",
       "      <td>20.0</td>\n",
       "      <td>17.0</td>\n",
       "      <td>20.0</td>\n",
       "      <td>20.0</td>\n",
       "      <td>18.0</td>\n",
       "      <td>17.0</td>\n",
       "      <td>20.0</td>\n",
       "      <td>20.0</td>\n",
       "      <td>8.0</td>\n",
       "      <td>...</td>\n",
       "      <td>16.0</td>\n",
       "      <td>9.0</td>\n",
       "      <td>5.0</td>\n",
       "      <td>0.0</td>\n",
       "      <td>14.0</td>\n",
       "      <td>14.0</td>\n",
       "      <td>15.0</td>\n",
       "      <td>20.0</td>\n",
       "      <td>20.0</td>\n",
       "      <td>17.0</td>\n",
       "    </tr>\n",
       "    <tr>\n",
       "      <th>2015-12-09</th>\n",
       "      <td>20.0</td>\n",
       "      <td>18.0</td>\n",
       "      <td>20.0</td>\n",
       "      <td>19.0</td>\n",
       "      <td>20.0</td>\n",
       "      <td>23.0</td>\n",
       "      <td>20.0</td>\n",
       "      <td>23.0</td>\n",
       "      <td>16.0</td>\n",
       "      <td>9.0</td>\n",
       "      <td>...</td>\n",
       "      <td>20.0</td>\n",
       "      <td>12.0</td>\n",
       "      <td>10.0</td>\n",
       "      <td>11.0</td>\n",
       "      <td>15.0</td>\n",
       "      <td>17.0</td>\n",
       "      <td>17.0</td>\n",
       "      <td>19.0</td>\n",
       "      <td>19.0</td>\n",
       "      <td>18.0</td>\n",
       "    </tr>\n",
       "    <tr>\n",
       "      <th>2015-12-10</th>\n",
       "      <td>20.0</td>\n",
       "      <td>19.0</td>\n",
       "      <td>19.0</td>\n",
       "      <td>19.0</td>\n",
       "      <td>20.0</td>\n",
       "      <td>22.0</td>\n",
       "      <td>20.0</td>\n",
       "      <td>25.0</td>\n",
       "      <td>14.0</td>\n",
       "      <td>8.0</td>\n",
       "      <td>...</td>\n",
       "      <td>28.0</td>\n",
       "      <td>12.0</td>\n",
       "      <td>5.0</td>\n",
       "      <td>8.0</td>\n",
       "      <td>16.0</td>\n",
       "      <td>16.0</td>\n",
       "      <td>14.0</td>\n",
       "      <td>22.0</td>\n",
       "      <td>18.0</td>\n",
       "      <td>17.0</td>\n",
       "    </tr>\n",
       "    <tr>\n",
       "      <th>2015-12-11</th>\n",
       "      <td>19.0</td>\n",
       "      <td>19.0</td>\n",
       "      <td>18.0</td>\n",
       "      <td>23.0</td>\n",
       "      <td>22.0</td>\n",
       "      <td>22.0</td>\n",
       "      <td>22.0</td>\n",
       "      <td>23.0</td>\n",
       "      <td>22.0</td>\n",
       "      <td>11.0</td>\n",
       "      <td>...</td>\n",
       "      <td>25.0</td>\n",
       "      <td>4.0</td>\n",
       "      <td>10.0</td>\n",
       "      <td>27.0</td>\n",
       "      <td>15.0</td>\n",
       "      <td>18.0</td>\n",
       "      <td>16.0</td>\n",
       "      <td>25.0</td>\n",
       "      <td>25.0</td>\n",
       "      <td>21.0</td>\n",
       "    </tr>\n",
       "    <tr>\n",
       "      <th>2015-12-12</th>\n",
       "      <td>20.0</td>\n",
       "      <td>20.0</td>\n",
       "      <td>18.0</td>\n",
       "      <td>21.0</td>\n",
       "      <td>23.0</td>\n",
       "      <td>20.0</td>\n",
       "      <td>20.0</td>\n",
       "      <td>23.0</td>\n",
       "      <td>16.0</td>\n",
       "      <td>9.0</td>\n",
       "      <td>...</td>\n",
       "      <td>21.0</td>\n",
       "      <td>14.0</td>\n",
       "      <td>13.0</td>\n",
       "      <td>4.0</td>\n",
       "      <td>17.0</td>\n",
       "      <td>17.0</td>\n",
       "      <td>22.0</td>\n",
       "      <td>24.0</td>\n",
       "      <td>24.0</td>\n",
       "      <td>27.0</td>\n",
       "    </tr>\n",
       "    <tr>\n",
       "      <th>2015-12-13</th>\n",
       "      <td>10.0</td>\n",
       "      <td>11.0</td>\n",
       "      <td>11.0</td>\n",
       "      <td>8.0</td>\n",
       "      <td>10.0</td>\n",
       "      <td>11.0</td>\n",
       "      <td>12.0</td>\n",
       "      <td>13.0</td>\n",
       "      <td>0.0</td>\n",
       "      <td>20.0</td>\n",
       "      <td>...</td>\n",
       "      <td>24.0</td>\n",
       "      <td>6.0</td>\n",
       "      <td>12.0</td>\n",
       "      <td>0.0</td>\n",
       "      <td>19.0</td>\n",
       "      <td>10.0</td>\n",
       "      <td>18.0</td>\n",
       "      <td>23.0</td>\n",
       "      <td>24.0</td>\n",
       "      <td>21.0</td>\n",
       "    </tr>\n",
       "    <tr>\n",
       "      <th>2015-12-14</th>\n",
       "      <td>10.0</td>\n",
       "      <td>13.0</td>\n",
       "      <td>9.0</td>\n",
       "      <td>7.0</td>\n",
       "      <td>8.0</td>\n",
       "      <td>7.0</td>\n",
       "      <td>12.0</td>\n",
       "      <td>14.0</td>\n",
       "      <td>0.0</td>\n",
       "      <td>22.0</td>\n",
       "      <td>...</td>\n",
       "      <td>27.0</td>\n",
       "      <td>8.0</td>\n",
       "      <td>14.0</td>\n",
       "      <td>6.0</td>\n",
       "      <td>14.0</td>\n",
       "      <td>21.0</td>\n",
       "      <td>27.0</td>\n",
       "      <td>25.0</td>\n",
       "      <td>24.0</td>\n",
       "      <td>14.0</td>\n",
       "    </tr>\n",
       "    <tr>\n",
       "      <th>2015-12-15</th>\n",
       "      <td>6.0</td>\n",
       "      <td>10.0</td>\n",
       "      <td>15.0</td>\n",
       "      <td>6.0</td>\n",
       "      <td>14.0</td>\n",
       "      <td>7.0</td>\n",
       "      <td>10.0</td>\n",
       "      <td>8.0</td>\n",
       "      <td>NaN</td>\n",
       "      <td>24.0</td>\n",
       "      <td>...</td>\n",
       "      <td>26.0</td>\n",
       "      <td>16.0</td>\n",
       "      <td>6.0</td>\n",
       "      <td>21.0</td>\n",
       "      <td>16.0</td>\n",
       "      <td>20.0</td>\n",
       "      <td>12.0</td>\n",
       "      <td>25.0</td>\n",
       "      <td>26.0</td>\n",
       "      <td>17.0</td>\n",
       "    </tr>\n",
       "    <tr>\n",
       "      <th>2015-12-16</th>\n",
       "      <td>9.0</td>\n",
       "      <td>14.0</td>\n",
       "      <td>10.0</td>\n",
       "      <td>9.0</td>\n",
       "      <td>11.0</td>\n",
       "      <td>18.0</td>\n",
       "      <td>8.0</td>\n",
       "      <td>4.0</td>\n",
       "      <td>0.0</td>\n",
       "      <td>22.0</td>\n",
       "      <td>...</td>\n",
       "      <td>29.0</td>\n",
       "      <td>18.0</td>\n",
       "      <td>14.0</td>\n",
       "      <td>33.0</td>\n",
       "      <td>18.0</td>\n",
       "      <td>20.0</td>\n",
       "      <td>13.0</td>\n",
       "      <td>27.0</td>\n",
       "      <td>27.0</td>\n",
       "      <td>29.0</td>\n",
       "    </tr>\n",
       "    <tr>\n",
       "      <th>2015-12-17</th>\n",
       "      <td>8.0</td>\n",
       "      <td>13.0</td>\n",
       "      <td>12.0</td>\n",
       "      <td>9.0</td>\n",
       "      <td>17.0</td>\n",
       "      <td>4.0</td>\n",
       "      <td>4.0</td>\n",
       "      <td>9.0</td>\n",
       "      <td>0.0</td>\n",
       "      <td>23.0</td>\n",
       "      <td>...</td>\n",
       "      <td>24.0</td>\n",
       "      <td>12.0</td>\n",
       "      <td>14.0</td>\n",
       "      <td>4.0</td>\n",
       "      <td>20.0</td>\n",
       "      <td>23.0</td>\n",
       "      <td>19.0</td>\n",
       "      <td>23.0</td>\n",
       "      <td>21.0</td>\n",
       "      <td>32.0</td>\n",
       "    </tr>\n",
       "    <tr>\n",
       "      <th>2015-12-19</th>\n",
       "      <td>11.0</td>\n",
       "      <td>9.0</td>\n",
       "      <td>10.0</td>\n",
       "      <td>11.0</td>\n",
       "      <td>11.0</td>\n",
       "      <td>14.0</td>\n",
       "      <td>9.0</td>\n",
       "      <td>7.0</td>\n",
       "      <td>0.0</td>\n",
       "      <td>10.0</td>\n",
       "      <td>...</td>\n",
       "      <td>21.0</td>\n",
       "      <td>25.0</td>\n",
       "      <td>22.0</td>\n",
       "      <td>24.0</td>\n",
       "      <td>25.0</td>\n",
       "      <td>24.0</td>\n",
       "      <td>21.0</td>\n",
       "      <td>25.0</td>\n",
       "      <td>27.0</td>\n",
       "      <td>24.0</td>\n",
       "    </tr>\n",
       "  </tbody>\n",
       "</table>\n",
       "<p>13 rows × 27 columns</p>\n",
       "</div>"
      ],
      "text/plain": [
       "RFM_description  111 Потерянные экономные  112 Одноразовые  113 Одноразовые  \\\n",
       "view_dttm_date                                                                \n",
       "2015-12-06                           19.0             17.0             18.0   \n",
       "2015-12-07                           19.0             18.0             17.0   \n",
       "2015-12-08                           17.0             20.0             17.0   \n",
       "2015-12-09                           20.0             18.0             20.0   \n",
       "2015-12-10                           20.0             19.0             19.0   \n",
       "2015-12-11                           19.0             19.0             18.0   \n",
       "2015-12-12                           20.0             20.0             18.0   \n",
       "2015-12-13                           10.0             11.0             11.0   \n",
       "2015-12-14                           10.0             13.0              9.0   \n",
       "2015-12-15                            6.0             10.0             15.0   \n",
       "2015-12-16                            9.0             14.0             10.0   \n",
       "2015-12-17                            8.0             13.0             12.0   \n",
       "2015-12-19                           11.0              9.0             10.0   \n",
       "\n",
       "RFM_description  121 Уходящие редкие  122 Уходящие редкие  \\\n",
       "view_dttm_date                                              \n",
       "2015-12-06                      23.0                 19.0   \n",
       "2015-12-07                      20.0                 21.0   \n",
       "2015-12-08                      20.0                 20.0   \n",
       "2015-12-09                      19.0                 20.0   \n",
       "2015-12-10                      19.0                 20.0   \n",
       "2015-12-11                      23.0                 22.0   \n",
       "2015-12-12                      21.0                 23.0   \n",
       "2015-12-13                       8.0                 10.0   \n",
       "2015-12-14                       7.0                  8.0   \n",
       "2015-12-15                       6.0                 14.0   \n",
       "2015-12-16                       9.0                 11.0   \n",
       "2015-12-17                       9.0                 17.0   \n",
       "2015-12-19                      11.0                 11.0   \n",
       "\n",
       "RFM_description  123 Уходящие редкие  131 Уходящие постоянные  \\\n",
       "view_dttm_date                                                  \n",
       "2015-12-06                      20.0                     17.0   \n",
       "2015-12-07                      19.0                     17.0   \n",
       "2015-12-08                      18.0                     17.0   \n",
       "2015-12-09                      23.0                     20.0   \n",
       "2015-12-10                      22.0                     20.0   \n",
       "2015-12-11                      22.0                     22.0   \n",
       "2015-12-12                      20.0                     20.0   \n",
       "2015-12-13                      11.0                     12.0   \n",
       "2015-12-14                       7.0                     12.0   \n",
       "2015-12-15                       7.0                     10.0   \n",
       "2015-12-16                      18.0                      8.0   \n",
       "2015-12-17                       4.0                      4.0   \n",
       "2015-12-19                      14.0                      9.0   \n",
       "\n",
       "RFM_description  132 Уходящие хорошие постоянные  133 Уходящие VIP  \\\n",
       "view_dttm_date                                                       \n",
       "2015-12-06                                  18.0              12.0   \n",
       "2015-12-07                                  24.0              12.0   \n",
       "2015-12-08                                  20.0              20.0   \n",
       "2015-12-09                                  23.0              16.0   \n",
       "2015-12-10                                  25.0              14.0   \n",
       "2015-12-11                                  23.0              22.0   \n",
       "2015-12-12                                  23.0              16.0   \n",
       "2015-12-13                                  13.0               0.0   \n",
       "2015-12-14                                  14.0               0.0   \n",
       "2015-12-15                                   8.0               NaN   \n",
       "2015-12-16                                   4.0               0.0   \n",
       "2015-12-17                                   9.0               0.0   \n",
       "2015-12-19                                   7.0               0.0   \n",
       "\n",
       "RFM_description  211 Спящие разовые с маленьким чеком  ...  \\\n",
       "view_dttm_date                                         ...   \n",
       "2015-12-06                                        8.0  ...   \n",
       "2015-12-07                                        7.0  ...   \n",
       "2015-12-08                                        8.0  ...   \n",
       "2015-12-09                                        9.0  ...   \n",
       "2015-12-10                                        8.0  ...   \n",
       "2015-12-11                                       11.0  ...   \n",
       "2015-12-12                                        9.0  ...   \n",
       "2015-12-13                                       20.0  ...   \n",
       "2015-12-14                                       22.0  ...   \n",
       "2015-12-15                                       24.0  ...   \n",
       "2015-12-16                                       22.0  ...   \n",
       "2015-12-17                                       23.0  ...   \n",
       "2015-12-19                                       10.0  ...   \n",
       "\n",
       "RFM_description  233 Спящие постоянные с высоким чеком  \\\n",
       "view_dttm_date                                           \n",
       "2015-12-06                                        17.0   \n",
       "2015-12-07                                        20.0   \n",
       "2015-12-08                                        16.0   \n",
       "2015-12-09                                        20.0   \n",
       "2015-12-10                                        28.0   \n",
       "2015-12-11                                        25.0   \n",
       "2015-12-12                                        21.0   \n",
       "2015-12-13                                        24.0   \n",
       "2015-12-14                                        27.0   \n",
       "2015-12-15                                        26.0   \n",
       "2015-12-16                                        29.0   \n",
       "2015-12-17                                        24.0   \n",
       "2015-12-19                                        21.0   \n",
       "\n",
       "RFM_description  311 Новички с маленьким чеком  312 Новички со средним чеком  \\\n",
       "view_dttm_date                                                                 \n",
       "2015-12-06                                 9.0                          25.0   \n",
       "2015-12-07                                 5.0                           6.0   \n",
       "2015-12-08                                 9.0                           5.0   \n",
       "2015-12-09                                12.0                          10.0   \n",
       "2015-12-10                                12.0                           5.0   \n",
       "2015-12-11                                 4.0                          10.0   \n",
       "2015-12-12                                14.0                          13.0   \n",
       "2015-12-13                                 6.0                          12.0   \n",
       "2015-12-14                                 8.0                          14.0   \n",
       "2015-12-15                                16.0                           6.0   \n",
       "2015-12-16                                18.0                          14.0   \n",
       "2015-12-17                                12.0                          14.0   \n",
       "2015-12-19                                25.0                          22.0   \n",
       "\n",
       "RFM_description  313 Новички с высоким чеком. Потенциальные VIP.  \\\n",
       "view_dttm_date                                                     \n",
       "2015-12-06                                                   8.0   \n",
       "2015-12-07                                                   0.0   \n",
       "2015-12-08                                                   0.0   \n",
       "2015-12-09                                                  11.0   \n",
       "2015-12-10                                                   8.0   \n",
       "2015-12-11                                                  27.0   \n",
       "2015-12-12                                                   4.0   \n",
       "2015-12-13                                                   0.0   \n",
       "2015-12-14                                                   6.0   \n",
       "2015-12-15                                                  21.0   \n",
       "2015-12-16                                                  33.0   \n",
       "2015-12-17                                                   4.0   \n",
       "2015-12-19                                                  24.0   \n",
       "\n",
       "RFM_description  321 Постоянные с маленьким чеком  \\\n",
       "view_dttm_date                                      \n",
       "2015-12-06                                   13.0   \n",
       "2015-12-07                                   17.0   \n",
       "2015-12-08                                   14.0   \n",
       "2015-12-09                                   15.0   \n",
       "2015-12-10                                   16.0   \n",
       "2015-12-11                                   15.0   \n",
       "2015-12-12                                   17.0   \n",
       "2015-12-13                                   19.0   \n",
       "2015-12-14                                   14.0   \n",
       "2015-12-15                                   16.0   \n",
       "2015-12-16                                   18.0   \n",
       "2015-12-17                                   20.0   \n",
       "2015-12-19                                   25.0   \n",
       "\n",
       "RFM_description  322 Редкие со средним чеком  323 Постоянные с высоким чеком  \\\n",
       "view_dttm_date                                                                 \n",
       "2015-12-06                              15.0                            13.0   \n",
       "2015-12-07                              14.0                            16.0   \n",
       "2015-12-08                              14.0                            15.0   \n",
       "2015-12-09                              17.0                            17.0   \n",
       "2015-12-10                              16.0                            14.0   \n",
       "2015-12-11                              18.0                            16.0   \n",
       "2015-12-12                              17.0                            22.0   \n",
       "2015-12-13                              10.0                            18.0   \n",
       "2015-12-14                              21.0                            27.0   \n",
       "2015-12-15                              20.0                            12.0   \n",
       "2015-12-16                              20.0                            13.0   \n",
       "2015-12-17                              23.0                            19.0   \n",
       "2015-12-19                              24.0                            21.0   \n",
       "\n",
       "RFM_description  331 Постоянные с маленьким чеком  \\\n",
       "view_dttm_date                                      \n",
       "2015-12-06                                   22.0   \n",
       "2015-12-07                                   22.0   \n",
       "2015-12-08                                   20.0   \n",
       "2015-12-09                                   19.0   \n",
       "2015-12-10                                   22.0   \n",
       "2015-12-11                                   25.0   \n",
       "2015-12-12                                   24.0   \n",
       "2015-12-13                                   23.0   \n",
       "2015-12-14                                   25.0   \n",
       "2015-12-15                                   25.0   \n",
       "2015-12-16                                   27.0   \n",
       "2015-12-17                                   23.0   \n",
       "2015-12-19                                   25.0   \n",
       "\n",
       "RFM_description  332 Постоянные со средним чеком  333 VIP  \n",
       "view_dttm_date                                             \n",
       "2015-12-06                                  22.0     16.0  \n",
       "2015-12-07                                  23.0     21.0  \n",
       "2015-12-08                                  20.0     17.0  \n",
       "2015-12-09                                  19.0     18.0  \n",
       "2015-12-10                                  18.0     17.0  \n",
       "2015-12-11                                  25.0     21.0  \n",
       "2015-12-12                                  24.0     27.0  \n",
       "2015-12-13                                  24.0     21.0  \n",
       "2015-12-14                                  24.0     14.0  \n",
       "2015-12-15                                  26.0     17.0  \n",
       "2015-12-16                                  27.0     29.0  \n",
       "2015-12-17                                  21.0     32.0  \n",
       "2015-12-19                                  27.0     24.0  \n",
       "\n",
       "[13 rows x 27 columns]"
      ]
     },
     "execution_count": 85,
     "metadata": {},
     "output_type": "execute_result"
    }
   ],
   "source": [
    "orders_ = df.groupby(['view_dttm_date', 'RFM_description'])['order_dttm'].aggregate('count').unstack()\n",
    "views_ = df.groupby(['view_dttm_date', 'RFM_description'])['view_dttm'].aggregate('count').unstack()\n",
    "\n",
    "view2order_days = (orders_ / views_ * 100).round(decimals = 0)\n",
    "view2order_days"
   ]
  },
  {
   "cell_type": "code",
   "execution_count": 41,
   "id": "automatic-drinking",
   "metadata": {
    "scrolled": false
   },
   "outputs": [
    {
     "data": {
      "application/vnd.plotly.v1+json": {
       "config": {
        "plotlyServerURL": "https://plot.ly"
       },
       "data": [
        {
         "mode": "lines",
         "name": "331 Постоянные с маленьким чеком",
         "type": "scatter",
         "x": [
          "2015-12-06",
          "2015-12-07",
          "2015-12-08",
          "2015-12-09",
          "2015-12-10",
          "2015-12-11",
          "2015-12-12",
          "2015-12-13",
          "2015-12-14",
          "2015-12-15",
          "2015-12-16",
          "2015-12-17",
          "2015-12-19"
         ],
         "y": [
          22,
          22,
          20,
          19,
          22,
          25,
          24,
          23,
          25,
          25,
          27,
          23,
          25
         ]
        },
        {
         "mode": "lines",
         "name": "332 Постоянные со средним чеком",
         "type": "scatter",
         "x": [
          "2015-12-06",
          "2015-12-07",
          "2015-12-08",
          "2015-12-09",
          "2015-12-10",
          "2015-12-11",
          "2015-12-12",
          "2015-12-13",
          "2015-12-14",
          "2015-12-15",
          "2015-12-16",
          "2015-12-17",
          "2015-12-19"
         ],
         "y": [
          22,
          23,
          20,
          19,
          18,
          25,
          24,
          24,
          24,
          26,
          27,
          21,
          27
         ]
        },
        {
         "mode": "lines",
         "name": "333 VIP",
         "type": "scatter",
         "x": [
          "2015-12-06",
          "2015-12-07",
          "2015-12-08",
          "2015-12-09",
          "2015-12-10",
          "2015-12-11",
          "2015-12-12",
          "2015-12-13",
          "2015-12-14",
          "2015-12-15",
          "2015-12-16",
          "2015-12-17",
          "2015-12-19"
         ],
         "y": [
          16,
          21,
          17,
          18,
          17,
          21,
          27,
          21,
          14,
          17,
          29,
          32,
          24
         ]
        }
       ],
       "layout": {
        "template": {
         "data": {
          "bar": [
           {
            "error_x": {
             "color": "#2a3f5f"
            },
            "error_y": {
             "color": "#2a3f5f"
            },
            "marker": {
             "line": {
              "color": "#E5ECF6",
              "width": 0.5
             }
            },
            "type": "bar"
           }
          ],
          "barpolar": [
           {
            "marker": {
             "line": {
              "color": "#E5ECF6",
              "width": 0.5
             }
            },
            "type": "barpolar"
           }
          ],
          "carpet": [
           {
            "aaxis": {
             "endlinecolor": "#2a3f5f",
             "gridcolor": "white",
             "linecolor": "white",
             "minorgridcolor": "white",
             "startlinecolor": "#2a3f5f"
            },
            "baxis": {
             "endlinecolor": "#2a3f5f",
             "gridcolor": "white",
             "linecolor": "white",
             "minorgridcolor": "white",
             "startlinecolor": "#2a3f5f"
            },
            "type": "carpet"
           }
          ],
          "choropleth": [
           {
            "colorbar": {
             "outlinewidth": 0,
             "ticks": ""
            },
            "type": "choropleth"
           }
          ],
          "contour": [
           {
            "colorbar": {
             "outlinewidth": 0,
             "ticks": ""
            },
            "colorscale": [
             [
              0,
              "#0d0887"
             ],
             [
              0.1111111111111111,
              "#46039f"
             ],
             [
              0.2222222222222222,
              "#7201a8"
             ],
             [
              0.3333333333333333,
              "#9c179e"
             ],
             [
              0.4444444444444444,
              "#bd3786"
             ],
             [
              0.5555555555555556,
              "#d8576b"
             ],
             [
              0.6666666666666666,
              "#ed7953"
             ],
             [
              0.7777777777777778,
              "#fb9f3a"
             ],
             [
              0.8888888888888888,
              "#fdca26"
             ],
             [
              1,
              "#f0f921"
             ]
            ],
            "type": "contour"
           }
          ],
          "contourcarpet": [
           {
            "colorbar": {
             "outlinewidth": 0,
             "ticks": ""
            },
            "type": "contourcarpet"
           }
          ],
          "heatmap": [
           {
            "colorbar": {
             "outlinewidth": 0,
             "ticks": ""
            },
            "colorscale": [
             [
              0,
              "#0d0887"
             ],
             [
              0.1111111111111111,
              "#46039f"
             ],
             [
              0.2222222222222222,
              "#7201a8"
             ],
             [
              0.3333333333333333,
              "#9c179e"
             ],
             [
              0.4444444444444444,
              "#bd3786"
             ],
             [
              0.5555555555555556,
              "#d8576b"
             ],
             [
              0.6666666666666666,
              "#ed7953"
             ],
             [
              0.7777777777777778,
              "#fb9f3a"
             ],
             [
              0.8888888888888888,
              "#fdca26"
             ],
             [
              1,
              "#f0f921"
             ]
            ],
            "type": "heatmap"
           }
          ],
          "heatmapgl": [
           {
            "colorbar": {
             "outlinewidth": 0,
             "ticks": ""
            },
            "colorscale": [
             [
              0,
              "#0d0887"
             ],
             [
              0.1111111111111111,
              "#46039f"
             ],
             [
              0.2222222222222222,
              "#7201a8"
             ],
             [
              0.3333333333333333,
              "#9c179e"
             ],
             [
              0.4444444444444444,
              "#bd3786"
             ],
             [
              0.5555555555555556,
              "#d8576b"
             ],
             [
              0.6666666666666666,
              "#ed7953"
             ],
             [
              0.7777777777777778,
              "#fb9f3a"
             ],
             [
              0.8888888888888888,
              "#fdca26"
             ],
             [
              1,
              "#f0f921"
             ]
            ],
            "type": "heatmapgl"
           }
          ],
          "histogram": [
           {
            "marker": {
             "colorbar": {
              "outlinewidth": 0,
              "ticks": ""
             }
            },
            "type": "histogram"
           }
          ],
          "histogram2d": [
           {
            "colorbar": {
             "outlinewidth": 0,
             "ticks": ""
            },
            "colorscale": [
             [
              0,
              "#0d0887"
             ],
             [
              0.1111111111111111,
              "#46039f"
             ],
             [
              0.2222222222222222,
              "#7201a8"
             ],
             [
              0.3333333333333333,
              "#9c179e"
             ],
             [
              0.4444444444444444,
              "#bd3786"
             ],
             [
              0.5555555555555556,
              "#d8576b"
             ],
             [
              0.6666666666666666,
              "#ed7953"
             ],
             [
              0.7777777777777778,
              "#fb9f3a"
             ],
             [
              0.8888888888888888,
              "#fdca26"
             ],
             [
              1,
              "#f0f921"
             ]
            ],
            "type": "histogram2d"
           }
          ],
          "histogram2dcontour": [
           {
            "colorbar": {
             "outlinewidth": 0,
             "ticks": ""
            },
            "colorscale": [
             [
              0,
              "#0d0887"
             ],
             [
              0.1111111111111111,
              "#46039f"
             ],
             [
              0.2222222222222222,
              "#7201a8"
             ],
             [
              0.3333333333333333,
              "#9c179e"
             ],
             [
              0.4444444444444444,
              "#bd3786"
             ],
             [
              0.5555555555555556,
              "#d8576b"
             ],
             [
              0.6666666666666666,
              "#ed7953"
             ],
             [
              0.7777777777777778,
              "#fb9f3a"
             ],
             [
              0.8888888888888888,
              "#fdca26"
             ],
             [
              1,
              "#f0f921"
             ]
            ],
            "type": "histogram2dcontour"
           }
          ],
          "mesh3d": [
           {
            "colorbar": {
             "outlinewidth": 0,
             "ticks": ""
            },
            "type": "mesh3d"
           }
          ],
          "parcoords": [
           {
            "line": {
             "colorbar": {
              "outlinewidth": 0,
              "ticks": ""
             }
            },
            "type": "parcoords"
           }
          ],
          "pie": [
           {
            "automargin": true,
            "type": "pie"
           }
          ],
          "scatter": [
           {
            "marker": {
             "colorbar": {
              "outlinewidth": 0,
              "ticks": ""
             }
            },
            "type": "scatter"
           }
          ],
          "scatter3d": [
           {
            "line": {
             "colorbar": {
              "outlinewidth": 0,
              "ticks": ""
             }
            },
            "marker": {
             "colorbar": {
              "outlinewidth": 0,
              "ticks": ""
             }
            },
            "type": "scatter3d"
           }
          ],
          "scattercarpet": [
           {
            "marker": {
             "colorbar": {
              "outlinewidth": 0,
              "ticks": ""
             }
            },
            "type": "scattercarpet"
           }
          ],
          "scattergeo": [
           {
            "marker": {
             "colorbar": {
              "outlinewidth": 0,
              "ticks": ""
             }
            },
            "type": "scattergeo"
           }
          ],
          "scattergl": [
           {
            "marker": {
             "colorbar": {
              "outlinewidth": 0,
              "ticks": ""
             }
            },
            "type": "scattergl"
           }
          ],
          "scattermapbox": [
           {
            "marker": {
             "colorbar": {
              "outlinewidth": 0,
              "ticks": ""
             }
            },
            "type": "scattermapbox"
           }
          ],
          "scatterpolar": [
           {
            "marker": {
             "colorbar": {
              "outlinewidth": 0,
              "ticks": ""
             }
            },
            "type": "scatterpolar"
           }
          ],
          "scatterpolargl": [
           {
            "marker": {
             "colorbar": {
              "outlinewidth": 0,
              "ticks": ""
             }
            },
            "type": "scatterpolargl"
           }
          ],
          "scatterternary": [
           {
            "marker": {
             "colorbar": {
              "outlinewidth": 0,
              "ticks": ""
             }
            },
            "type": "scatterternary"
           }
          ],
          "surface": [
           {
            "colorbar": {
             "outlinewidth": 0,
             "ticks": ""
            },
            "colorscale": [
             [
              0,
              "#0d0887"
             ],
             [
              0.1111111111111111,
              "#46039f"
             ],
             [
              0.2222222222222222,
              "#7201a8"
             ],
             [
              0.3333333333333333,
              "#9c179e"
             ],
             [
              0.4444444444444444,
              "#bd3786"
             ],
             [
              0.5555555555555556,
              "#d8576b"
             ],
             [
              0.6666666666666666,
              "#ed7953"
             ],
             [
              0.7777777777777778,
              "#fb9f3a"
             ],
             [
              0.8888888888888888,
              "#fdca26"
             ],
             [
              1,
              "#f0f921"
             ]
            ],
            "type": "surface"
           }
          ],
          "table": [
           {
            "cells": {
             "fill": {
              "color": "#EBF0F8"
             },
             "line": {
              "color": "white"
             }
            },
            "header": {
             "fill": {
              "color": "#C8D4E3"
             },
             "line": {
              "color": "white"
             }
            },
            "type": "table"
           }
          ]
         },
         "layout": {
          "annotationdefaults": {
           "arrowcolor": "#2a3f5f",
           "arrowhead": 0,
           "arrowwidth": 1
          },
          "autotypenumbers": "strict",
          "coloraxis": {
           "colorbar": {
            "outlinewidth": 0,
            "ticks": ""
           }
          },
          "colorscale": {
           "diverging": [
            [
             0,
             "#8e0152"
            ],
            [
             0.1,
             "#c51b7d"
            ],
            [
             0.2,
             "#de77ae"
            ],
            [
             0.3,
             "#f1b6da"
            ],
            [
             0.4,
             "#fde0ef"
            ],
            [
             0.5,
             "#f7f7f7"
            ],
            [
             0.6,
             "#e6f5d0"
            ],
            [
             0.7,
             "#b8e186"
            ],
            [
             0.8,
             "#7fbc41"
            ],
            [
             0.9,
             "#4d9221"
            ],
            [
             1,
             "#276419"
            ]
           ],
           "sequential": [
            [
             0,
             "#0d0887"
            ],
            [
             0.1111111111111111,
             "#46039f"
            ],
            [
             0.2222222222222222,
             "#7201a8"
            ],
            [
             0.3333333333333333,
             "#9c179e"
            ],
            [
             0.4444444444444444,
             "#bd3786"
            ],
            [
             0.5555555555555556,
             "#d8576b"
            ],
            [
             0.6666666666666666,
             "#ed7953"
            ],
            [
             0.7777777777777778,
             "#fb9f3a"
            ],
            [
             0.8888888888888888,
             "#fdca26"
            ],
            [
             1,
             "#f0f921"
            ]
           ],
           "sequentialminus": [
            [
             0,
             "#0d0887"
            ],
            [
             0.1111111111111111,
             "#46039f"
            ],
            [
             0.2222222222222222,
             "#7201a8"
            ],
            [
             0.3333333333333333,
             "#9c179e"
            ],
            [
             0.4444444444444444,
             "#bd3786"
            ],
            [
             0.5555555555555556,
             "#d8576b"
            ],
            [
             0.6666666666666666,
             "#ed7953"
            ],
            [
             0.7777777777777778,
             "#fb9f3a"
            ],
            [
             0.8888888888888888,
             "#fdca26"
            ],
            [
             1,
             "#f0f921"
            ]
           ]
          },
          "colorway": [
           "#636efa",
           "#EF553B",
           "#00cc96",
           "#ab63fa",
           "#FFA15A",
           "#19d3f3",
           "#FF6692",
           "#B6E880",
           "#FF97FF",
           "#FECB52"
          ],
          "font": {
           "color": "#2a3f5f"
          },
          "geo": {
           "bgcolor": "white",
           "lakecolor": "white",
           "landcolor": "#E5ECF6",
           "showlakes": true,
           "showland": true,
           "subunitcolor": "white"
          },
          "hoverlabel": {
           "align": "left"
          },
          "hovermode": "closest",
          "mapbox": {
           "style": "light"
          },
          "paper_bgcolor": "white",
          "plot_bgcolor": "#E5ECF6",
          "polar": {
           "angularaxis": {
            "gridcolor": "white",
            "linecolor": "white",
            "ticks": ""
           },
           "bgcolor": "#E5ECF6",
           "radialaxis": {
            "gridcolor": "white",
            "linecolor": "white",
            "ticks": ""
           }
          },
          "scene": {
           "xaxis": {
            "backgroundcolor": "#E5ECF6",
            "gridcolor": "white",
            "gridwidth": 2,
            "linecolor": "white",
            "showbackground": true,
            "ticks": "",
            "zerolinecolor": "white"
           },
           "yaxis": {
            "backgroundcolor": "#E5ECF6",
            "gridcolor": "white",
            "gridwidth": 2,
            "linecolor": "white",
            "showbackground": true,
            "ticks": "",
            "zerolinecolor": "white"
           },
           "zaxis": {
            "backgroundcolor": "#E5ECF6",
            "gridcolor": "white",
            "gridwidth": 2,
            "linecolor": "white",
            "showbackground": true,
            "ticks": "",
            "zerolinecolor": "white"
           }
          },
          "shapedefaults": {
           "line": {
            "color": "#2a3f5f"
           }
          },
          "ternary": {
           "aaxis": {
            "gridcolor": "white",
            "linecolor": "white",
            "ticks": ""
           },
           "baxis": {
            "gridcolor": "white",
            "linecolor": "white",
            "ticks": ""
           },
           "bgcolor": "#E5ECF6",
           "caxis": {
            "gridcolor": "white",
            "linecolor": "white",
            "ticks": ""
           }
          },
          "title": {
           "x": 0.05
          },
          "xaxis": {
           "automargin": true,
           "gridcolor": "white",
           "linecolor": "white",
           "ticks": "",
           "title": {
            "standoff": 15
           },
           "zerolinecolor": "white",
           "zerolinewidth": 2
          },
          "yaxis": {
           "automargin": true,
           "gridcolor": "white",
           "linecolor": "white",
           "ticks": "",
           "title": {
            "standoff": 15
           },
           "zerolinecolor": "white",
           "zerolinewidth": 2
          }
         }
        },
        "title": {
         "text": "График для постоянных активных пользователей (3-3-_)"
        }
       }
      },
      "text/html": [
       "<div>                            <div id=\"14cfb041-552c-4474-8679-d47c86d3c4ef\" class=\"plotly-graph-div\" style=\"height:525px; width:100%;\"></div>            <script type=\"text/javascript\">                require([\"plotly\"], function(Plotly) {                    window.PLOTLYENV=window.PLOTLYENV || {};                                    if (document.getElementById(\"14cfb041-552c-4474-8679-d47c86d3c4ef\")) {                    Plotly.newPlot(                        \"14cfb041-552c-4474-8679-d47c86d3c4ef\",                        [{\"mode\": \"lines\", \"name\": \"331 \\u041f\\u043e\\u0441\\u0442\\u043e\\u044f\\u043d\\u043d\\u044b\\u0435 \\u0441 \\u043c\\u0430\\u043b\\u0435\\u043d\\u044c\\u043a\\u0438\\u043c \\u0447\\u0435\\u043a\\u043e\\u043c\", \"type\": \"scatter\", \"x\": [\"2015-12-06\", \"2015-12-07\", \"2015-12-08\", \"2015-12-09\", \"2015-12-10\", \"2015-12-11\", \"2015-12-12\", \"2015-12-13\", \"2015-12-14\", \"2015-12-15\", \"2015-12-16\", \"2015-12-17\", \"2015-12-19\"], \"y\": [22.0, 22.0, 20.0, 19.0, 22.0, 25.0, 24.0, 23.0, 25.0, 25.0, 27.0, 23.0, 25.0]}, {\"mode\": \"lines\", \"name\": \"332 \\u041f\\u043e\\u0441\\u0442\\u043e\\u044f\\u043d\\u043d\\u044b\\u0435 \\u0441\\u043e \\u0441\\u0440\\u0435\\u0434\\u043d\\u0438\\u043c \\u0447\\u0435\\u043a\\u043e\\u043c\", \"type\": \"scatter\", \"x\": [\"2015-12-06\", \"2015-12-07\", \"2015-12-08\", \"2015-12-09\", \"2015-12-10\", \"2015-12-11\", \"2015-12-12\", \"2015-12-13\", \"2015-12-14\", \"2015-12-15\", \"2015-12-16\", \"2015-12-17\", \"2015-12-19\"], \"y\": [22.0, 23.0, 20.0, 19.0, 18.0, 25.0, 24.0, 24.0, 24.0, 26.0, 27.0, 21.0, 27.0]}, {\"mode\": \"lines\", \"name\": \"333 VIP\", \"type\": \"scatter\", \"x\": [\"2015-12-06\", \"2015-12-07\", \"2015-12-08\", \"2015-12-09\", \"2015-12-10\", \"2015-12-11\", \"2015-12-12\", \"2015-12-13\", \"2015-12-14\", \"2015-12-15\", \"2015-12-16\", \"2015-12-17\", \"2015-12-19\"], \"y\": [16.0, 21.0, 17.0, 18.0, 17.0, 21.0, 27.0, 21.0, 14.0, 17.0, 29.0, 32.0, 24.0]}],                        {\"template\": {\"data\": {\"bar\": [{\"error_x\": {\"color\": \"#2a3f5f\"}, \"error_y\": {\"color\": \"#2a3f5f\"}, \"marker\": {\"line\": {\"color\": \"#E5ECF6\", \"width\": 0.5}}, \"type\": \"bar\"}], \"barpolar\": [{\"marker\": {\"line\": {\"color\": \"#E5ECF6\", \"width\": 0.5}}, \"type\": \"barpolar\"}], \"carpet\": [{\"aaxis\": {\"endlinecolor\": \"#2a3f5f\", \"gridcolor\": \"white\", \"linecolor\": \"white\", \"minorgridcolor\": \"white\", \"startlinecolor\": \"#2a3f5f\"}, \"baxis\": {\"endlinecolor\": \"#2a3f5f\", \"gridcolor\": \"white\", \"linecolor\": \"white\", \"minorgridcolor\": \"white\", \"startlinecolor\": \"#2a3f5f\"}, \"type\": \"carpet\"}], \"choropleth\": [{\"colorbar\": {\"outlinewidth\": 0, \"ticks\": \"\"}, \"type\": \"choropleth\"}], \"contour\": [{\"colorbar\": {\"outlinewidth\": 0, \"ticks\": \"\"}, \"colorscale\": [[0.0, \"#0d0887\"], [0.1111111111111111, \"#46039f\"], [0.2222222222222222, \"#7201a8\"], [0.3333333333333333, \"#9c179e\"], [0.4444444444444444, \"#bd3786\"], [0.5555555555555556, \"#d8576b\"], [0.6666666666666666, \"#ed7953\"], [0.7777777777777778, \"#fb9f3a\"], [0.8888888888888888, \"#fdca26\"], [1.0, \"#f0f921\"]], \"type\": \"contour\"}], \"contourcarpet\": [{\"colorbar\": {\"outlinewidth\": 0, \"ticks\": \"\"}, \"type\": \"contourcarpet\"}], \"heatmap\": [{\"colorbar\": {\"outlinewidth\": 0, \"ticks\": \"\"}, \"colorscale\": [[0.0, \"#0d0887\"], [0.1111111111111111, \"#46039f\"], [0.2222222222222222, \"#7201a8\"], [0.3333333333333333, \"#9c179e\"], [0.4444444444444444, \"#bd3786\"], [0.5555555555555556, \"#d8576b\"], [0.6666666666666666, \"#ed7953\"], [0.7777777777777778, \"#fb9f3a\"], [0.8888888888888888, \"#fdca26\"], [1.0, \"#f0f921\"]], \"type\": \"heatmap\"}], \"heatmapgl\": [{\"colorbar\": {\"outlinewidth\": 0, \"ticks\": \"\"}, \"colorscale\": [[0.0, \"#0d0887\"], [0.1111111111111111, \"#46039f\"], [0.2222222222222222, \"#7201a8\"], [0.3333333333333333, \"#9c179e\"], [0.4444444444444444, \"#bd3786\"], [0.5555555555555556, \"#d8576b\"], [0.6666666666666666, \"#ed7953\"], [0.7777777777777778, \"#fb9f3a\"], [0.8888888888888888, \"#fdca26\"], [1.0, \"#f0f921\"]], \"type\": \"heatmapgl\"}], \"histogram\": [{\"marker\": {\"colorbar\": {\"outlinewidth\": 0, \"ticks\": \"\"}}, \"type\": \"histogram\"}], \"histogram2d\": [{\"colorbar\": {\"outlinewidth\": 0, \"ticks\": \"\"}, \"colorscale\": [[0.0, \"#0d0887\"], [0.1111111111111111, \"#46039f\"], [0.2222222222222222, \"#7201a8\"], [0.3333333333333333, \"#9c179e\"], [0.4444444444444444, \"#bd3786\"], [0.5555555555555556, \"#d8576b\"], [0.6666666666666666, \"#ed7953\"], [0.7777777777777778, \"#fb9f3a\"], [0.8888888888888888, \"#fdca26\"], [1.0, \"#f0f921\"]], \"type\": \"histogram2d\"}], \"histogram2dcontour\": [{\"colorbar\": {\"outlinewidth\": 0, \"ticks\": \"\"}, \"colorscale\": [[0.0, \"#0d0887\"], [0.1111111111111111, \"#46039f\"], [0.2222222222222222, \"#7201a8\"], [0.3333333333333333, \"#9c179e\"], [0.4444444444444444, \"#bd3786\"], [0.5555555555555556, \"#d8576b\"], [0.6666666666666666, \"#ed7953\"], [0.7777777777777778, \"#fb9f3a\"], [0.8888888888888888, \"#fdca26\"], [1.0, \"#f0f921\"]], \"type\": \"histogram2dcontour\"}], \"mesh3d\": [{\"colorbar\": {\"outlinewidth\": 0, \"ticks\": \"\"}, \"type\": \"mesh3d\"}], \"parcoords\": [{\"line\": {\"colorbar\": {\"outlinewidth\": 0, \"ticks\": \"\"}}, \"type\": \"parcoords\"}], \"pie\": [{\"automargin\": true, \"type\": \"pie\"}], \"scatter\": [{\"marker\": {\"colorbar\": {\"outlinewidth\": 0, \"ticks\": \"\"}}, \"type\": \"scatter\"}], \"scatter3d\": [{\"line\": {\"colorbar\": {\"outlinewidth\": 0, \"ticks\": \"\"}}, \"marker\": {\"colorbar\": {\"outlinewidth\": 0, \"ticks\": \"\"}}, \"type\": \"scatter3d\"}], \"scattercarpet\": [{\"marker\": {\"colorbar\": {\"outlinewidth\": 0, \"ticks\": \"\"}}, \"type\": \"scattercarpet\"}], \"scattergeo\": [{\"marker\": {\"colorbar\": {\"outlinewidth\": 0, \"ticks\": \"\"}}, \"type\": \"scattergeo\"}], \"scattergl\": [{\"marker\": {\"colorbar\": {\"outlinewidth\": 0, \"ticks\": \"\"}}, \"type\": \"scattergl\"}], \"scattermapbox\": [{\"marker\": {\"colorbar\": {\"outlinewidth\": 0, \"ticks\": \"\"}}, \"type\": \"scattermapbox\"}], \"scatterpolar\": [{\"marker\": {\"colorbar\": {\"outlinewidth\": 0, \"ticks\": \"\"}}, \"type\": \"scatterpolar\"}], \"scatterpolargl\": [{\"marker\": {\"colorbar\": {\"outlinewidth\": 0, \"ticks\": \"\"}}, \"type\": \"scatterpolargl\"}], \"scatterternary\": [{\"marker\": {\"colorbar\": {\"outlinewidth\": 0, \"ticks\": \"\"}}, \"type\": \"scatterternary\"}], \"surface\": [{\"colorbar\": {\"outlinewidth\": 0, \"ticks\": \"\"}, \"colorscale\": [[0.0, \"#0d0887\"], [0.1111111111111111, \"#46039f\"], [0.2222222222222222, \"#7201a8\"], [0.3333333333333333, \"#9c179e\"], [0.4444444444444444, \"#bd3786\"], [0.5555555555555556, \"#d8576b\"], [0.6666666666666666, \"#ed7953\"], [0.7777777777777778, \"#fb9f3a\"], [0.8888888888888888, \"#fdca26\"], [1.0, \"#f0f921\"]], \"type\": \"surface\"}], \"table\": [{\"cells\": {\"fill\": {\"color\": \"#EBF0F8\"}, \"line\": {\"color\": \"white\"}}, \"header\": {\"fill\": {\"color\": \"#C8D4E3\"}, \"line\": {\"color\": \"white\"}}, \"type\": \"table\"}]}, \"layout\": {\"annotationdefaults\": {\"arrowcolor\": \"#2a3f5f\", \"arrowhead\": 0, \"arrowwidth\": 1}, \"autotypenumbers\": \"strict\", \"coloraxis\": {\"colorbar\": {\"outlinewidth\": 0, \"ticks\": \"\"}}, \"colorscale\": {\"diverging\": [[0, \"#8e0152\"], [0.1, \"#c51b7d\"], [0.2, \"#de77ae\"], [0.3, \"#f1b6da\"], [0.4, \"#fde0ef\"], [0.5, \"#f7f7f7\"], [0.6, \"#e6f5d0\"], [0.7, \"#b8e186\"], [0.8, \"#7fbc41\"], [0.9, \"#4d9221\"], [1, \"#276419\"]], \"sequential\": [[0.0, \"#0d0887\"], [0.1111111111111111, \"#46039f\"], [0.2222222222222222, \"#7201a8\"], [0.3333333333333333, \"#9c179e\"], [0.4444444444444444, \"#bd3786\"], [0.5555555555555556, \"#d8576b\"], [0.6666666666666666, \"#ed7953\"], [0.7777777777777778, \"#fb9f3a\"], [0.8888888888888888, \"#fdca26\"], [1.0, \"#f0f921\"]], \"sequentialminus\": [[0.0, \"#0d0887\"], [0.1111111111111111, \"#46039f\"], [0.2222222222222222, \"#7201a8\"], [0.3333333333333333, \"#9c179e\"], [0.4444444444444444, \"#bd3786\"], [0.5555555555555556, \"#d8576b\"], [0.6666666666666666, \"#ed7953\"], [0.7777777777777778, \"#fb9f3a\"], [0.8888888888888888, \"#fdca26\"], [1.0, \"#f0f921\"]]}, \"colorway\": [\"#636efa\", \"#EF553B\", \"#00cc96\", \"#ab63fa\", \"#FFA15A\", \"#19d3f3\", \"#FF6692\", \"#B6E880\", \"#FF97FF\", \"#FECB52\"], \"font\": {\"color\": \"#2a3f5f\"}, \"geo\": {\"bgcolor\": \"white\", \"lakecolor\": \"white\", \"landcolor\": \"#E5ECF6\", \"showlakes\": true, \"showland\": true, \"subunitcolor\": \"white\"}, \"hoverlabel\": {\"align\": \"left\"}, \"hovermode\": \"closest\", \"mapbox\": {\"style\": \"light\"}, \"paper_bgcolor\": \"white\", \"plot_bgcolor\": \"#E5ECF6\", \"polar\": {\"angularaxis\": {\"gridcolor\": \"white\", \"linecolor\": \"white\", \"ticks\": \"\"}, \"bgcolor\": \"#E5ECF6\", \"radialaxis\": {\"gridcolor\": \"white\", \"linecolor\": \"white\", \"ticks\": \"\"}}, \"scene\": {\"xaxis\": {\"backgroundcolor\": \"#E5ECF6\", \"gridcolor\": \"white\", \"gridwidth\": 2, \"linecolor\": \"white\", \"showbackground\": true, \"ticks\": \"\", \"zerolinecolor\": \"white\"}, \"yaxis\": {\"backgroundcolor\": \"#E5ECF6\", \"gridcolor\": \"white\", \"gridwidth\": 2, \"linecolor\": \"white\", \"showbackground\": true, \"ticks\": \"\", \"zerolinecolor\": \"white\"}, \"zaxis\": {\"backgroundcolor\": \"#E5ECF6\", \"gridcolor\": \"white\", \"gridwidth\": 2, \"linecolor\": \"white\", \"showbackground\": true, \"ticks\": \"\", \"zerolinecolor\": \"white\"}}, \"shapedefaults\": {\"line\": {\"color\": \"#2a3f5f\"}}, \"ternary\": {\"aaxis\": {\"gridcolor\": \"white\", \"linecolor\": \"white\", \"ticks\": \"\"}, \"baxis\": {\"gridcolor\": \"white\", \"linecolor\": \"white\", \"ticks\": \"\"}, \"bgcolor\": \"#E5ECF6\", \"caxis\": {\"gridcolor\": \"white\", \"linecolor\": \"white\", \"ticks\": \"\"}}, \"title\": {\"x\": 0.05}, \"xaxis\": {\"automargin\": true, \"gridcolor\": \"white\", \"linecolor\": \"white\", \"ticks\": \"\", \"title\": {\"standoff\": 15}, \"zerolinecolor\": \"white\", \"zerolinewidth\": 2}, \"yaxis\": {\"automargin\": true, \"gridcolor\": \"white\", \"linecolor\": \"white\", \"ticks\": \"\", \"title\": {\"standoff\": 15}, \"zerolinecolor\": \"white\", \"zerolinewidth\": 2}}}, \"title\": {\"text\": \"\\u0413\\u0440\\u0430\\u0444\\u0438\\u043a \\u0434\\u043b\\u044f \\u043f\\u043e\\u0441\\u0442\\u043e\\u044f\\u043d\\u043d\\u044b\\u0445 \\u0430\\u043a\\u0442\\u0438\\u0432\\u043d\\u044b\\u0445 \\u043f\\u043e\\u043b\\u044c\\u0437\\u043e\\u0432\\u0430\\u0442\\u0435\\u043b\\u0435\\u0439 (3-3-_)\"}},                        {\"responsive\": true}                    ).then(function(){\n",
       "                            \n",
       "var gd = document.getElementById('14cfb041-552c-4474-8679-d47c86d3c4ef');\n",
       "var x = new MutationObserver(function (mutations, observer) {{\n",
       "        var display = window.getComputedStyle(gd).display;\n",
       "        if (!display || display === 'none') {{\n",
       "            console.log([gd, 'removed!']);\n",
       "            Plotly.purge(gd);\n",
       "            observer.disconnect();\n",
       "        }}\n",
       "}});\n",
       "\n",
       "// Listen for the removal of the full notebook cells\n",
       "var notebookContainer = gd.closest('#notebook-container');\n",
       "if (notebookContainer) {{\n",
       "    x.observe(notebookContainer, {childList: true});\n",
       "}}\n",
       "\n",
       "// Listen for the clearing of the current output cell\n",
       "var outputEl = gd.closest('.output');\n",
       "if (outputEl) {{\n",
       "    x.observe(outputEl, {childList: true});\n",
       "}}\n",
       "\n",
       "                        })                };                });            </script>        </div>"
      ]
     },
     "metadata": {},
     "output_type": "display_data"
    },
    {
     "name": "stdout",
     "output_type": "stream",
     "text": [
      "331 order sample size: 8687.0\n",
      "332 order sample size: 4183.0\n",
      "333 order sample size: 148.0\n"
     ]
    }
   ],
   "source": [
    "import seaborn as sns\n",
    "import plotly.graph_objs as go\n",
    "\n",
    "fig = go.Figure()\n",
    "fig.add_trace(go.Scatter(x=view2order_days.index, y=view2order_days['331 Постоянные с маленьким чеком'], \n",
    "                    mode='lines',\n",
    "                    name='331 Постоянные с маленьким чеком'))\n",
    "fig.add_trace(go.Scatter(x=view2order_days.index, y=view2order_days['332 Постоянные со средним чеком'],\n",
    "                    mode='lines',\n",
    "                    name='332 Постоянные со средним чеком'))\n",
    "fig.add_trace(go.Scatter(x=view2order_days.index, y=view2order_days['333 VIP'],\n",
    "                    mode='lines',\n",
    "                    name='333 VIP'))\n",
    "fig.update_layout(\n",
    "    title_text=\"График для постоянных активных пользователей (3-3-_)\"\n",
    ")\n",
    "fig.show()\n",
    "print('331 order sample size:', orders_['331 Постоянные с маленьким чеком'].sum())\n",
    "print('332 order sample size:', orders_['332 Постоянные со средним чеком'].sum())\n",
    "print('333 order sample size:', orders_['333 VIP'].sum())"
   ]
  },
  {
   "cell_type": "markdown",
   "id": "exceptional-harvard",
   "metadata": {},
   "source": [
    "Большая волатильность у сегмента VIP может быть обусловлена маленьким количеством данных по данному сегменту."
   ]
  },
  {
   "cell_type": "code",
   "execution_count": 87,
   "id": "progressive-constitution",
   "metadata": {},
   "outputs": [
    {
     "data": {
      "application/vnd.plotly.v1+json": {
       "config": {
        "plotlyServerURL": "https://plot.ly"
       },
       "data": [
        {
         "mode": "lines",
         "name": "312 Новички со средним чеком",
         "type": "scatter",
         "x": [
          "2015-12-06",
          "2015-12-07",
          "2015-12-08",
          "2015-12-09",
          "2015-12-10",
          "2015-12-11",
          "2015-12-12",
          "2015-12-13",
          "2015-12-14",
          "2015-12-15",
          "2015-12-16",
          "2015-12-17",
          "2015-12-19"
         ],
         "y": [
          25,
          6,
          5,
          10,
          5,
          10,
          13,
          12,
          14,
          6,
          14,
          14,
          22
         ]
        },
        {
         "mode": "lines",
         "name": "322 Редкие со средним чеком",
         "type": "scatter",
         "x": [
          "2015-12-06",
          "2015-12-07",
          "2015-12-08",
          "2015-12-09",
          "2015-12-10",
          "2015-12-11",
          "2015-12-12",
          "2015-12-13",
          "2015-12-14",
          "2015-12-15",
          "2015-12-16",
          "2015-12-17",
          "2015-12-19"
         ],
         "y": [
          15,
          14,
          14,
          17,
          16,
          18,
          17,
          10,
          21,
          20,
          20,
          23,
          24
         ]
        },
        {
         "mode": "lines",
         "name": "332 Постоянные со средним чеком",
         "type": "scatter",
         "x": [
          "2015-12-06",
          "2015-12-07",
          "2015-12-08",
          "2015-12-09",
          "2015-12-10",
          "2015-12-11",
          "2015-12-12",
          "2015-12-13",
          "2015-12-14",
          "2015-12-15",
          "2015-12-16",
          "2015-12-17",
          "2015-12-19"
         ],
         "y": [
          22,
          23,
          20,
          19,
          18,
          25,
          24,
          24,
          24,
          26,
          27,
          21,
          27
         ]
        }
       ],
       "layout": {
        "template": {
         "data": {
          "bar": [
           {
            "error_x": {
             "color": "#2a3f5f"
            },
            "error_y": {
             "color": "#2a3f5f"
            },
            "marker": {
             "line": {
              "color": "#E5ECF6",
              "width": 0.5
             }
            },
            "type": "bar"
           }
          ],
          "barpolar": [
           {
            "marker": {
             "line": {
              "color": "#E5ECF6",
              "width": 0.5
             }
            },
            "type": "barpolar"
           }
          ],
          "carpet": [
           {
            "aaxis": {
             "endlinecolor": "#2a3f5f",
             "gridcolor": "white",
             "linecolor": "white",
             "minorgridcolor": "white",
             "startlinecolor": "#2a3f5f"
            },
            "baxis": {
             "endlinecolor": "#2a3f5f",
             "gridcolor": "white",
             "linecolor": "white",
             "minorgridcolor": "white",
             "startlinecolor": "#2a3f5f"
            },
            "type": "carpet"
           }
          ],
          "choropleth": [
           {
            "colorbar": {
             "outlinewidth": 0,
             "ticks": ""
            },
            "type": "choropleth"
           }
          ],
          "contour": [
           {
            "colorbar": {
             "outlinewidth": 0,
             "ticks": ""
            },
            "colorscale": [
             [
              0,
              "#0d0887"
             ],
             [
              0.1111111111111111,
              "#46039f"
             ],
             [
              0.2222222222222222,
              "#7201a8"
             ],
             [
              0.3333333333333333,
              "#9c179e"
             ],
             [
              0.4444444444444444,
              "#bd3786"
             ],
             [
              0.5555555555555556,
              "#d8576b"
             ],
             [
              0.6666666666666666,
              "#ed7953"
             ],
             [
              0.7777777777777778,
              "#fb9f3a"
             ],
             [
              0.8888888888888888,
              "#fdca26"
             ],
             [
              1,
              "#f0f921"
             ]
            ],
            "type": "contour"
           }
          ],
          "contourcarpet": [
           {
            "colorbar": {
             "outlinewidth": 0,
             "ticks": ""
            },
            "type": "contourcarpet"
           }
          ],
          "heatmap": [
           {
            "colorbar": {
             "outlinewidth": 0,
             "ticks": ""
            },
            "colorscale": [
             [
              0,
              "#0d0887"
             ],
             [
              0.1111111111111111,
              "#46039f"
             ],
             [
              0.2222222222222222,
              "#7201a8"
             ],
             [
              0.3333333333333333,
              "#9c179e"
             ],
             [
              0.4444444444444444,
              "#bd3786"
             ],
             [
              0.5555555555555556,
              "#d8576b"
             ],
             [
              0.6666666666666666,
              "#ed7953"
             ],
             [
              0.7777777777777778,
              "#fb9f3a"
             ],
             [
              0.8888888888888888,
              "#fdca26"
             ],
             [
              1,
              "#f0f921"
             ]
            ],
            "type": "heatmap"
           }
          ],
          "heatmapgl": [
           {
            "colorbar": {
             "outlinewidth": 0,
             "ticks": ""
            },
            "colorscale": [
             [
              0,
              "#0d0887"
             ],
             [
              0.1111111111111111,
              "#46039f"
             ],
             [
              0.2222222222222222,
              "#7201a8"
             ],
             [
              0.3333333333333333,
              "#9c179e"
             ],
             [
              0.4444444444444444,
              "#bd3786"
             ],
             [
              0.5555555555555556,
              "#d8576b"
             ],
             [
              0.6666666666666666,
              "#ed7953"
             ],
             [
              0.7777777777777778,
              "#fb9f3a"
             ],
             [
              0.8888888888888888,
              "#fdca26"
             ],
             [
              1,
              "#f0f921"
             ]
            ],
            "type": "heatmapgl"
           }
          ],
          "histogram": [
           {
            "marker": {
             "colorbar": {
              "outlinewidth": 0,
              "ticks": ""
             }
            },
            "type": "histogram"
           }
          ],
          "histogram2d": [
           {
            "colorbar": {
             "outlinewidth": 0,
             "ticks": ""
            },
            "colorscale": [
             [
              0,
              "#0d0887"
             ],
             [
              0.1111111111111111,
              "#46039f"
             ],
             [
              0.2222222222222222,
              "#7201a8"
             ],
             [
              0.3333333333333333,
              "#9c179e"
             ],
             [
              0.4444444444444444,
              "#bd3786"
             ],
             [
              0.5555555555555556,
              "#d8576b"
             ],
             [
              0.6666666666666666,
              "#ed7953"
             ],
             [
              0.7777777777777778,
              "#fb9f3a"
             ],
             [
              0.8888888888888888,
              "#fdca26"
             ],
             [
              1,
              "#f0f921"
             ]
            ],
            "type": "histogram2d"
           }
          ],
          "histogram2dcontour": [
           {
            "colorbar": {
             "outlinewidth": 0,
             "ticks": ""
            },
            "colorscale": [
             [
              0,
              "#0d0887"
             ],
             [
              0.1111111111111111,
              "#46039f"
             ],
             [
              0.2222222222222222,
              "#7201a8"
             ],
             [
              0.3333333333333333,
              "#9c179e"
             ],
             [
              0.4444444444444444,
              "#bd3786"
             ],
             [
              0.5555555555555556,
              "#d8576b"
             ],
             [
              0.6666666666666666,
              "#ed7953"
             ],
             [
              0.7777777777777778,
              "#fb9f3a"
             ],
             [
              0.8888888888888888,
              "#fdca26"
             ],
             [
              1,
              "#f0f921"
             ]
            ],
            "type": "histogram2dcontour"
           }
          ],
          "mesh3d": [
           {
            "colorbar": {
             "outlinewidth": 0,
             "ticks": ""
            },
            "type": "mesh3d"
           }
          ],
          "parcoords": [
           {
            "line": {
             "colorbar": {
              "outlinewidth": 0,
              "ticks": ""
             }
            },
            "type": "parcoords"
           }
          ],
          "pie": [
           {
            "automargin": true,
            "type": "pie"
           }
          ],
          "scatter": [
           {
            "marker": {
             "colorbar": {
              "outlinewidth": 0,
              "ticks": ""
             }
            },
            "type": "scatter"
           }
          ],
          "scatter3d": [
           {
            "line": {
             "colorbar": {
              "outlinewidth": 0,
              "ticks": ""
             }
            },
            "marker": {
             "colorbar": {
              "outlinewidth": 0,
              "ticks": ""
             }
            },
            "type": "scatter3d"
           }
          ],
          "scattercarpet": [
           {
            "marker": {
             "colorbar": {
              "outlinewidth": 0,
              "ticks": ""
             }
            },
            "type": "scattercarpet"
           }
          ],
          "scattergeo": [
           {
            "marker": {
             "colorbar": {
              "outlinewidth": 0,
              "ticks": ""
             }
            },
            "type": "scattergeo"
           }
          ],
          "scattergl": [
           {
            "marker": {
             "colorbar": {
              "outlinewidth": 0,
              "ticks": ""
             }
            },
            "type": "scattergl"
           }
          ],
          "scattermapbox": [
           {
            "marker": {
             "colorbar": {
              "outlinewidth": 0,
              "ticks": ""
             }
            },
            "type": "scattermapbox"
           }
          ],
          "scatterpolar": [
           {
            "marker": {
             "colorbar": {
              "outlinewidth": 0,
              "ticks": ""
             }
            },
            "type": "scatterpolar"
           }
          ],
          "scatterpolargl": [
           {
            "marker": {
             "colorbar": {
              "outlinewidth": 0,
              "ticks": ""
             }
            },
            "type": "scatterpolargl"
           }
          ],
          "scatterternary": [
           {
            "marker": {
             "colorbar": {
              "outlinewidth": 0,
              "ticks": ""
             }
            },
            "type": "scatterternary"
           }
          ],
          "surface": [
           {
            "colorbar": {
             "outlinewidth": 0,
             "ticks": ""
            },
            "colorscale": [
             [
              0,
              "#0d0887"
             ],
             [
              0.1111111111111111,
              "#46039f"
             ],
             [
              0.2222222222222222,
              "#7201a8"
             ],
             [
              0.3333333333333333,
              "#9c179e"
             ],
             [
              0.4444444444444444,
              "#bd3786"
             ],
             [
              0.5555555555555556,
              "#d8576b"
             ],
             [
              0.6666666666666666,
              "#ed7953"
             ],
             [
              0.7777777777777778,
              "#fb9f3a"
             ],
             [
              0.8888888888888888,
              "#fdca26"
             ],
             [
              1,
              "#f0f921"
             ]
            ],
            "type": "surface"
           }
          ],
          "table": [
           {
            "cells": {
             "fill": {
              "color": "#EBF0F8"
             },
             "line": {
              "color": "white"
             }
            },
            "header": {
             "fill": {
              "color": "#C8D4E3"
             },
             "line": {
              "color": "white"
             }
            },
            "type": "table"
           }
          ]
         },
         "layout": {
          "annotationdefaults": {
           "arrowcolor": "#2a3f5f",
           "arrowhead": 0,
           "arrowwidth": 1
          },
          "autotypenumbers": "strict",
          "coloraxis": {
           "colorbar": {
            "outlinewidth": 0,
            "ticks": ""
           }
          },
          "colorscale": {
           "diverging": [
            [
             0,
             "#8e0152"
            ],
            [
             0.1,
             "#c51b7d"
            ],
            [
             0.2,
             "#de77ae"
            ],
            [
             0.3,
             "#f1b6da"
            ],
            [
             0.4,
             "#fde0ef"
            ],
            [
             0.5,
             "#f7f7f7"
            ],
            [
             0.6,
             "#e6f5d0"
            ],
            [
             0.7,
             "#b8e186"
            ],
            [
             0.8,
             "#7fbc41"
            ],
            [
             0.9,
             "#4d9221"
            ],
            [
             1,
             "#276419"
            ]
           ],
           "sequential": [
            [
             0,
             "#0d0887"
            ],
            [
             0.1111111111111111,
             "#46039f"
            ],
            [
             0.2222222222222222,
             "#7201a8"
            ],
            [
             0.3333333333333333,
             "#9c179e"
            ],
            [
             0.4444444444444444,
             "#bd3786"
            ],
            [
             0.5555555555555556,
             "#d8576b"
            ],
            [
             0.6666666666666666,
             "#ed7953"
            ],
            [
             0.7777777777777778,
             "#fb9f3a"
            ],
            [
             0.8888888888888888,
             "#fdca26"
            ],
            [
             1,
             "#f0f921"
            ]
           ],
           "sequentialminus": [
            [
             0,
             "#0d0887"
            ],
            [
             0.1111111111111111,
             "#46039f"
            ],
            [
             0.2222222222222222,
             "#7201a8"
            ],
            [
             0.3333333333333333,
             "#9c179e"
            ],
            [
             0.4444444444444444,
             "#bd3786"
            ],
            [
             0.5555555555555556,
             "#d8576b"
            ],
            [
             0.6666666666666666,
             "#ed7953"
            ],
            [
             0.7777777777777778,
             "#fb9f3a"
            ],
            [
             0.8888888888888888,
             "#fdca26"
            ],
            [
             1,
             "#f0f921"
            ]
           ]
          },
          "colorway": [
           "#636efa",
           "#EF553B",
           "#00cc96",
           "#ab63fa",
           "#FFA15A",
           "#19d3f3",
           "#FF6692",
           "#B6E880",
           "#FF97FF",
           "#FECB52"
          ],
          "font": {
           "color": "#2a3f5f"
          },
          "geo": {
           "bgcolor": "white",
           "lakecolor": "white",
           "landcolor": "#E5ECF6",
           "showlakes": true,
           "showland": true,
           "subunitcolor": "white"
          },
          "hoverlabel": {
           "align": "left"
          },
          "hovermode": "closest",
          "mapbox": {
           "style": "light"
          },
          "paper_bgcolor": "white",
          "plot_bgcolor": "#E5ECF6",
          "polar": {
           "angularaxis": {
            "gridcolor": "white",
            "linecolor": "white",
            "ticks": ""
           },
           "bgcolor": "#E5ECF6",
           "radialaxis": {
            "gridcolor": "white",
            "linecolor": "white",
            "ticks": ""
           }
          },
          "scene": {
           "xaxis": {
            "backgroundcolor": "#E5ECF6",
            "gridcolor": "white",
            "gridwidth": 2,
            "linecolor": "white",
            "showbackground": true,
            "ticks": "",
            "zerolinecolor": "white"
           },
           "yaxis": {
            "backgroundcolor": "#E5ECF6",
            "gridcolor": "white",
            "gridwidth": 2,
            "linecolor": "white",
            "showbackground": true,
            "ticks": "",
            "zerolinecolor": "white"
           },
           "zaxis": {
            "backgroundcolor": "#E5ECF6",
            "gridcolor": "white",
            "gridwidth": 2,
            "linecolor": "white",
            "showbackground": true,
            "ticks": "",
            "zerolinecolor": "white"
           }
          },
          "shapedefaults": {
           "line": {
            "color": "#2a3f5f"
           }
          },
          "ternary": {
           "aaxis": {
            "gridcolor": "white",
            "linecolor": "white",
            "ticks": ""
           },
           "baxis": {
            "gridcolor": "white",
            "linecolor": "white",
            "ticks": ""
           },
           "bgcolor": "#E5ECF6",
           "caxis": {
            "gridcolor": "white",
            "linecolor": "white",
            "ticks": ""
           }
          },
          "title": {
           "x": 0.05
          },
          "xaxis": {
           "automargin": true,
           "gridcolor": "white",
           "linecolor": "white",
           "ticks": "",
           "title": {
            "standoff": 15
           },
           "zerolinecolor": "white",
           "zerolinewidth": 2
          },
          "yaxis": {
           "automargin": true,
           "gridcolor": "white",
           "linecolor": "white",
           "ticks": "",
           "title": {
            "standoff": 15
           },
           "zerolinecolor": "white",
           "zerolinewidth": 2
          }
         }
        },
        "title": {
         "text": "Влияние частоты заказов пользователей на соотношение просмотра к заказу (3-_-2)"
        }
       }
      },
      "text/html": [
       "<div>                            <div id=\"c9ead95e-1981-4f2d-9bc6-3846d740db3b\" class=\"plotly-graph-div\" style=\"height:525px; width:100%;\"></div>            <script type=\"text/javascript\">                require([\"plotly\"], function(Plotly) {                    window.PLOTLYENV=window.PLOTLYENV || {};                                    if (document.getElementById(\"c9ead95e-1981-4f2d-9bc6-3846d740db3b\")) {                    Plotly.newPlot(                        \"c9ead95e-1981-4f2d-9bc6-3846d740db3b\",                        [{\"mode\": \"lines\", \"name\": \"312 \\u041d\\u043e\\u0432\\u0438\\u0447\\u043a\\u0438 \\u0441\\u043e \\u0441\\u0440\\u0435\\u0434\\u043d\\u0438\\u043c \\u0447\\u0435\\u043a\\u043e\\u043c\", \"type\": \"scatter\", \"x\": [\"2015-12-06\", \"2015-12-07\", \"2015-12-08\", \"2015-12-09\", \"2015-12-10\", \"2015-12-11\", \"2015-12-12\", \"2015-12-13\", \"2015-12-14\", \"2015-12-15\", \"2015-12-16\", \"2015-12-17\", \"2015-12-19\"], \"y\": [25.0, 6.0, 5.0, 10.0, 5.0, 10.0, 13.0, 12.0, 14.0, 6.0, 14.0, 14.0, 22.0]}, {\"mode\": \"lines\", \"name\": \"322 \\u0420\\u0435\\u0434\\u043a\\u0438\\u0435 \\u0441\\u043e \\u0441\\u0440\\u0435\\u0434\\u043d\\u0438\\u043c \\u0447\\u0435\\u043a\\u043e\\u043c\", \"type\": \"scatter\", \"x\": [\"2015-12-06\", \"2015-12-07\", \"2015-12-08\", \"2015-12-09\", \"2015-12-10\", \"2015-12-11\", \"2015-12-12\", \"2015-12-13\", \"2015-12-14\", \"2015-12-15\", \"2015-12-16\", \"2015-12-17\", \"2015-12-19\"], \"y\": [15.0, 14.0, 14.0, 17.0, 16.0, 18.0, 17.0, 10.0, 21.0, 20.0, 20.0, 23.0, 24.0]}, {\"mode\": \"lines\", \"name\": \"332 \\u041f\\u043e\\u0441\\u0442\\u043e\\u044f\\u043d\\u043d\\u044b\\u0435 \\u0441\\u043e \\u0441\\u0440\\u0435\\u0434\\u043d\\u0438\\u043c \\u0447\\u0435\\u043a\\u043e\\u043c\", \"type\": \"scatter\", \"x\": [\"2015-12-06\", \"2015-12-07\", \"2015-12-08\", \"2015-12-09\", \"2015-12-10\", \"2015-12-11\", \"2015-12-12\", \"2015-12-13\", \"2015-12-14\", \"2015-12-15\", \"2015-12-16\", \"2015-12-17\", \"2015-12-19\"], \"y\": [22.0, 23.0, 20.0, 19.0, 18.0, 25.0, 24.0, 24.0, 24.0, 26.0, 27.0, 21.0, 27.0]}],                        {\"template\": {\"data\": {\"bar\": [{\"error_x\": {\"color\": \"#2a3f5f\"}, \"error_y\": {\"color\": \"#2a3f5f\"}, \"marker\": {\"line\": {\"color\": \"#E5ECF6\", \"width\": 0.5}}, \"type\": \"bar\"}], \"barpolar\": [{\"marker\": {\"line\": {\"color\": \"#E5ECF6\", \"width\": 0.5}}, \"type\": \"barpolar\"}], \"carpet\": [{\"aaxis\": {\"endlinecolor\": \"#2a3f5f\", \"gridcolor\": \"white\", \"linecolor\": \"white\", \"minorgridcolor\": \"white\", \"startlinecolor\": \"#2a3f5f\"}, \"baxis\": {\"endlinecolor\": \"#2a3f5f\", \"gridcolor\": \"white\", \"linecolor\": \"white\", \"minorgridcolor\": \"white\", \"startlinecolor\": \"#2a3f5f\"}, \"type\": \"carpet\"}], \"choropleth\": [{\"colorbar\": {\"outlinewidth\": 0, \"ticks\": \"\"}, \"type\": \"choropleth\"}], \"contour\": [{\"colorbar\": {\"outlinewidth\": 0, \"ticks\": \"\"}, \"colorscale\": [[0.0, \"#0d0887\"], [0.1111111111111111, \"#46039f\"], [0.2222222222222222, \"#7201a8\"], [0.3333333333333333, \"#9c179e\"], [0.4444444444444444, \"#bd3786\"], [0.5555555555555556, \"#d8576b\"], [0.6666666666666666, \"#ed7953\"], [0.7777777777777778, \"#fb9f3a\"], [0.8888888888888888, \"#fdca26\"], [1.0, \"#f0f921\"]], \"type\": \"contour\"}], \"contourcarpet\": [{\"colorbar\": {\"outlinewidth\": 0, \"ticks\": \"\"}, \"type\": \"contourcarpet\"}], \"heatmap\": [{\"colorbar\": {\"outlinewidth\": 0, \"ticks\": \"\"}, \"colorscale\": [[0.0, \"#0d0887\"], [0.1111111111111111, \"#46039f\"], [0.2222222222222222, \"#7201a8\"], [0.3333333333333333, \"#9c179e\"], [0.4444444444444444, \"#bd3786\"], [0.5555555555555556, \"#d8576b\"], [0.6666666666666666, \"#ed7953\"], [0.7777777777777778, \"#fb9f3a\"], [0.8888888888888888, \"#fdca26\"], [1.0, \"#f0f921\"]], \"type\": \"heatmap\"}], \"heatmapgl\": [{\"colorbar\": {\"outlinewidth\": 0, \"ticks\": \"\"}, \"colorscale\": [[0.0, \"#0d0887\"], [0.1111111111111111, \"#46039f\"], [0.2222222222222222, \"#7201a8\"], [0.3333333333333333, \"#9c179e\"], [0.4444444444444444, \"#bd3786\"], [0.5555555555555556, \"#d8576b\"], [0.6666666666666666, \"#ed7953\"], [0.7777777777777778, \"#fb9f3a\"], [0.8888888888888888, \"#fdca26\"], [1.0, \"#f0f921\"]], \"type\": \"heatmapgl\"}], \"histogram\": [{\"marker\": {\"colorbar\": {\"outlinewidth\": 0, \"ticks\": \"\"}}, \"type\": \"histogram\"}], \"histogram2d\": [{\"colorbar\": {\"outlinewidth\": 0, \"ticks\": \"\"}, \"colorscale\": [[0.0, \"#0d0887\"], [0.1111111111111111, \"#46039f\"], [0.2222222222222222, \"#7201a8\"], [0.3333333333333333, \"#9c179e\"], [0.4444444444444444, \"#bd3786\"], [0.5555555555555556, \"#d8576b\"], [0.6666666666666666, \"#ed7953\"], [0.7777777777777778, \"#fb9f3a\"], [0.8888888888888888, \"#fdca26\"], [1.0, \"#f0f921\"]], \"type\": \"histogram2d\"}], \"histogram2dcontour\": [{\"colorbar\": {\"outlinewidth\": 0, \"ticks\": \"\"}, \"colorscale\": [[0.0, \"#0d0887\"], [0.1111111111111111, \"#46039f\"], [0.2222222222222222, \"#7201a8\"], [0.3333333333333333, \"#9c179e\"], [0.4444444444444444, \"#bd3786\"], [0.5555555555555556, \"#d8576b\"], [0.6666666666666666, \"#ed7953\"], [0.7777777777777778, \"#fb9f3a\"], [0.8888888888888888, \"#fdca26\"], [1.0, \"#f0f921\"]], \"type\": \"histogram2dcontour\"}], \"mesh3d\": [{\"colorbar\": {\"outlinewidth\": 0, \"ticks\": \"\"}, \"type\": \"mesh3d\"}], \"parcoords\": [{\"line\": {\"colorbar\": {\"outlinewidth\": 0, \"ticks\": \"\"}}, \"type\": \"parcoords\"}], \"pie\": [{\"automargin\": true, \"type\": \"pie\"}], \"scatter\": [{\"marker\": {\"colorbar\": {\"outlinewidth\": 0, \"ticks\": \"\"}}, \"type\": \"scatter\"}], \"scatter3d\": [{\"line\": {\"colorbar\": {\"outlinewidth\": 0, \"ticks\": \"\"}}, \"marker\": {\"colorbar\": {\"outlinewidth\": 0, \"ticks\": \"\"}}, \"type\": \"scatter3d\"}], \"scattercarpet\": [{\"marker\": {\"colorbar\": {\"outlinewidth\": 0, \"ticks\": \"\"}}, \"type\": \"scattercarpet\"}], \"scattergeo\": [{\"marker\": {\"colorbar\": {\"outlinewidth\": 0, \"ticks\": \"\"}}, \"type\": \"scattergeo\"}], \"scattergl\": [{\"marker\": {\"colorbar\": {\"outlinewidth\": 0, \"ticks\": \"\"}}, \"type\": \"scattergl\"}], \"scattermapbox\": [{\"marker\": {\"colorbar\": {\"outlinewidth\": 0, \"ticks\": \"\"}}, \"type\": \"scattermapbox\"}], \"scatterpolar\": [{\"marker\": {\"colorbar\": {\"outlinewidth\": 0, \"ticks\": \"\"}}, \"type\": \"scatterpolar\"}], \"scatterpolargl\": [{\"marker\": {\"colorbar\": {\"outlinewidth\": 0, \"ticks\": \"\"}}, \"type\": \"scatterpolargl\"}], \"scatterternary\": [{\"marker\": {\"colorbar\": {\"outlinewidth\": 0, \"ticks\": \"\"}}, \"type\": \"scatterternary\"}], \"surface\": [{\"colorbar\": {\"outlinewidth\": 0, \"ticks\": \"\"}, \"colorscale\": [[0.0, \"#0d0887\"], [0.1111111111111111, \"#46039f\"], [0.2222222222222222, \"#7201a8\"], [0.3333333333333333, \"#9c179e\"], [0.4444444444444444, \"#bd3786\"], [0.5555555555555556, \"#d8576b\"], [0.6666666666666666, \"#ed7953\"], [0.7777777777777778, \"#fb9f3a\"], [0.8888888888888888, \"#fdca26\"], [1.0, \"#f0f921\"]], \"type\": \"surface\"}], \"table\": [{\"cells\": {\"fill\": {\"color\": \"#EBF0F8\"}, \"line\": {\"color\": \"white\"}}, \"header\": {\"fill\": {\"color\": \"#C8D4E3\"}, \"line\": {\"color\": \"white\"}}, \"type\": \"table\"}]}, \"layout\": {\"annotationdefaults\": {\"arrowcolor\": \"#2a3f5f\", \"arrowhead\": 0, \"arrowwidth\": 1}, \"autotypenumbers\": \"strict\", \"coloraxis\": {\"colorbar\": {\"outlinewidth\": 0, \"ticks\": \"\"}}, \"colorscale\": {\"diverging\": [[0, \"#8e0152\"], [0.1, \"#c51b7d\"], [0.2, \"#de77ae\"], [0.3, \"#f1b6da\"], [0.4, \"#fde0ef\"], [0.5, \"#f7f7f7\"], [0.6, \"#e6f5d0\"], [0.7, \"#b8e186\"], [0.8, \"#7fbc41\"], [0.9, \"#4d9221\"], [1, \"#276419\"]], \"sequential\": [[0.0, \"#0d0887\"], [0.1111111111111111, \"#46039f\"], [0.2222222222222222, \"#7201a8\"], [0.3333333333333333, \"#9c179e\"], [0.4444444444444444, \"#bd3786\"], [0.5555555555555556, \"#d8576b\"], [0.6666666666666666, \"#ed7953\"], [0.7777777777777778, \"#fb9f3a\"], [0.8888888888888888, \"#fdca26\"], [1.0, \"#f0f921\"]], \"sequentialminus\": [[0.0, \"#0d0887\"], [0.1111111111111111, \"#46039f\"], [0.2222222222222222, \"#7201a8\"], [0.3333333333333333, \"#9c179e\"], [0.4444444444444444, \"#bd3786\"], [0.5555555555555556, \"#d8576b\"], [0.6666666666666666, \"#ed7953\"], [0.7777777777777778, \"#fb9f3a\"], [0.8888888888888888, \"#fdca26\"], [1.0, \"#f0f921\"]]}, \"colorway\": [\"#636efa\", \"#EF553B\", \"#00cc96\", \"#ab63fa\", \"#FFA15A\", \"#19d3f3\", \"#FF6692\", \"#B6E880\", \"#FF97FF\", \"#FECB52\"], \"font\": {\"color\": \"#2a3f5f\"}, \"geo\": {\"bgcolor\": \"white\", \"lakecolor\": \"white\", \"landcolor\": \"#E5ECF6\", \"showlakes\": true, \"showland\": true, \"subunitcolor\": \"white\"}, \"hoverlabel\": {\"align\": \"left\"}, \"hovermode\": \"closest\", \"mapbox\": {\"style\": \"light\"}, \"paper_bgcolor\": \"white\", \"plot_bgcolor\": \"#E5ECF6\", \"polar\": {\"angularaxis\": {\"gridcolor\": \"white\", \"linecolor\": \"white\", \"ticks\": \"\"}, \"bgcolor\": \"#E5ECF6\", \"radialaxis\": {\"gridcolor\": \"white\", \"linecolor\": \"white\", \"ticks\": \"\"}}, \"scene\": {\"xaxis\": {\"backgroundcolor\": \"#E5ECF6\", \"gridcolor\": \"white\", \"gridwidth\": 2, \"linecolor\": \"white\", \"showbackground\": true, \"ticks\": \"\", \"zerolinecolor\": \"white\"}, \"yaxis\": {\"backgroundcolor\": \"#E5ECF6\", \"gridcolor\": \"white\", \"gridwidth\": 2, \"linecolor\": \"white\", \"showbackground\": true, \"ticks\": \"\", \"zerolinecolor\": \"white\"}, \"zaxis\": {\"backgroundcolor\": \"#E5ECF6\", \"gridcolor\": \"white\", \"gridwidth\": 2, \"linecolor\": \"white\", \"showbackground\": true, \"ticks\": \"\", \"zerolinecolor\": \"white\"}}, \"shapedefaults\": {\"line\": {\"color\": \"#2a3f5f\"}}, \"ternary\": {\"aaxis\": {\"gridcolor\": \"white\", \"linecolor\": \"white\", \"ticks\": \"\"}, \"baxis\": {\"gridcolor\": \"white\", \"linecolor\": \"white\", \"ticks\": \"\"}, \"bgcolor\": \"#E5ECF6\", \"caxis\": {\"gridcolor\": \"white\", \"linecolor\": \"white\", \"ticks\": \"\"}}, \"title\": {\"x\": 0.05}, \"xaxis\": {\"automargin\": true, \"gridcolor\": \"white\", \"linecolor\": \"white\", \"ticks\": \"\", \"title\": {\"standoff\": 15}, \"zerolinecolor\": \"white\", \"zerolinewidth\": 2}, \"yaxis\": {\"automargin\": true, \"gridcolor\": \"white\", \"linecolor\": \"white\", \"ticks\": \"\", \"title\": {\"standoff\": 15}, \"zerolinecolor\": \"white\", \"zerolinewidth\": 2}}}, \"title\": {\"text\": \"\\u0412\\u043b\\u0438\\u044f\\u043d\\u0438\\u0435 \\u0447\\u0430\\u0441\\u0442\\u043e\\u0442\\u044b \\u0437\\u0430\\u043a\\u0430\\u0437\\u043e\\u0432 \\u043f\\u043e\\u043b\\u044c\\u0437\\u043e\\u0432\\u0430\\u0442\\u0435\\u043b\\u0435\\u0439 \\u043d\\u0430 \\u0441\\u043e\\u043e\\u0442\\u043d\\u043e\\u0448\\u0435\\u043d\\u0438\\u0435 \\u043f\\u0440\\u043e\\u0441\\u043c\\u043e\\u0442\\u0440\\u0430 \\u043a \\u0437\\u0430\\u043a\\u0430\\u0437\\u0443 (3-_-2)\"}},                        {\"responsive\": true}                    ).then(function(){\n",
       "                            \n",
       "var gd = document.getElementById('c9ead95e-1981-4f2d-9bc6-3846d740db3b');\n",
       "var x = new MutationObserver(function (mutations, observer) {{\n",
       "        var display = window.getComputedStyle(gd).display;\n",
       "        if (!display || display === 'none') {{\n",
       "            console.log([gd, 'removed!']);\n",
       "            Plotly.purge(gd);\n",
       "            observer.disconnect();\n",
       "        }}\n",
       "}});\n",
       "\n",
       "// Listen for the removal of the full notebook cells\n",
       "var notebookContainer = gd.closest('#notebook-container');\n",
       "if (notebookContainer) {{\n",
       "    x.observe(notebookContainer, {childList: true});\n",
       "}}\n",
       "\n",
       "// Listen for the clearing of the current output cell\n",
       "var outputEl = gd.closest('.output');\n",
       "if (outputEl) {{\n",
       "    x.observe(outputEl, {childList: true});\n",
       "}}\n",
       "\n",
       "                        })                };                });            </script>        </div>"
      ]
     },
     "metadata": {},
     "output_type": "display_data"
    },
    {
     "ename": "KeyError",
     "evalue": "'312 Новички со средним чеком'",
     "output_type": "error",
     "traceback": [
      "\u001b[0;31m---------------------------------------------------------------------------\u001b[0m",
      "\u001b[0;31mKeyError\u001b[0m                                  Traceback (most recent call last)",
      "\u001b[0;32m/usr/local/lib/python3.9/site-packages/pandas/core/indexes/base.py\u001b[0m in \u001b[0;36mget_loc\u001b[0;34m(self, key, method, tolerance)\u001b[0m\n\u001b[1;32m   3079\u001b[0m             \u001b[0;32mtry\u001b[0m\u001b[0;34m:\u001b[0m\u001b[0;34m\u001b[0m\u001b[0;34m\u001b[0m\u001b[0m\n\u001b[0;32m-> 3080\u001b[0;31m                 \u001b[0;32mreturn\u001b[0m \u001b[0mself\u001b[0m\u001b[0;34m.\u001b[0m\u001b[0m_engine\u001b[0m\u001b[0;34m.\u001b[0m\u001b[0mget_loc\u001b[0m\u001b[0;34m(\u001b[0m\u001b[0mcasted_key\u001b[0m\u001b[0;34m)\u001b[0m\u001b[0;34m\u001b[0m\u001b[0;34m\u001b[0m\u001b[0m\n\u001b[0m\u001b[1;32m   3081\u001b[0m             \u001b[0;32mexcept\u001b[0m \u001b[0mKeyError\u001b[0m \u001b[0;32mas\u001b[0m \u001b[0merr\u001b[0m\u001b[0;34m:\u001b[0m\u001b[0;34m\u001b[0m\u001b[0;34m\u001b[0m\u001b[0m\n",
      "\u001b[0;32mpandas/_libs/index.pyx\u001b[0m in \u001b[0;36mpandas._libs.index.IndexEngine.get_loc\u001b[0;34m()\u001b[0m\n",
      "\u001b[0;32mpandas/_libs/index.pyx\u001b[0m in \u001b[0;36mpandas._libs.index.IndexEngine.get_loc\u001b[0;34m()\u001b[0m\n",
      "\u001b[0;32mpandas/_libs/hashtable_class_helper.pxi\u001b[0m in \u001b[0;36mpandas._libs.hashtable.PyObjectHashTable.get_item\u001b[0;34m()\u001b[0m\n",
      "\u001b[0;32mpandas/_libs/hashtable_class_helper.pxi\u001b[0m in \u001b[0;36mpandas._libs.hashtable.PyObjectHashTable.get_item\u001b[0;34m()\u001b[0m\n",
      "\u001b[0;31mKeyError\u001b[0m: '312 Новички со средним чеком'",
      "\nThe above exception was the direct cause of the following exception:\n",
      "\u001b[0;31mKeyError\u001b[0m                                  Traceback (most recent call last)",
      "\u001b[0;32m<ipython-input-87-00d0e8de8902>\u001b[0m in \u001b[0;36m<module>\u001b[0;34m\u001b[0m\n\u001b[1;32m     13\u001b[0m )\n\u001b[1;32m     14\u001b[0m \u001b[0mfig\u001b[0m\u001b[0;34m.\u001b[0m\u001b[0mshow\u001b[0m\u001b[0;34m(\u001b[0m\u001b[0;34m)\u001b[0m\u001b[0;34m\u001b[0m\u001b[0;34m\u001b[0m\u001b[0m\n\u001b[0;32m---> 15\u001b[0;31m \u001b[0mprint\u001b[0m\u001b[0;34m(\u001b[0m\u001b[0;34m'312 order sample size:'\u001b[0m\u001b[0;34m,\u001b[0m \u001b[0morders_\u001b[0m\u001b[0;34m[\u001b[0m\u001b[0;34m'312 Новички со средним чеком'\u001b[0m\u001b[0;34m]\u001b[0m\u001b[0;34m.\u001b[0m\u001b[0msum\u001b[0m\u001b[0;34m(\u001b[0m\u001b[0;34m)\u001b[0m\u001b[0;34m)\u001b[0m\u001b[0;34m\u001b[0m\u001b[0;34m\u001b[0m\u001b[0m\n\u001b[0m\u001b[1;32m     16\u001b[0m \u001b[0mprint\u001b[0m\u001b[0;34m(\u001b[0m\u001b[0;34m'322 order sample size:'\u001b[0m\u001b[0;34m,\u001b[0m \u001b[0morders_\u001b[0m\u001b[0;34m[\u001b[0m\u001b[0;34m'322 Редкие со средним чеком'\u001b[0m\u001b[0;34m]\u001b[0m\u001b[0;34m.\u001b[0m\u001b[0msum\u001b[0m\u001b[0;34m(\u001b[0m\u001b[0;34m)\u001b[0m\u001b[0;34m)\u001b[0m\u001b[0;34m\u001b[0m\u001b[0;34m\u001b[0m\u001b[0m\n\u001b[1;32m     17\u001b[0m \u001b[0mprint\u001b[0m\u001b[0;34m(\u001b[0m\u001b[0;34m'332 order sample size:'\u001b[0m\u001b[0;34m,\u001b[0m \u001b[0morders_\u001b[0m\u001b[0;34m[\u001b[0m\u001b[0;34m'332 Постоянные со средним чеком'\u001b[0m\u001b[0;34m]\u001b[0m\u001b[0;34m.\u001b[0m\u001b[0msum\u001b[0m\u001b[0;34m(\u001b[0m\u001b[0;34m)\u001b[0m\u001b[0;34m)\u001b[0m\u001b[0;34m\u001b[0m\u001b[0;34m\u001b[0m\u001b[0m\n",
      "\u001b[0;32m/usr/local/lib/python3.9/site-packages/pandas/core/frame.py\u001b[0m in \u001b[0;36m__getitem__\u001b[0;34m(self, key)\u001b[0m\n\u001b[1;32m   3022\u001b[0m             \u001b[0;32mif\u001b[0m \u001b[0mself\u001b[0m\u001b[0;34m.\u001b[0m\u001b[0mcolumns\u001b[0m\u001b[0;34m.\u001b[0m\u001b[0mnlevels\u001b[0m \u001b[0;34m>\u001b[0m \u001b[0;36m1\u001b[0m\u001b[0;34m:\u001b[0m\u001b[0;34m\u001b[0m\u001b[0;34m\u001b[0m\u001b[0m\n\u001b[1;32m   3023\u001b[0m                 \u001b[0;32mreturn\u001b[0m \u001b[0mself\u001b[0m\u001b[0;34m.\u001b[0m\u001b[0m_getitem_multilevel\u001b[0m\u001b[0;34m(\u001b[0m\u001b[0mkey\u001b[0m\u001b[0;34m)\u001b[0m\u001b[0;34m\u001b[0m\u001b[0;34m\u001b[0m\u001b[0m\n\u001b[0;32m-> 3024\u001b[0;31m             \u001b[0mindexer\u001b[0m \u001b[0;34m=\u001b[0m \u001b[0mself\u001b[0m\u001b[0;34m.\u001b[0m\u001b[0mcolumns\u001b[0m\u001b[0;34m.\u001b[0m\u001b[0mget_loc\u001b[0m\u001b[0;34m(\u001b[0m\u001b[0mkey\u001b[0m\u001b[0;34m)\u001b[0m\u001b[0;34m\u001b[0m\u001b[0;34m\u001b[0m\u001b[0m\n\u001b[0m\u001b[1;32m   3025\u001b[0m             \u001b[0;32mif\u001b[0m \u001b[0mis_integer\u001b[0m\u001b[0;34m(\u001b[0m\u001b[0mindexer\u001b[0m\u001b[0;34m)\u001b[0m\u001b[0;34m:\u001b[0m\u001b[0;34m\u001b[0m\u001b[0;34m\u001b[0m\u001b[0m\n\u001b[1;32m   3026\u001b[0m                 \u001b[0mindexer\u001b[0m \u001b[0;34m=\u001b[0m \u001b[0;34m[\u001b[0m\u001b[0mindexer\u001b[0m\u001b[0;34m]\u001b[0m\u001b[0;34m\u001b[0m\u001b[0;34m\u001b[0m\u001b[0m\n",
      "\u001b[0;32m/usr/local/lib/python3.9/site-packages/pandas/core/indexes/base.py\u001b[0m in \u001b[0;36mget_loc\u001b[0;34m(self, key, method, tolerance)\u001b[0m\n\u001b[1;32m   3080\u001b[0m                 \u001b[0;32mreturn\u001b[0m \u001b[0mself\u001b[0m\u001b[0;34m.\u001b[0m\u001b[0m_engine\u001b[0m\u001b[0;34m.\u001b[0m\u001b[0mget_loc\u001b[0m\u001b[0;34m(\u001b[0m\u001b[0mcasted_key\u001b[0m\u001b[0;34m)\u001b[0m\u001b[0;34m\u001b[0m\u001b[0;34m\u001b[0m\u001b[0m\n\u001b[1;32m   3081\u001b[0m             \u001b[0;32mexcept\u001b[0m \u001b[0mKeyError\u001b[0m \u001b[0;32mas\u001b[0m \u001b[0merr\u001b[0m\u001b[0;34m:\u001b[0m\u001b[0;34m\u001b[0m\u001b[0;34m\u001b[0m\u001b[0m\n\u001b[0;32m-> 3082\u001b[0;31m                 \u001b[0;32mraise\u001b[0m \u001b[0mKeyError\u001b[0m\u001b[0;34m(\u001b[0m\u001b[0mkey\u001b[0m\u001b[0;34m)\u001b[0m \u001b[0;32mfrom\u001b[0m \u001b[0merr\u001b[0m\u001b[0;34m\u001b[0m\u001b[0;34m\u001b[0m\u001b[0m\n\u001b[0m\u001b[1;32m   3083\u001b[0m \u001b[0;34m\u001b[0m\u001b[0m\n\u001b[1;32m   3084\u001b[0m         \u001b[0;32mif\u001b[0m \u001b[0mtolerance\u001b[0m \u001b[0;32mis\u001b[0m \u001b[0;32mnot\u001b[0m \u001b[0;32mNone\u001b[0m\u001b[0;34m:\u001b[0m\u001b[0;34m\u001b[0m\u001b[0;34m\u001b[0m\u001b[0m\n",
      "\u001b[0;31mKeyError\u001b[0m: '312 Новички со средним чеком'"
     ]
    }
   ],
   "source": [
    "fig = go.Figure()\n",
    "fig.add_trace(go.Scatter(x=view2order_days.index, y=view2order_days['312 Новички со средним чеком'], \n",
    "                    mode='lines',\n",
    "                    name='312 Новички со средним чеком'))\n",
    "fig.add_trace(go.Scatter(x=view2order_days.index, y=view2order_days['322 Редкие со средним чеком'],\n",
    "                    mode='lines',\n",
    "                    name='322 Редкие со средним чеком'))\n",
    "fig.add_trace(go.Scatter(x=view2order_days.index, y=view2order_days['332 Постоянные со средним чеком'],\n",
    "                    mode='lines',\n",
    "                    name='332 Постоянные со средним чеком'))\n",
    "fig.update_layout(\n",
    "    title_text=\"Влияние частоты заказов пользователей на соотношение просмотра к заказу (3-_-2)\"\n",
    ")\n",
    "fig.show()\n",
    "print('312 order sample size:', orders_['312 Новички со средним чеком'].sum())\n",
    "print('322 order sample size:', orders_['322 Редкие со средним чеком'].sum())\n",
    "print('332 order sample size:', orders_['332 Постоянные со средним чеком'].sum())"
   ]
  },
  {
   "cell_type": "markdown",
   "id": "based-madness",
   "metadata": {},
   "source": [
    "Видим, что <strong>постоянные клиенты сервиса более склонны к заказу</strong>, всякий раз заходя в приложение посмотреть цену поездки. По самой динамике не понятно, что можно сказать("
   ]
  },
  {
   "cell_type": "markdown",
   "id": "suspected-cooking",
   "metadata": {},
   "source": [
    "###### По сегментам в динамике по времени суток"
   ]
  },
  {
   "cell_type": "code",
   "execution_count": 43,
   "id": "vocational-blink",
   "metadata": {},
   "outputs": [],
   "source": [
    "def get_day_time(datetime):\n",
    "    hour = datetime.hour\n",
    "    if hour < 6:\n",
    "        return '4 Ночь'\n",
    "    if hour < 12:\n",
    "        return '1 Утро'\n",
    "    if hour < 18:\n",
    "        return '2 День'\n",
    "    return '3 Вечер'\n",
    "\n",
    "df['view_dttm_daytime'] = df['view_dttm'].apply(get_day_time)"
   ]
  },
  {
   "cell_type": "code",
   "execution_count": 86,
   "id": "contained-newspaper",
   "metadata": {},
   "outputs": [
    {
     "data": {
      "text/html": [
       "<div>\n",
       "<style scoped>\n",
       "    .dataframe tbody tr th:only-of-type {\n",
       "        vertical-align: middle;\n",
       "    }\n",
       "\n",
       "    .dataframe tbody tr th {\n",
       "        vertical-align: top;\n",
       "    }\n",
       "\n",
       "    .dataframe thead th {\n",
       "        text-align: right;\n",
       "    }\n",
       "</style>\n",
       "<table border=\"1\" class=\"dataframe\">\n",
       "  <thead>\n",
       "    <tr style=\"text-align: right;\">\n",
       "      <th>view_dttm_daytime</th>\n",
       "      <th>1 Утро</th>\n",
       "      <th>2 День</th>\n",
       "      <th>3 Вечер</th>\n",
       "      <th>4 Ночь</th>\n",
       "    </tr>\n",
       "    <tr>\n",
       "      <th>RFM_description</th>\n",
       "      <th></th>\n",
       "      <th></th>\n",
       "      <th></th>\n",
       "      <th></th>\n",
       "    </tr>\n",
       "  </thead>\n",
       "  <tbody>\n",
       "    <tr>\n",
       "      <th>111 Потерянные экономные</th>\n",
       "      <td>18.0</td>\n",
       "      <td>16.0</td>\n",
       "      <td>18.0</td>\n",
       "      <td>18.0</td>\n",
       "    </tr>\n",
       "    <tr>\n",
       "      <th>112 Одноразовые</th>\n",
       "      <td>18.0</td>\n",
       "      <td>17.0</td>\n",
       "      <td>19.0</td>\n",
       "      <td>18.0</td>\n",
       "    </tr>\n",
       "    <tr>\n",
       "      <th>113 Одноразовые</th>\n",
       "      <td>18.0</td>\n",
       "      <td>16.0</td>\n",
       "      <td>17.0</td>\n",
       "      <td>19.0</td>\n",
       "    </tr>\n",
       "    <tr>\n",
       "      <th>121 Уходящие редкие</th>\n",
       "      <td>18.0</td>\n",
       "      <td>20.0</td>\n",
       "      <td>18.0</td>\n",
       "      <td>20.0</td>\n",
       "    </tr>\n",
       "    <tr>\n",
       "      <th>122 Уходящие редкие</th>\n",
       "      <td>20.0</td>\n",
       "      <td>19.0</td>\n",
       "      <td>21.0</td>\n",
       "      <td>18.0</td>\n",
       "    </tr>\n",
       "    <tr>\n",
       "      <th>123 Уходящие редкие</th>\n",
       "      <td>20.0</td>\n",
       "      <td>22.0</td>\n",
       "      <td>18.0</td>\n",
       "      <td>19.0</td>\n",
       "    </tr>\n",
       "    <tr>\n",
       "      <th>131 Уходящие постоянные</th>\n",
       "      <td>21.0</td>\n",
       "      <td>17.0</td>\n",
       "      <td>18.0</td>\n",
       "      <td>19.0</td>\n",
       "    </tr>\n",
       "    <tr>\n",
       "      <th>132 Уходящие хорошие постоянные</th>\n",
       "      <td>22.0</td>\n",
       "      <td>21.0</td>\n",
       "      <td>21.0</td>\n",
       "      <td>22.0</td>\n",
       "    </tr>\n",
       "    <tr>\n",
       "      <th>133 Уходящие VIP</th>\n",
       "      <td>17.0</td>\n",
       "      <td>13.0</td>\n",
       "      <td>15.0</td>\n",
       "      <td>13.0</td>\n",
       "    </tr>\n",
       "    <tr>\n",
       "      <th>211 Спящие разовые с маленьким чеком</th>\n",
       "      <td>19.0</td>\n",
       "      <td>18.0</td>\n",
       "      <td>18.0</td>\n",
       "      <td>16.0</td>\n",
       "    </tr>\n",
       "    <tr>\n",
       "      <th>212 Спящие разовые с маленьким чеком</th>\n",
       "      <td>20.0</td>\n",
       "      <td>16.0</td>\n",
       "      <td>18.0</td>\n",
       "      <td>11.0</td>\n",
       "    </tr>\n",
       "    <tr>\n",
       "      <th>213 Спящие разовые с маленьким чеком</th>\n",
       "      <td>17.0</td>\n",
       "      <td>17.0</td>\n",
       "      <td>17.0</td>\n",
       "      <td>20.0</td>\n",
       "    </tr>\n",
       "    <tr>\n",
       "      <th>221 Спящие редкие с маленьким чеком</th>\n",
       "      <td>21.0</td>\n",
       "      <td>18.0</td>\n",
       "      <td>19.0</td>\n",
       "      <td>18.0</td>\n",
       "    </tr>\n",
       "    <tr>\n",
       "      <th>222 Спящие редкие со средним чеком</th>\n",
       "      <td>21.0</td>\n",
       "      <td>20.0</td>\n",
       "      <td>19.0</td>\n",
       "      <td>18.0</td>\n",
       "    </tr>\n",
       "    <tr>\n",
       "      <th>223 Спящие редкие с высоким чеком</th>\n",
       "      <td>18.0</td>\n",
       "      <td>19.0</td>\n",
       "      <td>19.0</td>\n",
       "      <td>18.0</td>\n",
       "    </tr>\n",
       "    <tr>\n",
       "      <th>231 Спящие постоянные с маленьким чеком</th>\n",
       "      <td>26.0</td>\n",
       "      <td>23.0</td>\n",
       "      <td>21.0</td>\n",
       "      <td>18.0</td>\n",
       "    </tr>\n",
       "    <tr>\n",
       "      <th>232 Спящие постоянные со средним чеком</th>\n",
       "      <td>24.0</td>\n",
       "      <td>21.0</td>\n",
       "      <td>20.0</td>\n",
       "      <td>19.0</td>\n",
       "    </tr>\n",
       "    <tr>\n",
       "      <th>233 Спящие постоянные с высоким чеком</th>\n",
       "      <td>23.0</td>\n",
       "      <td>24.0</td>\n",
       "      <td>22.0</td>\n",
       "      <td>24.0</td>\n",
       "    </tr>\n",
       "    <tr>\n",
       "      <th>311 Новички с маленьким чеком</th>\n",
       "      <td>17.0</td>\n",
       "      <td>17.0</td>\n",
       "      <td>20.0</td>\n",
       "      <td>23.0</td>\n",
       "    </tr>\n",
       "    <tr>\n",
       "      <th>312 Новички со средним чеком</th>\n",
       "      <td>16.0</td>\n",
       "      <td>15.0</td>\n",
       "      <td>18.0</td>\n",
       "      <td>24.0</td>\n",
       "    </tr>\n",
       "    <tr>\n",
       "      <th>313 Новички с высоким чеком. Потенциальные VIP.</th>\n",
       "      <td>15.0</td>\n",
       "      <td>26.0</td>\n",
       "      <td>24.0</td>\n",
       "      <td>18.0</td>\n",
       "    </tr>\n",
       "    <tr>\n",
       "      <th>321 Постоянные с маленьким чеком</th>\n",
       "      <td>19.0</td>\n",
       "      <td>20.0</td>\n",
       "      <td>19.0</td>\n",
       "      <td>20.0</td>\n",
       "    </tr>\n",
       "    <tr>\n",
       "      <th>322 Редкие со средним чеком</th>\n",
       "      <td>21.0</td>\n",
       "      <td>19.0</td>\n",
       "      <td>18.0</td>\n",
       "      <td>20.0</td>\n",
       "    </tr>\n",
       "    <tr>\n",
       "      <th>323 Постоянные с высоким чеком</th>\n",
       "      <td>15.0</td>\n",
       "      <td>22.0</td>\n",
       "      <td>19.0</td>\n",
       "      <td>17.0</td>\n",
       "    </tr>\n",
       "    <tr>\n",
       "      <th>331 Постоянные с маленьким чеком</th>\n",
       "      <td>27.0</td>\n",
       "      <td>23.0</td>\n",
       "      <td>22.0</td>\n",
       "      <td>21.0</td>\n",
       "    </tr>\n",
       "    <tr>\n",
       "      <th>332 Постоянные со средним чеком</th>\n",
       "      <td>25.0</td>\n",
       "      <td>24.0</td>\n",
       "      <td>23.0</td>\n",
       "      <td>21.0</td>\n",
       "    </tr>\n",
       "    <tr>\n",
       "      <th>333 VIP</th>\n",
       "      <td>21.0</td>\n",
       "      <td>21.0</td>\n",
       "      <td>21.0</td>\n",
       "      <td>20.0</td>\n",
       "    </tr>\n",
       "  </tbody>\n",
       "</table>\n",
       "</div>"
      ],
      "text/plain": [
       "view_dttm_daytime                                1 Утро  2 День  3 Вечер  \\\n",
       "RFM_description                                                            \n",
       "111 Потерянные экономные                           18.0    16.0     18.0   \n",
       "112 Одноразовые                                    18.0    17.0     19.0   \n",
       "113 Одноразовые                                    18.0    16.0     17.0   \n",
       "121 Уходящие редкие                                18.0    20.0     18.0   \n",
       "122 Уходящие редкие                                20.0    19.0     21.0   \n",
       "123 Уходящие редкие                                20.0    22.0     18.0   \n",
       "131 Уходящие постоянные                            21.0    17.0     18.0   \n",
       "132 Уходящие хорошие постоянные                    22.0    21.0     21.0   \n",
       "133 Уходящие VIP                                   17.0    13.0     15.0   \n",
       "211 Спящие разовые с маленьким чеком               19.0    18.0     18.0   \n",
       "212 Спящие разовые с маленьким чеком               20.0    16.0     18.0   \n",
       "213 Спящие разовые с маленьким чеком               17.0    17.0     17.0   \n",
       "221 Спящие редкие с маленьким чеком                21.0    18.0     19.0   \n",
       "222 Спящие редкие со средним чеком                 21.0    20.0     19.0   \n",
       "223 Спящие редкие с высоким чеком                  18.0    19.0     19.0   \n",
       "231 Спящие постоянные с маленьким чеком            26.0    23.0     21.0   \n",
       "232 Спящие постоянные со средним чеком             24.0    21.0     20.0   \n",
       "233 Спящие постоянные с высоким чеком              23.0    24.0     22.0   \n",
       "311 Новички с маленьким чеком                      17.0    17.0     20.0   \n",
       "312 Новички со средним чеком                       16.0    15.0     18.0   \n",
       "313 Новички с высоким чеком. Потенциальные VIP.    15.0    26.0     24.0   \n",
       "321 Постоянные с маленьким чеком                   19.0    20.0     19.0   \n",
       "322 Редкие со средним чеком                        21.0    19.0     18.0   \n",
       "323 Постоянные с высоким чеком                     15.0    22.0     19.0   \n",
       "331 Постоянные с маленьким чеком                   27.0    23.0     22.0   \n",
       "332 Постоянные со средним чеком                    25.0    24.0     23.0   \n",
       "333 VIP                                            21.0    21.0     21.0   \n",
       "\n",
       "view_dttm_daytime                                4 Ночь  \n",
       "RFM_description                                          \n",
       "111 Потерянные экономные                           18.0  \n",
       "112 Одноразовые                                    18.0  \n",
       "113 Одноразовые                                    19.0  \n",
       "121 Уходящие редкие                                20.0  \n",
       "122 Уходящие редкие                                18.0  \n",
       "123 Уходящие редкие                                19.0  \n",
       "131 Уходящие постоянные                            19.0  \n",
       "132 Уходящие хорошие постоянные                    22.0  \n",
       "133 Уходящие VIP                                   13.0  \n",
       "211 Спящие разовые с маленьким чеком               16.0  \n",
       "212 Спящие разовые с маленьким чеком               11.0  \n",
       "213 Спящие разовые с маленьким чеком               20.0  \n",
       "221 Спящие редкие с маленьким чеком                18.0  \n",
       "222 Спящие редкие со средним чеком                 18.0  \n",
       "223 Спящие редкие с высоким чеком                  18.0  \n",
       "231 Спящие постоянные с маленьким чеком            18.0  \n",
       "232 Спящие постоянные со средним чеком             19.0  \n",
       "233 Спящие постоянные с высоким чеком              24.0  \n",
       "311 Новички с маленьким чеком                      23.0  \n",
       "312 Новички со средним чеком                       24.0  \n",
       "313 Новички с высоким чеком. Потенциальные VIP.    18.0  \n",
       "321 Постоянные с маленьким чеком                   20.0  \n",
       "322 Редкие со средним чеком                        20.0  \n",
       "323 Постоянные с высоким чеком                     17.0  \n",
       "331 Постоянные с маленьким чеком                   21.0  \n",
       "332 Постоянные со средним чеком                    21.0  \n",
       "333 VIP                                            20.0  "
      ]
     },
     "execution_count": 86,
     "metadata": {},
     "output_type": "execute_result"
    }
   ],
   "source": [
    "orders_ = df.groupby(['RFM_description', 'view_dttm_daytime'])['order_dttm'].aggregate('count').unstack()\n",
    "views_ = df.groupby(['RFM_description', 'view_dttm_daytime'])['view_dttm'].aggregate('count').unstack()\n",
    "\n",
    "view2order_daytime = (orders_.div(views_) * 100).round(decimals = 0)\n",
    "view2order_daytime"
   ]
  },
  {
   "cell_type": "code",
   "execution_count": 82,
   "id": "choice-military",
   "metadata": {},
   "outputs": [
    {
     "data": {
      "application/vnd.plotly.v1+json": {
       "config": {
        "plotlyServerURL": "https://plot.ly"
       },
       "data": [
        {
         "name": "Утро",
         "type": "bar",
         "x": [
          "312 Новички со средним чеком",
          "322 Редкие со средним чеком",
          "332 Постоянные со средним чеком"
         ],
         "y": [
          16,
          21,
          25
         ]
        },
        {
         "name": "День",
         "type": "bar",
         "x": [
          "312 Новички со средним чеком",
          "322 Редкие со средним чеком",
          "332 Постоянные со средним чеком"
         ],
         "y": [
          15,
          19,
          24
         ]
        },
        {
         "name": "Вечер",
         "type": "bar",
         "x": [
          "312 Новички со средним чеком",
          "322 Редкие со средним чеком",
          "332 Постоянные со средним чеком"
         ],
         "y": [
          18,
          18,
          23
         ]
        },
        {
         "name": "Ночь",
         "type": "bar",
         "x": [
          "312 Новички со средним чеком",
          "322 Редкие со средним чеком",
          "332 Постоянные со средним чеком"
         ],
         "y": [
          24,
          20,
          21
         ]
        }
       ],
       "layout": {
        "barmode": "group",
        "template": {
         "data": {
          "bar": [
           {
            "error_x": {
             "color": "#2a3f5f"
            },
            "error_y": {
             "color": "#2a3f5f"
            },
            "marker": {
             "line": {
              "color": "#E5ECF6",
              "width": 0.5
             }
            },
            "type": "bar"
           }
          ],
          "barpolar": [
           {
            "marker": {
             "line": {
              "color": "#E5ECF6",
              "width": 0.5
             }
            },
            "type": "barpolar"
           }
          ],
          "carpet": [
           {
            "aaxis": {
             "endlinecolor": "#2a3f5f",
             "gridcolor": "white",
             "linecolor": "white",
             "minorgridcolor": "white",
             "startlinecolor": "#2a3f5f"
            },
            "baxis": {
             "endlinecolor": "#2a3f5f",
             "gridcolor": "white",
             "linecolor": "white",
             "minorgridcolor": "white",
             "startlinecolor": "#2a3f5f"
            },
            "type": "carpet"
           }
          ],
          "choropleth": [
           {
            "colorbar": {
             "outlinewidth": 0,
             "ticks": ""
            },
            "type": "choropleth"
           }
          ],
          "contour": [
           {
            "colorbar": {
             "outlinewidth": 0,
             "ticks": ""
            },
            "colorscale": [
             [
              0,
              "#0d0887"
             ],
             [
              0.1111111111111111,
              "#46039f"
             ],
             [
              0.2222222222222222,
              "#7201a8"
             ],
             [
              0.3333333333333333,
              "#9c179e"
             ],
             [
              0.4444444444444444,
              "#bd3786"
             ],
             [
              0.5555555555555556,
              "#d8576b"
             ],
             [
              0.6666666666666666,
              "#ed7953"
             ],
             [
              0.7777777777777778,
              "#fb9f3a"
             ],
             [
              0.8888888888888888,
              "#fdca26"
             ],
             [
              1,
              "#f0f921"
             ]
            ],
            "type": "contour"
           }
          ],
          "contourcarpet": [
           {
            "colorbar": {
             "outlinewidth": 0,
             "ticks": ""
            },
            "type": "contourcarpet"
           }
          ],
          "heatmap": [
           {
            "colorbar": {
             "outlinewidth": 0,
             "ticks": ""
            },
            "colorscale": [
             [
              0,
              "#0d0887"
             ],
             [
              0.1111111111111111,
              "#46039f"
             ],
             [
              0.2222222222222222,
              "#7201a8"
             ],
             [
              0.3333333333333333,
              "#9c179e"
             ],
             [
              0.4444444444444444,
              "#bd3786"
             ],
             [
              0.5555555555555556,
              "#d8576b"
             ],
             [
              0.6666666666666666,
              "#ed7953"
             ],
             [
              0.7777777777777778,
              "#fb9f3a"
             ],
             [
              0.8888888888888888,
              "#fdca26"
             ],
             [
              1,
              "#f0f921"
             ]
            ],
            "type": "heatmap"
           }
          ],
          "heatmapgl": [
           {
            "colorbar": {
             "outlinewidth": 0,
             "ticks": ""
            },
            "colorscale": [
             [
              0,
              "#0d0887"
             ],
             [
              0.1111111111111111,
              "#46039f"
             ],
             [
              0.2222222222222222,
              "#7201a8"
             ],
             [
              0.3333333333333333,
              "#9c179e"
             ],
             [
              0.4444444444444444,
              "#bd3786"
             ],
             [
              0.5555555555555556,
              "#d8576b"
             ],
             [
              0.6666666666666666,
              "#ed7953"
             ],
             [
              0.7777777777777778,
              "#fb9f3a"
             ],
             [
              0.8888888888888888,
              "#fdca26"
             ],
             [
              1,
              "#f0f921"
             ]
            ],
            "type": "heatmapgl"
           }
          ],
          "histogram": [
           {
            "marker": {
             "colorbar": {
              "outlinewidth": 0,
              "ticks": ""
             }
            },
            "type": "histogram"
           }
          ],
          "histogram2d": [
           {
            "colorbar": {
             "outlinewidth": 0,
             "ticks": ""
            },
            "colorscale": [
             [
              0,
              "#0d0887"
             ],
             [
              0.1111111111111111,
              "#46039f"
             ],
             [
              0.2222222222222222,
              "#7201a8"
             ],
             [
              0.3333333333333333,
              "#9c179e"
             ],
             [
              0.4444444444444444,
              "#bd3786"
             ],
             [
              0.5555555555555556,
              "#d8576b"
             ],
             [
              0.6666666666666666,
              "#ed7953"
             ],
             [
              0.7777777777777778,
              "#fb9f3a"
             ],
             [
              0.8888888888888888,
              "#fdca26"
             ],
             [
              1,
              "#f0f921"
             ]
            ],
            "type": "histogram2d"
           }
          ],
          "histogram2dcontour": [
           {
            "colorbar": {
             "outlinewidth": 0,
             "ticks": ""
            },
            "colorscale": [
             [
              0,
              "#0d0887"
             ],
             [
              0.1111111111111111,
              "#46039f"
             ],
             [
              0.2222222222222222,
              "#7201a8"
             ],
             [
              0.3333333333333333,
              "#9c179e"
             ],
             [
              0.4444444444444444,
              "#bd3786"
             ],
             [
              0.5555555555555556,
              "#d8576b"
             ],
             [
              0.6666666666666666,
              "#ed7953"
             ],
             [
              0.7777777777777778,
              "#fb9f3a"
             ],
             [
              0.8888888888888888,
              "#fdca26"
             ],
             [
              1,
              "#f0f921"
             ]
            ],
            "type": "histogram2dcontour"
           }
          ],
          "mesh3d": [
           {
            "colorbar": {
             "outlinewidth": 0,
             "ticks": ""
            },
            "type": "mesh3d"
           }
          ],
          "parcoords": [
           {
            "line": {
             "colorbar": {
              "outlinewidth": 0,
              "ticks": ""
             }
            },
            "type": "parcoords"
           }
          ],
          "pie": [
           {
            "automargin": true,
            "type": "pie"
           }
          ],
          "scatter": [
           {
            "marker": {
             "colorbar": {
              "outlinewidth": 0,
              "ticks": ""
             }
            },
            "type": "scatter"
           }
          ],
          "scatter3d": [
           {
            "line": {
             "colorbar": {
              "outlinewidth": 0,
              "ticks": ""
             }
            },
            "marker": {
             "colorbar": {
              "outlinewidth": 0,
              "ticks": ""
             }
            },
            "type": "scatter3d"
           }
          ],
          "scattercarpet": [
           {
            "marker": {
             "colorbar": {
              "outlinewidth": 0,
              "ticks": ""
             }
            },
            "type": "scattercarpet"
           }
          ],
          "scattergeo": [
           {
            "marker": {
             "colorbar": {
              "outlinewidth": 0,
              "ticks": ""
             }
            },
            "type": "scattergeo"
           }
          ],
          "scattergl": [
           {
            "marker": {
             "colorbar": {
              "outlinewidth": 0,
              "ticks": ""
             }
            },
            "type": "scattergl"
           }
          ],
          "scattermapbox": [
           {
            "marker": {
             "colorbar": {
              "outlinewidth": 0,
              "ticks": ""
             }
            },
            "type": "scattermapbox"
           }
          ],
          "scatterpolar": [
           {
            "marker": {
             "colorbar": {
              "outlinewidth": 0,
              "ticks": ""
             }
            },
            "type": "scatterpolar"
           }
          ],
          "scatterpolargl": [
           {
            "marker": {
             "colorbar": {
              "outlinewidth": 0,
              "ticks": ""
             }
            },
            "type": "scatterpolargl"
           }
          ],
          "scatterternary": [
           {
            "marker": {
             "colorbar": {
              "outlinewidth": 0,
              "ticks": ""
             }
            },
            "type": "scatterternary"
           }
          ],
          "surface": [
           {
            "colorbar": {
             "outlinewidth": 0,
             "ticks": ""
            },
            "colorscale": [
             [
              0,
              "#0d0887"
             ],
             [
              0.1111111111111111,
              "#46039f"
             ],
             [
              0.2222222222222222,
              "#7201a8"
             ],
             [
              0.3333333333333333,
              "#9c179e"
             ],
             [
              0.4444444444444444,
              "#bd3786"
             ],
             [
              0.5555555555555556,
              "#d8576b"
             ],
             [
              0.6666666666666666,
              "#ed7953"
             ],
             [
              0.7777777777777778,
              "#fb9f3a"
             ],
             [
              0.8888888888888888,
              "#fdca26"
             ],
             [
              1,
              "#f0f921"
             ]
            ],
            "type": "surface"
           }
          ],
          "table": [
           {
            "cells": {
             "fill": {
              "color": "#EBF0F8"
             },
             "line": {
              "color": "white"
             }
            },
            "header": {
             "fill": {
              "color": "#C8D4E3"
             },
             "line": {
              "color": "white"
             }
            },
            "type": "table"
           }
          ]
         },
         "layout": {
          "annotationdefaults": {
           "arrowcolor": "#2a3f5f",
           "arrowhead": 0,
           "arrowwidth": 1
          },
          "autotypenumbers": "strict",
          "coloraxis": {
           "colorbar": {
            "outlinewidth": 0,
            "ticks": ""
           }
          },
          "colorscale": {
           "diverging": [
            [
             0,
             "#8e0152"
            ],
            [
             0.1,
             "#c51b7d"
            ],
            [
             0.2,
             "#de77ae"
            ],
            [
             0.3,
             "#f1b6da"
            ],
            [
             0.4,
             "#fde0ef"
            ],
            [
             0.5,
             "#f7f7f7"
            ],
            [
             0.6,
             "#e6f5d0"
            ],
            [
             0.7,
             "#b8e186"
            ],
            [
             0.8,
             "#7fbc41"
            ],
            [
             0.9,
             "#4d9221"
            ],
            [
             1,
             "#276419"
            ]
           ],
           "sequential": [
            [
             0,
             "#0d0887"
            ],
            [
             0.1111111111111111,
             "#46039f"
            ],
            [
             0.2222222222222222,
             "#7201a8"
            ],
            [
             0.3333333333333333,
             "#9c179e"
            ],
            [
             0.4444444444444444,
             "#bd3786"
            ],
            [
             0.5555555555555556,
             "#d8576b"
            ],
            [
             0.6666666666666666,
             "#ed7953"
            ],
            [
             0.7777777777777778,
             "#fb9f3a"
            ],
            [
             0.8888888888888888,
             "#fdca26"
            ],
            [
             1,
             "#f0f921"
            ]
           ],
           "sequentialminus": [
            [
             0,
             "#0d0887"
            ],
            [
             0.1111111111111111,
             "#46039f"
            ],
            [
             0.2222222222222222,
             "#7201a8"
            ],
            [
             0.3333333333333333,
             "#9c179e"
            ],
            [
             0.4444444444444444,
             "#bd3786"
            ],
            [
             0.5555555555555556,
             "#d8576b"
            ],
            [
             0.6666666666666666,
             "#ed7953"
            ],
            [
             0.7777777777777778,
             "#fb9f3a"
            ],
            [
             0.8888888888888888,
             "#fdca26"
            ],
            [
             1,
             "#f0f921"
            ]
           ]
          },
          "colorway": [
           "#636efa",
           "#EF553B",
           "#00cc96",
           "#ab63fa",
           "#FFA15A",
           "#19d3f3",
           "#FF6692",
           "#B6E880",
           "#FF97FF",
           "#FECB52"
          ],
          "font": {
           "color": "#2a3f5f"
          },
          "geo": {
           "bgcolor": "white",
           "lakecolor": "white",
           "landcolor": "#E5ECF6",
           "showlakes": true,
           "showland": true,
           "subunitcolor": "white"
          },
          "hoverlabel": {
           "align": "left"
          },
          "hovermode": "closest",
          "mapbox": {
           "style": "light"
          },
          "paper_bgcolor": "white",
          "plot_bgcolor": "#E5ECF6",
          "polar": {
           "angularaxis": {
            "gridcolor": "white",
            "linecolor": "white",
            "ticks": ""
           },
           "bgcolor": "#E5ECF6",
           "radialaxis": {
            "gridcolor": "white",
            "linecolor": "white",
            "ticks": ""
           }
          },
          "scene": {
           "xaxis": {
            "backgroundcolor": "#E5ECF6",
            "gridcolor": "white",
            "gridwidth": 2,
            "linecolor": "white",
            "showbackground": true,
            "ticks": "",
            "zerolinecolor": "white"
           },
           "yaxis": {
            "backgroundcolor": "#E5ECF6",
            "gridcolor": "white",
            "gridwidth": 2,
            "linecolor": "white",
            "showbackground": true,
            "ticks": "",
            "zerolinecolor": "white"
           },
           "zaxis": {
            "backgroundcolor": "#E5ECF6",
            "gridcolor": "white",
            "gridwidth": 2,
            "linecolor": "white",
            "showbackground": true,
            "ticks": "",
            "zerolinecolor": "white"
           }
          },
          "shapedefaults": {
           "line": {
            "color": "#2a3f5f"
           }
          },
          "ternary": {
           "aaxis": {
            "gridcolor": "white",
            "linecolor": "white",
            "ticks": ""
           },
           "baxis": {
            "gridcolor": "white",
            "linecolor": "white",
            "ticks": ""
           },
           "bgcolor": "#E5ECF6",
           "caxis": {
            "gridcolor": "white",
            "linecolor": "white",
            "ticks": ""
           }
          },
          "title": {
           "x": 0.05
          },
          "xaxis": {
           "automargin": true,
           "gridcolor": "white",
           "linecolor": "white",
           "ticks": "",
           "title": {
            "standoff": 15
           },
           "zerolinecolor": "white",
           "zerolinewidth": 2
          },
          "yaxis": {
           "automargin": true,
           "gridcolor": "white",
           "linecolor": "white",
           "ticks": "",
           "title": {
            "standoff": 15
           },
           "zerolinecolor": "white",
           "zerolinewidth": 2
          }
         }
        }
       }
      },
      "text/html": [
       "<div>                            <div id=\"073a7352-23f5-454f-96e7-6938112e00c3\" class=\"plotly-graph-div\" style=\"height:525px; width:100%;\"></div>            <script type=\"text/javascript\">                require([\"plotly\"], function(Plotly) {                    window.PLOTLYENV=window.PLOTLYENV || {};                                    if (document.getElementById(\"073a7352-23f5-454f-96e7-6938112e00c3\")) {                    Plotly.newPlot(                        \"073a7352-23f5-454f-96e7-6938112e00c3\",                        [{\"name\": \"\\u0423\\u0442\\u0440\\u043e\", \"type\": \"bar\", \"x\": [\"312 \\u041d\\u043e\\u0432\\u0438\\u0447\\u043a\\u0438 \\u0441\\u043e \\u0441\\u0440\\u0435\\u0434\\u043d\\u0438\\u043c \\u0447\\u0435\\u043a\\u043e\\u043c\", \"322 \\u0420\\u0435\\u0434\\u043a\\u0438\\u0435 \\u0441\\u043e \\u0441\\u0440\\u0435\\u0434\\u043d\\u0438\\u043c \\u0447\\u0435\\u043a\\u043e\\u043c\", \"332 \\u041f\\u043e\\u0441\\u0442\\u043e\\u044f\\u043d\\u043d\\u044b\\u0435 \\u0441\\u043e \\u0441\\u0440\\u0435\\u0434\\u043d\\u0438\\u043c \\u0447\\u0435\\u043a\\u043e\\u043c\"], \"y\": [16.0, 21.0, 25.0]}, {\"name\": \"\\u0414\\u0435\\u043d\\u044c\", \"type\": \"bar\", \"x\": [\"312 \\u041d\\u043e\\u0432\\u0438\\u0447\\u043a\\u0438 \\u0441\\u043e \\u0441\\u0440\\u0435\\u0434\\u043d\\u0438\\u043c \\u0447\\u0435\\u043a\\u043e\\u043c\", \"322 \\u0420\\u0435\\u0434\\u043a\\u0438\\u0435 \\u0441\\u043e \\u0441\\u0440\\u0435\\u0434\\u043d\\u0438\\u043c \\u0447\\u0435\\u043a\\u043e\\u043c\", \"332 \\u041f\\u043e\\u0441\\u0442\\u043e\\u044f\\u043d\\u043d\\u044b\\u0435 \\u0441\\u043e \\u0441\\u0440\\u0435\\u0434\\u043d\\u0438\\u043c \\u0447\\u0435\\u043a\\u043e\\u043c\"], \"y\": [15.0, 19.0, 24.0]}, {\"name\": \"\\u0412\\u0435\\u0447\\u0435\\u0440\", \"type\": \"bar\", \"x\": [\"312 \\u041d\\u043e\\u0432\\u0438\\u0447\\u043a\\u0438 \\u0441\\u043e \\u0441\\u0440\\u0435\\u0434\\u043d\\u0438\\u043c \\u0447\\u0435\\u043a\\u043e\\u043c\", \"322 \\u0420\\u0435\\u0434\\u043a\\u0438\\u0435 \\u0441\\u043e \\u0441\\u0440\\u0435\\u0434\\u043d\\u0438\\u043c \\u0447\\u0435\\u043a\\u043e\\u043c\", \"332 \\u041f\\u043e\\u0441\\u0442\\u043e\\u044f\\u043d\\u043d\\u044b\\u0435 \\u0441\\u043e \\u0441\\u0440\\u0435\\u0434\\u043d\\u0438\\u043c \\u0447\\u0435\\u043a\\u043e\\u043c\"], \"y\": [18.0, 18.0, 23.0]}, {\"name\": \"\\u041d\\u043e\\u0447\\u044c\", \"type\": \"bar\", \"x\": [\"312 \\u041d\\u043e\\u0432\\u0438\\u0447\\u043a\\u0438 \\u0441\\u043e \\u0441\\u0440\\u0435\\u0434\\u043d\\u0438\\u043c \\u0447\\u0435\\u043a\\u043e\\u043c\", \"322 \\u0420\\u0435\\u0434\\u043a\\u0438\\u0435 \\u0441\\u043e \\u0441\\u0440\\u0435\\u0434\\u043d\\u0438\\u043c \\u0447\\u0435\\u043a\\u043e\\u043c\", \"332 \\u041f\\u043e\\u0441\\u0442\\u043e\\u044f\\u043d\\u043d\\u044b\\u0435 \\u0441\\u043e \\u0441\\u0440\\u0435\\u0434\\u043d\\u0438\\u043c \\u0447\\u0435\\u043a\\u043e\\u043c\"], \"y\": [24.0, 20.0, 21.0]}],                        {\"barmode\": \"group\", \"template\": {\"data\": {\"bar\": [{\"error_x\": {\"color\": \"#2a3f5f\"}, \"error_y\": {\"color\": \"#2a3f5f\"}, \"marker\": {\"line\": {\"color\": \"#E5ECF6\", \"width\": 0.5}}, \"type\": \"bar\"}], \"barpolar\": [{\"marker\": {\"line\": {\"color\": \"#E5ECF6\", \"width\": 0.5}}, \"type\": \"barpolar\"}], \"carpet\": [{\"aaxis\": {\"endlinecolor\": \"#2a3f5f\", \"gridcolor\": \"white\", \"linecolor\": \"white\", \"minorgridcolor\": \"white\", \"startlinecolor\": \"#2a3f5f\"}, \"baxis\": {\"endlinecolor\": \"#2a3f5f\", \"gridcolor\": \"white\", \"linecolor\": \"white\", \"minorgridcolor\": \"white\", \"startlinecolor\": \"#2a3f5f\"}, \"type\": \"carpet\"}], \"choropleth\": [{\"colorbar\": {\"outlinewidth\": 0, \"ticks\": \"\"}, \"type\": \"choropleth\"}], \"contour\": [{\"colorbar\": {\"outlinewidth\": 0, \"ticks\": \"\"}, \"colorscale\": [[0.0, \"#0d0887\"], [0.1111111111111111, \"#46039f\"], [0.2222222222222222, \"#7201a8\"], [0.3333333333333333, \"#9c179e\"], [0.4444444444444444, \"#bd3786\"], [0.5555555555555556, \"#d8576b\"], [0.6666666666666666, \"#ed7953\"], [0.7777777777777778, \"#fb9f3a\"], [0.8888888888888888, \"#fdca26\"], [1.0, \"#f0f921\"]], \"type\": \"contour\"}], \"contourcarpet\": [{\"colorbar\": {\"outlinewidth\": 0, \"ticks\": \"\"}, \"type\": \"contourcarpet\"}], \"heatmap\": [{\"colorbar\": {\"outlinewidth\": 0, \"ticks\": \"\"}, \"colorscale\": [[0.0, \"#0d0887\"], [0.1111111111111111, \"#46039f\"], [0.2222222222222222, \"#7201a8\"], [0.3333333333333333, \"#9c179e\"], [0.4444444444444444, \"#bd3786\"], [0.5555555555555556, \"#d8576b\"], [0.6666666666666666, \"#ed7953\"], [0.7777777777777778, \"#fb9f3a\"], [0.8888888888888888, \"#fdca26\"], [1.0, \"#f0f921\"]], \"type\": \"heatmap\"}], \"heatmapgl\": [{\"colorbar\": {\"outlinewidth\": 0, \"ticks\": \"\"}, \"colorscale\": [[0.0, \"#0d0887\"], [0.1111111111111111, \"#46039f\"], [0.2222222222222222, \"#7201a8\"], [0.3333333333333333, \"#9c179e\"], [0.4444444444444444, \"#bd3786\"], [0.5555555555555556, \"#d8576b\"], [0.6666666666666666, \"#ed7953\"], [0.7777777777777778, \"#fb9f3a\"], [0.8888888888888888, \"#fdca26\"], [1.0, \"#f0f921\"]], \"type\": \"heatmapgl\"}], \"histogram\": [{\"marker\": {\"colorbar\": {\"outlinewidth\": 0, \"ticks\": \"\"}}, \"type\": \"histogram\"}], \"histogram2d\": [{\"colorbar\": {\"outlinewidth\": 0, \"ticks\": \"\"}, \"colorscale\": [[0.0, \"#0d0887\"], [0.1111111111111111, \"#46039f\"], [0.2222222222222222, \"#7201a8\"], [0.3333333333333333, \"#9c179e\"], [0.4444444444444444, \"#bd3786\"], [0.5555555555555556, \"#d8576b\"], [0.6666666666666666, \"#ed7953\"], [0.7777777777777778, \"#fb9f3a\"], [0.8888888888888888, \"#fdca26\"], [1.0, \"#f0f921\"]], \"type\": \"histogram2d\"}], \"histogram2dcontour\": [{\"colorbar\": {\"outlinewidth\": 0, \"ticks\": \"\"}, \"colorscale\": [[0.0, \"#0d0887\"], [0.1111111111111111, \"#46039f\"], [0.2222222222222222, \"#7201a8\"], [0.3333333333333333, \"#9c179e\"], [0.4444444444444444, \"#bd3786\"], [0.5555555555555556, \"#d8576b\"], [0.6666666666666666, \"#ed7953\"], [0.7777777777777778, \"#fb9f3a\"], [0.8888888888888888, \"#fdca26\"], [1.0, \"#f0f921\"]], \"type\": \"histogram2dcontour\"}], \"mesh3d\": [{\"colorbar\": {\"outlinewidth\": 0, \"ticks\": \"\"}, \"type\": \"mesh3d\"}], \"parcoords\": [{\"line\": {\"colorbar\": {\"outlinewidth\": 0, \"ticks\": \"\"}}, \"type\": \"parcoords\"}], \"pie\": [{\"automargin\": true, \"type\": \"pie\"}], \"scatter\": [{\"marker\": {\"colorbar\": {\"outlinewidth\": 0, \"ticks\": \"\"}}, \"type\": \"scatter\"}], \"scatter3d\": [{\"line\": {\"colorbar\": {\"outlinewidth\": 0, \"ticks\": \"\"}}, \"marker\": {\"colorbar\": {\"outlinewidth\": 0, \"ticks\": \"\"}}, \"type\": \"scatter3d\"}], \"scattercarpet\": [{\"marker\": {\"colorbar\": {\"outlinewidth\": 0, \"ticks\": \"\"}}, \"type\": \"scattercarpet\"}], \"scattergeo\": [{\"marker\": {\"colorbar\": {\"outlinewidth\": 0, \"ticks\": \"\"}}, \"type\": \"scattergeo\"}], \"scattergl\": [{\"marker\": {\"colorbar\": {\"outlinewidth\": 0, \"ticks\": \"\"}}, \"type\": \"scattergl\"}], \"scattermapbox\": [{\"marker\": {\"colorbar\": {\"outlinewidth\": 0, \"ticks\": \"\"}}, \"type\": \"scattermapbox\"}], \"scatterpolar\": [{\"marker\": {\"colorbar\": {\"outlinewidth\": 0, \"ticks\": \"\"}}, \"type\": \"scatterpolar\"}], \"scatterpolargl\": [{\"marker\": {\"colorbar\": {\"outlinewidth\": 0, \"ticks\": \"\"}}, \"type\": \"scatterpolargl\"}], \"scatterternary\": [{\"marker\": {\"colorbar\": {\"outlinewidth\": 0, \"ticks\": \"\"}}, \"type\": \"scatterternary\"}], \"surface\": [{\"colorbar\": {\"outlinewidth\": 0, \"ticks\": \"\"}, \"colorscale\": [[0.0, \"#0d0887\"], [0.1111111111111111, \"#46039f\"], [0.2222222222222222, \"#7201a8\"], [0.3333333333333333, \"#9c179e\"], [0.4444444444444444, \"#bd3786\"], [0.5555555555555556, \"#d8576b\"], [0.6666666666666666, \"#ed7953\"], [0.7777777777777778, \"#fb9f3a\"], [0.8888888888888888, \"#fdca26\"], [1.0, \"#f0f921\"]], \"type\": \"surface\"}], \"table\": [{\"cells\": {\"fill\": {\"color\": \"#EBF0F8\"}, \"line\": {\"color\": \"white\"}}, \"header\": {\"fill\": {\"color\": \"#C8D4E3\"}, \"line\": {\"color\": \"white\"}}, \"type\": \"table\"}]}, \"layout\": {\"annotationdefaults\": {\"arrowcolor\": \"#2a3f5f\", \"arrowhead\": 0, \"arrowwidth\": 1}, \"autotypenumbers\": \"strict\", \"coloraxis\": {\"colorbar\": {\"outlinewidth\": 0, \"ticks\": \"\"}}, \"colorscale\": {\"diverging\": [[0, \"#8e0152\"], [0.1, \"#c51b7d\"], [0.2, \"#de77ae\"], [0.3, \"#f1b6da\"], [0.4, \"#fde0ef\"], [0.5, \"#f7f7f7\"], [0.6, \"#e6f5d0\"], [0.7, \"#b8e186\"], [0.8, \"#7fbc41\"], [0.9, \"#4d9221\"], [1, \"#276419\"]], \"sequential\": [[0.0, \"#0d0887\"], [0.1111111111111111, \"#46039f\"], [0.2222222222222222, \"#7201a8\"], [0.3333333333333333, \"#9c179e\"], [0.4444444444444444, \"#bd3786\"], [0.5555555555555556, \"#d8576b\"], [0.6666666666666666, \"#ed7953\"], [0.7777777777777778, \"#fb9f3a\"], [0.8888888888888888, \"#fdca26\"], [1.0, \"#f0f921\"]], \"sequentialminus\": [[0.0, \"#0d0887\"], [0.1111111111111111, \"#46039f\"], [0.2222222222222222, \"#7201a8\"], [0.3333333333333333, \"#9c179e\"], [0.4444444444444444, \"#bd3786\"], [0.5555555555555556, \"#d8576b\"], [0.6666666666666666, \"#ed7953\"], [0.7777777777777778, \"#fb9f3a\"], [0.8888888888888888, \"#fdca26\"], [1.0, \"#f0f921\"]]}, \"colorway\": [\"#636efa\", \"#EF553B\", \"#00cc96\", \"#ab63fa\", \"#FFA15A\", \"#19d3f3\", \"#FF6692\", \"#B6E880\", \"#FF97FF\", \"#FECB52\"], \"font\": {\"color\": \"#2a3f5f\"}, \"geo\": {\"bgcolor\": \"white\", \"lakecolor\": \"white\", \"landcolor\": \"#E5ECF6\", \"showlakes\": true, \"showland\": true, \"subunitcolor\": \"white\"}, \"hoverlabel\": {\"align\": \"left\"}, \"hovermode\": \"closest\", \"mapbox\": {\"style\": \"light\"}, \"paper_bgcolor\": \"white\", \"plot_bgcolor\": \"#E5ECF6\", \"polar\": {\"angularaxis\": {\"gridcolor\": \"white\", \"linecolor\": \"white\", \"ticks\": \"\"}, \"bgcolor\": \"#E5ECF6\", \"radialaxis\": {\"gridcolor\": \"white\", \"linecolor\": \"white\", \"ticks\": \"\"}}, \"scene\": {\"xaxis\": {\"backgroundcolor\": \"#E5ECF6\", \"gridcolor\": \"white\", \"gridwidth\": 2, \"linecolor\": \"white\", \"showbackground\": true, \"ticks\": \"\", \"zerolinecolor\": \"white\"}, \"yaxis\": {\"backgroundcolor\": \"#E5ECF6\", \"gridcolor\": \"white\", \"gridwidth\": 2, \"linecolor\": \"white\", \"showbackground\": true, \"ticks\": \"\", \"zerolinecolor\": \"white\"}, \"zaxis\": {\"backgroundcolor\": \"#E5ECF6\", \"gridcolor\": \"white\", \"gridwidth\": 2, \"linecolor\": \"white\", \"showbackground\": true, \"ticks\": \"\", \"zerolinecolor\": \"white\"}}, \"shapedefaults\": {\"line\": {\"color\": \"#2a3f5f\"}}, \"ternary\": {\"aaxis\": {\"gridcolor\": \"white\", \"linecolor\": \"white\", \"ticks\": \"\"}, \"baxis\": {\"gridcolor\": \"white\", \"linecolor\": \"white\", \"ticks\": \"\"}, \"bgcolor\": \"#E5ECF6\", \"caxis\": {\"gridcolor\": \"white\", \"linecolor\": \"white\", \"ticks\": \"\"}}, \"title\": {\"x\": 0.05}, \"xaxis\": {\"automargin\": true, \"gridcolor\": \"white\", \"linecolor\": \"white\", \"ticks\": \"\", \"title\": {\"standoff\": 15}, \"zerolinecolor\": \"white\", \"zerolinewidth\": 2}, \"yaxis\": {\"automargin\": true, \"gridcolor\": \"white\", \"linecolor\": \"white\", \"ticks\": \"\", \"title\": {\"standoff\": 15}, \"zerolinecolor\": \"white\", \"zerolinewidth\": 2}}}},                        {\"responsive\": true}                    ).then(function(){\n",
       "                            \n",
       "var gd = document.getElementById('073a7352-23f5-454f-96e7-6938112e00c3');\n",
       "var x = new MutationObserver(function (mutations, observer) {{\n",
       "        var display = window.getComputedStyle(gd).display;\n",
       "        if (!display || display === 'none') {{\n",
       "            console.log([gd, 'removed!']);\n",
       "            Plotly.purge(gd);\n",
       "            observer.disconnect();\n",
       "        }}\n",
       "}});\n",
       "\n",
       "// Listen for the removal of the full notebook cells\n",
       "var notebookContainer = gd.closest('#notebook-container');\n",
       "if (notebookContainer) {{\n",
       "    x.observe(notebookContainer, {childList: true});\n",
       "}}\n",
       "\n",
       "// Listen for the clearing of the current output cell\n",
       "var outputEl = gd.closest('.output');\n",
       "if (outputEl) {{\n",
       "    x.observe(outputEl, {childList: true});\n",
       "}}\n",
       "\n",
       "                        })                };                });            </script>        </div>"
      ]
     },
     "metadata": {},
     "output_type": "display_data"
    }
   ],
   "source": [
    "import plotly.graph_objects as go\n",
    "index = ['312 Новички со средним чеком', '322 Редкие со средним чеком', '332 Постоянные со средним чеком']\n",
    "y = view2order_daytime.loc[index, :]\n",
    "\n",
    "fig = go.Figure(data=[\n",
    "    go.Bar(name='Утро', x=index, y=y['1 Утро']),\n",
    "    go.Bar(name='День', x=index, y=y['2 День']),\n",
    "    go.Bar(name='Вечер', x=index, y=y['3 Вечер']),\n",
    "    go.Bar(name='Ночь', x=index, y=y['4 Ночь']),\n",
    "])\n",
    "# Change the bar mode\n",
    "fig.update_layout(barmode='group')\n",
    "fig.show()"
   ]
  },
  {
   "cell_type": "markdown",
   "id": "classified-impression",
   "metadata": {},
   "source": [
    "Наши <strong>новые клиенты ночью более склонны к заказу</strong>. Возможно стоит подумать об усилении рекламы сервиса для привлечения новых клиентов в ночное время."
   ]
  },
  {
   "cell_type": "code",
   "execution_count": null,
   "id": "expired-concentration",
   "metadata": {},
   "outputs": [],
   "source": []
  }
 ],
 "metadata": {
  "kernelspec": {
   "display_name": "Python 3",
   "language": "python",
   "name": "python3"
  },
  "language_info": {
   "codemirror_mode": {
    "name": "ipython",
    "version": 3
   },
   "file_extension": ".py",
   "mimetype": "text/x-python",
   "name": "python",
   "nbconvert_exporter": "python",
   "pygments_lexer": "ipython3",
   "version": "3.9.2"
  }
 },
 "nbformat": 4,
 "nbformat_minor": 5
}
